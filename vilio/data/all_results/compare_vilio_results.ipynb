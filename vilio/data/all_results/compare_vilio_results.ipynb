{
  "cells": [
    {
      "cell_type": "code",
      "metadata": {
        "tags": [],
        "cell_id": "00000-29459347-2d1c-4728-9e99-31daff6ee14e",
        "deepnote_to_be_reexecuted": false,
        "source_hash": "c76c7c51",
        "execution_millis": 1,
        "execution_start": 1618666838364,
        "deepnote_cell_type": "code"
      },
      "source": "import pandas as pd\nimport numpy as np",
      "outputs": [],
      "execution_count": null
    },
    {
      "cell_type": "code",
      "metadata": {
        "tags": [],
        "cell_id": "00001-6c0ab698-7677-426d-9884-f7f6f75504db",
        "deepnote_to_be_reexecuted": false,
        "source_hash": "ca1ee4c0",
        "execution_millis": 30,
        "execution_start": 1618666838382,
        "deepnote_cell_type": "code"
      },
      "source": "devseen = pd.read_json('dev_seen.jsonl', lines=True).sort_values(by='id')\ndevseen.head()",
      "outputs": [
        {
          "output_type": "execute_result",
          "execution_count": 430,
          "data": {
            "application/vnd.deepnote.dataframe.v2+json": {
              "row_count": 5,
              "column_count": 4,
              "columns": [
                {
                  "name": "id",
                  "dtype": "int64",
                  "stats": {
                    "unique_count": 5,
                    "nan_count": 0,
                    "min": "1268",
                    "max": "1765",
                    "histogram": [
                      {
                        "bin_start": 1268,
                        "bin_end": 1317.7,
                        "count": 1
                      },
                      {
                        "bin_start": 1317.7,
                        "bin_end": 1367.4,
                        "count": 0
                      },
                      {
                        "bin_start": 1367.4,
                        "bin_end": 1417.1,
                        "count": 0
                      },
                      {
                        "bin_start": 1417.1,
                        "bin_end": 1466.8,
                        "count": 1
                      },
                      {
                        "bin_start": 1466.8,
                        "bin_end": 1516.5,
                        "count": 0
                      },
                      {
                        "bin_start": 1516.5,
                        "bin_end": 1566.2,
                        "count": 0
                      },
                      {
                        "bin_start": 1566.2,
                        "bin_end": 1615.9,
                        "count": 0
                      },
                      {
                        "bin_start": 1615.9,
                        "bin_end": 1665.6,
                        "count": 0
                      },
                      {
                        "bin_start": 1665.6,
                        "bin_end": 1715.3,
                        "count": 0
                      },
                      {
                        "bin_start": 1715.3,
                        "bin_end": 1765,
                        "count": 3
                      }
                    ]
                  }
                },
                {
                  "name": "img",
                  "dtype": "object",
                  "stats": {
                    "unique_count": 5,
                    "nan_count": 0,
                    "categories": [
                      {
                        "name": "img/01268.png",
                        "count": 1
                      },
                      {
                        "name": "img/01456.png",
                        "count": 1
                      },
                      {
                        "name": "3 others",
                        "count": 3
                      }
                    ]
                  }
                },
                {
                  "name": "label",
                  "dtype": "int64",
                  "stats": {
                    "unique_count": 2,
                    "nan_count": 0,
                    "min": "0",
                    "max": "1",
                    "histogram": [
                      {
                        "bin_start": 0,
                        "bin_end": 0.1,
                        "count": 2
                      },
                      {
                        "bin_start": 0.1,
                        "bin_end": 0.2,
                        "count": 0
                      },
                      {
                        "bin_start": 0.2,
                        "bin_end": 0.30000000000000004,
                        "count": 0
                      },
                      {
                        "bin_start": 0.30000000000000004,
                        "bin_end": 0.4,
                        "count": 0
                      },
                      {
                        "bin_start": 0.4,
                        "bin_end": 0.5,
                        "count": 0
                      },
                      {
                        "bin_start": 0.5,
                        "bin_end": 0.6000000000000001,
                        "count": 0
                      },
                      {
                        "bin_start": 0.6000000000000001,
                        "bin_end": 0.7000000000000001,
                        "count": 0
                      },
                      {
                        "bin_start": 0.7000000000000001,
                        "bin_end": 0.8,
                        "count": 0
                      },
                      {
                        "bin_start": 0.8,
                        "bin_end": 0.9,
                        "count": 0
                      },
                      {
                        "bin_start": 0.9,
                        "bin_end": 1,
                        "count": 3
                      }
                    ]
                  }
                },
                {
                  "name": "text",
                  "dtype": "object",
                  "stats": {
                    "unique_count": 5,
                    "nan_count": 0,
                    "categories": [
                      {
                        "name": "father and daughter bonding time is the best like and share if you agree",
                        "count": 1
                      },
                      {
                        "name": "they see them rollin..... they hating..",
                        "count": 1
                      },
                      {
                        "name": "3 others",
                        "count": 3
                      }
                    ]
                  }
                },
                {
                  "name": "_deepnote_index_column",
                  "dtype": "int64"
                }
              ],
              "rows_top": [
                {
                  "id": 1268,
                  "img": "img/01268.png",
                  "label": 0,
                  "text": "father and daughter bonding time is the best like and share if you agree",
                  "_deepnote_index_column": 494
                },
                {
                  "id": 1456,
                  "img": "img/01456.png",
                  "label": 1,
                  "text": "they see them rollin..... they hating..",
                  "_deepnote_index_column": 159
                },
                {
                  "id": 1726,
                  "img": "img/01726.png",
                  "label": 1,
                  "text": "a real man loads the dishwasher every night",
                  "_deepnote_index_column": 332
                },
                {
                  "id": 1742,
                  "img": "img/01742.png",
                  "label": 0,
                  "text": "in just one hour from now i'll only have 4 hours left until i have to work a mere 3 hours",
                  "_deepnote_index_column": 220
                },
                {
                  "id": 1765,
                  "img": "img/01765.png",
                  "label": 1,
                  "text": "after a girl dies, what organ in her body stays warm? my dick",
                  "_deepnote_index_column": 217
                }
              ],
              "rows_bottom": null
            },
            "text/plain": "       id            img  label  \\\n494  1268  img/01268.png      0   \n159  1456  img/01456.png      1   \n332  1726  img/01726.png      1   \n220  1742  img/01742.png      0   \n217  1765  img/01765.png      1   \n\n                                                  text  \n494  father and daughter bonding time is the best l...  \n159            they see them rollin..... they hating..  \n332        a real man loads the dishwasher every night  \n220  in just one hour from now i'll only have 4 hou...  \n217  after a girl dies, what organ in her body stay...  ",
            "text/html": "<div>\n<style scoped>\n    .dataframe tbody tr th:only-of-type {\n        vertical-align: middle;\n    }\n\n    .dataframe tbody tr th {\n        vertical-align: top;\n    }\n\n    .dataframe thead th {\n        text-align: right;\n    }\n</style>\n<table border=\"1\" class=\"dataframe\">\n  <thead>\n    <tr style=\"text-align: right;\">\n      <th></th>\n      <th>id</th>\n      <th>img</th>\n      <th>label</th>\n      <th>text</th>\n    </tr>\n  </thead>\n  <tbody>\n    <tr>\n      <th>494</th>\n      <td>1268</td>\n      <td>img/01268.png</td>\n      <td>0</td>\n      <td>father and daughter bonding time is the best l...</td>\n    </tr>\n    <tr>\n      <th>159</th>\n      <td>1456</td>\n      <td>img/01456.png</td>\n      <td>1</td>\n      <td>they see them rollin..... they hating..</td>\n    </tr>\n    <tr>\n      <th>332</th>\n      <td>1726</td>\n      <td>img/01726.png</td>\n      <td>1</td>\n      <td>a real man loads the dishwasher every night</td>\n    </tr>\n    <tr>\n      <th>220</th>\n      <td>1742</td>\n      <td>img/01742.png</td>\n      <td>0</td>\n      <td>in just one hour from now i'll only have 4 hou...</td>\n    </tr>\n    <tr>\n      <th>217</th>\n      <td>1765</td>\n      <td>img/01765.png</td>\n      <td>1</td>\n      <td>after a girl dies, what organ in her body stay...</td>\n    </tr>\n  </tbody>\n</table>\n</div>"
          },
          "metadata": {}
        }
      ],
      "execution_count": null
    },
    {
      "cell_type": "code",
      "metadata": {
        "tags": [],
        "cell_id": "00001-a68f9672-bcc0-4e2a-b66b-9d055a811cc8",
        "deepnote_to_be_reexecuted": false,
        "source_hash": "1328a03c",
        "execution_millis": 8,
        "execution_start": 1618666838432,
        "deepnote_cell_type": "code"
      },
      "source": "baseline = pd.read_csv('visual_bert_coco.csv').sort_values(by='id')\nbaseline.head()",
      "outputs": [
        {
          "output_type": "execute_result",
          "execution_count": 431,
          "data": {
            "application/vnd.deepnote.dataframe.v2+json": {
              "row_count": 5,
              "column_count": 3,
              "columns": [
                {
                  "name": "id",
                  "dtype": "int64",
                  "stats": {
                    "unique_count": 5,
                    "nan_count": 0,
                    "min": "1268",
                    "max": "1796",
                    "histogram": [
                      {
                        "bin_start": 1268,
                        "bin_end": 1320.8,
                        "count": 1
                      },
                      {
                        "bin_start": 1320.8,
                        "bin_end": 1373.6,
                        "count": 0
                      },
                      {
                        "bin_start": 1373.6,
                        "bin_end": 1426.4,
                        "count": 0
                      },
                      {
                        "bin_start": 1426.4,
                        "bin_end": 1479.2,
                        "count": 1
                      },
                      {
                        "bin_start": 1479.2,
                        "bin_end": 1532,
                        "count": 0
                      },
                      {
                        "bin_start": 1532,
                        "bin_end": 1584.8,
                        "count": 0
                      },
                      {
                        "bin_start": 1584.8,
                        "bin_end": 1637.6,
                        "count": 0
                      },
                      {
                        "bin_start": 1637.6,
                        "bin_end": 1690.4,
                        "count": 0
                      },
                      {
                        "bin_start": 1690.4,
                        "bin_end": 1743.2,
                        "count": 1
                      },
                      {
                        "bin_start": 1743.2,
                        "bin_end": 1796,
                        "count": 2
                      }
                    ]
                  }
                },
                {
                  "name": "proba",
                  "dtype": "float64",
                  "stats": {
                    "unique_count": 5,
                    "nan_count": 0,
                    "min": "0.000416669412516",
                    "max": "0.8370235562324524",
                    "histogram": [
                      {
                        "bin_start": 0.000416669412516,
                        "bin_end": 0.08407735809450964,
                        "count": 2
                      },
                      {
                        "bin_start": 0.08407735809450964,
                        "bin_end": 0.16773804677650328,
                        "count": 1
                      },
                      {
                        "bin_start": 0.16773804677650328,
                        "bin_end": 0.25139873545849695,
                        "count": 0
                      },
                      {
                        "bin_start": 0.25139873545849695,
                        "bin_end": 0.33505942414049056,
                        "count": 1
                      },
                      {
                        "bin_start": 0.33505942414049056,
                        "bin_end": 0.41872011282248417,
                        "count": 0
                      },
                      {
                        "bin_start": 0.41872011282248417,
                        "bin_end": 0.5023808015044778,
                        "count": 0
                      },
                      {
                        "bin_start": 0.5023808015044778,
                        "bin_end": 0.5860414901864714,
                        "count": 0
                      },
                      {
                        "bin_start": 0.5860414901864714,
                        "bin_end": 0.6697021788684651,
                        "count": 0
                      },
                      {
                        "bin_start": 0.6697021788684651,
                        "bin_end": 0.7533628675504587,
                        "count": 0
                      },
                      {
                        "bin_start": 0.7533628675504587,
                        "bin_end": 0.8370235562324524,
                        "count": 1
                      }
                    ]
                  }
                },
                {
                  "name": "label",
                  "dtype": "int64",
                  "stats": {
                    "unique_count": 2,
                    "nan_count": 0,
                    "min": "0",
                    "max": "1",
                    "histogram": [
                      {
                        "bin_start": 0,
                        "bin_end": 0.1,
                        "count": 4
                      },
                      {
                        "bin_start": 0.1,
                        "bin_end": 0.2,
                        "count": 0
                      },
                      {
                        "bin_start": 0.2,
                        "bin_end": 0.30000000000000004,
                        "count": 0
                      },
                      {
                        "bin_start": 0.30000000000000004,
                        "bin_end": 0.4,
                        "count": 0
                      },
                      {
                        "bin_start": 0.4,
                        "bin_end": 0.5,
                        "count": 0
                      },
                      {
                        "bin_start": 0.5,
                        "bin_end": 0.6000000000000001,
                        "count": 0
                      },
                      {
                        "bin_start": 0.6000000000000001,
                        "bin_end": 0.7000000000000001,
                        "count": 0
                      },
                      {
                        "bin_start": 0.7000000000000001,
                        "bin_end": 0.8,
                        "count": 0
                      },
                      {
                        "bin_start": 0.8,
                        "bin_end": 0.9,
                        "count": 0
                      },
                      {
                        "bin_start": 0.9,
                        "bin_end": 1,
                        "count": 1
                      }
                    ]
                  }
                },
                {
                  "name": "_deepnote_index_column",
                  "dtype": "int64"
                }
              ],
              "rows_top": [
                {
                  "id": 1268,
                  "proba": 0.000416669412516,
                  "label": 0,
                  "_deepnote_index_column": 362
                },
                {
                  "id": 1456,
                  "proba": 0.1000730991363525,
                  "label": 0,
                  "_deepnote_index_column": 59
                },
                {
                  "id": 1726,
                  "proba": 0.8370235562324524,
                  "label": 1,
                  "_deepnote_index_column": 62
                },
                {
                  "id": 1768,
                  "proba": 0.0004275786341167,
                  "label": 0,
                  "_deepnote_index_column": 426
                },
                {
                  "id": 1796,
                  "proba": 0.2697727978229522,
                  "label": 0,
                  "_deepnote_index_column": 495
                }
              ],
              "rows_bottom": null
            },
            "text/plain": "       id     proba  label\n362  1268  0.000417      0\n59   1456  0.100073      0\n62   1726  0.837024      1\n426  1768  0.000428      0\n495  1796  0.269773      0",
            "text/html": "<div>\n<style scoped>\n    .dataframe tbody tr th:only-of-type {\n        vertical-align: middle;\n    }\n\n    .dataframe tbody tr th {\n        vertical-align: top;\n    }\n\n    .dataframe thead th {\n        text-align: right;\n    }\n</style>\n<table border=\"1\" class=\"dataframe\">\n  <thead>\n    <tr style=\"text-align: right;\">\n      <th></th>\n      <th>id</th>\n      <th>proba</th>\n      <th>label</th>\n    </tr>\n  </thead>\n  <tbody>\n    <tr>\n      <th>362</th>\n      <td>1268</td>\n      <td>0.000417</td>\n      <td>0</td>\n    </tr>\n    <tr>\n      <th>59</th>\n      <td>1456</td>\n      <td>0.100073</td>\n      <td>0</td>\n    </tr>\n    <tr>\n      <th>62</th>\n      <td>1726</td>\n      <td>0.837024</td>\n      <td>1</td>\n    </tr>\n    <tr>\n      <th>426</th>\n      <td>1768</td>\n      <td>0.000428</td>\n      <td>0</td>\n    </tr>\n    <tr>\n      <th>495</th>\n      <td>1796</td>\n      <td>0.269773</td>\n      <td>0</td>\n    </tr>\n  </tbody>\n</table>\n</div>"
          },
          "metadata": {}
        }
      ],
      "execution_count": null
    },
    {
      "cell_type": "code",
      "metadata": {
        "tags": [],
        "cell_id": "00002-4b1b5a66-65ba-4fda-bc5e-5ad3aa3e4b4b",
        "deepnote_to_be_reexecuted": false,
        "source_hash": "f36c7cd8",
        "execution_millis": 12,
        "execution_start": 1618666838485,
        "deepnote_cell_type": "code"
      },
      "source": "vilio = pd.read_csv('FIN_dev_seen_ENS_SA_LOOP_2.csv')\nvilmax = vilio['proba'].values.max()\nvilmin = vilio['proba'].values.min()\nvilio['proba'] = (vilio['proba'].values - vilmin) / (vilmax - vilmin)\nvilio['label'] = np.where(vilio['proba'] > 0.5, 1, 0)\n\nrename_columns = {'id_y': 'id', 'proba_x': 'proba', 'label_x': 'label'}\nvilio = pd.merge(left=vilio, right=baseline, left_index=True, right_index=True, how='inner')\nvilio = vilio.sort_values(by='id_y')[['id_y', 'proba_x', 'label_x']].rename(columns=rename_columns)\nvilio",
      "outputs": [
        {
          "output_type": "execute_result",
          "execution_count": 432,
          "data": {
            "application/vnd.deepnote.dataframe.v2+json": {
              "row_count": 500,
              "column_count": 3,
              "columns": [
                {
                  "name": "id",
                  "dtype": "int64",
                  "stats": {
                    "unique_count": 500,
                    "nan_count": 0,
                    "min": "1268",
                    "max": "98720",
                    "histogram": [
                      {
                        "bin_start": 1268,
                        "bin_end": 11013.2,
                        "count": 66
                      },
                      {
                        "bin_start": 11013.2,
                        "bin_end": 20758.4,
                        "count": 57
                      },
                      {
                        "bin_start": 20758.4,
                        "bin_end": 30503.600000000002,
                        "count": 42
                      },
                      {
                        "bin_start": 30503.600000000002,
                        "bin_end": 40248.8,
                        "count": 41
                      },
                      {
                        "bin_start": 40248.8,
                        "bin_end": 49994,
                        "count": 53
                      },
                      {
                        "bin_start": 49994,
                        "bin_end": 59739.200000000004,
                        "count": 50
                      },
                      {
                        "bin_start": 59739.200000000004,
                        "bin_end": 69484.40000000001,
                        "count": 41
                      },
                      {
                        "bin_start": 69484.40000000001,
                        "bin_end": 79229.6,
                        "count": 50
                      },
                      {
                        "bin_start": 79229.6,
                        "bin_end": 88974.8,
                        "count": 42
                      },
                      {
                        "bin_start": 88974.8,
                        "bin_end": 98720,
                        "count": 58
                      }
                    ]
                  }
                },
                {
                  "name": "proba",
                  "dtype": "float64",
                  "stats": {
                    "unique_count": 500,
                    "nan_count": 0,
                    "min": "0.0",
                    "max": "1.0",
                    "histogram": [
                      {
                        "bin_start": 0,
                        "bin_end": 0.1,
                        "count": 54
                      },
                      {
                        "bin_start": 0.1,
                        "bin_end": 0.2,
                        "count": 130
                      },
                      {
                        "bin_start": 0.2,
                        "bin_end": 0.30000000000000004,
                        "count": 82
                      },
                      {
                        "bin_start": 0.30000000000000004,
                        "bin_end": 0.4,
                        "count": 47
                      },
                      {
                        "bin_start": 0.4,
                        "bin_end": 0.5,
                        "count": 38
                      },
                      {
                        "bin_start": 0.5,
                        "bin_end": 0.6000000000000001,
                        "count": 31
                      },
                      {
                        "bin_start": 0.6000000000000001,
                        "bin_end": 0.7000000000000001,
                        "count": 36
                      },
                      {
                        "bin_start": 0.7000000000000001,
                        "bin_end": 0.8,
                        "count": 33
                      },
                      {
                        "bin_start": 0.8,
                        "bin_end": 0.9,
                        "count": 33
                      },
                      {
                        "bin_start": 0.9,
                        "bin_end": 1,
                        "count": 16
                      }
                    ]
                  }
                },
                {
                  "name": "label",
                  "dtype": "int64",
                  "stats": {
                    "unique_count": 2,
                    "nan_count": 0,
                    "min": "0",
                    "max": "1",
                    "histogram": [
                      {
                        "bin_start": 0,
                        "bin_end": 0.1,
                        "count": 351
                      },
                      {
                        "bin_start": 0.1,
                        "bin_end": 0.2,
                        "count": 0
                      },
                      {
                        "bin_start": 0.2,
                        "bin_end": 0.30000000000000004,
                        "count": 0
                      },
                      {
                        "bin_start": 0.30000000000000004,
                        "bin_end": 0.4,
                        "count": 0
                      },
                      {
                        "bin_start": 0.4,
                        "bin_end": 0.5,
                        "count": 0
                      },
                      {
                        "bin_start": 0.5,
                        "bin_end": 0.6000000000000001,
                        "count": 0
                      },
                      {
                        "bin_start": 0.6000000000000001,
                        "bin_end": 0.7000000000000001,
                        "count": 0
                      },
                      {
                        "bin_start": 0.7000000000000001,
                        "bin_end": 0.8,
                        "count": 0
                      },
                      {
                        "bin_start": 0.8,
                        "bin_end": 0.9,
                        "count": 0
                      },
                      {
                        "bin_start": 0.9,
                        "bin_end": 1,
                        "count": 149
                      }
                    ]
                  }
                },
                {
                  "name": "_deepnote_index_column",
                  "dtype": "int64"
                }
              ],
              "rows_top": [
                {
                  "id": 1268,
                  "proba": 0.6599672490812551,
                  "label": 1,
                  "_deepnote_index_column": 362
                },
                {
                  "id": 1456,
                  "proba": 0.7682838849687912,
                  "label": 1,
                  "_deepnote_index_column": 59
                },
                {
                  "id": 1726,
                  "proba": 0.9095509534106987,
                  "label": 1,
                  "_deepnote_index_column": 62
                },
                {
                  "id": 1768,
                  "proba": 0.6527880062836445,
                  "label": 1,
                  "_deepnote_index_column": 426
                },
                {
                  "id": 1796,
                  "proba": 0.1605654440676509,
                  "label": 0,
                  "_deepnote_index_column": 495
                },
                {
                  "id": 1925,
                  "proba": 0.18313193727017144,
                  "label": 0,
                  "_deepnote_index_column": 88
                },
                {
                  "id": 1967,
                  "proba": 0.21507743949606947,
                  "label": 0,
                  "_deepnote_index_column": 368
                },
                {
                  "id": 2143,
                  "proba": 0.5711268450819705,
                  "label": 1,
                  "_deepnote_index_column": 48
                },
                {
                  "id": 2145,
                  "proba": 0.9511135121707234,
                  "label": 1,
                  "_deepnote_index_column": 71
                },
                {
                  "id": 2364,
                  "proba": 0.4388557656363141,
                  "label": 0,
                  "_deepnote_index_column": 73
                },
                {
                  "id": 2478,
                  "proba": 0.09132358445516046,
                  "label": 0,
                  "_deepnote_index_column": 360
                },
                {
                  "id": 2518,
                  "proba": 0.17288206610733003,
                  "label": 0,
                  "_deepnote_index_column": 151
                },
                {
                  "id": 2568,
                  "proba": 0.26764642776987324,
                  "label": 0,
                  "_deepnote_index_column": 429
                },
                {
                  "id": 2593,
                  "proba": 0.1323949030215612,
                  "label": 0,
                  "_deepnote_index_column": 145
                },
                {
                  "id": 2634,
                  "proba": 0.7145649265887659,
                  "label": 1,
                  "_deepnote_index_column": 2
                },
                {
                  "id": 2783,
                  "proba": 0.6358050041299834,
                  "label": 1,
                  "_deepnote_index_column": 246
                },
                {
                  "id": 3214,
                  "proba": 0.21918268041752645,
                  "label": 0,
                  "_deepnote_index_column": 471
                },
                {
                  "id": 3217,
                  "proba": 0.047789612743157885,
                  "label": 0,
                  "_deepnote_index_column": 23
                },
                {
                  "id": 3519,
                  "proba": 0.920746424845017,
                  "label": 1,
                  "_deepnote_index_column": 188
                },
                {
                  "id": 3524,
                  "proba": 0.5789851771025912,
                  "label": 1,
                  "_deepnote_index_column": 260
                },
                {
                  "id": 3567,
                  "proba": 0.7157181682389013,
                  "label": 1,
                  "_deepnote_index_column": 319
                },
                {
                  "id": 3568,
                  "proba": 0.4394158674988008,
                  "label": 0,
                  "_deepnote_index_column": 156
                },
                {
                  "id": 3594,
                  "proba": 0.6851082950078251,
                  "label": 1,
                  "_deepnote_index_column": 152
                },
                {
                  "id": 3745,
                  "proba": 0.7668708249301052,
                  "label": 1,
                  "_deepnote_index_column": 445
                },
                {
                  "id": 3798,
                  "proba": 0.23001710510089005,
                  "label": 0,
                  "_deepnote_index_column": 161
                },
                {
                  "id": 3928,
                  "proba": 0.11763189833105918,
                  "label": 0,
                  "_deepnote_index_column": 347
                },
                {
                  "id": 4538,
                  "proba": 0.2751550522623428,
                  "label": 0,
                  "_deepnote_index_column": 21
                },
                {
                  "id": 4569,
                  "proba": 0.1338598224981898,
                  "label": 0,
                  "_deepnote_index_column": 217
                },
                {
                  "id": 4621,
                  "proba": 0.7071681694261414,
                  "label": 1,
                  "_deepnote_index_column": 444
                },
                {
                  "id": 5126,
                  "proba": 0.7422840876349783,
                  "label": 1,
                  "_deepnote_index_column": 380
                },
                {
                  "id": 5279,
                  "proba": 0.4128863728989441,
                  "label": 0,
                  "_deepnote_index_column": 56
                },
                {
                  "id": 5316,
                  "proba": 0.18246074864757855,
                  "label": 0,
                  "_deepnote_index_column": 359
                },
                {
                  "id": 5349,
                  "proba": 0.47127260114724345,
                  "label": 0,
                  "_deepnote_index_column": 215
                },
                {
                  "id": 5618,
                  "proba": 0.32627282640833694,
                  "label": 0,
                  "_deepnote_index_column": 114
                },
                {
                  "id": 5938,
                  "proba": 0.10087602093300642,
                  "label": 0,
                  "_deepnote_index_column": 432
                },
                {
                  "id": 6123,
                  "proba": 0.16910492307923347,
                  "label": 0,
                  "_deepnote_index_column": 475
                },
                {
                  "id": 6273,
                  "proba": 0.22296404217705376,
                  "label": 0,
                  "_deepnote_index_column": 312
                },
                {
                  "id": 6352,
                  "proba": 0.2377458628520045,
                  "label": 0,
                  "_deepnote_index_column": 243
                },
                {
                  "id": 6491,
                  "proba": 0.27832749898583375,
                  "label": 0,
                  "_deepnote_index_column": 19
                },
                {
                  "id": 6582,
                  "proba": 0.09144372861911552,
                  "label": 0,
                  "_deepnote_index_column": 299
                },
                {
                  "id": 6723,
                  "proba": 0.23118522195628147,
                  "label": 0,
                  "_deepnote_index_column": 339
                },
                {
                  "id": 7135,
                  "proba": 0.8890128370911378,
                  "label": 1,
                  "_deepnote_index_column": 94
                },
                {
                  "id": 7198,
                  "proba": 0.2020173329959267,
                  "label": 0,
                  "_deepnote_index_column": 378
                },
                {
                  "id": 7351,
                  "proba": 0.7457673617432521,
                  "label": 1,
                  "_deepnote_index_column": 496
                },
                {
                  "id": 7382,
                  "proba": 0.14738369461137352,
                  "label": 0,
                  "_deepnote_index_column": 268
                },
                {
                  "id": 7528,
                  "proba": 0.3204350271820951,
                  "label": 0,
                  "_deepnote_index_column": 317
                },
                {
                  "id": 7653,
                  "proba": 0.7436318900164481,
                  "label": 1,
                  "_deepnote_index_column": 355
                },
                {
                  "id": 8291,
                  "proba": 0.12020414021241159,
                  "label": 0,
                  "_deepnote_index_column": 447
                },
                {
                  "id": 8319,
                  "proba": 0.06206977047624324,
                  "label": 0,
                  "_deepnote_index_column": 238
                },
                {
                  "id": 8416,
                  "proba": 0.3610163217878703,
                  "label": 0,
                  "_deepnote_index_column": 384
                },
                {
                  "id": 8451,
                  "proba": 0.8592617140387865,
                  "label": 1,
                  "_deepnote_index_column": 410
                },
                {
                  "id": 8459,
                  "proba": 0.05666892936783131,
                  "label": 0,
                  "_deepnote_index_column": 397
                },
                {
                  "id": 8643,
                  "proba": 0.05383165188834644,
                  "label": 0,
                  "_deepnote_index_column": 141
                },
                {
                  "id": 8765,
                  "proba": 0.1056792567437492,
                  "label": 0,
                  "_deepnote_index_column": 251
                },
                {
                  "id": 8795,
                  "proba": 0.05360422368874752,
                  "label": 0,
                  "_deepnote_index_column": 213
                },
                {
                  "id": 8912,
                  "proba": 0.2603278230984142,
                  "label": 0,
                  "_deepnote_index_column": 47
                },
                {
                  "id": 9386,
                  "proba": 0.5438937727455229,
                  "label": 1,
                  "_deepnote_index_column": 234
                },
                {
                  "id": 9467,
                  "proba": 0.10965366539308327,
                  "label": 0,
                  "_deepnote_index_column": 247
                },
                {
                  "id": 9863,
                  "proba": 0.44953221578113967,
                  "label": 0,
                  "_deepnote_index_column": 356
                },
                {
                  "id": 10285,
                  "proba": 0.21499206731068812,
                  "label": 0,
                  "_deepnote_index_column": 287
                },
                {
                  "id": 10362,
                  "proba": 0.12496841725462245,
                  "label": 0,
                  "_deepnote_index_column": 229
                },
                {
                  "id": 10425,
                  "proba": 0.14237831841925383,
                  "label": 0,
                  "_deepnote_index_column": 258
                },
                {
                  "id": 10438,
                  "proba": 0.1875253885567129,
                  "label": 0,
                  "_deepnote_index_column": 454
                },
                {
                  "id": 10749,
                  "proba": 0.21348712762582012,
                  "label": 0,
                  "_deepnote_index_column": 433
                },
                {
                  "id": 10785,
                  "proba": 0.6647879667057028,
                  "label": 1,
                  "_deepnote_index_column": 14
                },
                {
                  "id": 10896,
                  "proba": 0.07581203872336492,
                  "label": 0,
                  "_deepnote_index_column": 277
                },
                {
                  "id": 12045,
                  "proba": 0.12842503006134867,
                  "label": 0,
                  "_deepnote_index_column": 7
                },
                {
                  "id": 12067,
                  "proba": 0.5409073654441385,
                  "label": 1,
                  "_deepnote_index_column": 273
                },
                {
                  "id": 12468,
                  "proba": 0.0836519601705366,
                  "label": 0,
                  "_deepnote_index_column": 389
                },
                {
                  "id": 12650,
                  "proba": 0.10445742170240868,
                  "label": 0,
                  "_deepnote_index_column": 361
                },
                {
                  "id": 12684,
                  "proba": 0.24160274838092127,
                  "label": 0,
                  "_deepnote_index_column": 321
                },
                {
                  "id": 12973,
                  "proba": 0.6365734250524696,
                  "label": 1,
                  "_deepnote_index_column": 142
                },
                {
                  "id": 13026,
                  "proba": 0.3760375824989272,
                  "label": 0,
                  "_deepnote_index_column": 435
                },
                {
                  "id": 13207,
                  "proba": 0.6859825417148754,
                  "label": 1,
                  "_deepnote_index_column": 225
                },
                {
                  "id": 13280,
                  "proba": 0.6818329144315664,
                  "label": 1,
                  "_deepnote_index_column": 129
                },
                {
                  "id": 13647,
                  "proba": 0.13177133176363456,
                  "label": 0,
                  "_deepnote_index_column": 174
                },
                {
                  "id": 13749,
                  "proba": 0.3977007677825845,
                  "label": 0,
                  "_deepnote_index_column": 4
                },
                {
                  "id": 13750,
                  "proba": 0.4710422582882619,
                  "label": 0,
                  "_deepnote_index_column": 342
                },
                {
                  "id": 13809,
                  "proba": 0.949761616366677,
                  "label": 1,
                  "_deepnote_index_column": 393
                },
                {
                  "id": 14235,
                  "proba": 0.19811884185605877,
                  "label": 0,
                  "_deepnote_index_column": 294
                },
                {
                  "id": 14270,
                  "proba": 0.10489218445825058,
                  "label": 0,
                  "_deepnote_index_column": 46
                },
                {
                  "id": 14389,
                  "proba": 0.14708762172993536,
                  "label": 0,
                  "_deepnote_index_column": 292
                },
                {
                  "id": 14672,
                  "proba": 0.14813656249369783,
                  "label": 0,
                  "_deepnote_index_column": 264
                },
                {
                  "id": 14865,
                  "proba": 0.693864456370484,
                  "label": 1,
                  "_deepnote_index_column": 364
                },
                {
                  "id": 14975,
                  "proba": 0.4596524752046703,
                  "label": 0,
                  "_deepnote_index_column": 105
                },
                {
                  "id": 14986,
                  "proba": 0.7002957290806254,
                  "label": 1,
                  "_deepnote_index_column": 20
                },
                {
                  "id": 16354,
                  "proba": 0.16089050506406988,
                  "label": 0,
                  "_deepnote_index_column": 443
                },
                {
                  "id": 16405,
                  "proba": 0.4876735452079359,
                  "label": 0,
                  "_deepnote_index_column": 411
                },
                {
                  "id": 16420,
                  "proba": 0.0978998226176999,
                  "label": 0,
                  "_deepnote_index_column": 474
                },
                {
                  "id": 16704,
                  "proba": 0.1466761516787908,
                  "label": 0,
                  "_deepnote_index_column": 407
                },
                {
                  "id": 16749,
                  "proba": 0.26980875244706093,
                  "label": 0,
                  "_deepnote_index_column": 65
                },
                {
                  "id": 16809,
                  "proba": 0.5532060855168951,
                  "label": 1,
                  "_deepnote_index_column": 297
                },
                {
                  "id": 16842,
                  "proba": 0.292879168450639,
                  "label": 0,
                  "_deepnote_index_column": 98
                },
                {
                  "id": 16843,
                  "proba": 0.44613009205552095,
                  "label": 0,
                  "_deepnote_index_column": 291
                },
                {
                  "id": 16850,
                  "proba": 0.1408265820198641,
                  "label": 0,
                  "_deepnote_index_column": 103
                },
                {
                  "id": 17028,
                  "proba": 0.6683457215714309,
                  "label": 1,
                  "_deepnote_index_column": 31
                },
                {
                  "id": 17045,
                  "proba": 0.6084836566196944,
                  "label": 1,
                  "_deepnote_index_column": 33
                },
                {
                  "id": 17246,
                  "proba": 0.12764573675296728,
                  "label": 0,
                  "_deepnote_index_column": 293
                },
                {
                  "id": 17320,
                  "proba": 0.8247361762122004,
                  "label": 1,
                  "_deepnote_index_column": 90
                },
                {
                  "id": 17350,
                  "proba": 0.26632164413354664,
                  "label": 0,
                  "_deepnote_index_column": 107
                },
                {
                  "id": 17682,
                  "proba": 0.8857494972215637,
                  "label": 1,
                  "_deepnote_index_column": 499
                },
                {
                  "id": 17908,
                  "proba": 0.4753419631952465,
                  "label": 0,
                  "_deepnote_index_column": 118
                },
                {
                  "id": 17963,
                  "proba": 0.1347248663755519,
                  "label": 0,
                  "_deepnote_index_column": 349
                },
                {
                  "id": 18059,
                  "proba": 0.2330791399814501,
                  "label": 0,
                  "_deepnote_index_column": 44
                },
                {
                  "id": 18306,
                  "proba": 0.26941344478109563,
                  "label": 0,
                  "_deepnote_index_column": 486
                },
                {
                  "id": 18356,
                  "proba": 0.5132845776564819,
                  "label": 1,
                  "_deepnote_index_column": 159
                },
                {
                  "id": 18367,
                  "proba": 0.753422587767206,
                  "label": 1,
                  "_deepnote_index_column": 375
                },
                {
                  "id": 18452,
                  "proba": 0.102694969864744,
                  "label": 0,
                  "_deepnote_index_column": 132
                },
                {
                  "id": 18547,
                  "proba": 0.15462477732862284,
                  "label": 0,
                  "_deepnote_index_column": 101
                },
                {
                  "id": 18564,
                  "proba": 0.04411867265470686,
                  "label": 0,
                  "_deepnote_index_column": 417
                },
                {
                  "id": 18726,
                  "proba": 0.40716214157883823,
                  "label": 0,
                  "_deepnote_index_column": 85
                },
                {
                  "id": 18742,
                  "proba": 0.14494689931642898,
                  "label": 0,
                  "_deepnote_index_column": 92
                },
                {
                  "id": 18945,
                  "proba": 0.2893624424065764,
                  "label": 0,
                  "_deepnote_index_column": 77
                },
                {
                  "id": 19075,
                  "proba": 0.2904166301714867,
                  "label": 0,
                  "_deepnote_index_column": 240
                },
                {
                  "id": 19243,
                  "proba": 0.22227050680876234,
                  "label": 0,
                  "_deepnote_index_column": 42
                },
                {
                  "id": 19508,
                  "proba": 0.08842044857306937,
                  "label": 0,
                  "_deepnote_index_column": 484
                },
                {
                  "id": 19523,
                  "proba": 0.16603933532409654,
                  "label": 0,
                  "_deepnote_index_column": 369
                },
                {
                  "id": 19530,
                  "proba": 0.5045786049470403,
                  "label": 1,
                  "_deepnote_index_column": 490
                },
                {
                  "id": 19536,
                  "proba": 0.10687302260170743,
                  "label": 0,
                  "_deepnote_index_column": 167
                },
                {
                  "id": 19607,
                  "proba": 0.0922406732767104,
                  "label": 0,
                  "_deepnote_index_column": 466
                },
                {
                  "id": 20437,
                  "proba": 0.09541226003747524,
                  "label": 0,
                  "_deepnote_index_column": 64
                },
                {
                  "id": 20541,
                  "proba": 0.20158989220843904,
                  "label": 0,
                  "_deepnote_index_column": 100
                },
                {
                  "id": 20653,
                  "proba": 0.10659103345268779,
                  "label": 0,
                  "_deepnote_index_column": 440
                },
                {
                  "id": 20861,
                  "proba": 0.39464493691883484,
                  "label": 0,
                  "_deepnote_index_column": 271
                },
                {
                  "id": 20984,
                  "proba": 0.8658218315857645,
                  "label": 1,
                  "_deepnote_index_column": 327
                },
                {
                  "id": 21567,
                  "proba": 0.19801295833114016,
                  "label": 0,
                  "_deepnote_index_column": 409
                },
                {
                  "id": 21643,
                  "proba": 0.5646271741230587,
                  "label": 1,
                  "_deepnote_index_column": 87
                },
                {
                  "id": 21763,
                  "proba": 0.7120694102747129,
                  "label": 1,
                  "_deepnote_index_column": 45
                },
                {
                  "id": 23015,
                  "proba": 0.12458641198351285,
                  "label": 0,
                  "_deepnote_index_column": 177
                },
                {
                  "id": 23541,
                  "proba": 0.2786999488425374,
                  "label": 0,
                  "_deepnote_index_column": 425
                },
                {
                  "id": 23645,
                  "proba": 0.3548123467472712,
                  "label": 0,
                  "_deepnote_index_column": 326
                },
                {
                  "id": 23785,
                  "proba": 0.15753398946163358,
                  "label": 0,
                  "_deepnote_index_column": 332
                },
                {
                  "id": 23810,
                  "proba": 0.6098309843324522,
                  "label": 1,
                  "_deepnote_index_column": 255
                },
                {
                  "id": 24098,
                  "proba": 0.11452480386068438,
                  "label": 0,
                  "_deepnote_index_column": 160
                },
                {
                  "id": 24316,
                  "proba": 0.8677326368218389,
                  "label": 1,
                  "_deepnote_index_column": 30
                },
                {
                  "id": 25061,
                  "proba": 0.06495300927788741,
                  "label": 0,
                  "_deepnote_index_column": 308
                },
                {
                  "id": 25149,
                  "proba": 0.584978025151325,
                  "label": 1,
                  "_deepnote_index_column": 479
                },
                {
                  "id": 26397,
                  "proba": 0.16131467062208904,
                  "label": 0,
                  "_deepnote_index_column": 117
                },
                {
                  "id": 26439,
                  "proba": 0.5498145141481855,
                  "label": 1,
                  "_deepnote_index_column": 450
                },
                {
                  "id": 26453,
                  "proba": 0.6001335487715231,
                  "label": 1,
                  "_deepnote_index_column": 436
                },
                {
                  "id": 26530,
                  "proba": 0.17707580456441893,
                  "label": 0,
                  "_deepnote_index_column": 221
                },
                {
                  "id": 26547,
                  "proba": 0.6428795341805013,
                  "label": 1,
                  "_deepnote_index_column": 343
                },
                {
                  "id": 26843,
                  "proba": 0.8401904852819787,
                  "label": 1,
                  "_deepnote_index_column": 405
                },
                {
                  "id": 26985,
                  "proba": 0.17163495798998551,
                  "label": 0,
                  "_deepnote_index_column": 57
                },
                {
                  "id": 27054,
                  "proba": 0.24679475429813313,
                  "label": 0,
                  "_deepnote_index_column": 249
                },
                {
                  "id": 27485,
                  "proba": 0.317594571526078,
                  "label": 0,
                  "_deepnote_index_column": 376
                },
                {
                  "id": 27498,
                  "proba": 0.2548393911007874,
                  "label": 0,
                  "_deepnote_index_column": 138
                },
                {
                  "id": 27543,
                  "proba": 0.11855579314332765,
                  "label": 0,
                  "_deepnote_index_column": 78
                },
                {
                  "id": 27614,
                  "proba": 0.16680605597742132,
                  "label": 0,
                  "_deepnote_index_column": 280
                },
                {
                  "id": 27635,
                  "proba": 0.12565619087264862,
                  "label": 0,
                  "_deepnote_index_column": 66
                },
                {
                  "id": 27849,
                  "proba": 0.7985555496018836,
                  "label": 1,
                  "_deepnote_index_column": 41
                },
                {
                  "id": 28017,
                  "proba": 0.11340943711891625,
                  "label": 0,
                  "_deepnote_index_column": 0
                },
                {
                  "id": 28190,
                  "proba": 0.050192328943782484,
                  "label": 0,
                  "_deepnote_index_column": 27
                },
                {
                  "id": 28406,
                  "proba": 0.2168787075941569,
                  "label": 0,
                  "_deepnote_index_column": 305
                },
                {
                  "id": 28905,
                  "proba": 0.5783068243762303,
                  "label": 1,
                  "_deepnote_index_column": 284
                },
                {
                  "id": 29054,
                  "proba": 0.8379513462770533,
                  "label": 1,
                  "_deepnote_index_column": 232
                },
                {
                  "id": 29067,
                  "proba": 0.3075009998172359,
                  "label": 0,
                  "_deepnote_index_column": 244
                },
                {
                  "id": 29174,
                  "proba": 0.08318110355055922,
                  "label": 0,
                  "_deepnote_index_column": 154
                },
                {
                  "id": 29437,
                  "proba": 0.6051321913787145,
                  "label": 1,
                  "_deepnote_index_column": 307
                },
                {
                  "id": 29548,
                  "proba": 0.5777292617384127,
                  "label": 1,
                  "_deepnote_index_column": 452
                },
                {
                  "id": 29750,
                  "proba": 0.2637883794484988,
                  "label": 0,
                  "_deepnote_index_column": 230
                },
                {
                  "id": 29873,
                  "proba": 0.10348678914449115,
                  "label": 0,
                  "_deepnote_index_column": 476
                },
                {
                  "id": 30186,
                  "proba": 0.18541743318011003,
                  "label": 0,
                  "_deepnote_index_column": 139
                },
                {
                  "id": 30417,
                  "proba": 0.1334132708818902,
                  "label": 0,
                  "_deepnote_index_column": 63
                },
                {
                  "id": 30478,
                  "proba": 0.38768142314219267,
                  "label": 0,
                  "_deepnote_index_column": 416
                },
                {
                  "id": 30579,
                  "proba": 0.19170716124672627,
                  "label": 0,
                  "_deepnote_index_column": 441
                }
              ],
              "rows_bottom": [
                {
                  "id": 65342,
                  "proba": 0.05587282993074431,
                  "label": 0,
                  "_deepnote_index_column": 252
                },
                {
                  "id": 65403,
                  "proba": 0.9191505993851747,
                  "label": 1,
                  "_deepnote_index_column": 483
                },
                {
                  "id": 65801,
                  "proba": 0.22580237863920993,
                  "label": 0,
                  "_deepnote_index_column": 391
                },
                {
                  "id": 65832,
                  "proba": 0.389384369244761,
                  "label": 0,
                  "_deepnote_index_column": 130
                },
                {
                  "id": 67082,
                  "proba": 0.1478298531018552,
                  "label": 0,
                  "_deepnote_index_column": 183
                },
                {
                  "id": 67103,
                  "proba": 0.4941855929884281,
                  "label": 0,
                  "_deepnote_index_column": 415
                },
                {
                  "id": 67208,
                  "proba": 0.15689050883807773,
                  "label": 0,
                  "_deepnote_index_column": 133
                },
                {
                  "id": 67435,
                  "proba": 0.37824354107058145,
                  "label": 0,
                  "_deepnote_index_column": 148
                },
                {
                  "id": 68043,
                  "proba": 0.6516594262145888,
                  "label": 1,
                  "_deepnote_index_column": 323
                },
                {
                  "id": 68192,
                  "proba": 0.15548433710082848,
                  "label": 0,
                  "_deepnote_index_column": 200
                },
                {
                  "id": 68257,
                  "proba": 0.7311644870264353,
                  "label": 1,
                  "_deepnote_index_column": 10
                },
                {
                  "id": 68401,
                  "proba": 0.8658061335804574,
                  "label": 1,
                  "_deepnote_index_column": 306
                },
                {
                  "id": 68452,
                  "proba": 0.1034330046185601,
                  "label": 0,
                  "_deepnote_index_column": 150
                },
                {
                  "id": 68459,
                  "proba": 0.33158459012053604,
                  "label": 0,
                  "_deepnote_index_column": 60
                },
                {
                  "id": 68530,
                  "proba": 0.40254446606811173,
                  "label": 0,
                  "_deepnote_index_column": 313
                },
                {
                  "id": 69015,
                  "proba": 0.4783447933276643,
                  "label": 0,
                  "_deepnote_index_column": 28
                },
                {
                  "id": 69032,
                  "proba": 0.7206990625207252,
                  "label": 1,
                  "_deepnote_index_column": 1
                },
                {
                  "id": 69548,
                  "proba": 0.6064013011049313,
                  "label": 1,
                  "_deepnote_index_column": 112
                },
                {
                  "id": 69850,
                  "proba": 0.7668522353001314,
                  "label": 1,
                  "_deepnote_index_column": 86
                },
                {
                  "id": 70413,
                  "proba": 0.8814589294185445,
                  "label": 1,
                  "_deepnote_index_column": 477
                },
                {
                  "id": 71269,
                  "proba": 0.3066335197883223,
                  "label": 0,
                  "_deepnote_index_column": 451
                },
                {
                  "id": 71620,
                  "proba": 0.3262386072629445,
                  "label": 0,
                  "_deepnote_index_column": 449
                },
                {
                  "id": 71680,
                  "proba": 0.23157060810942312,
                  "label": 0,
                  "_deepnote_index_column": 329
                },
                {
                  "id": 71968,
                  "proba": 0.8781051976383045,
                  "label": 1,
                  "_deepnote_index_column": 163
                },
                {
                  "id": 72048,
                  "proba": 0.2935223720433451,
                  "label": 0,
                  "_deepnote_index_column": 383
                },
                {
                  "id": 72061,
                  "proba": 0.4082034980088326,
                  "label": 0,
                  "_deepnote_index_column": 472
                },
                {
                  "id": 72168,
                  "proba": 0.3640435109787658,
                  "label": 0,
                  "_deepnote_index_column": 346
                },
                {
                  "id": 72864,
                  "proba": 0.23556773451694626,
                  "label": 0,
                  "_deepnote_index_column": 208
                },
                {
                  "id": 72904,
                  "proba": 0.3422245348476357,
                  "label": 0,
                  "_deepnote_index_column": 106
                },
                {
                  "id": 73021,
                  "proba": 0.11771431224466246,
                  "label": 0,
                  "_deepnote_index_column": 214
                },
                {
                  "id": 73482,
                  "proba": 0.3169128027513521,
                  "label": 0,
                  "_deepnote_index_column": 487
                },
                {
                  "id": 73526,
                  "proba": 0.07398114368084252,
                  "label": 0,
                  "_deepnote_index_column": 320
                },
                {
                  "id": 73601,
                  "proba": 0.820666702369043,
                  "label": 1,
                  "_deepnote_index_column": 55
                },
                {
                  "id": 73605,
                  "proba": 0.7979350496394073,
                  "label": 1,
                  "_deepnote_index_column": 423
                },
                {
                  "id": 73914,
                  "proba": 0.9695563121087194,
                  "label": 1,
                  "_deepnote_index_column": 144
                },
                {
                  "id": 73945,
                  "proba": 0.6288285340934828,
                  "label": 1,
                  "_deepnote_index_column": 311
                },
                {
                  "id": 73962,
                  "proba": 0.6600125387110994,
                  "label": 1,
                  "_deepnote_index_column": 337
                },
                {
                  "id": 74058,
                  "proba": 0.5456117024700764,
                  "label": 1,
                  "_deepnote_index_column": 69
                },
                {
                  "id": 74250,
                  "proba": 0.7974805261686364,
                  "label": 1,
                  "_deepnote_index_column": 467
                },
                {
                  "id": 74253,
                  "proba": 0.1104682319154557,
                  "label": 0,
                  "_deepnote_index_column": 341
                },
                {
                  "id": 74350,
                  "proba": 0.12288357276202624,
                  "label": 0,
                  "_deepnote_index_column": 302
                },
                {
                  "id": 74906,
                  "proba": 0.12868940717373648,
                  "label": 0,
                  "_deepnote_index_column": 434
                },
                {
                  "id": 74908,
                  "proba": 0.17284255696265338,
                  "label": 0,
                  "_deepnote_index_column": 257
                },
                {
                  "id": 74912,
                  "proba": 0.23653207460474446,
                  "label": 0,
                  "_deepnote_index_column": 157
                },
                {
                  "id": 74965,
                  "proba": 0.1017632813331401,
                  "label": 0,
                  "_deepnote_index_column": 480
                },
                {
                  "id": 75142,
                  "proba": 0.046545010802901195,
                  "label": 0,
                  "_deepnote_index_column": 388
                },
                {
                  "id": 75186,
                  "proba": 0.31832578186140287,
                  "label": 0,
                  "_deepnote_index_column": 211
                },
                {
                  "id": 75286,
                  "proba": 0.49546708732963757,
                  "label": 0,
                  "_deepnote_index_column": 453
                },
                {
                  "id": 75392,
                  "proba": 0.8151152596739517,
                  "label": 1,
                  "_deepnote_index_column": 36
                },
                {
                  "id": 75482,
                  "proba": 0.6225604101525207,
                  "label": 1,
                  "_deepnote_index_column": 336
                },
                {
                  "id": 75639,
                  "proba": 0.9027582678511848,
                  "label": 1,
                  "_deepnote_index_column": 492
                },
                {
                  "id": 75918,
                  "proba": 0.4858407720682456,
                  "label": 0,
                  "_deepnote_index_column": 70
                },
                {
                  "id": 76015,
                  "proba": 0.08657412334220332,
                  "label": 0,
                  "_deepnote_index_column": 13
                },
                {
                  "id": 76092,
                  "proba": 0.11796505771932231,
                  "label": 0,
                  "_deepnote_index_column": 493
                },
                {
                  "id": 76132,
                  "proba": 0.08814390913069711,
                  "label": 0,
                  "_deepnote_index_column": 189
                },
                {
                  "id": 76295,
                  "proba": 0.5673104373843154,
                  "label": 1,
                  "_deepnote_index_column": 198
                },
                {
                  "id": 76398,
                  "proba": 0.6422290608314635,
                  "label": 1,
                  "_deepnote_index_column": 75
                },
                {
                  "id": 76921,
                  "proba": 0.25446449649290503,
                  "label": 0,
                  "_deepnote_index_column": 328
                },
                {
                  "id": 78134,
                  "proba": 0.20310730872394556,
                  "label": 0,
                  "_deepnote_index_column": 333
                },
                {
                  "id": 78251,
                  "proba": 0.6181724051750062,
                  "label": 1,
                  "_deepnote_index_column": 186
                },
                {
                  "id": 78462,
                  "proba": 0.38044564332366815,
                  "label": 0,
                  "_deepnote_index_column": 81
                },
                {
                  "id": 78659,
                  "proba": 0.0738710094830204,
                  "label": 0,
                  "_deepnote_index_column": 83
                },
                {
                  "id": 78914,
                  "proba": 0.16253406091225098,
                  "label": 0,
                  "_deepnote_index_column": 408
                },
                {
                  "id": 78945,
                  "proba": 0.20259841718110796,
                  "label": 0,
                  "_deepnote_index_column": 262
                },
                {
                  "id": 79012,
                  "proba": 0.8836157626194665,
                  "label": 1,
                  "_deepnote_index_column": 108
                },
                {
                  "id": 79042,
                  "proba": 0.42452794508338976,
                  "label": 0,
                  "_deepnote_index_column": 82
                },
                {
                  "id": 79085,
                  "proba": 0.5162553471499499,
                  "label": 1,
                  "_deepnote_index_column": 38
                },
                {
                  "id": 80243,
                  "proba": 0.27442593040792435,
                  "label": 0,
                  "_deepnote_index_column": 175
                },
                {
                  "id": 80426,
                  "proba": 0.19815071453172695,
                  "label": 0,
                  "_deepnote_index_column": 116
                },
                {
                  "id": 80597,
                  "proba": 0.09405687524179712,
                  "label": 0,
                  "_deepnote_index_column": 296
                },
                {
                  "id": 80912,
                  "proba": 0.0768532521077737,
                  "label": 0,
                  "_deepnote_index_column": 281
                },
                {
                  "id": 82054,
                  "proba": 0.4215088512130429,
                  "label": 0,
                  "_deepnote_index_column": 266
                },
                {
                  "id": 82197,
                  "proba": 0.8447506685989065,
                  "label": 1,
                  "_deepnote_index_column": 345
                },
                {
                  "id": 82301,
                  "proba": 0.44428994749961964,
                  "label": 0,
                  "_deepnote_index_column": 207
                },
                {
                  "id": 82437,
                  "proba": 0.3271950132732054,
                  "label": 0,
                  "_deepnote_index_column": 335
                },
                {
                  "id": 82509,
                  "proba": 0.7894898692263038,
                  "label": 1,
                  "_deepnote_index_column": 276
                },
                {
                  "id": 82537,
                  "proba": 0.4841739560710991,
                  "label": 0,
                  "_deepnote_index_column": 168
                },
                {
                  "id": 82945,
                  "proba": 0.15041004595287014,
                  "label": 0,
                  "_deepnote_index_column": 314
                },
                {
                  "id": 83045,
                  "proba": 0.31719381783901973,
                  "label": 0,
                  "_deepnote_index_column": 104
                },
                {
                  "id": 83264,
                  "proba": 0.0867982296286428,
                  "label": 0,
                  "_deepnote_index_column": 459
                },
                {
                  "id": 83497,
                  "proba": 0.8578539501419755,
                  "label": 1,
                  "_deepnote_index_column": 193
                },
                {
                  "id": 83675,
                  "proba": 0.22881653816628586,
                  "label": 0,
                  "_deepnote_index_column": 303
                },
                {
                  "id": 83745,
                  "proba": 0.21514191950127756,
                  "label": 0,
                  "_deepnote_index_column": 89
                },
                {
                  "id": 83946,
                  "proba": 0.4318193393056746,
                  "label": 0,
                  "_deepnote_index_column": 119
                },
                {
                  "id": 83954,
                  "proba": 0.40281159536835287,
                  "label": 0,
                  "_deepnote_index_column": 80
                },
                {
                  "id": 84036,
                  "proba": 0.18063386348839652,
                  "label": 0,
                  "_deepnote_index_column": 344
                },
                {
                  "id": 84102,
                  "proba": 0.2563176768552168,
                  "label": 0,
                  "_deepnote_index_column": 109
                },
                {
                  "id": 84107,
                  "proba": 0.44611830688061793,
                  "label": 0,
                  "_deepnote_index_column": 460
                },
                {
                  "id": 84150,
                  "proba": 0.9623492102043356,
                  "label": 1,
                  "_deepnote_index_column": 74
                },
                {
                  "id": 84162,
                  "proba": 0.2464077882706116,
                  "label": 0,
                  "_deepnote_index_column": 248
                },
                {
                  "id": 84302,
                  "proba": 0.34112883975322866,
                  "label": 0,
                  "_deepnote_index_column": 431
                },
                {
                  "id": 84510,
                  "proba": 0.7858149315396942,
                  "label": 1,
                  "_deepnote_index_column": 357
                },
                {
                  "id": 84762,
                  "proba": 0.10248721761231992,
                  "label": 0,
                  "_deepnote_index_column": 140
                },
                {
                  "id": 85067,
                  "proba": 0.3107290468165282,
                  "label": 0,
                  "_deepnote_index_column": 300
                },
                {
                  "id": 85216,
                  "proba": 0.2434275456734559,
                  "label": 0,
                  "_deepnote_index_column": 400
                },
                {
                  "id": 85293,
                  "proba": 0.1911196003136988,
                  "label": 0,
                  "_deepnote_index_column": 401
                },
                {
                  "id": 85621,
                  "proba": 0.4271981938453481,
                  "label": 0,
                  "_deepnote_index_column": 373
                },
                {
                  "id": 85679,
                  "proba": 0.1050604914489436,
                  "label": 0,
                  "_deepnote_index_column": 381
                },
                {
                  "id": 85761,
                  "proba": 0.134933640755102,
                  "label": 0,
                  "_deepnote_index_column": 25
                },
                {
                  "id": 85790,
                  "proba": 0.2919478331180118,
                  "label": 0,
                  "_deepnote_index_column": 439
                },
                {
                  "id": 86170,
                  "proba": 0.11603938987030354,
                  "label": 0,
                  "_deepnote_index_column": 463
                },
                {
                  "id": 86195,
                  "proba": 0.8942930622846138,
                  "label": 1,
                  "_deepnote_index_column": 438
                },
                {
                  "id": 86357,
                  "proba": 0.19797411750035354,
                  "label": 0,
                  "_deepnote_index_column": 498
                },
                {
                  "id": 86417,
                  "proba": 0.13966044799281568,
                  "label": 0,
                  "_deepnote_index_column": 283
                },
                {
                  "id": 86471,
                  "proba": 0.26714794177602225,
                  "label": 0,
                  "_deepnote_index_column": 464
                },
                {
                  "id": 87130,
                  "proba": 0.10565215071862029,
                  "label": 0,
                  "_deepnote_index_column": 110
                },
                {
                  "id": 87169,
                  "proba": 0.2751230174222749,
                  "label": 0,
                  "_deepnote_index_column": 366
                },
                {
                  "id": 87251,
                  "proba": 0.8188836212540958,
                  "label": 1,
                  "_deepnote_index_column": 173
                },
                {
                  "id": 87520,
                  "proba": 0.11857072701032659,
                  "label": 0,
                  "_deepnote_index_column": 372
                },
                {
                  "id": 89047,
                  "proba": 0.7994731494869964,
                  "label": 1,
                  "_deepnote_index_column": 128
                },
                {
                  "id": 89071,
                  "proba": 0.4943500596312898,
                  "label": 0,
                  "_deepnote_index_column": 465
                },
                {
                  "id": 89536,
                  "proba": 0.13212985268121055,
                  "label": 0,
                  "_deepnote_index_column": 172
                },
                {
                  "id": 89642,
                  "proba": 0.10391379257950663,
                  "label": 0,
                  "_deepnote_index_column": 191
                },
                {
                  "id": 90243,
                  "proba": 0.31330225062761563,
                  "label": 0,
                  "_deepnote_index_column": 131
                },
                {
                  "id": 90267,
                  "proba": 0.3658475542994226,
                  "label": 0,
                  "_deepnote_index_column": 26
                },
                {
                  "id": 90465,
                  "proba": 0.41868277351954825,
                  "label": 0,
                  "_deepnote_index_column": 301
                },
                {
                  "id": 90643,
                  "proba": 0.11782524743633822,
                  "label": 0,
                  "_deepnote_index_column": 455
                },
                {
                  "id": 90843,
                  "proba": 0.880397167839053,
                  "label": 1,
                  "_deepnote_index_column": 37
                },
                {
                  "id": 91253,
                  "proba": 0.9355622410750513,
                  "label": 1,
                  "_deepnote_index_column": 310
                },
                {
                  "id": 91586,
                  "proba": 0.302562369862455,
                  "label": 0,
                  "_deepnote_index_column": 386
                },
                {
                  "id": 91602,
                  "proba": 0.17607788170364536,
                  "label": 0,
                  "_deepnote_index_column": 185
                },
                {
                  "id": 91638,
                  "proba": 0.7805390381013219,
                  "label": 1,
                  "_deepnote_index_column": 298
                },
                {
                  "id": 91756,
                  "proba": 0.2914941462681216,
                  "label": 0,
                  "_deepnote_index_column": 318
                },
                {
                  "id": 91763,
                  "proba": 0.5373736557504932,
                  "label": 1,
                  "_deepnote_index_column": 96
                },
                {
                  "id": 91847,
                  "proba": 0.19337466337127648,
                  "label": 0,
                  "_deepnote_index_column": 84
                },
                {
                  "id": 92046,
                  "proba": 0.28410057127471333,
                  "label": 0,
                  "_deepnote_index_column": 485
                },
                {
                  "id": 92058,
                  "proba": 0.2259671671538348,
                  "label": 0,
                  "_deepnote_index_column": 32
                },
                {
                  "id": 92068,
                  "proba": 0.010795574024431947,
                  "label": 0,
                  "_deepnote_index_column": 288
                },
                {
                  "id": 92317,
                  "proba": 0.5053475811597441,
                  "label": 1,
                  "_deepnote_index_column": 194
                },
                {
                  "id": 92435,
                  "proba": 0.3927570963731039,
                  "label": 0,
                  "_deepnote_index_column": 351
                },
                {
                  "id": 92567,
                  "proba": 0.25199522900542065,
                  "label": 0,
                  "_deepnote_index_column": 390
                },
                {
                  "id": 92738,
                  "proba": 0.7325516167318908,
                  "label": 1,
                  "_deepnote_index_column": 12
                },
                {
                  "id": 93041,
                  "proba": 0.11943848345583083,
                  "label": 0,
                  "_deepnote_index_column": 165
                },
                {
                  "id": 93051,
                  "proba": 0.06211154992251693,
                  "label": 0,
                  "_deepnote_index_column": 338
                },
                {
                  "id": 93148,
                  "proba": 0.9186464204380766,
                  "label": 1,
                  "_deepnote_index_column": 223
                },
                {
                  "id": 93425,
                  "proba": 0.11762440928423241,
                  "label": 0,
                  "_deepnote_index_column": 377
                },
                {
                  "id": 93528,
                  "proba": 0.7129871305546074,
                  "label": 1,
                  "_deepnote_index_column": 196
                },
                {
                  "id": 93541,
                  "proba": 0.2960352623686327,
                  "label": 0,
                  "_deepnote_index_column": 95
                },
                {
                  "id": 93620,
                  "proba": 0.15677993237371074,
                  "label": 0,
                  "_deepnote_index_column": 462
                },
                {
                  "id": 94016,
                  "proba": 0.09220332140995846,
                  "label": 0,
                  "_deepnote_index_column": 155
                },
                {
                  "id": 94185,
                  "proba": 0.17489265650407607,
                  "label": 0,
                  "_deepnote_index_column": 233
                },
                {
                  "id": 94231,
                  "proba": 0.12021011572484022,
                  "label": 0,
                  "_deepnote_index_column": 331
                },
                {
                  "id": 94387,
                  "proba": 0.727078178798654,
                  "label": 1,
                  "_deepnote_index_column": 50
                },
                {
                  "id": 94560,
                  "proba": 0.12190554943873637,
                  "label": 0,
                  "_deepnote_index_column": 219
                },
                {
                  "id": 94738,
                  "proba": 0.08904613779633883,
                  "label": 0,
                  "_deepnote_index_column": 488
                },
                {
                  "id": 94813,
                  "proba": 0.2516946499192973,
                  "label": 0,
                  "_deepnote_index_column": 254
                },
                {
                  "id": 95173,
                  "proba": 0.5696617327279878,
                  "label": 1,
                  "_deepnote_index_column": 395
                },
                {
                  "id": 95487,
                  "proba": 0.5593262719320472,
                  "label": 1,
                  "_deepnote_index_column": 53
                },
                {
                  "id": 95604,
                  "proba": 0.5053051555129076,
                  "label": 1,
                  "_deepnote_index_column": 134
                },
                {
                  "id": 95613,
                  "proba": 0.21921641061268318,
                  "label": 0,
                  "_deepnote_index_column": 275
                },
                {
                  "id": 95640,
                  "proba": 0.2219997758003463,
                  "label": 0,
                  "_deepnote_index_column": 181
                },
                {
                  "id": 95806,
                  "proba": 0.11209148281515367,
                  "label": 0,
                  "_deepnote_index_column": 461
                },
                {
                  "id": 95830,
                  "proba": 0.09283626871863684,
                  "label": 0,
                  "_deepnote_index_column": 180
                },
                {
                  "id": 96180,
                  "proba": 0.7360915599267828,
                  "label": 1,
                  "_deepnote_index_column": 153
                },
                {
                  "id": 96250,
                  "proba": 0.07263918413183822,
                  "label": 0,
                  "_deepnote_index_column": 54
                },
                {
                  "id": 96284,
                  "proba": 0.569864747814309,
                  "label": 1,
                  "_deepnote_index_column": 227
                },
                {
                  "id": 96312,
                  "proba": 0.701752562757721,
                  "label": 1,
                  "_deepnote_index_column": 29
                },
                {
                  "id": 96472,
                  "proba": 0.10551314634356242,
                  "label": 0,
                  "_deepnote_index_column": 315
                },
                {
                  "id": 97132,
                  "proba": 0.16645581527237993,
                  "label": 0,
                  "_deepnote_index_column": 187
                },
                {
                  "id": 97305,
                  "proba": 0.4345765127928646,
                  "label": 0,
                  "_deepnote_index_column": 216
                },
                {
                  "id": 97320,
                  "proba": 0.6668458353960973,
                  "label": 1,
                  "_deepnote_index_column": 67
                },
                {
                  "id": 97453,
                  "proba": 0.13849775381667195,
                  "label": 0,
                  "_deepnote_index_column": 322
                },
                {
                  "id": 98235,
                  "proba": 0.013069472722748993,
                  "label": 0,
                  "_deepnote_index_column": 79
                },
                {
                  "id": 98516,
                  "proba": 0.2223823265335279,
                  "label": 0,
                  "_deepnote_index_column": 147
                },
                {
                  "id": 98543,
                  "proba": 0.7161285363092382,
                  "label": 1,
                  "_deepnote_index_column": 285
                },
                {
                  "id": 98701,
                  "proba": 0.09302833033686302,
                  "label": 0,
                  "_deepnote_index_column": 282
                },
                {
                  "id": 98720,
                  "proba": 0.32313256071857754,
                  "label": 0,
                  "_deepnote_index_column": 421
                }
              ]
            },
            "text/plain": "        id     proba  label\n362   1268  0.659967      1\n59    1456  0.768284      1\n62    1726  0.909551      1\n426   1768  0.652788      1\n495   1796  0.160565      0\n..     ...       ...    ...\n79   98235  0.013069      0\n147  98516  0.222382      0\n285  98543  0.716129      1\n282  98701  0.093028      0\n421  98720  0.323133      0\n\n[500 rows x 3 columns]",
            "text/html": "<div>\n<style scoped>\n    .dataframe tbody tr th:only-of-type {\n        vertical-align: middle;\n    }\n\n    .dataframe tbody tr th {\n        vertical-align: top;\n    }\n\n    .dataframe thead th {\n        text-align: right;\n    }\n</style>\n<table border=\"1\" class=\"dataframe\">\n  <thead>\n    <tr style=\"text-align: right;\">\n      <th></th>\n      <th>id</th>\n      <th>proba</th>\n      <th>label</th>\n    </tr>\n  </thead>\n  <tbody>\n    <tr>\n      <th>362</th>\n      <td>1268</td>\n      <td>0.659967</td>\n      <td>1</td>\n    </tr>\n    <tr>\n      <th>59</th>\n      <td>1456</td>\n      <td>0.768284</td>\n      <td>1</td>\n    </tr>\n    <tr>\n      <th>62</th>\n      <td>1726</td>\n      <td>0.909551</td>\n      <td>1</td>\n    </tr>\n    <tr>\n      <th>426</th>\n      <td>1768</td>\n      <td>0.652788</td>\n      <td>1</td>\n    </tr>\n    <tr>\n      <th>495</th>\n      <td>1796</td>\n      <td>0.160565</td>\n      <td>0</td>\n    </tr>\n    <tr>\n      <th>...</th>\n      <td>...</td>\n      <td>...</td>\n      <td>...</td>\n    </tr>\n    <tr>\n      <th>79</th>\n      <td>98235</td>\n      <td>0.013069</td>\n      <td>0</td>\n    </tr>\n    <tr>\n      <th>147</th>\n      <td>98516</td>\n      <td>0.222382</td>\n      <td>0</td>\n    </tr>\n    <tr>\n      <th>285</th>\n      <td>98543</td>\n      <td>0.716129</td>\n      <td>1</td>\n    </tr>\n    <tr>\n      <th>282</th>\n      <td>98701</td>\n      <td>0.093028</td>\n      <td>0</td>\n    </tr>\n    <tr>\n      <th>421</th>\n      <td>98720</td>\n      <td>0.323133</td>\n      <td>0</td>\n    </tr>\n  </tbody>\n</table>\n<p>500 rows × 3 columns</p>\n</div>"
          },
          "metadata": {}
        }
      ],
      "execution_count": null
    },
    {
      "cell_type": "code",
      "metadata": {
        "tags": [],
        "cell_id": "00005-c42f5afa-6825-45e2-bb8f-c84506151310",
        "deepnote_to_be_reexecuted": false,
        "source_hash": "4d0673e6",
        "execution_millis": 32,
        "execution_start": 1618666838533,
        "deepnote_cell_type": "code"
      },
      "source": "rename_columns = {'label_x': 'truth', 'label_y': 'vilio_label', 'label': 'baseline_label', 'proba_x': 'vilio_proba', 'proba_y': 'baseline_proba'}\ndev_vil = pd.merge(left=devseen, right=vilio, how='inner', left_on='id', right_on='id')\nprint(dev_vil.shape)\ndev_vil_base = pd.merge(left=dev_vil, right=baseline, how='inner', left_on='id', right_on='id').rename(columns=rename_columns)\ndev_vil_base",
      "outputs": [
        {
          "name": "stdout",
          "text": "(372, 6)\n",
          "output_type": "stream"
        },
        {
          "output_type": "execute_result",
          "execution_count": 433,
          "data": {
            "application/vnd.deepnote.dataframe.v2+json": {
              "row_count": 372,
              "column_count": 8,
              "columns": [
                {
                  "name": "id",
                  "dtype": "int64",
                  "stats": {
                    "unique_count": 372,
                    "nan_count": 0,
                    "min": "1268",
                    "max": "98720",
                    "histogram": [
                      {
                        "bin_start": 1268,
                        "bin_end": 11013.2,
                        "count": 51
                      },
                      {
                        "bin_start": 11013.2,
                        "bin_end": 20758.4,
                        "count": 38
                      },
                      {
                        "bin_start": 20758.4,
                        "bin_end": 30503.600000000002,
                        "count": 29
                      },
                      {
                        "bin_start": 30503.600000000002,
                        "bin_end": 40248.8,
                        "count": 29
                      },
                      {
                        "bin_start": 40248.8,
                        "bin_end": 49994,
                        "count": 40
                      },
                      {
                        "bin_start": 49994,
                        "bin_end": 59739.200000000004,
                        "count": 35
                      },
                      {
                        "bin_start": 59739.200000000004,
                        "bin_end": 69484.40000000001,
                        "count": 32
                      },
                      {
                        "bin_start": 69484.40000000001,
                        "bin_end": 79229.6,
                        "count": 37
                      },
                      {
                        "bin_start": 79229.6,
                        "bin_end": 88974.8,
                        "count": 34
                      },
                      {
                        "bin_start": 88974.8,
                        "bin_end": 98720,
                        "count": 47
                      }
                    ]
                  }
                },
                {
                  "name": "img",
                  "dtype": "object",
                  "stats": {
                    "unique_count": 372,
                    "nan_count": 0,
                    "categories": [
                      {
                        "name": "img/01268.png",
                        "count": 1
                      },
                      {
                        "name": "img/01456.png",
                        "count": 1
                      },
                      {
                        "name": "370 others",
                        "count": 370
                      }
                    ]
                  }
                },
                {
                  "name": "truth",
                  "dtype": "int64",
                  "stats": {
                    "unique_count": 2,
                    "nan_count": 0,
                    "min": "0",
                    "max": "1",
                    "histogram": [
                      {
                        "bin_start": 0,
                        "bin_end": 0.1,
                        "count": 185
                      },
                      {
                        "bin_start": 0.1,
                        "bin_end": 0.2,
                        "count": 0
                      },
                      {
                        "bin_start": 0.2,
                        "bin_end": 0.30000000000000004,
                        "count": 0
                      },
                      {
                        "bin_start": 0.30000000000000004,
                        "bin_end": 0.4,
                        "count": 0
                      },
                      {
                        "bin_start": 0.4,
                        "bin_end": 0.5,
                        "count": 0
                      },
                      {
                        "bin_start": 0.5,
                        "bin_end": 0.6000000000000001,
                        "count": 0
                      },
                      {
                        "bin_start": 0.6000000000000001,
                        "bin_end": 0.7000000000000001,
                        "count": 0
                      },
                      {
                        "bin_start": 0.7000000000000001,
                        "bin_end": 0.8,
                        "count": 0
                      },
                      {
                        "bin_start": 0.8,
                        "bin_end": 0.9,
                        "count": 0
                      },
                      {
                        "bin_start": 0.9,
                        "bin_end": 1,
                        "count": 187
                      }
                    ]
                  }
                },
                {
                  "name": "text",
                  "dtype": "object",
                  "stats": {
                    "unique_count": 302,
                    "nan_count": 0,
                    "categories": [
                      {
                        "name": "upper downer",
                        "count": 4
                      },
                      {
                        "name": "a real man loads the dishwasher every night",
                        "count": 2
                      },
                      {
                        "name": "300 others",
                        "count": 366
                      }
                    ]
                  }
                },
                {
                  "name": "vilio_proba",
                  "dtype": "float64",
                  "stats": {
                    "unique_count": 372,
                    "nan_count": 0,
                    "min": "0.0",
                    "max": "1.0",
                    "histogram": [
                      {
                        "bin_start": 0,
                        "bin_end": 0.1,
                        "count": 43
                      },
                      {
                        "bin_start": 0.1,
                        "bin_end": 0.2,
                        "count": 94
                      },
                      {
                        "bin_start": 0.2,
                        "bin_end": 0.30000000000000004,
                        "count": 64
                      },
                      {
                        "bin_start": 0.30000000000000004,
                        "bin_end": 0.4,
                        "count": 31
                      },
                      {
                        "bin_start": 0.4,
                        "bin_end": 0.5,
                        "count": 28
                      },
                      {
                        "bin_start": 0.5,
                        "bin_end": 0.6000000000000001,
                        "count": 26
                      },
                      {
                        "bin_start": 0.6000000000000001,
                        "bin_end": 0.7000000000000001,
                        "count": 27
                      },
                      {
                        "bin_start": 0.7000000000000001,
                        "bin_end": 0.8,
                        "count": 24
                      },
                      {
                        "bin_start": 0.8,
                        "bin_end": 0.9,
                        "count": 21
                      },
                      {
                        "bin_start": 0.9,
                        "bin_end": 1,
                        "count": 14
                      }
                    ]
                  }
                },
                {
                  "name": "vilio_label",
                  "dtype": "int64",
                  "stats": {
                    "unique_count": 2,
                    "nan_count": 0,
                    "min": "0",
                    "max": "1",
                    "histogram": [
                      {
                        "bin_start": 0,
                        "bin_end": 0.1,
                        "count": 260
                      },
                      {
                        "bin_start": 0.1,
                        "bin_end": 0.2,
                        "count": 0
                      },
                      {
                        "bin_start": 0.2,
                        "bin_end": 0.30000000000000004,
                        "count": 0
                      },
                      {
                        "bin_start": 0.30000000000000004,
                        "bin_end": 0.4,
                        "count": 0
                      },
                      {
                        "bin_start": 0.4,
                        "bin_end": 0.5,
                        "count": 0
                      },
                      {
                        "bin_start": 0.5,
                        "bin_end": 0.6000000000000001,
                        "count": 0
                      },
                      {
                        "bin_start": 0.6000000000000001,
                        "bin_end": 0.7000000000000001,
                        "count": 0
                      },
                      {
                        "bin_start": 0.7000000000000001,
                        "bin_end": 0.8,
                        "count": 0
                      },
                      {
                        "bin_start": 0.8,
                        "bin_end": 0.9,
                        "count": 0
                      },
                      {
                        "bin_start": 0.9,
                        "bin_end": 1,
                        "count": 112
                      }
                    ]
                  }
                },
                {
                  "name": "baseline_proba",
                  "dtype": "float64",
                  "stats": {
                    "unique_count": 372,
                    "nan_count": 0,
                    "min": "0.0001271477522095",
                    "max": "0.999524712562561",
                    "histogram": [
                      {
                        "bin_start": 0.0001271477522095,
                        "bin_end": 0.10006690423324466,
                        "count": 248
                      },
                      {
                        "bin_start": 0.10006690423324466,
                        "bin_end": 0.20000666071427983,
                        "count": 15
                      },
                      {
                        "bin_start": 0.20000666071427983,
                        "bin_end": 0.299946417195315,
                        "count": 8
                      },
                      {
                        "bin_start": 0.299946417195315,
                        "bin_end": 0.39988617367635015,
                        "count": 9
                      },
                      {
                        "bin_start": 0.39988617367635015,
                        "bin_end": 0.4998259301573853,
                        "count": 7
                      },
                      {
                        "bin_start": 0.4998259301573853,
                        "bin_end": 0.5997656866384204,
                        "count": 4
                      },
                      {
                        "bin_start": 0.5997656866384204,
                        "bin_end": 0.6997054431194556,
                        "count": 6
                      },
                      {
                        "bin_start": 0.6997054431194556,
                        "bin_end": 0.7996451996004907,
                        "count": 7
                      },
                      {
                        "bin_start": 0.7996451996004907,
                        "bin_end": 0.8995849560815259,
                        "count": 11
                      },
                      {
                        "bin_start": 0.8995849560815259,
                        "bin_end": 0.999524712562561,
                        "count": 57
                      }
                    ]
                  }
                },
                {
                  "name": "baseline_label",
                  "dtype": "int64",
                  "stats": {
                    "unique_count": 2,
                    "nan_count": 0,
                    "min": "0",
                    "max": "1",
                    "histogram": [
                      {
                        "bin_start": 0,
                        "bin_end": 0.1,
                        "count": 287
                      },
                      {
                        "bin_start": 0.1,
                        "bin_end": 0.2,
                        "count": 0
                      },
                      {
                        "bin_start": 0.2,
                        "bin_end": 0.30000000000000004,
                        "count": 0
                      },
                      {
                        "bin_start": 0.30000000000000004,
                        "bin_end": 0.4,
                        "count": 0
                      },
                      {
                        "bin_start": 0.4,
                        "bin_end": 0.5,
                        "count": 0
                      },
                      {
                        "bin_start": 0.5,
                        "bin_end": 0.6000000000000001,
                        "count": 0
                      },
                      {
                        "bin_start": 0.6000000000000001,
                        "bin_end": 0.7000000000000001,
                        "count": 0
                      },
                      {
                        "bin_start": 0.7000000000000001,
                        "bin_end": 0.8,
                        "count": 0
                      },
                      {
                        "bin_start": 0.8,
                        "bin_end": 0.9,
                        "count": 0
                      },
                      {
                        "bin_start": 0.9,
                        "bin_end": 1,
                        "count": 85
                      }
                    ]
                  }
                },
                {
                  "name": "_deepnote_index_column",
                  "dtype": "int64"
                }
              ],
              "rows_top": [
                {
                  "id": 1268,
                  "img": "img/01268.png",
                  "truth": 0,
                  "text": "father and daughter bonding time is the best like and share if you agree",
                  "vilio_proba": 0.6599672490812551,
                  "vilio_label": 1,
                  "baseline_proba": 0.000416669412516,
                  "baseline_label": 0,
                  "_deepnote_index_column": 0
                },
                {
                  "id": 1456,
                  "img": "img/01456.png",
                  "truth": 1,
                  "text": "they see them rollin..... they hating..",
                  "vilio_proba": 0.7682838849687912,
                  "vilio_label": 1,
                  "baseline_proba": 0.1000730991363525,
                  "baseline_label": 0,
                  "_deepnote_index_column": 1
                },
                {
                  "id": 1726,
                  "img": "img/01726.png",
                  "truth": 1,
                  "text": "a real man loads the dishwasher every night",
                  "vilio_proba": 0.9095509534106987,
                  "vilio_label": 1,
                  "baseline_proba": 0.8370235562324524,
                  "baseline_label": 1,
                  "_deepnote_index_column": 2
                },
                {
                  "id": 1796,
                  "img": "img/01796.png",
                  "truth": 1,
                  "text": "life hack #23 how to get stoned with no weed",
                  "vilio_proba": 0.1605654440676509,
                  "vilio_label": 0,
                  "baseline_proba": 0.2697727978229522,
                  "baseline_label": 0,
                  "_deepnote_index_column": 3
                },
                {
                  "id": 1925,
                  "img": "img/01925.png",
                  "truth": 1,
                  "text": "i am not racist i just don't like brown sugar",
                  "vilio_proba": 0.18313193727017144,
                  "vilio_label": 0,
                  "baseline_proba": 0.0009571990813128,
                  "baseline_label": 0,
                  "_deepnote_index_column": 4
                },
                {
                  "id": 1967,
                  "img": "img/01967.png",
                  "truth": 0,
                  "text": "when you decide to stop racism by burning its symbol",
                  "vilio_proba": 0.21507743949606947,
                  "vilio_label": 0,
                  "baseline_proba": 0.0008174629765562,
                  "baseline_label": 0,
                  "_deepnote_index_column": 5
                },
                {
                  "id": 2143,
                  "img": "img/02143.png",
                  "truth": 1,
                  "text": "doesnt have food, water, electricity proud of nuclear weapons",
                  "vilio_proba": 0.5711268450819705,
                  "vilio_label": 1,
                  "baseline_proba": 0.3490279018878937,
                  "baseline_label": 0,
                  "_deepnote_index_column": 6
                },
                {
                  "id": 2145,
                  "img": "img/02145.png",
                  "truth": 0,
                  "text": "and then i asked mom, what's for dinner?",
                  "vilio_proba": 0.9511135121707234,
                  "vilio_label": 1,
                  "baseline_proba": 0.0029210129287093,
                  "baseline_label": 0,
                  "_deepnote_index_column": 7
                },
                {
                  "id": 2364,
                  "img": "img/02364.png",
                  "truth": 0,
                  "text": "a jewish shop owner, wears a kippah or yarmulke whilst in his shop in tehran",
                  "vilio_proba": 0.4388557656363141,
                  "vilio_label": 0,
                  "baseline_proba": 0.9982069730758668,
                  "baseline_label": 1,
                  "_deepnote_index_column": 8
                },
                {
                  "id": 2478,
                  "img": "img/02478.png",
                  "truth": 1,
                  "text": "must..resist...urge to.. kill whitey.",
                  "vilio_proba": 0.09132358445516046,
                  "vilio_label": 0,
                  "baseline_proba": 0.950066328048706,
                  "baseline_label": 1,
                  "_deepnote_index_column": 9
                },
                {
                  "id": 2518,
                  "img": "img/02518.png",
                  "truth": 0,
                  "text": "when the dog bites you and you bite back to assert dominance",
                  "vilio_proba": 0.17288206610733003,
                  "vilio_label": 0,
                  "baseline_proba": 0.0003744499117601,
                  "baseline_label": 0,
                  "_deepnote_index_column": 10
                },
                {
                  "id": 2568,
                  "img": "img/02568.png",
                  "truth": 1,
                  "text": "whatsthe difference between heroin and i? cops think twice before shooting heroin",
                  "vilio_proba": 0.26764642776987324,
                  "vilio_label": 0,
                  "baseline_proba": 0.0126390205696225,
                  "baseline_label": 0,
                  "_deepnote_index_column": 11
                },
                {
                  "id": 2634,
                  "img": "img/02634.png",
                  "truth": 1,
                  "text": "and just like that... this sandwich maker doubles as an ironing board",
                  "vilio_proba": 0.7145649265887659,
                  "vilio_label": 1,
                  "baseline_proba": 0.977145791053772,
                  "baseline_label": 1,
                  "_deepnote_index_column": 12
                },
                {
                  "id": 2783,
                  "img": "img/02783.png",
                  "truth": 1,
                  "text": "a picture of my great great great grand grandfather's tractors they don't make them like they used to",
                  "vilio_proba": 0.6358050041299834,
                  "vilio_label": 1,
                  "baseline_proba": 0.0005619285511784,
                  "baseline_label": 0,
                  "_deepnote_index_column": 13
                },
                {
                  "id": 3214,
                  "img": "img/03214.png",
                  "truth": 0,
                  "text": "bartender: how about a nice 12 yr old? him: boy or girl?",
                  "vilio_proba": 0.21918268041752645,
                  "vilio_label": 0,
                  "baseline_proba": 0.0165732763707637,
                  "baseline_label": 0,
                  "_deepnote_index_column": 14
                },
                {
                  "id": 3217,
                  "img": "img/03217.png",
                  "truth": 0,
                  "text": "they are like sperm you get millions, but only one works",
                  "vilio_proba": 0.047789612743157885,
                  "vilio_label": 0,
                  "baseline_proba": 0.0538823753595352,
                  "baseline_label": 0,
                  "_deepnote_index_column": 15
                },
                {
                  "id": 3519,
                  "img": "img/03519.png",
                  "truth": 1,
                  "text": "i'm going home i'm russian",
                  "vilio_proba": 0.920746424845017,
                  "vilio_label": 1,
                  "baseline_proba": 0.156326338648796,
                  "baseline_label": 0,
                  "_deepnote_index_column": 16
                },
                {
                  "id": 3524,
                  "img": "img/03524.png",
                  "truth": 1,
                  "text": "terrorist can come to this country way to easy",
                  "vilio_proba": 0.5789851771025912,
                  "vilio_label": 1,
                  "baseline_proba": 0.0354405790567398,
                  "baseline_label": 0,
                  "_deepnote_index_column": 17
                },
                {
                  "id": 3567,
                  "img": "img/03567.png",
                  "truth": 1,
                  "text": "potato is my favorite color of the alphabet",
                  "vilio_proba": 0.7157181682389013,
                  "vilio_label": 1,
                  "baseline_proba": 0.0224823802709579,
                  "baseline_label": 0,
                  "_deepnote_index_column": 18
                },
                {
                  "id": 3568,
                  "img": "img/03568.png",
                  "truth": 0,
                  "text": "time to play rich vs the constitution",
                  "vilio_proba": 0.4394158674988008,
                  "vilio_label": 0,
                  "baseline_proba": 0.0002117130934493,
                  "baseline_label": 0,
                  "_deepnote_index_column": 19
                },
                {
                  "id": 3745,
                  "img": "img/03745.png",
                  "truth": 1,
                  "text": "your order comes to $37.50 and your white privilege discount brings the total to $37.50",
                  "vilio_proba": 0.7668708249301052,
                  "vilio_label": 1,
                  "baseline_proba": 0.0013869398972019,
                  "baseline_label": 0,
                  "_deepnote_index_column": 20
                },
                {
                  "id": 3798,
                  "img": "img/03798.png",
                  "truth": 0,
                  "text": "hey, i just met you and this is crazy but here's your number... so camping, maybe?",
                  "vilio_proba": 0.23001710510089005,
                  "vilio_label": 0,
                  "baseline_proba": 0.0009316474897786,
                  "baseline_label": 0,
                  "_deepnote_index_column": 21
                },
                {
                  "id": 4538,
                  "img": "img/04538.png",
                  "truth": 0,
                  "text": "bows here, bows there, bows everywhere",
                  "vilio_proba": 0.2751550522623428,
                  "vilio_label": 0,
                  "baseline_proba": 0.9788638949394226,
                  "baseline_label": 1,
                  "_deepnote_index_column": 22
                },
                {
                  "id": 4569,
                  "img": "img/04569.png",
                  "truth": 0,
                  "text": "when is the time to eat i am hungry",
                  "vilio_proba": 0.1338598224981898,
                  "vilio_label": 0,
                  "baseline_proba": 0.0002008769661188,
                  "baseline_label": 0,
                  "_deepnote_index_column": 23
                },
                {
                  "id": 4621,
                  "img": "img/04621.png",
                  "truth": 0,
                  "text": "you are what you eat meanwhile in africa",
                  "vilio_proba": 0.7071681694261414,
                  "vilio_label": 1,
                  "baseline_proba": 0.0096497796475887,
                  "baseline_label": 0,
                  "_deepnote_index_column": 24
                },
                {
                  "id": 5126,
                  "img": "img/05126.png",
                  "truth": 1,
                  "text": "can you smell what the reich is cooking",
                  "vilio_proba": 0.7422840876349783,
                  "vilio_label": 1,
                  "baseline_proba": 0.0534704066812992,
                  "baseline_label": 0,
                  "_deepnote_index_column": 25
                },
                {
                  "id": 5279,
                  "img": "img/05279.png",
                  "truth": 1,
                  "text": "knowing white people , that's probably the baby father",
                  "vilio_proba": 0.4128863728989441,
                  "vilio_label": 0,
                  "baseline_proba": 0.9673579335212708,
                  "baseline_label": 1,
                  "_deepnote_index_column": 26
                },
                {
                  "id": 5316,
                  "img": "img/05316.png",
                  "truth": 0,
                  "text": "doing o's with the smoke",
                  "vilio_proba": 0.18246074864757855,
                  "vilio_label": 0,
                  "baseline_proba": 0.0002738553157541,
                  "baseline_label": 0,
                  "_deepnote_index_column": 27
                },
                {
                  "id": 5349,
                  "img": "img/05349.png",
                  "truth": 0,
                  "text": "normal day in a islamic country",
                  "vilio_proba": 0.47127260114724345,
                  "vilio_label": 0,
                  "baseline_proba": 0.78266441822052,
                  "baseline_label": 1,
                  "_deepnote_index_column": 28
                },
                {
                  "id": 5938,
                  "img": "img/05938.png",
                  "truth": 1,
                  "text": "in the muslim world all gay men are well hung",
                  "vilio_proba": 0.10087602093300642,
                  "vilio_label": 0,
                  "baseline_proba": 0.8566374182701111,
                  "baseline_label": 1,
                  "_deepnote_index_column": 29
                },
                {
                  "id": 6123,
                  "img": "img/06123.png",
                  "truth": 1,
                  "text": "a group of men",
                  "vilio_proba": 0.16910492307923347,
                  "vilio_label": 0,
                  "baseline_proba": 0.0201219692826271,
                  "baseline_label": 0,
                  "_deepnote_index_column": 30
                },
                {
                  "id": 6273,
                  "img": "img/06273.png",
                  "truth": 1,
                  "text": "the jihad squad",
                  "vilio_proba": 0.22296404217705376,
                  "vilio_label": 0,
                  "baseline_proba": 0.0031512880232185,
                  "baseline_label": 0,
                  "_deepnote_index_column": 31
                },
                {
                  "id": 6352,
                  "img": "img/06352.png",
                  "truth": 0,
                  "text": "and then i asked mom, can we go play?",
                  "vilio_proba": 0.2377458628520045,
                  "vilio_label": 0,
                  "baseline_proba": 0.0003974216233473,
                  "baseline_label": 0,
                  "_deepnote_index_column": 32
                },
                {
                  "id": 6491,
                  "img": "img/06491.png",
                  "truth": 1,
                  "text": "tranny for sale",
                  "vilio_proba": 0.27832749898583375,
                  "vilio_label": 0,
                  "baseline_proba": 0.9991409778594972,
                  "baseline_label": 1,
                  "_deepnote_index_column": 33
                },
                {
                  "id": 6582,
                  "img": "img/06582.png",
                  "truth": 1,
                  "text": "they are terrorists anyone who doesn't agree is an idiot",
                  "vilio_proba": 0.09144372861911552,
                  "vilio_label": 0,
                  "baseline_proba": 0.6759946346282959,
                  "baseline_label": 1,
                  "_deepnote_index_column": 34
                },
                {
                  "id": 6723,
                  "img": "img/06723.png",
                  "truth": 1,
                  "text": "the hardest part to eat in a vegetable",
                  "vilio_proba": 0.23118522195628147,
                  "vilio_label": 0,
                  "baseline_proba": 0.0004875293816439,
                  "baseline_label": 0,
                  "_deepnote_index_column": 35
                },
                {
                  "id": 7135,
                  "img": "img/07135.png",
                  "truth": 1,
                  "text": "this is the greatest news manufacturing in 20th century",
                  "vilio_proba": 0.8890128370911378,
                  "vilio_label": 1,
                  "baseline_proba": 0.0007085333927534,
                  "baseline_label": 0,
                  "_deepnote_index_column": 36
                },
                {
                  "id": 7198,
                  "img": "img/07198.png",
                  "truth": 1,
                  "text": "islam is a religion of peace stop criticizing my religion",
                  "vilio_proba": 0.2020173329959267,
                  "vilio_label": 0,
                  "baseline_proba": 0.9868454933166504,
                  "baseline_label": 1,
                  "_deepnote_index_column": 37
                },
                {
                  "id": 7351,
                  "img": "img/07351.png",
                  "truth": 0,
                  "text": "\"plays uno steals all the green cards\"",
                  "vilio_proba": 0.7457673617432521,
                  "vilio_label": 1,
                  "baseline_proba": 0.0046547856181859,
                  "baseline_label": 0,
                  "_deepnote_index_column": 38
                },
                {
                  "id": 7382,
                  "img": "img/07382.png",
                  "truth": 1,
                  "text": "wouldn't be the last time those people used the oven this way",
                  "vilio_proba": 0.14738369461137352,
                  "vilio_label": 0,
                  "baseline_proba": 0.0049210181459784,
                  "baseline_label": 0,
                  "_deepnote_index_column": 39
                },
                {
                  "id": 7528,
                  "img": "img/07528.png",
                  "truth": 1,
                  "text": "the latest and greatest. a truck that comes with a dishwasher!",
                  "vilio_proba": 0.3204350271820951,
                  "vilio_label": 0,
                  "baseline_proba": 0.92363703250885,
                  "baseline_label": 1,
                  "_deepnote_index_column": 40
                },
                {
                  "id": 7653,
                  "img": "img/07653.png",
                  "truth": 1,
                  "text": "in the last days there will be god hating scoffers, ridiculers, deniers and mockers following after their own lusts",
                  "vilio_proba": 0.7436318900164481,
                  "vilio_label": 1,
                  "baseline_proba": 0.10770895332098,
                  "baseline_label": 0,
                  "_deepnote_index_column": 41
                },
                {
                  "id": 8291,
                  "img": "img/08291.png",
                  "truth": 1,
                  "text": "white people is this a shooting range",
                  "vilio_proba": 0.12020414021241159,
                  "vilio_label": 0,
                  "baseline_proba": 0.9748093485832214,
                  "baseline_label": 1,
                  "_deepnote_index_column": 42
                },
                {
                  "id": 8451,
                  "img": "img/08451.png",
                  "truth": 0,
                  "text": "when you ask a jewish girl for her number and she starts rolling her sleeve",
                  "vilio_proba": 0.8592617140387865,
                  "vilio_label": 1,
                  "baseline_proba": 0.9984585046768188,
                  "baseline_label": 1,
                  "_deepnote_index_column": 43
                },
                {
                  "id": 8795,
                  "img": "img/08795.png",
                  "truth": 0,
                  "text": "when you are white and working in oil field",
                  "vilio_proba": 0.05360422368874752,
                  "vilio_label": 0,
                  "baseline_proba": 0.93359637260437,
                  "baseline_label": 1,
                  "_deepnote_index_column": 44
                },
                {
                  "id": 9467,
                  "img": "img/09467.png",
                  "truth": 1,
                  "text": "when mom asks where all the jews went",
                  "vilio_proba": 0.10965366539308327,
                  "vilio_label": 0,
                  "baseline_proba": 0.9984909296035768,
                  "baseline_label": 1,
                  "_deepnote_index_column": 45
                },
                {
                  "id": 9863,
                  "img": "img/09863.png",
                  "truth": 0,
                  "text": "diverse group of women",
                  "vilio_proba": 0.44953221578113967,
                  "vilio_label": 0,
                  "baseline_proba": 0.0004674224765039,
                  "baseline_label": 0,
                  "_deepnote_index_column": 46
                },
                {
                  "id": 10285,
                  "img": "img/10285.png",
                  "truth": 1,
                  "text": "you are what you eat meanwhile in africa",
                  "vilio_proba": 0.21499206731068812,
                  "vilio_label": 0,
                  "baseline_proba": 0.0260483492165803,
                  "baseline_label": 0,
                  "_deepnote_index_column": 47
                },
                {
                  "id": 10362,
                  "img": "img/10362.png",
                  "truth": 1,
                  "text": "german british danish austrian diversity. apparently we don't have it and these guys do: iraqi pakistani syrian egyptian",
                  "vilio_proba": 0.12496841725462245,
                  "vilio_label": 0,
                  "baseline_proba": 0.9942575693130492,
                  "baseline_label": 1,
                  "_deepnote_index_column": 48
                },
                {
                  "id": 10749,
                  "img": "img/10749.png",
                  "truth": 1,
                  "text": "my sense of humor is so dark it picks cotton",
                  "vilio_proba": 0.21348712762582012,
                  "vilio_label": 0,
                  "baseline_proba": 0.0338916145265102,
                  "baseline_label": 0,
                  "_deepnote_index_column": 49
                },
                {
                  "id": 10785,
                  "img": "img/10785.png",
                  "truth": 1,
                  "text": "time to put the \"panic\" back in hispanic",
                  "vilio_proba": 0.6647879667057028,
                  "vilio_label": 1,
                  "baseline_proba": 0.0010900512570515,
                  "baseline_label": 0,
                  "_deepnote_index_column": 50
                },
                {
                  "id": 12045,
                  "img": "img/12045.png",
                  "truth": 0,
                  "text": "learn to hunt. it's a valuable skill",
                  "vilio_proba": 0.12842503006134867,
                  "vilio_label": 0,
                  "baseline_proba": 0.0004726066254079,
                  "baseline_label": 0,
                  "_deepnote_index_column": 51
                },
                {
                  "id": 12067,
                  "img": "img/12067.png",
                  "truth": 0,
                  "text": "pre-heat to 350 degrees",
                  "vilio_proba": 0.5409073654441385,
                  "vilio_label": 1,
                  "baseline_proba": 0.9598442912101746,
                  "baseline_label": 1,
                  "_deepnote_index_column": 52
                },
                {
                  "id": 12468,
                  "img": "img/12468.png",
                  "truth": 0,
                  "text": "say it! say it ! islam is the religion of peace",
                  "vilio_proba": 0.0836519601705366,
                  "vilio_label": 0,
                  "baseline_proba": 0.001005177386105,
                  "baseline_label": 0,
                  "_deepnote_index_column": 53
                },
                {
                  "id": 12650,
                  "img": "img/12650.png",
                  "truth": 1,
                  "text": "which one has tranny problems?",
                  "vilio_proba": 0.10445742170240868,
                  "vilio_label": 0,
                  "baseline_proba": 0.9986903071403505,
                  "baseline_label": 1,
                  "_deepnote_index_column": 54
                },
                {
                  "id": 12973,
                  "img": "img/12973.png",
                  "truth": 1,
                  "text": "someone added to much soap to the dishwasher again",
                  "vilio_proba": 0.6365734250524696,
                  "vilio_label": 1,
                  "baseline_proba": 0.0566014312207698,
                  "baseline_label": 0,
                  "_deepnote_index_column": 55
                },
                {
                  "id": 13026,
                  "img": "img/13026.png",
                  "truth": 1,
                  "text": "under the name of multiculturalism we let terrorist into this country",
                  "vilio_proba": 0.3760375824989272,
                  "vilio_label": 0,
                  "baseline_proba": 0.0005812811432406,
                  "baseline_label": 0,
                  "_deepnote_index_column": 56
                },
                {
                  "id": 13647,
                  "img": "img/13647.png",
                  "truth": 1,
                  "text": "she said girls run the world... so i told her get back in the kitchen",
                  "vilio_proba": 0.13177133176363456,
                  "vilio_label": 0,
                  "baseline_proba": 0.010352979414165,
                  "baseline_label": 0,
                  "_deepnote_index_column": 57
                },
                {
                  "id": 13750,
                  "img": "img/13750.png",
                  "truth": 0,
                  "text": "wouldn't be the last time those people used the oven this way",
                  "vilio_proba": 0.4710422582882619,
                  "vilio_label": 0,
                  "baseline_proba": 0.0004461156495381,
                  "baseline_label": 0,
                  "_deepnote_index_column": 58
                },
                {
                  "id": 13809,
                  "img": "img/13809.png",
                  "truth": 1,
                  "text": "doing o's with the smoke",
                  "vilio_proba": 0.949761616366677,
                  "vilio_label": 1,
                  "baseline_proba": 0.0015609657857567,
                  "baseline_label": 0,
                  "_deepnote_index_column": 59
                },
                {
                  "id": 14389,
                  "img": "img/14389.png",
                  "truth": 1,
                  "text": "democrats we're new, bold, and we hate you! alexandria ocasio-cortez rashida tlais ilhan omar ayanna pressley we hate whites, jews, christians, conservatives, republicans",
                  "vilio_proba": 0.14708762172993536,
                  "vilio_label": 0,
                  "baseline_proba": 0.8584777116775513,
                  "baseline_label": 1,
                  "_deepnote_index_column": 60
                },
                {
                  "id": 14865,
                  "img": "img/14865.png",
                  "truth": 0,
                  "text": "terrible as hitler was, he did enjoy watching sports",
                  "vilio_proba": 0.693864456370484,
                  "vilio_label": 1,
                  "baseline_proba": 0.0021526273339986,
                  "baseline_label": 0,
                  "_deepnote_index_column": 61
                }
              ],
              "rows_bottom": [
                {
                  "id": 84150,
                  "img": "img/84150.png",
                  "truth": 0,
                  "text": "when your jewish friend smells a stash of coins in public",
                  "vilio_proba": 0.9623492102043356,
                  "vilio_label": 1,
                  "baseline_proba": 0.1303349137306213,
                  "baseline_label": 0,
                  "_deepnote_index_column": 309
                },
                {
                  "id": 84162,
                  "img": "img/84162.png",
                  "truth": 0,
                  "text": "i could have killed all of them. but i let some of them survive so you know why i killed them",
                  "vilio_proba": 0.2464077882706116,
                  "vilio_label": 0,
                  "baseline_proba": 0.0003114550781901,
                  "baseline_label": 0,
                  "_deepnote_index_column": 310
                },
                {
                  "id": 84302,
                  "img": "img/84302.png",
                  "truth": 0,
                  "text": "why do we share more when these people are hurt but not these people",
                  "vilio_proba": 0.34112883975322866,
                  "vilio_label": 0,
                  "baseline_proba": 0.0013099224306643,
                  "baseline_label": 0,
                  "_deepnote_index_column": 311
                },
                {
                  "id": 84510,
                  "img": "img/84510.png",
                  "truth": 1,
                  "text": "bartender: how about a nice 12 yr old? him: boy or girl?",
                  "vilio_proba": 0.7858149315396942,
                  "vilio_label": 1,
                  "baseline_proba": 0.0456704944372177,
                  "baseline_label": 0,
                  "_deepnote_index_column": 312
                },
                {
                  "id": 84762,
                  "img": "img/84762.png",
                  "truth": 1,
                  "text": "do you know how to turn your dishwasher into a snowblower? throw em a shovel",
                  "vilio_proba": 0.10248721761231992,
                  "vilio_label": 0,
                  "baseline_proba": 0.9946393370628356,
                  "baseline_label": 1,
                  "_deepnote_index_column": 313
                },
                {
                  "id": 85621,
                  "img": "img/85621.png",
                  "truth": 0,
                  "text": "no, that's not his daughter... that's his wife! yet the world is silent..",
                  "vilio_proba": 0.4271981938453481,
                  "vilio_label": 0,
                  "baseline_proba": 0.275469571352005,
                  "baseline_label": 0,
                  "_deepnote_index_column": 314
                },
                {
                  "id": 85679,
                  "img": "img/85679.png",
                  "truth": 1,
                  "text": "mr obama it is an honor",
                  "vilio_proba": 0.1050604914489436,
                  "vilio_label": 0,
                  "baseline_proba": 0.3282284736633301,
                  "baseline_label": 0,
                  "_deepnote_index_column": 315
                },
                {
                  "id": 85761,
                  "img": "img/85761.png",
                  "truth": 1,
                  "text": "no wonder why the pipes are not working",
                  "vilio_proba": 0.134933640755102,
                  "vilio_label": 0,
                  "baseline_proba": 0.0004295940743759,
                  "baseline_label": 0,
                  "_deepnote_index_column": 316
                },
                {
                  "id": 86170,
                  "img": "img/86170.png",
                  "truth": 1,
                  "text": "how to keep the thefts out",
                  "vilio_proba": 0.11603938987030354,
                  "vilio_label": 0,
                  "baseline_proba": 0.9877166152000428,
                  "baseline_label": 1,
                  "_deepnote_index_column": 317
                },
                {
                  "id": 86195,
                  "img": "img/86195.png",
                  "truth": 0,
                  "text": "dolled up and rolling with the gang like",
                  "vilio_proba": 0.8942930622846138,
                  "vilio_label": 1,
                  "baseline_proba": 0.0024568219669163,
                  "baseline_label": 0,
                  "_deepnote_index_column": 318
                },
                {
                  "id": 86357,
                  "img": "img/86357.png",
                  "truth": 0,
                  "text": "apparently not erdogan",
                  "vilio_proba": 0.19797411750035354,
                  "vilio_label": 0,
                  "baseline_proba": 0.0165928360074758,
                  "baseline_label": 0,
                  "_deepnote_index_column": 319
                },
                {
                  "id": 86417,
                  "img": "img/86417.png",
                  "truth": 1,
                  "text": "i could have killed all of them. but i let some of them survive so you know why i killed them",
                  "vilio_proba": 0.13966044799281568,
                  "vilio_label": 0,
                  "baseline_proba": 0.0527688227593898,
                  "baseline_label": 0,
                  "_deepnote_index_column": 320
                },
                {
                  "id": 87130,
                  "img": "img/87130.png",
                  "truth": 1,
                  "text": "finally finding the right tutorial you need indian accent",
                  "vilio_proba": 0.10565215071862029,
                  "vilio_label": 0,
                  "baseline_proba": 0.6119992136955261,
                  "baseline_label": 1,
                  "_deepnote_index_column": 321
                },
                {
                  "id": 87169,
                  "img": "img/87169.png",
                  "truth": 1,
                  "text": "albanians talking photo with a porn star",
                  "vilio_proba": 0.2751230174222749,
                  "vilio_label": 0,
                  "baseline_proba": 0.0010644870344549,
                  "baseline_label": 0,
                  "_deepnote_index_column": 322
                },
                {
                  "id": 87251,
                  "img": "img/87251.png",
                  "truth": 0,
                  "text": "i love apes they are both ugly and cute",
                  "vilio_proba": 0.8188836212540958,
                  "vilio_label": 1,
                  "baseline_proba": 0.0013778420398011,
                  "baseline_label": 0,
                  "_deepnote_index_column": 323
                },
                {
                  "id": 87520,
                  "img": "img/87520.png",
                  "truth": 1,
                  "text": "yes, we know trump said \"mexico will pay for the wall\" but now mexicans are the wall. that boy good!!!!",
                  "vilio_proba": 0.11857072701032659,
                  "vilio_label": 0,
                  "baseline_proba": 0.0029111981857568,
                  "baseline_label": 0,
                  "_deepnote_index_column": 324
                },
                {
                  "id": 89071,
                  "img": "img/89071.png",
                  "truth": 1,
                  "text": "they don't wash their ass with water and they eat their daughters' ass",
                  "vilio_proba": 0.4943500596312898,
                  "vilio_label": 0,
                  "baseline_proba": 0.2307606488466262,
                  "baseline_label": 0,
                  "_deepnote_index_column": 325
                },
                {
                  "id": 89536,
                  "img": "img/89536.png",
                  "truth": 0,
                  "text": "so many lives lost because of this man",
                  "vilio_proba": 0.13212985268121055,
                  "vilio_label": 0,
                  "baseline_proba": 0.0006301854737102,
                  "baseline_label": 0,
                  "_deepnote_index_column": 326
                },
                {
                  "id": 89642,
                  "img": "img/89642.png",
                  "truth": 1,
                  "text": "i treat them like java treats its generic parameters at run time as objects",
                  "vilio_proba": 0.10391379257950663,
                  "vilio_label": 0,
                  "baseline_proba": 0.0822950974106788,
                  "baseline_label": 0,
                  "_deepnote_index_column": 327
                },
                {
                  "id": 90243,
                  "img": "img/90243.png",
                  "truth": 1,
                  "text": "best gamer ever 6 million kills, 1 death",
                  "vilio_proba": 0.31330225062761563,
                  "vilio_label": 0,
                  "baseline_proba": 0.4559054672718048,
                  "baseline_label": 0,
                  "_deepnote_index_column": 328
                },
                {
                  "id": 90267,
                  "img": "img/90267.png",
                  "truth": 0,
                  "text": "i've been driving this baby for years the mileage isn't great but still gets the job done",
                  "vilio_proba": 0.3658475542994226,
                  "vilio_label": 0,
                  "baseline_proba": 0.0006206254474818,
                  "baseline_label": 0,
                  "_deepnote_index_column": 329
                },
                {
                  "id": 90643,
                  "img": "img/90643.png",
                  "truth": 0,
                  "text": "she represents the new wave of democrats",
                  "vilio_proba": 0.11782524743633822,
                  "vilio_label": 0,
                  "baseline_proba": 0.0001482317165937,
                  "baseline_label": 0,
                  "_deepnote_index_column": 330
                },
                {
                  "id": 90843,
                  "img": "img/90843.png",
                  "truth": 0,
                  "text": "time to put the \"panic\" back in hispanic",
                  "vilio_proba": 0.880397167839053,
                  "vilio_label": 1,
                  "baseline_proba": 0.0077020144090056,
                  "baseline_label": 0,
                  "_deepnote_index_column": 331
                },
                {
                  "id": 91586,
                  "img": "img/91586.png",
                  "truth": 1,
                  "text": "left the kitchen too many times",
                  "vilio_proba": 0.302562369862455,
                  "vilio_label": 0,
                  "baseline_proba": 0.0001518144272267,
                  "baseline_label": 0,
                  "_deepnote_index_column": 332
                },
                {
                  "id": 91602,
                  "img": "img/91602.png",
                  "truth": 0,
                  "text": "upper downer",
                  "vilio_proba": 0.17607788170364536,
                  "vilio_label": 0,
                  "baseline_proba": 0.0009958256268873,
                  "baseline_label": 0,
                  "_deepnote_index_column": 333
                },
                {
                  "id": 91756,
                  "img": "img/91756.png",
                  "truth": 1,
                  "text": "abnormal vs normal",
                  "vilio_proba": 0.2914941462681216,
                  "vilio_label": 0,
                  "baseline_proba": 0.0022523270454257,
                  "baseline_label": 0,
                  "_deepnote_index_column": 334
                },
                {
                  "id": 91763,
                  "img": "img/91763.png",
                  "truth": 1,
                  "text": "imagine being so disgusting there have to be laws to try to stop normal people from hating you",
                  "vilio_proba": 0.5373736557504932,
                  "vilio_label": 1,
                  "baseline_proba": 0.012340516783297,
                  "baseline_label": 0,
                  "_deepnote_index_column": 335
                },
                {
                  "id": 92046,
                  "img": "img/92046.png",
                  "truth": 0,
                  "text": "they are terrorists anyone who doesn't agree is an idiot",
                  "vilio_proba": 0.28410057127471333,
                  "vilio_label": 0,
                  "baseline_proba": 0.9549845457077026,
                  "baseline_label": 1,
                  "_deepnote_index_column": 336
                },
                {
                  "id": 92058,
                  "img": "img/92058.png",
                  "truth": 1,
                  "text": "how black people became christians",
                  "vilio_proba": 0.2259671671538348,
                  "vilio_label": 0,
                  "baseline_proba": 0.9863152503967284,
                  "baseline_label": 1,
                  "_deepnote_index_column": 337
                },
                {
                  "id": 92068,
                  "img": "img/92068.png",
                  "truth": 0,
                  "text": "still better than mexican",
                  "vilio_proba": 0.010795574024431947,
                  "vilio_label": 0,
                  "baseline_proba": 0.0006159689510241,
                  "baseline_label": 0,
                  "_deepnote_index_column": 338
                },
                {
                  "id": 92317,
                  "img": "img/92317.png",
                  "truth": 0,
                  "text": "you either die a hero, or live long enough to become the villain",
                  "vilio_proba": 0.5053475811597441,
                  "vilio_label": 1,
                  "baseline_proba": 0.0012036320986226,
                  "baseline_label": 0,
                  "_deepnote_index_column": 339
                },
                {
                  "id": 92567,
                  "img": "img/92567.png",
                  "truth": 0,
                  "text": "pray for peace pray for wellbeing",
                  "vilio_proba": 0.25199522900542065,
                  "vilio_label": 0,
                  "baseline_proba": 0.9596760272979736,
                  "baseline_label": 1,
                  "_deepnote_index_column": 340
                },
                {
                  "id": 92738,
                  "img": "img/92738.png",
                  "truth": 1,
                  "text": "they are the best in basketball because they can steal, shoot and run",
                  "vilio_proba": 0.7325516167318908,
                  "vilio_label": 1,
                  "baseline_proba": 0.0357218496501445,
                  "baseline_label": 0,
                  "_deepnote_index_column": 341
                },
                {
                  "id": 93041,
                  "img": "img/93041.png",
                  "truth": 0,
                  "text": "\"who's gonna make the sandwiches? what do we do with all these sandwiches?\"",
                  "vilio_proba": 0.11943848345583083,
                  "vilio_label": 0,
                  "baseline_proba": 0.0005771635333076,
                  "baseline_label": 0,
                  "_deepnote_index_column": 342
                },
                {
                  "id": 93051,
                  "img": "img/93051.png",
                  "truth": 0,
                  "text": "and for my next class project!",
                  "vilio_proba": 0.06211154992251693,
                  "vilio_label": 0,
                  "baseline_proba": 0.0012019168352708,
                  "baseline_label": 0,
                  "_deepnote_index_column": 343
                },
                {
                  "id": 93148,
                  "img": "img/93148.png",
                  "truth": 0,
                  "text": "the proper way to pop a blackhead",
                  "vilio_proba": 0.9186464204380766,
                  "vilio_label": 1,
                  "baseline_proba": 0.7273094654083252,
                  "baseline_label": 1,
                  "_deepnote_index_column": 344
                },
                {
                  "id": 93528,
                  "img": "img/93528.png",
                  "truth": 1,
                  "text": "portable dishwasher slash sandwich maker",
                  "vilio_proba": 0.7129871305546074,
                  "vilio_label": 1,
                  "baseline_proba": 0.3334592878818512,
                  "baseline_label": 0,
                  "_deepnote_index_column": 345
                },
                {
                  "id": 93541,
                  "img": "img/93541.png",
                  "truth": 0,
                  "text": "the jihad squad",
                  "vilio_proba": 0.2960352623686327,
                  "vilio_label": 0,
                  "baseline_proba": 0.0385879948735237,
                  "baseline_label": 0,
                  "_deepnote_index_column": 346
                },
                {
                  "id": 93620,
                  "img": "img/93620.png",
                  "truth": 1,
                  "text": "in other countries in pakistan",
                  "vilio_proba": 0.15677993237371074,
                  "vilio_label": 0,
                  "baseline_proba": 0.0708740800619125,
                  "baseline_label": 0,
                  "_deepnote_index_column": 347
                },
                {
                  "id": 94185,
                  "img": "img/94185.png",
                  "truth": 1,
                  "text": "how a black woman can fight crime",
                  "vilio_proba": 0.17489265650407607,
                  "vilio_label": 0,
                  "baseline_proba": 0.9264307618141174,
                  "baseline_label": 1,
                  "_deepnote_index_column": 348
                },
                {
                  "id": 94387,
                  "img": "img/94387.png",
                  "truth": 0,
                  "text": "i'm a fan of the color black on you although the rose gold looks pretty good as well",
                  "vilio_proba": 0.727078178798654,
                  "vilio_label": 1,
                  "baseline_proba": 0.4079592823982239,
                  "baseline_label": 0,
                  "_deepnote_index_column": 349
                },
                {
                  "id": 94560,
                  "img": "img/94560.png",
                  "truth": 1,
                  "text": "and for my next class project!",
                  "vilio_proba": 0.12190554943873637,
                  "vilio_label": 0,
                  "baseline_proba": 0.000986595172435,
                  "baseline_label": 0,
                  "_deepnote_index_column": 350
                },
                {
                  "id": 94738,
                  "img": "img/94738.png",
                  "truth": 0,
                  "text": "shopping is boring. why not have some fun at the walmart parking lot?",
                  "vilio_proba": 0.08904613779633883,
                  "vilio_label": 0,
                  "baseline_proba": 0.0098933679983019,
                  "baseline_label": 0,
                  "_deepnote_index_column": 351
                },
                {
                  "id": 94813,
                  "img": "img/94813.png",
                  "truth": 0,
                  "text": "thats the way allah allah i like it!!!",
                  "vilio_proba": 0.2516946499192973,
                  "vilio_label": 0,
                  "baseline_proba": 0.0023648659698665,
                  "baseline_label": 0,
                  "_deepnote_index_column": 352
                },
                {
                  "id": 95173,
                  "img": "img/95173.png",
                  "truth": 0,
                  "text": "take the third reich and then the first left?",
                  "vilio_proba": 0.5696617327279878,
                  "vilio_label": 1,
                  "baseline_proba": 0.0011891757603734,
                  "baseline_label": 0,
                  "_deepnote_index_column": 353
                },
                {
                  "id": 95487,
                  "img": "img/95487.png",
                  "truth": 0,
                  "text": "watching vegetables grow",
                  "vilio_proba": 0.5593262719320472,
                  "vilio_label": 1,
                  "baseline_proba": 0.0003033733810298,
                  "baseline_label": 0,
                  "_deepnote_index_column": 354
                },
                {
                  "id": 95604,
                  "img": "img/95604.png",
                  "truth": 1,
                  "text": "they want to be accepted for who they are, yet theren't able to accept themselves for who they are",
                  "vilio_proba": 0.5053051555129076,
                  "vilio_label": 1,
                  "baseline_proba": 0.0007337745628319,
                  "baseline_label": 0,
                  "_deepnote_index_column": 355
                },
                {
                  "id": 95613,
                  "img": "img/95613.png",
                  "truth": 1,
                  "text": "what a weird way to spell fat and single",
                  "vilio_proba": 0.21921641061268318,
                  "vilio_label": 0,
                  "baseline_proba": 0.990125060081482,
                  "baseline_label": 1,
                  "_deepnote_index_column": 356
                },
                {
                  "id": 95640,
                  "img": "img/95640.png",
                  "truth": 1,
                  "text": "syrian rape survivor speaks out",
                  "vilio_proba": 0.2219997758003463,
                  "vilio_label": 0,
                  "baseline_proba": 0.053609125316143,
                  "baseline_label": 0,
                  "_deepnote_index_column": 357
                },
                {
                  "id": 95830,
                  "img": "img/95830.png",
                  "truth": 1,
                  "text": "face of terrorism in us",
                  "vilio_proba": 0.09283626871863684,
                  "vilio_label": 0,
                  "baseline_proba": 0.0874660387635231,
                  "baseline_label": 0,
                  "_deepnote_index_column": 358
                },
                {
                  "id": 96180,
                  "img": "img/96180.png",
                  "truth": 1,
                  "text": "putting bows on your pet",
                  "vilio_proba": 0.7360915599267828,
                  "vilio_label": 1,
                  "baseline_proba": 0.9949733018875122,
                  "baseline_label": 1,
                  "_deepnote_index_column": 359
                },
                {
                  "id": 96250,
                  "img": "img/96250.png",
                  "truth": 0,
                  "text": "i'm going home i'm russian",
                  "vilio_proba": 0.07263918413183822,
                  "vilio_label": 0,
                  "baseline_proba": 0.0083354702219367,
                  "baseline_label": 0,
                  "_deepnote_index_column": 360
                },
                {
                  "id": 96284,
                  "img": "img/96284.png",
                  "truth": 1,
                  "text": "welcome to melbourne",
                  "vilio_proba": 0.569864747814309,
                  "vilio_label": 1,
                  "baseline_proba": 0.0880183726549148,
                  "baseline_label": 0,
                  "_deepnote_index_column": 361
                },
                {
                  "id": 96312,
                  "img": "img/96312.png",
                  "truth": 0,
                  "text": "when you support your little one every step of the way",
                  "vilio_proba": 0.701752562757721,
                  "vilio_label": 1,
                  "baseline_proba": 0.000296286860248,
                  "baseline_label": 0,
                  "_deepnote_index_column": 362
                },
                {
                  "id": 96472,
                  "img": "img/96472.png",
                  "truth": 1,
                  "text": "white power!",
                  "vilio_proba": 0.10551314634356242,
                  "vilio_label": 0,
                  "baseline_proba": 0.9768988490104676,
                  "baseline_label": 1,
                  "_deepnote_index_column": 363
                },
                {
                  "id": 97132,
                  "img": "img/97132.png",
                  "truth": 0,
                  "text": "in the muslim world all gay men are well hung",
                  "vilio_proba": 0.16645581527237993,
                  "vilio_label": 0,
                  "baseline_proba": 0.9966657757759094,
                  "baseline_label": 1,
                  "_deepnote_index_column": 364
                },
                {
                  "id": 97305,
                  "img": "img/97305.png",
                  "truth": 1,
                  "text": "when your wife just died giving birth to your daughter and you're alone in the room with your naked just born daughter",
                  "vilio_proba": 0.4345765127928646,
                  "vilio_label": 0,
                  "baseline_proba": 0.9855976700782776,
                  "baseline_label": 1,
                  "_deepnote_index_column": 365
                },
                {
                  "id": 97320,
                  "img": "img/97320.png",
                  "truth": 0,
                  "text": "\"when your dishwasher is broken so you take it back to walmart to get a new one\"",
                  "vilio_proba": 0.6668458353960973,
                  "vilio_label": 1,
                  "baseline_proba": 0.0004163712146691,
                  "baseline_label": 0,
                  "_deepnote_index_column": 366
                },
                {
                  "id": 97453,
                  "img": "img/97453.png",
                  "truth": 0,
                  "text": "potato is my favorite color of the alphabet",
                  "vilio_proba": 0.13849775381667195,
                  "vilio_label": 0,
                  "baseline_proba": 0.0021824112627655,
                  "baseline_label": 0,
                  "_deepnote_index_column": 367
                },
                {
                  "id": 98235,
                  "img": "img/98235.png",
                  "truth": 0,
                  "text": "fashion forward !",
                  "vilio_proba": 0.013069472722748993,
                  "vilio_label": 0,
                  "baseline_proba": 0.0170901380479335,
                  "baseline_label": 0,
                  "_deepnote_index_column": 368
                },
                {
                  "id": 98543,
                  "img": "img/98543.png",
                  "truth": 1,
                  "text": "upper downer",
                  "vilio_proba": 0.7161285363092382,
                  "vilio_label": 1,
                  "baseline_proba": 0.957241714000702,
                  "baseline_label": 1,
                  "_deepnote_index_column": 369
                },
                {
                  "id": 98701,
                  "img": "img/98701.png",
                  "truth": 1,
                  "text": "oh no i can't steal anymore",
                  "vilio_proba": 0.09302833033686302,
                  "vilio_label": 0,
                  "baseline_proba": 0.0008203330216929,
                  "baseline_label": 0,
                  "_deepnote_index_column": 370
                },
                {
                  "id": 98720,
                  "img": "img/98720.png",
                  "truth": 0,
                  "text": "when your wife just died giving birth to your daughter and you're alone in the room with your naked just born daughter",
                  "vilio_proba": 0.32313256071857754,
                  "vilio_label": 0,
                  "baseline_proba": 0.4984774589538574,
                  "baseline_label": 0,
                  "_deepnote_index_column": 371
                }
              ]
            },
            "text/plain": "        id            img  truth  \\\n0     1268  img/01268.png      0   \n1     1456  img/01456.png      1   \n2     1726  img/01726.png      1   \n3     1796  img/01796.png      1   \n4     1925  img/01925.png      1   \n..     ...            ...    ...   \n367  97453  img/97453.png      0   \n368  98235  img/98235.png      0   \n369  98543  img/98543.png      1   \n370  98701  img/98701.png      1   \n371  98720  img/98720.png      0   \n\n                                                  text  vilio_proba  \\\n0    father and daughter bonding time is the best l...     0.659967   \n1              they see them rollin..... they hating..     0.768284   \n2          a real man loads the dishwasher every night     0.909551   \n3         life hack #23 how to get stoned with no weed     0.160565   \n4        i am not racist i just don't like brown sugar     0.183132   \n..                                                 ...          ...   \n367        potato is my favorite color of the alphabet     0.138498   \n368                                  fashion forward !     0.013069   \n369                                       upper downer     0.716129   \n370                        oh no i can't steal anymore     0.093028   \n371  when your wife just died giving birth to your ...     0.323133   \n\n     vilio_label  baseline_proba  baseline_label  \n0              1        0.000417               0  \n1              1        0.100073               0  \n2              1        0.837024               1  \n3              0        0.269773               0  \n4              0        0.000957               0  \n..           ...             ...             ...  \n367            0        0.002182               0  \n368            0        0.017090               0  \n369            1        0.957242               1  \n370            0        0.000820               0  \n371            0        0.498477               0  \n\n[372 rows x 8 columns]",
            "text/html": "<div>\n<style scoped>\n    .dataframe tbody tr th:only-of-type {\n        vertical-align: middle;\n    }\n\n    .dataframe tbody tr th {\n        vertical-align: top;\n    }\n\n    .dataframe thead th {\n        text-align: right;\n    }\n</style>\n<table border=\"1\" class=\"dataframe\">\n  <thead>\n    <tr style=\"text-align: right;\">\n      <th></th>\n      <th>id</th>\n      <th>img</th>\n      <th>truth</th>\n      <th>text</th>\n      <th>vilio_proba</th>\n      <th>vilio_label</th>\n      <th>baseline_proba</th>\n      <th>baseline_label</th>\n    </tr>\n  </thead>\n  <tbody>\n    <tr>\n      <th>0</th>\n      <td>1268</td>\n      <td>img/01268.png</td>\n      <td>0</td>\n      <td>father and daughter bonding time is the best l...</td>\n      <td>0.659967</td>\n      <td>1</td>\n      <td>0.000417</td>\n      <td>0</td>\n    </tr>\n    <tr>\n      <th>1</th>\n      <td>1456</td>\n      <td>img/01456.png</td>\n      <td>1</td>\n      <td>they see them rollin..... they hating..</td>\n      <td>0.768284</td>\n      <td>1</td>\n      <td>0.100073</td>\n      <td>0</td>\n    </tr>\n    <tr>\n      <th>2</th>\n      <td>1726</td>\n      <td>img/01726.png</td>\n      <td>1</td>\n      <td>a real man loads the dishwasher every night</td>\n      <td>0.909551</td>\n      <td>1</td>\n      <td>0.837024</td>\n      <td>1</td>\n    </tr>\n    <tr>\n      <th>3</th>\n      <td>1796</td>\n      <td>img/01796.png</td>\n      <td>1</td>\n      <td>life hack #23 how to get stoned with no weed</td>\n      <td>0.160565</td>\n      <td>0</td>\n      <td>0.269773</td>\n      <td>0</td>\n    </tr>\n    <tr>\n      <th>4</th>\n      <td>1925</td>\n      <td>img/01925.png</td>\n      <td>1</td>\n      <td>i am not racist i just don't like brown sugar</td>\n      <td>0.183132</td>\n      <td>0</td>\n      <td>0.000957</td>\n      <td>0</td>\n    </tr>\n    <tr>\n      <th>...</th>\n      <td>...</td>\n      <td>...</td>\n      <td>...</td>\n      <td>...</td>\n      <td>...</td>\n      <td>...</td>\n      <td>...</td>\n      <td>...</td>\n    </tr>\n    <tr>\n      <th>367</th>\n      <td>97453</td>\n      <td>img/97453.png</td>\n      <td>0</td>\n      <td>potato is my favorite color of the alphabet</td>\n      <td>0.138498</td>\n      <td>0</td>\n      <td>0.002182</td>\n      <td>0</td>\n    </tr>\n    <tr>\n      <th>368</th>\n      <td>98235</td>\n      <td>img/98235.png</td>\n      <td>0</td>\n      <td>fashion forward !</td>\n      <td>0.013069</td>\n      <td>0</td>\n      <td>0.017090</td>\n      <td>0</td>\n    </tr>\n    <tr>\n      <th>369</th>\n      <td>98543</td>\n      <td>img/98543.png</td>\n      <td>1</td>\n      <td>upper downer</td>\n      <td>0.716129</td>\n      <td>1</td>\n      <td>0.957242</td>\n      <td>1</td>\n    </tr>\n    <tr>\n      <th>370</th>\n      <td>98701</td>\n      <td>img/98701.png</td>\n      <td>1</td>\n      <td>oh no i can't steal anymore</td>\n      <td>0.093028</td>\n      <td>0</td>\n      <td>0.000820</td>\n      <td>0</td>\n    </tr>\n    <tr>\n      <th>371</th>\n      <td>98720</td>\n      <td>img/98720.png</td>\n      <td>0</td>\n      <td>when your wife just died giving birth to your ...</td>\n      <td>0.323133</td>\n      <td>0</td>\n      <td>0.498477</td>\n      <td>0</td>\n    </tr>\n  </tbody>\n</table>\n<p>372 rows × 8 columns</p>\n</div>"
          },
          "metadata": {}
        }
      ],
      "execution_count": null
    },
    {
      "cell_type": "code",
      "metadata": {
        "tags": [],
        "cell_id": "00006-9dbd74b7-c1da-422f-b6d7-0fd786af1901",
        "deepnote_to_be_reexecuted": false,
        "source_hash": "2b1c5271",
        "execution_millis": 54,
        "execution_start": 1618666838563,
        "deepnote_cell_type": "code"
      },
      "source": "vil_true = dev_vil_base.loc[dev_vil_base['truth'] == dev_vil_base['vilio_label']]\nvil_true[vil_true['truth'] == vil_true['baseline_label']]",
      "outputs": [
        {
          "output_type": "execute_result",
          "execution_count": 434,
          "data": {
            "application/vnd.deepnote.dataframe.v2+json": {
              "row_count": 123,
              "column_count": 8,
              "columns": [
                {
                  "name": "id",
                  "dtype": "int64",
                  "stats": {
                    "unique_count": 123,
                    "nan_count": 0,
                    "min": "1726",
                    "max": "98720",
                    "histogram": [
                      {
                        "bin_start": 1726,
                        "bin_end": 11425.4,
                        "count": 12
                      },
                      {
                        "bin_start": 11425.4,
                        "bin_end": 21124.8,
                        "count": 16
                      },
                      {
                        "bin_start": 21124.8,
                        "bin_end": 30824.199999999997,
                        "count": 6
                      },
                      {
                        "bin_start": 30824.199999999997,
                        "bin_end": 40523.6,
                        "count": 8
                      },
                      {
                        "bin_start": 40523.6,
                        "bin_end": 50223,
                        "count": 13
                      },
                      {
                        "bin_start": 50223,
                        "bin_end": 59922.399999999994,
                        "count": 15
                      },
                      {
                        "bin_start": 59922.399999999994,
                        "bin_end": 69621.8,
                        "count": 14
                      },
                      {
                        "bin_start": 69621.8,
                        "bin_end": 79321.2,
                        "count": 14
                      },
                      {
                        "bin_start": 79321.2,
                        "bin_end": 89020.59999999999,
                        "count": 9
                      },
                      {
                        "bin_start": 89020.59999999999,
                        "bin_end": 98720,
                        "count": 16
                      }
                    ]
                  }
                },
                {
                  "name": "img",
                  "dtype": "object",
                  "stats": {
                    "unique_count": 123,
                    "nan_count": 0,
                    "categories": [
                      {
                        "name": "img/01726.png",
                        "count": 1
                      },
                      {
                        "name": "img/01967.png",
                        "count": 1
                      },
                      {
                        "name": "121 others",
                        "count": 121
                      }
                    ]
                  }
                },
                {
                  "name": "truth",
                  "dtype": "int64",
                  "stats": {
                    "unique_count": 2,
                    "nan_count": 0,
                    "min": "0",
                    "max": "1",
                    "histogram": [
                      {
                        "bin_start": 0,
                        "bin_end": 0.1,
                        "count": 112
                      },
                      {
                        "bin_start": 0.1,
                        "bin_end": 0.2,
                        "count": 0
                      },
                      {
                        "bin_start": 0.2,
                        "bin_end": 0.30000000000000004,
                        "count": 0
                      },
                      {
                        "bin_start": 0.30000000000000004,
                        "bin_end": 0.4,
                        "count": 0
                      },
                      {
                        "bin_start": 0.4,
                        "bin_end": 0.5,
                        "count": 0
                      },
                      {
                        "bin_start": 0.5,
                        "bin_end": 0.6000000000000001,
                        "count": 0
                      },
                      {
                        "bin_start": 0.6000000000000001,
                        "bin_end": 0.7000000000000001,
                        "count": 0
                      },
                      {
                        "bin_start": 0.7000000000000001,
                        "bin_end": 0.8,
                        "count": 0
                      },
                      {
                        "bin_start": 0.8,
                        "bin_end": 0.9,
                        "count": 0
                      },
                      {
                        "bin_start": 0.9,
                        "bin_end": 1,
                        "count": 11
                      }
                    ]
                  }
                },
                {
                  "name": "text",
                  "dtype": "object",
                  "stats": {
                    "unique_count": 119,
                    "nan_count": 0,
                    "categories": [
                      {
                        "name": "a real man loads the dishwasher every night",
                        "count": 2
                      },
                      {
                        "name": "and just like that... this sandwich maker doubles as an ironing board",
                        "count": 2
                      },
                      {
                        "name": "117 others",
                        "count": 119
                      }
                    ]
                  }
                },
                {
                  "name": "vilio_proba",
                  "dtype": "float64",
                  "stats": {
                    "unique_count": 123,
                    "nan_count": 0,
                    "min": "0.010795574024431947",
                    "max": "0.9246813145215292",
                    "histogram": [
                      {
                        "bin_start": 0.010795574024431947,
                        "bin_end": 0.10218414807414167,
                        "count": 23
                      },
                      {
                        "bin_start": 0.10218414807414167,
                        "bin_end": 0.1935727221238514,
                        "count": 40
                      },
                      {
                        "bin_start": 0.1935727221238514,
                        "bin_end": 0.2849612961735611,
                        "count": 20
                      },
                      {
                        "bin_start": 0.2849612961735611,
                        "bin_end": 0.3763498702232708,
                        "count": 12
                      },
                      {
                        "bin_start": 0.3763498702232708,
                        "bin_end": 0.46773844427298056,
                        "count": 13
                      },
                      {
                        "bin_start": 0.46773844427298056,
                        "bin_end": 0.5591270183226903,
                        "count": 5
                      },
                      {
                        "bin_start": 0.5591270183226903,
                        "bin_end": 0.6505155923724001,
                        "count": 1
                      },
                      {
                        "bin_start": 0.6505155923724001,
                        "bin_end": 0.7419041664221098,
                        "count": 4
                      },
                      {
                        "bin_start": 0.7419041664221098,
                        "bin_end": 0.8332927404718194,
                        "count": 2
                      },
                      {
                        "bin_start": 0.8332927404718194,
                        "bin_end": 0.9246813145215292,
                        "count": 3
                      }
                    ]
                  }
                },
                {
                  "name": "vilio_label",
                  "dtype": "int64",
                  "stats": {
                    "unique_count": 2,
                    "nan_count": 0,
                    "min": "0",
                    "max": "1",
                    "histogram": [
                      {
                        "bin_start": 0,
                        "bin_end": 0.1,
                        "count": 112
                      },
                      {
                        "bin_start": 0.1,
                        "bin_end": 0.2,
                        "count": 0
                      },
                      {
                        "bin_start": 0.2,
                        "bin_end": 0.30000000000000004,
                        "count": 0
                      },
                      {
                        "bin_start": 0.30000000000000004,
                        "bin_end": 0.4,
                        "count": 0
                      },
                      {
                        "bin_start": 0.4,
                        "bin_end": 0.5,
                        "count": 0
                      },
                      {
                        "bin_start": 0.5,
                        "bin_end": 0.6000000000000001,
                        "count": 0
                      },
                      {
                        "bin_start": 0.6000000000000001,
                        "bin_end": 0.7000000000000001,
                        "count": 0
                      },
                      {
                        "bin_start": 0.7000000000000001,
                        "bin_end": 0.8,
                        "count": 0
                      },
                      {
                        "bin_start": 0.8,
                        "bin_end": 0.9,
                        "count": 0
                      },
                      {
                        "bin_start": 0.9,
                        "bin_end": 1,
                        "count": 11
                      }
                    ]
                  }
                },
                {
                  "name": "baseline_proba",
                  "dtype": "float64",
                  "stats": {
                    "unique_count": 123,
                    "nan_count": 0,
                    "min": "0.0001271477522095",
                    "max": "0.998500108718872",
                    "histogram": [
                      {
                        "bin_start": 0.0001271477522095,
                        "bin_end": 0.09996444384887575,
                        "count": 108
                      },
                      {
                        "bin_start": 0.09996444384887575,
                        "bin_end": 0.199801739945542,
                        "count": 1
                      },
                      {
                        "bin_start": 0.199801739945542,
                        "bin_end": 0.29963903604220826,
                        "count": 1
                      },
                      {
                        "bin_start": 0.29963903604220826,
                        "bin_end": 0.3994763321388745,
                        "count": 1
                      },
                      {
                        "bin_start": 0.3994763321388745,
                        "bin_end": 0.49931362823554076,
                        "count": 1
                      },
                      {
                        "bin_start": 0.49931362823554076,
                        "bin_end": 0.599150924332207,
                        "count": 0
                      },
                      {
                        "bin_start": 0.599150924332207,
                        "bin_end": 0.6989882204288732,
                        "count": 0
                      },
                      {
                        "bin_start": 0.6989882204288732,
                        "bin_end": 0.7988255165255395,
                        "count": 0
                      },
                      {
                        "bin_start": 0.7988255165255395,
                        "bin_end": 0.8986628126222057,
                        "count": 3
                      },
                      {
                        "bin_start": 0.8986628126222057,
                        "bin_end": 0.998500108718872,
                        "count": 8
                      }
                    ]
                  }
                },
                {
                  "name": "baseline_label",
                  "dtype": "int64",
                  "stats": {
                    "unique_count": 2,
                    "nan_count": 0,
                    "min": "0",
                    "max": "1",
                    "histogram": [
                      {
                        "bin_start": 0,
                        "bin_end": 0.1,
                        "count": 112
                      },
                      {
                        "bin_start": 0.1,
                        "bin_end": 0.2,
                        "count": 0
                      },
                      {
                        "bin_start": 0.2,
                        "bin_end": 0.30000000000000004,
                        "count": 0
                      },
                      {
                        "bin_start": 0.30000000000000004,
                        "bin_end": 0.4,
                        "count": 0
                      },
                      {
                        "bin_start": 0.4,
                        "bin_end": 0.5,
                        "count": 0
                      },
                      {
                        "bin_start": 0.5,
                        "bin_end": 0.6000000000000001,
                        "count": 0
                      },
                      {
                        "bin_start": 0.6000000000000001,
                        "bin_end": 0.7000000000000001,
                        "count": 0
                      },
                      {
                        "bin_start": 0.7000000000000001,
                        "bin_end": 0.8,
                        "count": 0
                      },
                      {
                        "bin_start": 0.8,
                        "bin_end": 0.9,
                        "count": 0
                      },
                      {
                        "bin_start": 0.9,
                        "bin_end": 1,
                        "count": 11
                      }
                    ]
                  }
                },
                {
                  "name": "_deepnote_index_column",
                  "dtype": "int64"
                }
              ],
              "rows_top": [
                {
                  "id": 1726,
                  "img": "img/01726.png",
                  "truth": 1,
                  "text": "a real man loads the dishwasher every night",
                  "vilio_proba": 0.9095509534106987,
                  "vilio_label": 1,
                  "baseline_proba": 0.8370235562324524,
                  "baseline_label": 1,
                  "_deepnote_index_column": 2
                },
                {
                  "id": 1967,
                  "img": "img/01967.png",
                  "truth": 0,
                  "text": "when you decide to stop racism by burning its symbol",
                  "vilio_proba": 0.21507743949606947,
                  "vilio_label": 0,
                  "baseline_proba": 0.0008174629765562,
                  "baseline_label": 0,
                  "_deepnote_index_column": 5
                },
                {
                  "id": 2518,
                  "img": "img/02518.png",
                  "truth": 0,
                  "text": "when the dog bites you and you bite back to assert dominance",
                  "vilio_proba": 0.17288206610733003,
                  "vilio_label": 0,
                  "baseline_proba": 0.0003744499117601,
                  "baseline_label": 0,
                  "_deepnote_index_column": 10
                },
                {
                  "id": 2634,
                  "img": "img/02634.png",
                  "truth": 1,
                  "text": "and just like that... this sandwich maker doubles as an ironing board",
                  "vilio_proba": 0.7145649265887659,
                  "vilio_label": 1,
                  "baseline_proba": 0.977145791053772,
                  "baseline_label": 1,
                  "_deepnote_index_column": 12
                },
                {
                  "id": 3214,
                  "img": "img/03214.png",
                  "truth": 0,
                  "text": "bartender: how about a nice 12 yr old? him: boy or girl?",
                  "vilio_proba": 0.21918268041752645,
                  "vilio_label": 0,
                  "baseline_proba": 0.0165732763707637,
                  "baseline_label": 0,
                  "_deepnote_index_column": 14
                },
                {
                  "id": 3217,
                  "img": "img/03217.png",
                  "truth": 0,
                  "text": "they are like sperm you get millions, but only one works",
                  "vilio_proba": 0.047789612743157885,
                  "vilio_label": 0,
                  "baseline_proba": 0.0538823753595352,
                  "baseline_label": 0,
                  "_deepnote_index_column": 15
                },
                {
                  "id": 3568,
                  "img": "img/03568.png",
                  "truth": 0,
                  "text": "time to play rich vs the constitution",
                  "vilio_proba": 0.4394158674988008,
                  "vilio_label": 0,
                  "baseline_proba": 0.0002117130934493,
                  "baseline_label": 0,
                  "_deepnote_index_column": 19
                },
                {
                  "id": 3798,
                  "img": "img/03798.png",
                  "truth": 0,
                  "text": "hey, i just met you and this is crazy but here's your number... so camping, maybe?",
                  "vilio_proba": 0.23001710510089005,
                  "vilio_label": 0,
                  "baseline_proba": 0.0009316474897786,
                  "baseline_label": 0,
                  "_deepnote_index_column": 21
                },
                {
                  "id": 4569,
                  "img": "img/04569.png",
                  "truth": 0,
                  "text": "when is the time to eat i am hungry",
                  "vilio_proba": 0.1338598224981898,
                  "vilio_label": 0,
                  "baseline_proba": 0.0002008769661188,
                  "baseline_label": 0,
                  "_deepnote_index_column": 23
                },
                {
                  "id": 5316,
                  "img": "img/05316.png",
                  "truth": 0,
                  "text": "doing o's with the smoke",
                  "vilio_proba": 0.18246074864757855,
                  "vilio_label": 0,
                  "baseline_proba": 0.0002738553157541,
                  "baseline_label": 0,
                  "_deepnote_index_column": 27
                },
                {
                  "id": 6352,
                  "img": "img/06352.png",
                  "truth": 0,
                  "text": "and then i asked mom, can we go play?",
                  "vilio_proba": 0.2377458628520045,
                  "vilio_label": 0,
                  "baseline_proba": 0.0003974216233473,
                  "baseline_label": 0,
                  "_deepnote_index_column": 32
                },
                {
                  "id": 9863,
                  "img": "img/09863.png",
                  "truth": 0,
                  "text": "diverse group of women",
                  "vilio_proba": 0.44953221578113967,
                  "vilio_label": 0,
                  "baseline_proba": 0.0004674224765039,
                  "baseline_label": 0,
                  "_deepnote_index_column": 46
                },
                {
                  "id": 12045,
                  "img": "img/12045.png",
                  "truth": 0,
                  "text": "learn to hunt. it's a valuable skill",
                  "vilio_proba": 0.12842503006134867,
                  "vilio_label": 0,
                  "baseline_proba": 0.0004726066254079,
                  "baseline_label": 0,
                  "_deepnote_index_column": 51
                },
                {
                  "id": 12468,
                  "img": "img/12468.png",
                  "truth": 0,
                  "text": "say it! say it ! islam is the religion of peace",
                  "vilio_proba": 0.0836519601705366,
                  "vilio_label": 0,
                  "baseline_proba": 0.001005177386105,
                  "baseline_label": 0,
                  "_deepnote_index_column": 53
                },
                {
                  "id": 13750,
                  "img": "img/13750.png",
                  "truth": 0,
                  "text": "wouldn't be the last time those people used the oven this way",
                  "vilio_proba": 0.4710422582882619,
                  "vilio_label": 0,
                  "baseline_proba": 0.0004461156495381,
                  "baseline_label": 0,
                  "_deepnote_index_column": 58
                },
                {
                  "id": 14975,
                  "img": "img/14975.png",
                  "truth": 0,
                  "text": "hitting is a crime. it's about time people understood that",
                  "vilio_proba": 0.4596524752046703,
                  "vilio_label": 0,
                  "baseline_proba": 0.0017323268111795,
                  "baseline_label": 0,
                  "_deepnote_index_column": 62
                },
                {
                  "id": 16420,
                  "img": "img/16420.png",
                  "truth": 0,
                  "text": "abnormal vs normal",
                  "vilio_proba": 0.0978998226176999,
                  "vilio_label": 0,
                  "baseline_proba": 0.0005758107872679,
                  "baseline_label": 0,
                  "_deepnote_index_column": 64
                },
                {
                  "id": 16704,
                  "img": "img/16704.png",
                  "truth": 0,
                  "text": "last summer camp was so \"lit\"",
                  "vilio_proba": 0.1466761516787908,
                  "vilio_label": 0,
                  "baseline_proba": 0.0002303814835613,
                  "baseline_label": 0,
                  "_deepnote_index_column": 65
                },
                {
                  "id": 16749,
                  "img": "img/16749.png",
                  "truth": 0,
                  "text": "broken dishwasher",
                  "vilio_proba": 0.26980875244706093,
                  "vilio_label": 0,
                  "baseline_proba": 0.0002758926420938,
                  "baseline_label": 0,
                  "_deepnote_index_column": 66
                },
                {
                  "id": 16842,
                  "img": "img/16842.png",
                  "truth": 0,
                  "text": "every kitchen needs a sandwich maker just like this one",
                  "vilio_proba": 0.292879168450639,
                  "vilio_label": 0,
                  "baseline_proba": 0.0006664240499958,
                  "baseline_label": 0,
                  "_deepnote_index_column": 67
                },
                {
                  "id": 16850,
                  "img": "img/16850.png",
                  "truth": 0,
                  "text": "okay okay okay here's my serious face do i look fuhrerious yet?",
                  "vilio_proba": 0.1408265820198641,
                  "vilio_label": 0,
                  "baseline_proba": 0.0002573426172602,
                  "baseline_label": 0,
                  "_deepnote_index_column": 68
                },
                {
                  "id": 17028,
                  "img": "img/17028.png",
                  "truth": 1,
                  "text": "feeling bored, let's go to a mosque",
                  "vilio_proba": 0.6683457215714309,
                  "vilio_label": 1,
                  "baseline_proba": 0.8519678115844727,
                  "baseline_label": 1,
                  "_deepnote_index_column": 69
                },
                {
                  "id": 17908,
                  "img": "img/17908.png",
                  "truth": 0,
                  "text": "making a quick 3pm snack",
                  "vilio_proba": 0.4753419631952465,
                  "vilio_label": 0,
                  "baseline_proba": 0.0003789466572925,
                  "baseline_label": 0,
                  "_deepnote_index_column": 72
                },
                {
                  "id": 18726,
                  "img": "img/18726.png",
                  "truth": 0,
                  "text": "when your bed is short and your feed stick out",
                  "vilio_proba": 0.40716214157883823,
                  "vilio_label": 0,
                  "baseline_proba": 0.0007445161463692,
                  "baseline_label": 0,
                  "_deepnote_index_column": 79
                },
                {
                  "id": 18742,
                  "img": "img/18742.png",
                  "truth": 0,
                  "text": "i'm proud of it! come at me!",
                  "vilio_proba": 0.14494689931642898,
                  "vilio_label": 0,
                  "baseline_proba": 0.0010358538711443,
                  "baseline_label": 0,
                  "_deepnote_index_column": 80
                },
                {
                  "id": 19075,
                  "img": "img/19075.png",
                  "truth": 0,
                  "text": "when you smell cake",
                  "vilio_proba": 0.2904166301714867,
                  "vilio_label": 0,
                  "baseline_proba": 0.0003832599904853,
                  "baseline_label": 0,
                  "_deepnote_index_column": 82
                },
                {
                  "id": 19243,
                  "img": "img/19243.png",
                  "truth": 0,
                  "text": "surprise!! wait, where is everyone?",
                  "vilio_proba": 0.22227050680876234,
                  "vilio_label": 0,
                  "baseline_proba": 0.0003657472261693,
                  "baseline_label": 0,
                  "_deepnote_index_column": 83
                },
                {
                  "id": 20437,
                  "img": "img/20437.png",
                  "truth": 0,
                  "text": "thanksgiving in china",
                  "vilio_proba": 0.09541226003747524,
                  "vilio_label": 0,
                  "baseline_proba": 0.000386527593946,
                  "baseline_label": 0,
                  "_deepnote_index_column": 88
                },
                {
                  "id": 23785,
                  "img": "img/23785.png",
                  "truth": 0,
                  "text": "hansel and gretel was a scary childrens story",
                  "vilio_proba": 0.15753398946163358,
                  "vilio_label": 0,
                  "baseline_proba": 0.0004920519422739,
                  "baseline_label": 0,
                  "_deepnote_index_column": 94
                },
                {
                  "id": 26397,
                  "img": "img/26397.png",
                  "truth": 0,
                  "text": "there are still parts of the world where people celebrate capital punishment",
                  "vilio_proba": 0.16131467062208904,
                  "vilio_label": 0,
                  "baseline_proba": 0.0026205882895737,
                  "baseline_label": 0,
                  "_deepnote_index_column": 100
                },
                {
                  "id": 27614,
                  "img": "img/27614.png",
                  "truth": 0,
                  "text": "maybe if you think before you act you'd be treated better",
                  "vilio_proba": 0.16680605597742132,
                  "vilio_label": 0,
                  "baseline_proba": 0.0013784215552732,
                  "baseline_label": 0,
                  "_deepnote_index_column": 107
                },
                {
                  "id": 28406,
                  "img": "img/28406.png",
                  "truth": 0,
                  "text": "when she gives you that look",
                  "vilio_proba": 0.2168787075941569,
                  "vilio_label": 0,
                  "baseline_proba": 0.0001271477522095,
                  "baseline_label": 0,
                  "_deepnote_index_column": 111
                },
                {
                  "id": 29174,
                  "img": "img/29174.png",
                  "truth": 0,
                  "text": "the crimes against humanity should not be swiftly forgotten",
                  "vilio_proba": 0.08318110355055922,
                  "vilio_label": 0,
                  "baseline_proba": 0.0004651006893254,
                  "baseline_label": 0,
                  "_deepnote_index_column": 114
                },
                {
                  "id": 30586,
                  "img": "img/30586.png",
                  "truth": 0,
                  "text": "just can't get rid of the stain. this is why i hate beets",
                  "vilio_proba": 0.4524459998445582,
                  "vilio_label": 0,
                  "baseline_proba": 0.0008443087572231,
                  "baseline_label": 0,
                  "_deepnote_index_column": 119
                },
                {
                  "id": 32875,
                  "img": "img/32875.png",
                  "truth": 0,
                  "text": "if he wears number one he's most likely the fastes on the team",
                  "vilio_proba": 0.24759449506310643,
                  "vilio_label": 0,
                  "baseline_proba": 0.0025161001831293,
                  "baseline_label": 0,
                  "_deepnote_index_column": 128
                },
                {
                  "id": 34189,
                  "img": "img/34189.png",
                  "truth": 0,
                  "text": "fight for what you believe in fight for the future",
                  "vilio_proba": 0.09583878189336403,
                  "vilio_label": 0,
                  "baseline_proba": 0.0004878663748968,
                  "baseline_label": 0,
                  "_deepnote_index_column": 130
                },
                {
                  "id": 35470,
                  "img": "img/35470.png",
                  "truth": 0,
                  "text": "can you smell what the reigh is cooking",
                  "vilio_proba": 0.15176980918734265,
                  "vilio_label": 0,
                  "baseline_proba": 0.0004272178921382,
                  "baseline_label": 0,
                  "_deepnote_index_column": 134
                },
                {
                  "id": 35487,
                  "img": "img/35487.png",
                  "truth": 0,
                  "text": "randomly deciding to bake something",
                  "vilio_proba": 0.15946890313847675,
                  "vilio_label": 0,
                  "baseline_proba": 0.0009107195655815,
                  "baseline_label": 0,
                  "_deepnote_index_column": 135
                },
                {
                  "id": 35719,
                  "img": "img/35719.png",
                  "truth": 0,
                  "text": "jamal is practicing for class sport",
                  "vilio_proba": 0.07905326772273115,
                  "vilio_label": 0,
                  "baseline_proba": 0.000711997388862,
                  "baseline_label": 0,
                  "_deepnote_index_column": 136
                },
                {
                  "id": 37160,
                  "img": "img/37160.png",
                  "truth": 0,
                  "text": "best gamer ever 6 million kills, 1 death\"",
                  "vilio_proba": 0.1697886720717011,
                  "vilio_label": 0,
                  "baseline_proba": 0.0054226107895374,
                  "baseline_label": 0,
                  "_deepnote_index_column": 139
                },
                {
                  "id": 37420,
                  "img": "img/37420.png",
                  "truth": 0,
                  "text": "like lebanon terrorism can destroy a beautiful country",
                  "vilio_proba": 0.48000339422373955,
                  "vilio_label": 0,
                  "baseline_proba": 0.0006766290753148,
                  "baseline_label": 0,
                  "_deepnote_index_column": 140
                },
                {
                  "id": 38095,
                  "img": "img/38095.png",
                  "truth": 0,
                  "text": "haters will say it's photoshop",
                  "vilio_proba": 0.07815523567519306,
                  "vilio_label": 0,
                  "baseline_proba": 0.0003322702541481,
                  "baseline_label": 0,
                  "_deepnote_index_column": 142
                },
                {
                  "id": 40618,
                  "img": "img/40618.png",
                  "truth": 0,
                  "text": "when your company valuation hits 1 billion",
                  "vilio_proba": 0.3918496446624188,
                  "vilio_label": 0,
                  "baseline_proba": 0.0015665987739339,
                  "baseline_label": 0,
                  "_deepnote_index_column": 147
                },
                {
                  "id": 41296,
                  "img": "img/41296.png",
                  "truth": 0,
                  "text": "94% of them test positive for rh blood type which means they have monkey blood as a result they are born with a tail and other animal traits",
                  "vilio_proba": 0.3258613096735017,
                  "vilio_label": 0,
                  "baseline_proba": 0.0021960982121527,
                  "baseline_label": 0,
                  "_deepnote_index_column": 150
                },
                {
                  "id": 41382,
                  "img": "img/41382.png",
                  "truth": 0,
                  "text": "they want to be accepted for who they are, yet theren't able to accept themselves for who they are",
                  "vilio_proba": 0.20018374995562602,
                  "vilio_label": 0,
                  "baseline_proba": 0.0002264786453451,
                  "baseline_label": 0,
                  "_deepnote_index_column": 151
                },
                {
                  "id": 42903,
                  "img": "img/42903.png",
                  "truth": 0,
                  "text": "those stupid basterds thought it was a real shower",
                  "vilio_proba": 0.19333715916827013,
                  "vilio_label": 0,
                  "baseline_proba": 0.0247587487101554,
                  "baseline_label": 0,
                  "_deepnote_index_column": 158
                },
                {
                  "id": 46085,
                  "img": "img/46085.png",
                  "truth": 0,
                  "text": "city workers repair statue cover it up with black sheet",
                  "vilio_proba": 0.21438289674287006,
                  "vilio_label": 0,
                  "baseline_proba": 0.0005178987630642,
                  "baseline_label": 0,
                  "_deepnote_index_column": 167
                },
                {
                  "id": 46812,
                  "img": "img/46812.png",
                  "truth": 0,
                  "text": "goat meat is very popular in islamic countries",
                  "vilio_proba": 0.1632413876256338,
                  "vilio_label": 0,
                  "baseline_proba": 0.0347523428499698,
                  "baseline_label": 0,
                  "_deepnote_index_column": 169
                },
                {
                  "id": 47103,
                  "img": "img/47103.png",
                  "truth": 0,
                  "text": "maybe we weren't consistent sources of crime we'd be treated better",
                  "vilio_proba": 0.17553468747617917,
                  "vilio_label": 0,
                  "baseline_proba": 0.0002635798882693,
                  "baseline_label": 0,
                  "_deepnote_index_column": 173
                },
                {
                  "id": 47183,
                  "img": "img/47183.png",
                  "truth": 0,
                  "text": "taking the liberals to a whole new level",
                  "vilio_proba": 0.16540068523402549,
                  "vilio_label": 0,
                  "baseline_proba": 0.0002547979238443,
                  "baseline_label": 0,
                  "_deepnote_index_column": 175
                },
                {
                  "id": 48792,
                  "img": "img/48792.png",
                  "truth": 0,
                  "text": "leaving a trail of death and destruction",
                  "vilio_proba": 0.11226368175144166,
                  "vilio_label": 0,
                  "baseline_proba": 0.0006225888500921,
                  "baseline_label": 0,
                  "_deepnote_index_column": 180
                },
                {
                  "id": 49260,
                  "img": "img/49260.png",
                  "truth": 0,
                  "text": "it's the goat humper looks like a bunch of pigs just walked over your grave",
                  "vilio_proba": 0.4673616012352643,
                  "vilio_label": 0,
                  "baseline_proba": 0.000406834995374,
                  "baseline_label": 0,
                  "_deepnote_index_column": 181
                },
                {
                  "id": 49621,
                  "img": "img/49621.png",
                  "truth": 0,
                  "text": "wait, mohammad come back i didn't mean to laugh, really size dosen't matter to me lol",
                  "vilio_proba": 0.4092516372412648,
                  "vilio_label": 0,
                  "baseline_proba": 0.0012653731973841,
                  "baseline_label": 0,
                  "_deepnote_index_column": 183
                },
                {
                  "id": 49805,
                  "img": "img/49805.png",
                  "truth": 0,
                  "text": "imagine being so disgusting there have to be laws to try to stop normal people from hating you",
                  "vilio_proba": 0.11597975268376184,
                  "vilio_label": 0,
                  "baseline_proba": 0.00077744043665,
                  "baseline_label": 0,
                  "_deepnote_index_column": 185
                },
                {
                  "id": 49826,
                  "img": "img/49826.png",
                  "truth": 1,
                  "text": "white people on cinco de mayo vs. every other day",
                  "vilio_proba": 0.5179355589093338,
                  "vilio_label": 1,
                  "baseline_proba": 0.9734415411949158,
                  "baseline_label": 1,
                  "_deepnote_index_column": 186
                },
                {
                  "id": 50984,
                  "img": "img/50984.png",
                  "truth": 0,
                  "text": "a cat in a pot",
                  "vilio_proba": 0.13746053557338528,
                  "vilio_label": 0,
                  "baseline_proba": 0.0001715223042992,
                  "baseline_label": 0,
                  "_deepnote_index_column": 190
                },
                {
                  "id": 51306,
                  "img": "img/51306.png",
                  "truth": 0,
                  "text": "eat some cookies you're not yourself when you're hungry",
                  "vilio_proba": 0.08106501538360306,
                  "vilio_label": 0,
                  "baseline_proba": 0.0247672814875841,
                  "baseline_label": 0,
                  "_deepnote_index_column": 191
                },
                {
                  "id": 52394,
                  "img": "img/52394.png",
                  "truth": 0,
                  "text": "i forgot what are we fighting over again?",
                  "vilio_proba": 0.2943699955329115,
                  "vilio_label": 0,
                  "baseline_proba": 0.0291138794273138,
                  "baseline_label": 0,
                  "_deepnote_index_column": 197
                },
                {
                  "id": 53418,
                  "img": "img/53418.png",
                  "truth": 0,
                  "text": "a real man loads the dishwasher every night",
                  "vilio_proba": 0.11172992991470873,
                  "vilio_label": 0,
                  "baseline_proba": 0.0156745128333568,
                  "baseline_label": 0,
                  "_deepnote_index_column": 200
                },
                {
                  "id": 53491,
                  "img": "img/53491.png",
                  "truth": 0,
                  "text": "and in 3 days he came back to life bringing salvation",
                  "vilio_proba": 0.31946825462829986,
                  "vilio_label": 0,
                  "baseline_proba": 0.0003279821248725,
                  "baseline_label": 0,
                  "_deepnote_index_column": 201
                },
                {
                  "id": 54129,
                  "img": "img/54129.png",
                  "truth": 0,
                  "text": "dump pipe to the ocean",
                  "vilio_proba": 0.09206469541850006,
                  "vilio_label": 0,
                  "baseline_proba": 0.0003138377796858,
                  "baseline_label": 0,
                  "_deepnote_index_column": 205
                },
                {
                  "id": 54206,
                  "img": "img/54206.png",
                  "truth": 0,
                  "text": "you can smell disgust and hate from this photo",
                  "vilio_proba": 0.2163513981067612,
                  "vilio_label": 0,
                  "baseline_proba": 0.0011843092506751,
                  "baseline_label": 0,
                  "_deepnote_index_column": 206
                },
                {
                  "id": 54819,
                  "img": "img/54819.png",
                  "truth": 0,
                  "text": "beauty shot of girlfriends focusing on different thoughts and ideas",
                  "vilio_proba": 0.39030802941005704,
                  "vilio_label": 0,
                  "baseline_proba": 0.0003779224352911,
                  "baseline_label": 0,
                  "_deepnote_index_column": 208
                },
                {
                  "id": 56098,
                  "img": "img/56098.png",
                  "truth": 1,
                  "text": "i said \"a glass of juice\".",
                  "vilio_proba": 0.8277111656656178,
                  "vilio_label": 1,
                  "baseline_proba": 0.8355440497398376,
                  "baseline_label": 1,
                  "_deepnote_index_column": 209
                },
                {
                  "id": 56149,
                  "img": "img/56149.png",
                  "truth": 0,
                  "text": "the original scarecrow",
                  "vilio_proba": 0.1874810046518973,
                  "vilio_label": 0,
                  "baseline_proba": 0.0004050195566378,
                  "baseline_label": 0,
                  "_deepnote_index_column": 211
                },
                {
                  "id": 56473,
                  "img": "img/56473.png",
                  "truth": 0,
                  "text": "knows about you. your family your children everything",
                  "vilio_proba": 0.14300341795379676,
                  "vilio_label": 0,
                  "baseline_proba": 0.0359229557216167,
                  "baseline_label": 0,
                  "_deepnote_index_column": 213
                },
                {
                  "id": 57369,
                  "img": "img/57369.png",
                  "truth": 0,
                  "text": "lose 15 lbs with this 1 simple trick photoshop",
                  "vilio_proba": 0.3352196574781239,
                  "vilio_label": 0,
                  "baseline_proba": 0.0577158965170383,
                  "baseline_label": 0,
                  "_deepnote_index_column": 215
                },
                {
                  "id": 58093,
                  "img": "img/58093.png",
                  "truth": 0,
                  "text": "i treat them like java treats its generic parameters at run time as objects",
                  "vilio_proba": 0.13116055183700057,
                  "vilio_label": 0,
                  "baseline_proba": 0.0394277609884738,
                  "baseline_label": 0,
                  "_deepnote_index_column": 218
                },
                {
                  "id": 59170,
                  "img": "img/59170.png",
                  "truth": 0,
                  "text": "and just like that... this sandwich maker doubles as an ironing board",
                  "vilio_proba": 0.138368523532256,
                  "vilio_label": 0,
                  "baseline_proba": 0.0004069765855092,
                  "baseline_label": 0,
                  "_deepnote_index_column": 220
                },
                {
                  "id": 59206,
                  "img": "img/59206.png",
                  "truth": 0,
                  "text": "traveling through chimney",
                  "vilio_proba": 0.05863300560923715,
                  "vilio_label": 0,
                  "baseline_proba": 0.0027589416131377,
                  "baseline_label": 0,
                  "_deepnote_index_column": 221
                },
                {
                  "id": 60893,
                  "img": "img/60893.png",
                  "truth": 0,
                  "text": "busy, like a hive of bees, controlling what your family sees and edits all the news your hear so you'll know what to think and fear till all the truth there is, is gone. that is unless you stand, en masse. \"",
                  "vilio_proba": 0.13534539582246438,
                  "vilio_label": 0,
                  "baseline_proba": 0.005210833158344,
                  "baseline_label": 0,
                  "_deepnote_index_column": 223
                },
                {
                  "id": 61038,
                  "img": "img/61038.png",
                  "truth": 0,
                  "text": "no wonder why the pipes are not working",
                  "vilio_proba": 0.45612292588784237,
                  "vilio_label": 0,
                  "baseline_proba": 0.0002161055454052,
                  "baseline_label": 0,
                  "_deepnote_index_column": 224
                },
                {
                  "id": 61349,
                  "img": "img/61349.png",
                  "truth": 1,
                  "text": "the proper way to pop a blackhead",
                  "vilio_proba": 0.9246813145215292,
                  "vilio_label": 1,
                  "baseline_proba": 0.9981556534767152,
                  "baseline_label": 1,
                  "_deepnote_index_column": 226
                },
                {
                  "id": 62504,
                  "img": "img/62504.png",
                  "truth": 0,
                  "text": "we've taken this country! now fuck off! we're taking it back!",
                  "vilio_proba": 0.14484292245172622,
                  "vilio_label": 0,
                  "baseline_proba": 0.1037776470184326,
                  "baseline_label": 0,
                  "_deepnote_index_column": 229
                },
                {
                  "id": 62703,
                  "img": "img/62703.png",
                  "truth": 0,
                  "text": "they shot the wrong gorilla",
                  "vilio_proba": 0.307668803115475,
                  "vilio_label": 0,
                  "baseline_proba": 0.0009139249450527,
                  "baseline_label": 0,
                  "_deepnote_index_column": 230
                },
                {
                  "id": 63507,
                  "img": "img/63507.png",
                  "truth": 0,
                  "text": "evolution from peeling bananas to busting caps",
                  "vilio_proba": 0.17002855253157517,
                  "vilio_label": 0,
                  "baseline_proba": 0.0773356184363365,
                  "baseline_label": 0,
                  "_deepnote_index_column": 231
                },
                {
                  "id": 63987,
                  "img": "img/63987.png",
                  "truth": 0,
                  "text": "the migrant caravan arrives!",
                  "vilio_proba": 0.22969572965901183,
                  "vilio_label": 0,
                  "baseline_proba": 0.020626300945878,
                  "baseline_label": 0,
                  "_deepnote_index_column": 233
                },
                {
                  "id": 64071,
                  "img": "img/64071.png",
                  "truth": 0,
                  "text": "when you have someone to help and take care of you what could happen if you didn't",
                  "vilio_proba": 0.20986999171959111,
                  "vilio_label": 0,
                  "baseline_proba": 0.001247362466529,
                  "baseline_label": 0,
                  "_deepnote_index_column": 234
                },
                {
                  "id": 64312,
                  "img": "img/64312.png",
                  "truth": 1,
                  "text": "no, that's not his daughter.. that's his wife! yet the world is silent..",
                  "vilio_proba": 0.8459161323157226,
                  "vilio_label": 1,
                  "baseline_proba": 0.9093739986419678,
                  "baseline_label": 1,
                  "_deepnote_index_column": 236
                },
                {
                  "id": 65093,
                  "img": "img/65093.png",
                  "truth": 0,
                  "text": "cookie kunty seen in paris",
                  "vilio_proba": 0.0931429117704976,
                  "vilio_label": 0,
                  "baseline_proba": 0.0052551310509443,
                  "baseline_label": 0,
                  "_deepnote_index_column": 239
                },
                {
                  "id": 65801,
                  "img": "img/65801.png",
                  "truth": 0,
                  "text": "first friday prayers of the islamic holy day",
                  "vilio_proba": 0.22580237863920993,
                  "vilio_label": 0,
                  "baseline_proba": 0.0006761546246707,
                  "baseline_label": 0,
                  "_deepnote_index_column": 242
                },
                {
                  "id": 67082,
                  "img": "img/67082.png",
                  "truth": 0,
                  "text": "\"1st day of 4th grade sandy hook elementary school\"",
                  "vilio_proba": 0.1478298531018552,
                  "vilio_label": 0,
                  "baseline_proba": 0.005432803183794,
                  "baseline_label": 0,
                  "_deepnote_index_column": 244
                },
                {
                  "id": 67208,
                  "img": "img/67208.png",
                  "truth": 0,
                  "text": "does nike also sell stones in case they take it off?",
                  "vilio_proba": 0.15689050883807773,
                  "vilio_label": 0,
                  "baseline_proba": 0.0043501406908035,
                  "baseline_label": 0,
                  "_deepnote_index_column": 246
                },
                {
                  "id": 69548,
                  "img": "img/69548.png",
                  "truth": 1,
                  "text": "wait, mohammad come back i didn't mean to laugh, really size dosen't matter to me lol",
                  "vilio_proba": 0.6064013011049313,
                  "vilio_label": 1,
                  "baseline_proba": 0.991838037967682,
                  "baseline_label": 1,
                  "_deepnote_index_column": 254
                },
                {
                  "id": 73482,
                  "img": "img/73482.png",
                  "truth": 0,
                  "text": "it's time we took guns away and put them out of the reach of our children",
                  "vilio_proba": 0.3169128027513521,
                  "vilio_label": 0,
                  "baseline_proba": 0.0003176171740051,
                  "baseline_label": 0,
                  "_deepnote_index_column": 263
                },
                {
                  "id": 73526,
                  "img": "img/73526.png",
                  "truth": 0,
                  "text": "if she's still making noises, you didn't hit her hard enough",
                  "vilio_proba": 0.07398114368084252,
                  "vilio_label": 0,
                  "baseline_proba": 0.0002262891066493,
                  "baseline_label": 0,
                  "_deepnote_index_column": 264
                },
                {
                  "id": 73601,
                  "img": "img/73601.png",
                  "truth": 1,
                  "text": "when you are white and stole your first bike",
                  "vilio_proba": 0.820666702369043,
                  "vilio_label": 1,
                  "baseline_proba": 0.998500108718872,
                  "baseline_label": 1,
                  "_deepnote_index_column": 265
                },
                {
                  "id": 74908,
                  "img": "img/74908.png",
                  "truth": 0,
                  "text": "she is condemning shooting the gorilla",
                  "vilio_proba": 0.17284255696265338,
                  "vilio_label": 0,
                  "baseline_proba": 0.0006684888503514,
                  "baseline_label": 0,
                  "_deepnote_index_column": 274
                },
                {
                  "id": 74965,
                  "img": "img/74965.png",
                  "truth": 0,
                  "text": "some people some other people",
                  "vilio_proba": 0.1017632813331401,
                  "vilio_label": 0,
                  "baseline_proba": 0.0461412779986858,
                  "baseline_label": 0,
                  "_deepnote_index_column": 275
                },
                {
                  "id": 75142,
                  "img": "img/75142.png",
                  "truth": 0,
                  "text": "you should treat that the way you treat your vacuum cleaner, when it stops sucking change the bag",
                  "vilio_proba": 0.046545010802901195,
                  "vilio_label": 0,
                  "baseline_proba": 0.0002396183117525,
                  "baseline_label": 0,
                  "_deepnote_index_column": 276
                },
                {
                  "id": 75918,
                  "img": "img/75918.png",
                  "truth": 0,
                  "text": "a picture of my great great great grand grandfather's tractors they don't make them like they used to",
                  "vilio_proba": 0.4858407720682456,
                  "vilio_label": 0,
                  "baseline_proba": 0.0006922631873749,
                  "baseline_label": 0,
                  "_deepnote_index_column": 279
                },
                {
                  "id": 76015,
                  "img": "img/76015.png",
                  "truth": 0,
                  "text": "everyone celebrates christmas !",
                  "vilio_proba": 0.08657412334220332,
                  "vilio_label": 0,
                  "baseline_proba": 0.0005195158300921,
                  "baseline_label": 0,
                  "_deepnote_index_column": 280
                },
                {
                  "id": 76092,
                  "img": "img/76092.png",
                  "truth": 0,
                  "text": "everybody is afraid of gangs",
                  "vilio_proba": 0.11796505771932231,
                  "vilio_label": 0,
                  "baseline_proba": 0.0015194389270618,
                  "baseline_label": 0,
                  "_deepnote_index_column": 281
                },
                {
                  "id": 78134,
                  "img": "img/78134.png",
                  "truth": 0,
                  "text": "in other countries in pakistan",
                  "vilio_proba": 0.20310730872394556,
                  "vilio_label": 0,
                  "baseline_proba": 0.0656545683741569,
                  "baseline_label": 0,
                  "_deepnote_index_column": 284
                },
                {
                  "id": 78462,
                  "img": "img/78462.png",
                  "truth": 0,
                  "text": "in the last days there will be scoffers, ridiculers, deniers and mockers following after their own lusts",
                  "vilio_proba": 0.38044564332366815,
                  "vilio_label": 0,
                  "baseline_proba": 0.0009193386067636,
                  "baseline_label": 0,
                  "_deepnote_index_column": 286
                },
                {
                  "id": 78659,
                  "img": "img/78659.png",
                  "truth": 0,
                  "text": "what a weird way to spell fat and single",
                  "vilio_proba": 0.0738710094830204,
                  "vilio_label": 0,
                  "baseline_proba": 0.0006336239748634,
                  "baseline_label": 0,
                  "_deepnote_index_column": 287
                },
                {
                  "id": 78914,
                  "img": "img/78914.png",
                  "truth": 0,
                  "text": "terrorist trojan horse enemy of the state",
                  "vilio_proba": 0.16253406091225098,
                  "vilio_label": 0,
                  "baseline_proba": 0.0003740815154742,
                  "baseline_label": 0,
                  "_deepnote_index_column": 288
                },
                {
                  "id": 79042,
                  "img": "img/79042.png",
                  "truth": 0,
                  "text": "the door to the crematorium and gas chambers are closed",
                  "vilio_proba": 0.42452794508338976,
                  "vilio_label": 0,
                  "baseline_proba": 0.0105858100578188,
                  "baseline_label": 0,
                  "_deepnote_index_column": 289
                },
                {
                  "id": 80912,
                  "img": "img/80912.png",
                  "truth": 0,
                  "text": "mr obama it is an honor",
                  "vilio_proba": 0.0768532521077737,
                  "vilio_label": 0,
                  "baseline_proba": 0.0010155732743442,
                  "baseline_label": 0,
                  "_deepnote_index_column": 294
                },
                {
                  "id": 82945,
                  "img": "img/82945.png",
                  "truth": 0,
                  "text": "be careful who you call ugly in highschool",
                  "vilio_proba": 0.15041004595287014,
                  "vilio_label": 0,
                  "baseline_proba": 0.0027864456642419,
                  "baseline_label": 0,
                  "_deepnote_index_column": 298
                },
                {
                  "id": 83675,
                  "img": "img/83675.png",
                  "truth": 0,
                  "text": "i'm gonna be like phelps one day",
                  "vilio_proba": 0.22881653816628586,
                  "vilio_label": 0,
                  "baseline_proba": 0.001102041453123,
                  "baseline_label": 0,
                  "_deepnote_index_column": 302
                },
                {
                  "id": 84036,
                  "img": "img/84036.png",
                  "truth": 0,
                  "text": "militant dressed as martyr",
                  "vilio_proba": 0.18063386348839652,
                  "vilio_label": 0,
                  "baseline_proba": 0.0005947740864939,
                  "baseline_label": 0,
                  "_deepnote_index_column": 306
                },
                {
                  "id": 84102,
                  "img": "img/84102.png",
                  "truth": 0,
                  "text": "the definition of utter disgust in plain black and white",
                  "vilio_proba": 0.2563176768552168,
                  "vilio_label": 0,
                  "baseline_proba": 0.3748933672904968,
                  "baseline_label": 0,
                  "_deepnote_index_column": 307
                },
                {
                  "id": 84162,
                  "img": "img/84162.png",
                  "truth": 0,
                  "text": "i could have killed all of them. but i let some of them survive so you know why i killed them",
                  "vilio_proba": 0.2464077882706116,
                  "vilio_label": 0,
                  "baseline_proba": 0.0003114550781901,
                  "baseline_label": 0,
                  "_deepnote_index_column": 310
                },
                {
                  "id": 84302,
                  "img": "img/84302.png",
                  "truth": 0,
                  "text": "why do we share more when these people are hurt but not these people",
                  "vilio_proba": 0.34112883975322866,
                  "vilio_label": 0,
                  "baseline_proba": 0.0013099224306643,
                  "baseline_label": 0,
                  "_deepnote_index_column": 311
                },
                {
                  "id": 85621,
                  "img": "img/85621.png",
                  "truth": 0,
                  "text": "no, that's not his daughter... that's his wife! yet the world is silent..",
                  "vilio_proba": 0.4271981938453481,
                  "vilio_label": 0,
                  "baseline_proba": 0.275469571352005,
                  "baseline_label": 0,
                  "_deepnote_index_column": 314
                },
                {
                  "id": 86357,
                  "img": "img/86357.png",
                  "truth": 0,
                  "text": "apparently not erdogan",
                  "vilio_proba": 0.19797411750035354,
                  "vilio_label": 0,
                  "baseline_proba": 0.0165928360074758,
                  "baseline_label": 0,
                  "_deepnote_index_column": 319
                },
                {
                  "id": 89536,
                  "img": "img/89536.png",
                  "truth": 0,
                  "text": "so many lives lost because of this man",
                  "vilio_proba": 0.13212985268121055,
                  "vilio_label": 0,
                  "baseline_proba": 0.0006301854737102,
                  "baseline_label": 0,
                  "_deepnote_index_column": 326
                },
                {
                  "id": 90267,
                  "img": "img/90267.png",
                  "truth": 0,
                  "text": "i've been driving this baby for years the mileage isn't great but still gets the job done",
                  "vilio_proba": 0.3658475542994226,
                  "vilio_label": 0,
                  "baseline_proba": 0.0006206254474818,
                  "baseline_label": 0,
                  "_deepnote_index_column": 329
                },
                {
                  "id": 90643,
                  "img": "img/90643.png",
                  "truth": 0,
                  "text": "she represents the new wave of democrats",
                  "vilio_proba": 0.11782524743633822,
                  "vilio_label": 0,
                  "baseline_proba": 0.0001482317165937,
                  "baseline_label": 0,
                  "_deepnote_index_column": 330
                },
                {
                  "id": 91602,
                  "img": "img/91602.png",
                  "truth": 0,
                  "text": "upper downer",
                  "vilio_proba": 0.17607788170364536,
                  "vilio_label": 0,
                  "baseline_proba": 0.0009958256268873,
                  "baseline_label": 0,
                  "_deepnote_index_column": 333
                },
                {
                  "id": 92068,
                  "img": "img/92068.png",
                  "truth": 0,
                  "text": "still better than mexican",
                  "vilio_proba": 0.010795574024431947,
                  "vilio_label": 0,
                  "baseline_proba": 0.0006159689510241,
                  "baseline_label": 0,
                  "_deepnote_index_column": 338
                },
                {
                  "id": 93041,
                  "img": "img/93041.png",
                  "truth": 0,
                  "text": "\"who's gonna make the sandwiches? what do we do with all these sandwiches?\"",
                  "vilio_proba": 0.11943848345583083,
                  "vilio_label": 0,
                  "baseline_proba": 0.0005771635333076,
                  "baseline_label": 0,
                  "_deepnote_index_column": 342
                },
                {
                  "id": 93051,
                  "img": "img/93051.png",
                  "truth": 0,
                  "text": "and for my next class project!",
                  "vilio_proba": 0.06211154992251693,
                  "vilio_label": 0,
                  "baseline_proba": 0.0012019168352708,
                  "baseline_label": 0,
                  "_deepnote_index_column": 343
                },
                {
                  "id": 93541,
                  "img": "img/93541.png",
                  "truth": 0,
                  "text": "the jihad squad",
                  "vilio_proba": 0.2960352623686327,
                  "vilio_label": 0,
                  "baseline_proba": 0.0385879948735237,
                  "baseline_label": 0,
                  "_deepnote_index_column": 346
                },
                {
                  "id": 94738,
                  "img": "img/94738.png",
                  "truth": 0,
                  "text": "shopping is boring. why not have some fun at the walmart parking lot?",
                  "vilio_proba": 0.08904613779633883,
                  "vilio_label": 0,
                  "baseline_proba": 0.0098933679983019,
                  "baseline_label": 0,
                  "_deepnote_index_column": 351
                },
                {
                  "id": 94813,
                  "img": "img/94813.png",
                  "truth": 0,
                  "text": "thats the way allah allah i like it!!!",
                  "vilio_proba": 0.2516946499192973,
                  "vilio_label": 0,
                  "baseline_proba": 0.0023648659698665,
                  "baseline_label": 0,
                  "_deepnote_index_column": 352
                },
                {
                  "id": 96180,
                  "img": "img/96180.png",
                  "truth": 1,
                  "text": "putting bows on your pet",
                  "vilio_proba": 0.7360915599267828,
                  "vilio_label": 1,
                  "baseline_proba": 0.9949733018875122,
                  "baseline_label": 1,
                  "_deepnote_index_column": 359
                },
                {
                  "id": 96250,
                  "img": "img/96250.png",
                  "truth": 0,
                  "text": "i'm going home i'm russian",
                  "vilio_proba": 0.07263918413183822,
                  "vilio_label": 0,
                  "baseline_proba": 0.0083354702219367,
                  "baseline_label": 0,
                  "_deepnote_index_column": 360
                },
                {
                  "id": 97453,
                  "img": "img/97453.png",
                  "truth": 0,
                  "text": "potato is my favorite color of the alphabet",
                  "vilio_proba": 0.13849775381667195,
                  "vilio_label": 0,
                  "baseline_proba": 0.0021824112627655,
                  "baseline_label": 0,
                  "_deepnote_index_column": 367
                },
                {
                  "id": 98235,
                  "img": "img/98235.png",
                  "truth": 0,
                  "text": "fashion forward !",
                  "vilio_proba": 0.013069472722748993,
                  "vilio_label": 0,
                  "baseline_proba": 0.0170901380479335,
                  "baseline_label": 0,
                  "_deepnote_index_column": 368
                },
                {
                  "id": 98543,
                  "img": "img/98543.png",
                  "truth": 1,
                  "text": "upper downer",
                  "vilio_proba": 0.7161285363092382,
                  "vilio_label": 1,
                  "baseline_proba": 0.957241714000702,
                  "baseline_label": 1,
                  "_deepnote_index_column": 369
                },
                {
                  "id": 98720,
                  "img": "img/98720.png",
                  "truth": 0,
                  "text": "when your wife just died giving birth to your daughter and you're alone in the room with your naked just born daughter",
                  "vilio_proba": 0.32313256071857754,
                  "vilio_label": 0,
                  "baseline_proba": 0.4984774589538574,
                  "baseline_label": 0,
                  "_deepnote_index_column": 371
                }
              ],
              "rows_bottom": null
            },
            "text/plain": "        id            img  truth  \\\n2     1726  img/01726.png      1   \n5     1967  img/01967.png      0   \n10    2518  img/02518.png      0   \n12    2634  img/02634.png      1   \n14    3214  img/03214.png      0   \n..     ...            ...    ...   \n360  96250  img/96250.png      0   \n367  97453  img/97453.png      0   \n368  98235  img/98235.png      0   \n369  98543  img/98543.png      1   \n371  98720  img/98720.png      0   \n\n                                                  text  vilio_proba  \\\n2          a real man loads the dishwasher every night     0.909551   \n5    when you decide to stop racism by burning its ...     0.215077   \n10   when the dog bites you and you bite back to as...     0.172882   \n12   and just like that... this sandwich maker doub...     0.714565   \n14   bartender: how about a nice 12 yr old? him: bo...     0.219183   \n..                                                 ...          ...   \n360                         i'm going home i'm russian     0.072639   \n367        potato is my favorite color of the alphabet     0.138498   \n368                                  fashion forward !     0.013069   \n369                                       upper downer     0.716129   \n371  when your wife just died giving birth to your ...     0.323133   \n\n     vilio_label  baseline_proba  baseline_label  \n2              1        0.837024               1  \n5              0        0.000817               0  \n10             0        0.000374               0  \n12             1        0.977146               1  \n14             0        0.016573               0  \n..           ...             ...             ...  \n360            0        0.008335               0  \n367            0        0.002182               0  \n368            0        0.017090               0  \n369            1        0.957242               1  \n371            0        0.498477               0  \n\n[123 rows x 8 columns]",
            "text/html": "<div>\n<style scoped>\n    .dataframe tbody tr th:only-of-type {\n        vertical-align: middle;\n    }\n\n    .dataframe tbody tr th {\n        vertical-align: top;\n    }\n\n    .dataframe thead th {\n        text-align: right;\n    }\n</style>\n<table border=\"1\" class=\"dataframe\">\n  <thead>\n    <tr style=\"text-align: right;\">\n      <th></th>\n      <th>id</th>\n      <th>img</th>\n      <th>truth</th>\n      <th>text</th>\n      <th>vilio_proba</th>\n      <th>vilio_label</th>\n      <th>baseline_proba</th>\n      <th>baseline_label</th>\n    </tr>\n  </thead>\n  <tbody>\n    <tr>\n      <th>2</th>\n      <td>1726</td>\n      <td>img/01726.png</td>\n      <td>1</td>\n      <td>a real man loads the dishwasher every night</td>\n      <td>0.909551</td>\n      <td>1</td>\n      <td>0.837024</td>\n      <td>1</td>\n    </tr>\n    <tr>\n      <th>5</th>\n      <td>1967</td>\n      <td>img/01967.png</td>\n      <td>0</td>\n      <td>when you decide to stop racism by burning its ...</td>\n      <td>0.215077</td>\n      <td>0</td>\n      <td>0.000817</td>\n      <td>0</td>\n    </tr>\n    <tr>\n      <th>10</th>\n      <td>2518</td>\n      <td>img/02518.png</td>\n      <td>0</td>\n      <td>when the dog bites you and you bite back to as...</td>\n      <td>0.172882</td>\n      <td>0</td>\n      <td>0.000374</td>\n      <td>0</td>\n    </tr>\n    <tr>\n      <th>12</th>\n      <td>2634</td>\n      <td>img/02634.png</td>\n      <td>1</td>\n      <td>and just like that... this sandwich maker doub...</td>\n      <td>0.714565</td>\n      <td>1</td>\n      <td>0.977146</td>\n      <td>1</td>\n    </tr>\n    <tr>\n      <th>14</th>\n      <td>3214</td>\n      <td>img/03214.png</td>\n      <td>0</td>\n      <td>bartender: how about a nice 12 yr old? him: bo...</td>\n      <td>0.219183</td>\n      <td>0</td>\n      <td>0.016573</td>\n      <td>0</td>\n    </tr>\n    <tr>\n      <th>...</th>\n      <td>...</td>\n      <td>...</td>\n      <td>...</td>\n      <td>...</td>\n      <td>...</td>\n      <td>...</td>\n      <td>...</td>\n      <td>...</td>\n    </tr>\n    <tr>\n      <th>360</th>\n      <td>96250</td>\n      <td>img/96250.png</td>\n      <td>0</td>\n      <td>i'm going home i'm russian</td>\n      <td>0.072639</td>\n      <td>0</td>\n      <td>0.008335</td>\n      <td>0</td>\n    </tr>\n    <tr>\n      <th>367</th>\n      <td>97453</td>\n      <td>img/97453.png</td>\n      <td>0</td>\n      <td>potato is my favorite color of the alphabet</td>\n      <td>0.138498</td>\n      <td>0</td>\n      <td>0.002182</td>\n      <td>0</td>\n    </tr>\n    <tr>\n      <th>368</th>\n      <td>98235</td>\n      <td>img/98235.png</td>\n      <td>0</td>\n      <td>fashion forward !</td>\n      <td>0.013069</td>\n      <td>0</td>\n      <td>0.017090</td>\n      <td>0</td>\n    </tr>\n    <tr>\n      <th>369</th>\n      <td>98543</td>\n      <td>img/98543.png</td>\n      <td>1</td>\n      <td>upper downer</td>\n      <td>0.716129</td>\n      <td>1</td>\n      <td>0.957242</td>\n      <td>1</td>\n    </tr>\n    <tr>\n      <th>371</th>\n      <td>98720</td>\n      <td>img/98720.png</td>\n      <td>0</td>\n      <td>when your wife just died giving birth to your ...</td>\n      <td>0.323133</td>\n      <td>0</td>\n      <td>0.498477</td>\n      <td>0</td>\n    </tr>\n  </tbody>\n</table>\n<p>123 rows × 8 columns</p>\n</div>"
          },
          "metadata": {}
        }
      ],
      "execution_count": null
    },
    {
      "cell_type": "code",
      "metadata": {
        "tags": [],
        "cell_id": "00007-6a84ef18-d651-4ce6-a71f-e78afb655589",
        "deepnote_to_be_reexecuted": false,
        "source_hash": "aa8b094",
        "execution_millis": 51,
        "execution_start": 1618666838619,
        "deepnote_cell_type": "code"
      },
      "source": "base_true = dev_vil_base.loc[dev_vil_base['truth'] == dev_vil_base['baseline_label']]\nbase_true[base_true['truth'] != base_true['vilio_label']]",
      "outputs": [
        {
          "output_type": "execute_result",
          "execution_count": 435,
          "data": {
            "application/vnd.deepnote.dataframe.v2+json": {
              "row_count": 97,
              "column_count": 8,
              "columns": [
                {
                  "name": "id",
                  "dtype": "int64",
                  "stats": {
                    "unique_count": 97,
                    "nan_count": 0,
                    "min": "1268",
                    "max": "97320",
                    "histogram": [
                      {
                        "bin_start": 1268,
                        "bin_end": 10873.2,
                        "count": 14
                      },
                      {
                        "bin_start": 10873.2,
                        "bin_end": 20478.4,
                        "count": 10
                      },
                      {
                        "bin_start": 20478.4,
                        "bin_end": 30083.600000000002,
                        "count": 6
                      },
                      {
                        "bin_start": 30083.600000000002,
                        "bin_end": 39688.8,
                        "count": 9
                      },
                      {
                        "bin_start": 39688.8,
                        "bin_end": 49294,
                        "count": 8
                      },
                      {
                        "bin_start": 49294,
                        "bin_end": 58899.200000000004,
                        "count": 13
                      },
                      {
                        "bin_start": 58899.200000000004,
                        "bin_end": 68504.40000000001,
                        "count": 5
                      },
                      {
                        "bin_start": 68504.40000000001,
                        "bin_end": 78109.6,
                        "count": 10
                      },
                      {
                        "bin_start": 78109.6,
                        "bin_end": 87714.8,
                        "count": 10
                      },
                      {
                        "bin_start": 87714.8,
                        "bin_end": 97320,
                        "count": 12
                      }
                    ]
                  }
                },
                {
                  "name": "img",
                  "dtype": "object",
                  "stats": {
                    "unique_count": 97,
                    "nan_count": 0,
                    "categories": [
                      {
                        "name": "img/01268.png",
                        "count": 1
                      },
                      {
                        "name": "img/02145.png",
                        "count": 1
                      },
                      {
                        "name": "95 others",
                        "count": 95
                      }
                    ]
                  }
                },
                {
                  "name": "truth",
                  "dtype": "int64",
                  "stats": {
                    "unique_count": 2,
                    "nan_count": 0,
                    "min": "0",
                    "max": "1",
                    "histogram": [
                      {
                        "bin_start": 0,
                        "bin_end": 0.1,
                        "count": 48
                      },
                      {
                        "bin_start": 0.1,
                        "bin_end": 0.2,
                        "count": 0
                      },
                      {
                        "bin_start": 0.2,
                        "bin_end": 0.30000000000000004,
                        "count": 0
                      },
                      {
                        "bin_start": 0.30000000000000004,
                        "bin_end": 0.4,
                        "count": 0
                      },
                      {
                        "bin_start": 0.4,
                        "bin_end": 0.5,
                        "count": 0
                      },
                      {
                        "bin_start": 0.5,
                        "bin_end": 0.6000000000000001,
                        "count": 0
                      },
                      {
                        "bin_start": 0.6000000000000001,
                        "bin_end": 0.7000000000000001,
                        "count": 0
                      },
                      {
                        "bin_start": 0.7000000000000001,
                        "bin_end": 0.8,
                        "count": 0
                      },
                      {
                        "bin_start": 0.8,
                        "bin_end": 0.9,
                        "count": 0
                      },
                      {
                        "bin_start": 0.9,
                        "bin_end": 1,
                        "count": 49
                      }
                    ]
                  }
                },
                {
                  "name": "text",
                  "dtype": "object",
                  "stats": {
                    "unique_count": 94,
                    "nan_count": 0,
                    "categories": [
                      {
                        "name": "when your jewish friend smells a stash of coins in public",
                        "count": 2
                      },
                      {
                        "name": "72 virgins are ready to get fucked up",
                        "count": 2
                      },
                      {
                        "name": "92 others",
                        "count": 93
                      }
                    ]
                  }
                },
                {
                  "name": "vilio_proba",
                  "dtype": "float64",
                  "stats": {
                    "unique_count": 97,
                    "nan_count": 0,
                    "min": "0.031388320090431514",
                    "max": "0.9623492102043356",
                    "histogram": [
                      {
                        "bin_start": 0.031388320090431514,
                        "bin_end": 0.12448440910182193,
                        "count": 19
                      },
                      {
                        "bin_start": 0.12448440910182193,
                        "bin_end": 0.21758049811321234,
                        "count": 10
                      },
                      {
                        "bin_start": 0.21758049811321234,
                        "bin_end": 0.3106765871246027,
                        "count": 10
                      },
                      {
                        "bin_start": 0.3106765871246027,
                        "bin_end": 0.40377267613599316,
                        "count": 6
                      },
                      {
                        "bin_start": 0.40377267613599316,
                        "bin_end": 0.4968687651473836,
                        "count": 4
                      },
                      {
                        "bin_start": 0.4968687651473836,
                        "bin_end": 0.5899648541587739,
                        "count": 9
                      },
                      {
                        "bin_start": 0.5899648541587739,
                        "bin_end": 0.6830609431701643,
                        "count": 10
                      },
                      {
                        "bin_start": 0.6830609431701643,
                        "bin_end": 0.7761570321815547,
                        "count": 10
                      },
                      {
                        "bin_start": 0.7761570321815547,
                        "bin_end": 0.8692531211929452,
                        "count": 10
                      },
                      {
                        "bin_start": 0.8692531211929452,
                        "bin_end": 0.9623492102043356,
                        "count": 9
                      }
                    ]
                  }
                },
                {
                  "name": "vilio_label",
                  "dtype": "int64",
                  "stats": {
                    "unique_count": 2,
                    "nan_count": 0,
                    "min": "0",
                    "max": "1",
                    "histogram": [
                      {
                        "bin_start": 0,
                        "bin_end": 0.1,
                        "count": 49
                      },
                      {
                        "bin_start": 0.1,
                        "bin_end": 0.2,
                        "count": 0
                      },
                      {
                        "bin_start": 0.2,
                        "bin_end": 0.30000000000000004,
                        "count": 0
                      },
                      {
                        "bin_start": 0.30000000000000004,
                        "bin_end": 0.4,
                        "count": 0
                      },
                      {
                        "bin_start": 0.4,
                        "bin_end": 0.5,
                        "count": 0
                      },
                      {
                        "bin_start": 0.5,
                        "bin_end": 0.6000000000000001,
                        "count": 0
                      },
                      {
                        "bin_start": 0.6000000000000001,
                        "bin_end": 0.7000000000000001,
                        "count": 0
                      },
                      {
                        "bin_start": 0.7000000000000001,
                        "bin_end": 0.8,
                        "count": 0
                      },
                      {
                        "bin_start": 0.8,
                        "bin_end": 0.9,
                        "count": 0
                      },
                      {
                        "bin_start": 0.9,
                        "bin_end": 1,
                        "count": 48
                      }
                    ]
                  }
                },
                {
                  "name": "baseline_proba",
                  "dtype": "float64",
                  "stats": {
                    "unique_count": 97,
                    "nan_count": 0,
                    "min": "0.0002153582463506",
                    "max": "0.9991581439971924",
                    "histogram": [
                      {
                        "bin_start": 0.0002153582463506,
                        "bin_end": 0.10010963682143478,
                        "count": 40
                      },
                      {
                        "bin_start": 0.10010963682143478,
                        "bin_end": 0.20000391539651896,
                        "count": 2
                      },
                      {
                        "bin_start": 0.20000391539651896,
                        "bin_end": 0.29989819397160317,
                        "count": 0
                      },
                      {
                        "bin_start": 0.29989819397160317,
                        "bin_end": 0.3997924725466873,
                        "count": 3
                      },
                      {
                        "bin_start": 0.3997924725466873,
                        "bin_end": 0.49968675112177147,
                        "count": 3
                      },
                      {
                        "bin_start": 0.49968675112177147,
                        "bin_end": 0.5995810296968557,
                        "count": 3
                      },
                      {
                        "bin_start": 0.5995810296968557,
                        "bin_end": 0.6994753082719398,
                        "count": 5
                      },
                      {
                        "bin_start": 0.6994753082719398,
                        "bin_end": 0.799369586847024,
                        "count": 2
                      },
                      {
                        "bin_start": 0.799369586847024,
                        "bin_end": 0.8992638654221081,
                        "count": 6
                      },
                      {
                        "bin_start": 0.8992638654221081,
                        "bin_end": 0.9991581439971924,
                        "count": 33
                      }
                    ]
                  }
                },
                {
                  "name": "baseline_label",
                  "dtype": "int64",
                  "stats": {
                    "unique_count": 2,
                    "nan_count": 0,
                    "min": "0",
                    "max": "1",
                    "histogram": [
                      {
                        "bin_start": 0,
                        "bin_end": 0.1,
                        "count": 48
                      },
                      {
                        "bin_start": 0.1,
                        "bin_end": 0.2,
                        "count": 0
                      },
                      {
                        "bin_start": 0.2,
                        "bin_end": 0.30000000000000004,
                        "count": 0
                      },
                      {
                        "bin_start": 0.30000000000000004,
                        "bin_end": 0.4,
                        "count": 0
                      },
                      {
                        "bin_start": 0.4,
                        "bin_end": 0.5,
                        "count": 0
                      },
                      {
                        "bin_start": 0.5,
                        "bin_end": 0.6000000000000001,
                        "count": 0
                      },
                      {
                        "bin_start": 0.6000000000000001,
                        "bin_end": 0.7000000000000001,
                        "count": 0
                      },
                      {
                        "bin_start": 0.7000000000000001,
                        "bin_end": 0.8,
                        "count": 0
                      },
                      {
                        "bin_start": 0.8,
                        "bin_end": 0.9,
                        "count": 0
                      },
                      {
                        "bin_start": 0.9,
                        "bin_end": 1,
                        "count": 49
                      }
                    ]
                  }
                },
                {
                  "name": "_deepnote_index_column",
                  "dtype": "int64"
                }
              ],
              "rows_top": [
                {
                  "id": 1268,
                  "img": "img/01268.png",
                  "truth": 0,
                  "text": "father and daughter bonding time is the best like and share if you agree",
                  "vilio_proba": 0.6599672490812551,
                  "vilio_label": 1,
                  "baseline_proba": 0.000416669412516,
                  "baseline_label": 0,
                  "_deepnote_index_column": 0
                },
                {
                  "id": 2145,
                  "img": "img/02145.png",
                  "truth": 0,
                  "text": "and then i asked mom, what's for dinner?",
                  "vilio_proba": 0.9511135121707234,
                  "vilio_label": 1,
                  "baseline_proba": 0.0029210129287093,
                  "baseline_label": 0,
                  "_deepnote_index_column": 7
                },
                {
                  "id": 2478,
                  "img": "img/02478.png",
                  "truth": 1,
                  "text": "must..resist...urge to.. kill whitey.",
                  "vilio_proba": 0.09132358445516046,
                  "vilio_label": 0,
                  "baseline_proba": 0.950066328048706,
                  "baseline_label": 1,
                  "_deepnote_index_column": 9
                },
                {
                  "id": 4621,
                  "img": "img/04621.png",
                  "truth": 0,
                  "text": "you are what you eat meanwhile in africa",
                  "vilio_proba": 0.7071681694261414,
                  "vilio_label": 1,
                  "baseline_proba": 0.0096497796475887,
                  "baseline_label": 0,
                  "_deepnote_index_column": 24
                },
                {
                  "id": 5279,
                  "img": "img/05279.png",
                  "truth": 1,
                  "text": "knowing white people , that's probably the baby father",
                  "vilio_proba": 0.4128863728989441,
                  "vilio_label": 0,
                  "baseline_proba": 0.9673579335212708,
                  "baseline_label": 1,
                  "_deepnote_index_column": 26
                },
                {
                  "id": 5938,
                  "img": "img/05938.png",
                  "truth": 1,
                  "text": "in the muslim world all gay men are well hung",
                  "vilio_proba": 0.10087602093300642,
                  "vilio_label": 0,
                  "baseline_proba": 0.8566374182701111,
                  "baseline_label": 1,
                  "_deepnote_index_column": 29
                },
                {
                  "id": 6491,
                  "img": "img/06491.png",
                  "truth": 1,
                  "text": "tranny for sale",
                  "vilio_proba": 0.27832749898583375,
                  "vilio_label": 0,
                  "baseline_proba": 0.9991409778594972,
                  "baseline_label": 1,
                  "_deepnote_index_column": 33
                },
                {
                  "id": 6582,
                  "img": "img/06582.png",
                  "truth": 1,
                  "text": "they are terrorists anyone who doesn't agree is an idiot",
                  "vilio_proba": 0.09144372861911552,
                  "vilio_label": 0,
                  "baseline_proba": 0.6759946346282959,
                  "baseline_label": 1,
                  "_deepnote_index_column": 34
                },
                {
                  "id": 7198,
                  "img": "img/07198.png",
                  "truth": 1,
                  "text": "islam is a religion of peace stop criticizing my religion",
                  "vilio_proba": 0.2020173329959267,
                  "vilio_label": 0,
                  "baseline_proba": 0.9868454933166504,
                  "baseline_label": 1,
                  "_deepnote_index_column": 37
                },
                {
                  "id": 7351,
                  "img": "img/07351.png",
                  "truth": 0,
                  "text": "\"plays uno steals all the green cards\"",
                  "vilio_proba": 0.7457673617432521,
                  "vilio_label": 1,
                  "baseline_proba": 0.0046547856181859,
                  "baseline_label": 0,
                  "_deepnote_index_column": 38
                },
                {
                  "id": 7528,
                  "img": "img/07528.png",
                  "truth": 1,
                  "text": "the latest and greatest. a truck that comes with a dishwasher!",
                  "vilio_proba": 0.3204350271820951,
                  "vilio_label": 0,
                  "baseline_proba": 0.92363703250885,
                  "baseline_label": 1,
                  "_deepnote_index_column": 40
                },
                {
                  "id": 8291,
                  "img": "img/08291.png",
                  "truth": 1,
                  "text": "white people is this a shooting range",
                  "vilio_proba": 0.12020414021241159,
                  "vilio_label": 0,
                  "baseline_proba": 0.9748093485832214,
                  "baseline_label": 1,
                  "_deepnote_index_column": 42
                },
                {
                  "id": 9467,
                  "img": "img/09467.png",
                  "truth": 1,
                  "text": "when mom asks where all the jews went",
                  "vilio_proba": 0.10965366539308327,
                  "vilio_label": 0,
                  "baseline_proba": 0.9984909296035768,
                  "baseline_label": 1,
                  "_deepnote_index_column": 45
                },
                {
                  "id": 10362,
                  "img": "img/10362.png",
                  "truth": 1,
                  "text": "german british danish austrian diversity. apparently we don't have it and these guys do: iraqi pakistani syrian egyptian",
                  "vilio_proba": 0.12496841725462245,
                  "vilio_label": 0,
                  "baseline_proba": 0.9942575693130492,
                  "baseline_label": 1,
                  "_deepnote_index_column": 48
                },
                {
                  "id": 12650,
                  "img": "img/12650.png",
                  "truth": 1,
                  "text": "which one has tranny problems?",
                  "vilio_proba": 0.10445742170240868,
                  "vilio_label": 0,
                  "baseline_proba": 0.9986903071403505,
                  "baseline_label": 1,
                  "_deepnote_index_column": 54
                },
                {
                  "id": 14389,
                  "img": "img/14389.png",
                  "truth": 1,
                  "text": "democrats we're new, bold, and we hate you! alexandria ocasio-cortez rashida tlais ilhan omar ayanna pressley we hate whites, jews, christians, conservatives, republicans",
                  "vilio_proba": 0.14708762172993536,
                  "vilio_label": 0,
                  "baseline_proba": 0.8584777116775513,
                  "baseline_label": 1,
                  "_deepnote_index_column": 60
                },
                {
                  "id": 14865,
                  "img": "img/14865.png",
                  "truth": 0,
                  "text": "terrible as hitler was, he did enjoy watching sports",
                  "vilio_proba": 0.693864456370484,
                  "vilio_label": 1,
                  "baseline_proba": 0.0021526273339986,
                  "baseline_label": 0,
                  "_deepnote_index_column": 61
                },
                {
                  "id": 16354,
                  "img": "img/16354.png",
                  "truth": 1,
                  "text": "we've taken this country! now fuck off! we're taking it back!",
                  "vilio_proba": 0.16089050506406988,
                  "vilio_label": 0,
                  "baseline_proba": 0.9734377861022948,
                  "baseline_label": 1,
                  "_deepnote_index_column": 63
                },
                {
                  "id": 17045,
                  "img": "img/17045.png",
                  "truth": 0,
                  "text": "celebrating the presidential election",
                  "vilio_proba": 0.6084836566196944,
                  "vilio_label": 1,
                  "baseline_proba": 0.0003955484426114,
                  "baseline_label": 0,
                  "_deepnote_index_column": 70
                },
                {
                  "id": 17963,
                  "img": "img/17963.png",
                  "truth": 1,
                  "text": "removes polish with chemicals nobody bats an eye removes polish with chemicals everybody loses his shit",
                  "vilio_proba": 0.1347248663755519,
                  "vilio_label": 0,
                  "baseline_proba": 0.6272037625312805,
                  "baseline_label": 1,
                  "_deepnote_index_column": 73
                },
                {
                  "id": 18059,
                  "img": "img/18059.png",
                  "truth": 1,
                  "text": "they are like sperm you get millions, but only one works",
                  "vilio_proba": 0.2330791399814501,
                  "vilio_label": 0,
                  "baseline_proba": 0.8579788208007812,
                  "baseline_label": 1,
                  "_deepnote_index_column": 74
                },
                {
                  "id": 18356,
                  "img": "img/18356.png",
                  "truth": 0,
                  "text": "i took a shower this morning",
                  "vilio_proba": 0.5132845776564819,
                  "vilio_label": 1,
                  "baseline_proba": 0.4713156819343567,
                  "baseline_label": 0,
                  "_deepnote_index_column": 76
                },
                {
                  "id": 18367,
                  "img": "img/18367.png",
                  "truth": 0,
                  "text": "i love my slow cooker",
                  "vilio_proba": 0.753422587767206,
                  "vilio_label": 1,
                  "baseline_proba": 0.0003360111149959,
                  "baseline_label": 0,
                  "_deepnote_index_column": 77
                },
                {
                  "id": 19536,
                  "img": "img/19536.png",
                  "truth": 1,
                  "text": "when your jewish friend smells a stash of coins in public",
                  "vilio_proba": 0.10687302260170743,
                  "vilio_label": 0,
                  "baseline_proba": 0.9488875269889832,
                  "baseline_label": 1,
                  "_deepnote_index_column": 87
                },
                {
                  "id": 20984,
                  "img": "img/20984.png",
                  "truth": 0,
                  "text": "when you are white and stole your first bike",
                  "vilio_proba": 0.8658218315857645,
                  "vilio_label": 1,
                  "baseline_proba": 0.3244014084339142,
                  "baseline_label": 0,
                  "_deepnote_index_column": 90
                },
                {
                  "id": 21643,
                  "img": "img/21643.png",
                  "truth": 0,
                  "text": "haha pig man is peeing standing up",
                  "vilio_proba": 0.5646271741230587,
                  "vilio_label": 1,
                  "baseline_proba": 0.0284761134535074,
                  "baseline_label": 0,
                  "_deepnote_index_column": 92
                },
                {
                  "id": 25061,
                  "img": "img/25061.png",
                  "truth": 1,
                  "text": "this is el paso shooter's father. every. single. time",
                  "vilio_proba": 0.06495300927788741,
                  "vilio_label": 0,
                  "baseline_proba": 0.5082871317863464,
                  "baseline_label": 1,
                  "_deepnote_index_column": 98
                },
                {
                  "id": 26439,
                  "img": "img/26439.png",
                  "truth": 0,
                  "text": "parental opioid use has negative effect on children's intelligence",
                  "vilio_proba": 0.5498145141481855,
                  "vilio_label": 1,
                  "baseline_proba": 0.0074095549061894,
                  "baseline_label": 0,
                  "_deepnote_index_column": 101
                },
                {
                  "id": 27498,
                  "img": "img/27498.png",
                  "truth": 1,
                  "text": "who's gonna make the sandwiches? what do we do with all these sandwiches?",
                  "vilio_proba": 0.2548393911007874,
                  "vilio_label": 0,
                  "baseline_proba": 0.7255895733833313,
                  "baseline_label": 1,
                  "_deepnote_index_column": 106
                },
                {
                  "id": 29873,
                  "img": "img/29873.png",
                  "truth": 1,
                  "text": "who knew that this country is full of white trash",
                  "vilio_proba": 0.10348678914449115,
                  "vilio_label": 0,
                  "baseline_proba": 0.9987481832504272,
                  "baseline_label": 1,
                  "_deepnote_index_column": 117
                },
                {
                  "id": 30642,
                  "img": "img/30642.png",
                  "truth": 0,
                  "text": "rabbi sitting in synagogue chillin and doing his thing",
                  "vilio_proba": 0.7689567824601728,
                  "vilio_label": 1,
                  "baseline_proba": 0.0038442346267402,
                  "baseline_label": 0,
                  "_deepnote_index_column": 120
                },
                {
                  "id": 30927,
                  "img": "img/30927.png",
                  "truth": 0,
                  "text": "doesnt let anything stop her have a great day",
                  "vilio_proba": 0.6169143180978145,
                  "vilio_label": 1,
                  "baseline_proba": 0.0004718325799331,
                  "baseline_label": 0,
                  "_deepnote_index_column": 121
                },
                {
                  "id": 32415,
                  "img": "img/32415.png",
                  "truth": 0,
                  "text": "when finishing a race is your passion",
                  "vilio_proba": 0.5570519725064561,
                  "vilio_label": 1,
                  "baseline_proba": 0.0043011866509914,
                  "baseline_label": 0,
                  "_deepnote_index_column": 126
                },
                {
                  "id": 32691,
                  "img": "img/32691.png",
                  "truth": 1,
                  "text": "this is how muslims celebrate new year",
                  "vilio_proba": 0.23447744183123675,
                  "vilio_label": 0,
                  "baseline_proba": 0.9887601137161256,
                  "baseline_label": 1,
                  "_deepnote_index_column": 127
                },
                {
                  "id": 34209,
                  "img": "img/34209.png",
                  "truth": 0,
                  "text": "how about a nice 12 yr old? bartender: him: boy i would love that",
                  "vilio_proba": 0.6178361996759151,
                  "vilio_label": 1,
                  "baseline_proba": 0.3534626364707947,
                  "baseline_label": 0,
                  "_deepnote_index_column": 131
                },
                {
                  "id": 35840,
                  "img": "img/35840.png",
                  "truth": 1,
                  "text": "i ordered a dishwasher and they sent me a sandwich maker",
                  "vilio_proba": 0.2814736627913767,
                  "vilio_label": 0,
                  "baseline_proba": 0.5639901161193848,
                  "baseline_label": 1,
                  "_deepnote_index_column": 137
                },
                {
                  "id": 36201,
                  "img": "img/36201.png",
                  "truth": 0,
                  "text": "look at me bling up my prosthetic",
                  "vilio_proba": 0.7068465839076542,
                  "vilio_label": 1,
                  "baseline_proba": 0.0016572135500609,
                  "baseline_label": 0,
                  "_deepnote_index_column": 138
                },
                {
                  "id": 37658,
                  "img": "img/37658.png",
                  "truth": 1,
                  "text": "when your dishwasher is broken so you take it back to walmart to get a new one",
                  "vilio_proba": 0.031388320090431514,
                  "vilio_label": 0,
                  "baseline_proba": 0.9965943694114684,
                  "baseline_label": 1,
                  "_deepnote_index_column": 141
                },
                {
                  "id": 38914,
                  "img": "img/38914.png",
                  "truth": 0,
                  "text": "cotton candy is what makes the theme park wonderful",
                  "vilio_proba": 0.7871611810741841,
                  "vilio_label": 1,
                  "baseline_proba": 0.0011961316922679,
                  "baseline_label": 0,
                  "_deepnote_index_column": 143
                },
                {
                  "id": 41728,
                  "img": "img/41728.png",
                  "truth": 0,
                  "text": "i believe they are like racism. just shouldn't exist",
                  "vilio_proba": 0.5990840183190341,
                  "vilio_label": 1,
                  "baseline_proba": 0.3438226878643036,
                  "baseline_label": 0,
                  "_deepnote_index_column": 152
                },
                {
                  "id": 42058,
                  "img": "img/42058.png",
                  "truth": 0,
                  "text": "for lunch vlad the impaler loved turkey",
                  "vilio_proba": 0.5191766319311178,
                  "vilio_label": 1,
                  "baseline_proba": 0.0004040791536681,
                  "baseline_label": 0,
                  "_deepnote_index_column": 155
                },
                {
                  "id": 42538,
                  "img": "img/42538.png",
                  "truth": 0,
                  "text": "and at that moment everything else in the world just melted away",
                  "vilio_proba": 0.9472732380503808,
                  "vilio_label": 1,
                  "baseline_proba": 0.0031926971860229,
                  "baseline_label": 0,
                  "_deepnote_index_column": 156
                },
                {
                  "id": 43275,
                  "img": "img/43275.png",
                  "truth": 1,
                  "text": "my husband is always pushing me around... and talking behind my back",
                  "vilio_proba": 0.0890434841970696,
                  "vilio_label": 0,
                  "baseline_proba": 0.6871054768562317,
                  "baseline_label": 1,
                  "_deepnote_index_column": 161
                },
                {
                  "id": 46082,
                  "img": "img/46082.png",
                  "truth": 0,
                  "text": "the future of the democratic party",
                  "vilio_proba": 0.6974647413070939,
                  "vilio_label": 1,
                  "baseline_proba": 0.0002891049080062,
                  "baseline_label": 0,
                  "_deepnote_index_column": 166
                },
                {
                  "id": 46518,
                  "img": "img/46518.png",
                  "truth": 1,
                  "text": "it's the goat humper, looks like a bunch of pigs just walked over your grave",
                  "vilio_proba": 0.07983990265575759,
                  "vilio_label": 0,
                  "baseline_proba": 0.9991581439971924,
                  "baseline_label": 1,
                  "_deepnote_index_column": 168
                },
                {
                  "id": 47263,
                  "img": "img/47263.png",
                  "truth": 1,
                  "text": "pre-heat to 350 degrees",
                  "vilio_proba": 0.3118852396744621,
                  "vilio_label": 0,
                  "baseline_proba": 0.9862132668495178,
                  "baseline_label": 1,
                  "_deepnote_index_column": 176
                },
                {
                  "id": 48370,
                  "img": "img/48370.png",
                  "truth": 1,
                  "text": "72 virgins are ready to get fucked up",
                  "vilio_proba": 0.2215197028369807,
                  "vilio_label": 0,
                  "baseline_proba": 0.9946787357330322,
                  "baseline_label": 1,
                  "_deepnote_index_column": 179
                },
                {
                  "id": 49360,
                  "img": "img/49360.png",
                  "truth": 0,
                  "text": "who wants ice cream me me me",
                  "vilio_proba": 0.5934410356630376,
                  "vilio_label": 1,
                  "baseline_proba": 0.0350948423147201,
                  "baseline_label": 0,
                  "_deepnote_index_column": 182
                },
                {
                  "id": 50198,
                  "img": "img/50198.png",
                  "truth": 0,
                  "text": "you don't need cocaine to be happy",
                  "vilio_proba": 0.8703278913057436,
                  "vilio_label": 1,
                  "baseline_proba": 0.0008368726121261,
                  "baseline_label": 0,
                  "_deepnote_index_column": 187
                },
                {
                  "id": 50841,
                  "img": "img/50841.png",
                  "truth": 0,
                  "text": "give them what they deserve kill them all",
                  "vilio_proba": 0.8248509603513351,
                  "vilio_label": 1,
                  "baseline_proba": 0.0086847124621272,
                  "baseline_label": 0,
                  "_deepnote_index_column": 189
                },
                {
                  "id": 51607,
                  "img": "img/51607.png",
                  "truth": 1,
                  "text": "49 people were killed at christchurch muslim 49 people were killed at christchurch mosques muslim",
                  "vilio_proba": 0.42987028784161313,
                  "vilio_label": 0,
                  "baseline_proba": 0.685238778591156,
                  "baseline_label": 1,
                  "_deepnote_index_column": 192
                },
                {
                  "id": 51807,
                  "img": "img/51807.png",
                  "truth": 0,
                  "text": "are you a boy or a girl i'm non binary",
                  "vilio_proba": 0.6152750009444848,
                  "vilio_label": 1,
                  "baseline_proba": 0.0524027310311794,
                  "baseline_label": 0,
                  "_deepnote_index_column": 193
                },
                {
                  "id": 52079,
                  "img": "img/52079.png",
                  "truth": 0,
                  "text": "just bought a house! now we're house-poor",
                  "vilio_proba": 0.8871416847363673,
                  "vilio_label": 1,
                  "baseline_proba": 0.0012392692733556,
                  "baseline_label": 0,
                  "_deepnote_index_column": 194
                },
                {
                  "id": 53027,
                  "img": "img/53027.png",
                  "truth": 0,
                  "text": "putting bows on your pet",
                  "vilio_proba": 0.8442494356384043,
                  "vilio_label": 1,
                  "baseline_proba": 0.0269637051969766,
                  "baseline_label": 0,
                  "_deepnote_index_column": 198
                },
                {
                  "id": 54069,
                  "img": "img/54069.png",
                  "truth": 1,
                  "text": "when you decide to go full gas",
                  "vilio_proba": 0.2942635518037026,
                  "vilio_label": 0,
                  "baseline_proba": 0.9896901845932008,
                  "baseline_label": 1,
                  "_deepnote_index_column": 203
                },
                {
                  "id": 56124,
                  "img": "img/56124.png",
                  "truth": 0,
                  "text": "how to cook turkey in usa how to cook turkey in romania",
                  "vilio_proba": 0.8679333496650903,
                  "vilio_label": 1,
                  "baseline_proba": 0.0006076775607652,
                  "baseline_label": 0,
                  "_deepnote_index_column": 210
                },
                {
                  "id": 56241,
                  "img": "img/56241.png",
                  "truth": 1,
                  "text": "94% of them test positive for rh blood type which means they have monkey blood as a result they are born with a tail and other animal traits",
                  "vilio_proba": 0.19131348505290438,
                  "vilio_label": 0,
                  "baseline_proba": 0.7841047048568726,
                  "baseline_label": 1,
                  "_deepnote_index_column": 212
                },
                {
                  "id": 57208,
                  "img": "img/57208.png",
                  "truth": 0,
                  "text": "i had potato for lunch",
                  "vilio_proba": 0.8855566468946657,
                  "vilio_label": 1,
                  "baseline_proba": 0.134384274482727,
                  "baseline_label": 0,
                  "_deepnote_index_column": 214
                },
                {
                  "id": 57621,
                  "img": "img/57621.png",
                  "truth": 1,
                  "text": "if this gets 1k likes i'll post to islam how we see muslims how muslims see us",
                  "vilio_proba": 0.3170901189265551,
                  "vilio_label": 0,
                  "baseline_proba": 0.9450410604476928,
                  "baseline_label": 1,
                  "_deepnote_index_column": 216
                },
                {
                  "id": 57823,
                  "img": "img/57823.png",
                  "truth": 0,
                  "text": "bitches be like no weave, no makeup, no lashes, no eyebrows & no filter. all natural",
                  "vilio_proba": 0.9375455903096688,
                  "vilio_label": 1,
                  "baseline_proba": 0.005473970901221,
                  "baseline_label": 0,
                  "_deepnote_index_column": 217
                },
                {
                  "id": 60183,
                  "img": "img/60183.png",
                  "truth": 1,
                  "text": "nein danke i'm very happy with my gas supplier",
                  "vilio_proba": 0.20309770171177607,
                  "vilio_label": 0,
                  "baseline_proba": 0.9526181817054749,
                  "baseline_label": 1,
                  "_deepnote_index_column": 222
                },
                {
                  "id": 63827,
                  "img": "img/63827.png",
                  "truth": 1,
                  "text": "teacher of the year for black community",
                  "vilio_proba": 0.08953794802239842,
                  "vilio_label": 0,
                  "baseline_proba": 0.9943547248840332,
                  "baseline_label": 1,
                  "_deepnote_index_column": 232
                },
                {
                  "id": 64510,
                  "img": "img/64510.png",
                  "truth": 0,
                  "text": "mohammad won the contest in putting underwear on goats",
                  "vilio_proba": 0.6265195639652856,
                  "vilio_label": 1,
                  "baseline_proba": 0.0008810405270196,
                  "baseline_label": 0,
                  "_deepnote_index_column": 237
                },
                {
                  "id": 64891,
                  "img": "img/64891.png",
                  "truth": 1,
                  "text": "lebanon: before muslims after muslims but don't worry! after islam takes over there'll be a golden age.. apparently",
                  "vilio_proba": 0.20285674998404904,
                  "vilio_label": 0,
                  "baseline_proba": 0.9486584067344666,
                  "baseline_label": 1,
                  "_deepnote_index_column": 238
                },
                {
                  "id": 68257,
                  "img": "img/68257.png",
                  "truth": 0,
                  "text": "everyone is afraid of dark",
                  "vilio_proba": 0.7311644870264353,
                  "vilio_label": 1,
                  "baseline_proba": 0.0002153582463506,
                  "baseline_label": 0,
                  "_deepnote_index_column": 250
                },
                {
                  "id": 68530,
                  "img": "img/68530.png",
                  "truth": 1,
                  "text": "a fast sandwich maker",
                  "vilio_proba": 0.40254446606811173,
                  "vilio_label": 0,
                  "baseline_proba": 0.9896461367607116,
                  "baseline_label": 1,
                  "_deepnote_index_column": 253
                },
                {
                  "id": 71680,
                  "img": "img/71680.png",
                  "truth": 1,
                  "text": "muslim strip club",
                  "vilio_proba": 0.23157060810942312,
                  "vilio_label": 0,
                  "baseline_proba": 0.99497652053833,
                  "baseline_label": 1,
                  "_deepnote_index_column": 256
                },
                {
                  "id": 72061,
                  "img": "img/72061.png",
                  "truth": 1,
                  "text": "i like my rice crispy please",
                  "vilio_proba": 0.4082034980088326,
                  "vilio_label": 0,
                  "baseline_proba": 0.9054176807403564,
                  "baseline_label": 1,
                  "_deepnote_index_column": 258
                },
                {
                  "id": 72168,
                  "img": "img/72168.png",
                  "truth": 1,
                  "text": "upper downer",
                  "vilio_proba": 0.3640435109787658,
                  "vilio_label": 0,
                  "baseline_proba": 0.5605072379112244,
                  "baseline_label": 1,
                  "_deepnote_index_column": 259
                },
                {
                  "id": 73605,
                  "img": "img/73605.png",
                  "truth": 0,
                  "text": "no matter what smile",
                  "vilio_proba": 0.7979350496394073,
                  "vilio_label": 1,
                  "baseline_proba": 0.0003228979185223,
                  "baseline_label": 0,
                  "_deepnote_index_column": 266
                },
                {
                  "id": 73945,
                  "img": "img/73945.png",
                  "truth": 0,
                  "text": "jamal is holding a gun",
                  "vilio_proba": 0.6288285340934828,
                  "vilio_label": 1,
                  "baseline_proba": 0.0008091588970273,
                  "baseline_label": 0,
                  "_deepnote_index_column": 268
                },
                {
                  "id": 74250,
                  "img": "img/74250.png",
                  "truth": 0,
                  "text": "white kids kids dreaming about their first day of school",
                  "vilio_proba": 0.7974805261686364,
                  "vilio_label": 1,
                  "baseline_proba": 0.0042455913498997,
                  "baseline_label": 0,
                  "_deepnote_index_column": 271
                },
                {
                  "id": 74350,
                  "img": "img/74350.png",
                  "truth": 1,
                  "text": "a head diaper is required when you have shit for brains",
                  "vilio_proba": 0.12288357276202624,
                  "vilio_label": 0,
                  "baseline_proba": 0.8502548336982727,
                  "baseline_label": 1,
                  "_deepnote_index_column": 272
                },
                {
                  "id": 74906,
                  "img": "img/74906.png",
                  "truth": 1,
                  "text": "are you a boy or a girl i'm non binary",
                  "vilio_proba": 0.12868940717373648,
                  "vilio_label": 0,
                  "baseline_proba": 0.8964343070983887,
                  "baseline_label": 1,
                  "_deepnote_index_column": 273
                },
                {
                  "id": 76295,
                  "img": "img/76295.png",
                  "truth": 0,
                  "text": "islamic extremist planning new project",
                  "vilio_proba": 0.5673104373843154,
                  "vilio_label": 1,
                  "baseline_proba": 0.0006678058998659,
                  "baseline_label": 0,
                  "_deepnote_index_column": 282
                },
                {
                  "id": 80597,
                  "img": "img/80597.png",
                  "truth": 1,
                  "text": "look! it says it right here! we can fuck goats!",
                  "vilio_proba": 0.09405687524179712,
                  "vilio_label": 0,
                  "baseline_proba": 0.995854914188385,
                  "baseline_label": 1,
                  "_deepnote_index_column": 293
                },
                {
                  "id": 82509,
                  "img": "img/82509.png",
                  "truth": 0,
                  "text": "72 virgins are ready to get fucked up",
                  "vilio_proba": 0.7894898692263038,
                  "vilio_label": 1,
                  "baseline_proba": 0.4079445600509643,
                  "baseline_label": 0,
                  "_deepnote_index_column": 297
                },
                {
                  "id": 83045,
                  "img": "img/83045.png",
                  "truth": 1,
                  "text": "so much trash, we need a garbage collector",
                  "vilio_proba": 0.31719381783901973,
                  "vilio_label": 0,
                  "baseline_proba": 0.8261997103691101,
                  "baseline_label": 1,
                  "_deepnote_index_column": 299
                },
                {
                  "id": 83497,
                  "img": "img/83497.png",
                  "truth": 0,
                  "text": "different types of radicalization",
                  "vilio_proba": 0.8578539501419755,
                  "vilio_label": 1,
                  "baseline_proba": 0.0202046670019626,
                  "baseline_label": 0,
                  "_deepnote_index_column": 301
                },
                {
                  "id": 84150,
                  "img": "img/84150.png",
                  "truth": 0,
                  "text": "when your jewish friend smells a stash of coins in public",
                  "vilio_proba": 0.9623492102043356,
                  "vilio_label": 1,
                  "baseline_proba": 0.1303349137306213,
                  "baseline_label": 0,
                  "_deepnote_index_column": 309
                },
                {
                  "id": 84762,
                  "img": "img/84762.png",
                  "truth": 1,
                  "text": "do you know how to turn your dishwasher into a snowblower? throw em a shovel",
                  "vilio_proba": 0.10248721761231992,
                  "vilio_label": 0,
                  "baseline_proba": 0.9946393370628356,
                  "baseline_label": 1,
                  "_deepnote_index_column": 313
                },
                {
                  "id": 86170,
                  "img": "img/86170.png",
                  "truth": 1,
                  "text": "how to keep the thefts out",
                  "vilio_proba": 0.11603938987030354,
                  "vilio_label": 0,
                  "baseline_proba": 0.9877166152000428,
                  "baseline_label": 1,
                  "_deepnote_index_column": 317
                },
                {
                  "id": 86195,
                  "img": "img/86195.png",
                  "truth": 0,
                  "text": "dolled up and rolling with the gang like",
                  "vilio_proba": 0.8942930622846138,
                  "vilio_label": 1,
                  "baseline_proba": 0.0024568219669163,
                  "baseline_label": 0,
                  "_deepnote_index_column": 318
                },
                {
                  "id": 87130,
                  "img": "img/87130.png",
                  "truth": 1,
                  "text": "finally finding the right tutorial you need indian accent",
                  "vilio_proba": 0.10565215071862029,
                  "vilio_label": 0,
                  "baseline_proba": 0.6119992136955261,
                  "baseline_label": 1,
                  "_deepnote_index_column": 321
                },
                {
                  "id": 87251,
                  "img": "img/87251.png",
                  "truth": 0,
                  "text": "i love apes they are both ugly and cute",
                  "vilio_proba": 0.8188836212540958,
                  "vilio_label": 1,
                  "baseline_proba": 0.0013778420398011,
                  "baseline_label": 0,
                  "_deepnote_index_column": 323
                },
                {
                  "id": 90843,
                  "img": "img/90843.png",
                  "truth": 0,
                  "text": "time to put the \"panic\" back in hispanic",
                  "vilio_proba": 0.880397167839053,
                  "vilio_label": 1,
                  "baseline_proba": 0.0077020144090056,
                  "baseline_label": 0,
                  "_deepnote_index_column": 331
                },
                {
                  "id": 92058,
                  "img": "img/92058.png",
                  "truth": 1,
                  "text": "how black people became christians",
                  "vilio_proba": 0.2259671671538348,
                  "vilio_label": 0,
                  "baseline_proba": 0.9863152503967284,
                  "baseline_label": 1,
                  "_deepnote_index_column": 337
                },
                {
                  "id": 92317,
                  "img": "img/92317.png",
                  "truth": 0,
                  "text": "you either die a hero, or live long enough to become the villain",
                  "vilio_proba": 0.5053475811597441,
                  "vilio_label": 1,
                  "baseline_proba": 0.0012036320986226,
                  "baseline_label": 0,
                  "_deepnote_index_column": 339
                },
                {
                  "id": 94185,
                  "img": "img/94185.png",
                  "truth": 1,
                  "text": "how a black woman can fight crime",
                  "vilio_proba": 0.17489265650407607,
                  "vilio_label": 0,
                  "baseline_proba": 0.9264307618141174,
                  "baseline_label": 1,
                  "_deepnote_index_column": 348
                },
                {
                  "id": 94387,
                  "img": "img/94387.png",
                  "truth": 0,
                  "text": "i'm a fan of the color black on you although the rose gold looks pretty good as well",
                  "vilio_proba": 0.727078178798654,
                  "vilio_label": 1,
                  "baseline_proba": 0.4079592823982239,
                  "baseline_label": 0,
                  "_deepnote_index_column": 349
                },
                {
                  "id": 95173,
                  "img": "img/95173.png",
                  "truth": 0,
                  "text": "take the third reich and then the first left?",
                  "vilio_proba": 0.5696617327279878,
                  "vilio_label": 1,
                  "baseline_proba": 0.0011891757603734,
                  "baseline_label": 0,
                  "_deepnote_index_column": 353
                },
                {
                  "id": 95487,
                  "img": "img/95487.png",
                  "truth": 0,
                  "text": "watching vegetables grow",
                  "vilio_proba": 0.5593262719320472,
                  "vilio_label": 1,
                  "baseline_proba": 0.0003033733810298,
                  "baseline_label": 0,
                  "_deepnote_index_column": 354
                },
                {
                  "id": 95613,
                  "img": "img/95613.png",
                  "truth": 1,
                  "text": "what a weird way to spell fat and single",
                  "vilio_proba": 0.21921641061268318,
                  "vilio_label": 0,
                  "baseline_proba": 0.990125060081482,
                  "baseline_label": 1,
                  "_deepnote_index_column": 356
                },
                {
                  "id": 96312,
                  "img": "img/96312.png",
                  "truth": 0,
                  "text": "when you support your little one every step of the way",
                  "vilio_proba": 0.701752562757721,
                  "vilio_label": 1,
                  "baseline_proba": 0.000296286860248,
                  "baseline_label": 0,
                  "_deepnote_index_column": 362
                },
                {
                  "id": 96472,
                  "img": "img/96472.png",
                  "truth": 1,
                  "text": "white power!",
                  "vilio_proba": 0.10551314634356242,
                  "vilio_label": 0,
                  "baseline_proba": 0.9768988490104676,
                  "baseline_label": 1,
                  "_deepnote_index_column": 363
                },
                {
                  "id": 97305,
                  "img": "img/97305.png",
                  "truth": 1,
                  "text": "when your wife just died giving birth to your daughter and you're alone in the room with your naked just born daughter",
                  "vilio_proba": 0.4345765127928646,
                  "vilio_label": 0,
                  "baseline_proba": 0.9855976700782776,
                  "baseline_label": 1,
                  "_deepnote_index_column": 365
                },
                {
                  "id": 97320,
                  "img": "img/97320.png",
                  "truth": 0,
                  "text": "\"when your dishwasher is broken so you take it back to walmart to get a new one\"",
                  "vilio_proba": 0.6668458353960973,
                  "vilio_label": 1,
                  "baseline_proba": 0.0004163712146691,
                  "baseline_label": 0,
                  "_deepnote_index_column": 366
                }
              ],
              "rows_bottom": null
            },
            "text/plain": "        id            img  truth  \\\n0     1268  img/01268.png      0   \n7     2145  img/02145.png      0   \n9     2478  img/02478.png      1   \n24    4621  img/04621.png      0   \n26    5279  img/05279.png      1   \n..     ...            ...    ...   \n356  95613  img/95613.png      1   \n362  96312  img/96312.png      0   \n363  96472  img/96472.png      1   \n365  97305  img/97305.png      1   \n366  97320  img/97320.png      0   \n\n                                                  text  vilio_proba  \\\n0    father and daughter bonding time is the best l...     0.659967   \n7             and then i asked mom, what's for dinner?     0.951114   \n9                must..resist...urge to.. kill whitey.     0.091324   \n24            you are what you eat meanwhile in africa     0.707168   \n26   knowing white people , that's probably the bab...     0.412886   \n..                                                 ...          ...   \n356           what a weird way to spell fat and single     0.219216   \n362  when you support your little one every step of...     0.701753   \n363                                       white power!     0.105513   \n365  when your wife just died giving birth to your ...     0.434577   \n366  \"when your dishwasher is broken so you take it...     0.666846   \n\n     vilio_label  baseline_proba  baseline_label  \n0              1        0.000417               0  \n7              1        0.002921               0  \n9              0        0.950066               1  \n24             1        0.009650               0  \n26             0        0.967358               1  \n..           ...             ...             ...  \n356            0        0.990125               1  \n362            1        0.000296               0  \n363            0        0.976899               1  \n365            0        0.985598               1  \n366            1        0.000416               0  \n\n[97 rows x 8 columns]",
            "text/html": "<div>\n<style scoped>\n    .dataframe tbody tr th:only-of-type {\n        vertical-align: middle;\n    }\n\n    .dataframe tbody tr th {\n        vertical-align: top;\n    }\n\n    .dataframe thead th {\n        text-align: right;\n    }\n</style>\n<table border=\"1\" class=\"dataframe\">\n  <thead>\n    <tr style=\"text-align: right;\">\n      <th></th>\n      <th>id</th>\n      <th>img</th>\n      <th>truth</th>\n      <th>text</th>\n      <th>vilio_proba</th>\n      <th>vilio_label</th>\n      <th>baseline_proba</th>\n      <th>baseline_label</th>\n    </tr>\n  </thead>\n  <tbody>\n    <tr>\n      <th>0</th>\n      <td>1268</td>\n      <td>img/01268.png</td>\n      <td>0</td>\n      <td>father and daughter bonding time is the best l...</td>\n      <td>0.659967</td>\n      <td>1</td>\n      <td>0.000417</td>\n      <td>0</td>\n    </tr>\n    <tr>\n      <th>7</th>\n      <td>2145</td>\n      <td>img/02145.png</td>\n      <td>0</td>\n      <td>and then i asked mom, what's for dinner?</td>\n      <td>0.951114</td>\n      <td>1</td>\n      <td>0.002921</td>\n      <td>0</td>\n    </tr>\n    <tr>\n      <th>9</th>\n      <td>2478</td>\n      <td>img/02478.png</td>\n      <td>1</td>\n      <td>must..resist...urge to.. kill whitey.</td>\n      <td>0.091324</td>\n      <td>0</td>\n      <td>0.950066</td>\n      <td>1</td>\n    </tr>\n    <tr>\n      <th>24</th>\n      <td>4621</td>\n      <td>img/04621.png</td>\n      <td>0</td>\n      <td>you are what you eat meanwhile in africa</td>\n      <td>0.707168</td>\n      <td>1</td>\n      <td>0.009650</td>\n      <td>0</td>\n    </tr>\n    <tr>\n      <th>26</th>\n      <td>5279</td>\n      <td>img/05279.png</td>\n      <td>1</td>\n      <td>knowing white people , that's probably the bab...</td>\n      <td>0.412886</td>\n      <td>0</td>\n      <td>0.967358</td>\n      <td>1</td>\n    </tr>\n    <tr>\n      <th>...</th>\n      <td>...</td>\n      <td>...</td>\n      <td>...</td>\n      <td>...</td>\n      <td>...</td>\n      <td>...</td>\n      <td>...</td>\n      <td>...</td>\n    </tr>\n    <tr>\n      <th>356</th>\n      <td>95613</td>\n      <td>img/95613.png</td>\n      <td>1</td>\n      <td>what a weird way to spell fat and single</td>\n      <td>0.219216</td>\n      <td>0</td>\n      <td>0.990125</td>\n      <td>1</td>\n    </tr>\n    <tr>\n      <th>362</th>\n      <td>96312</td>\n      <td>img/96312.png</td>\n      <td>0</td>\n      <td>when you support your little one every step of...</td>\n      <td>0.701753</td>\n      <td>1</td>\n      <td>0.000296</td>\n      <td>0</td>\n    </tr>\n    <tr>\n      <th>363</th>\n      <td>96472</td>\n      <td>img/96472.png</td>\n      <td>1</td>\n      <td>white power!</td>\n      <td>0.105513</td>\n      <td>0</td>\n      <td>0.976899</td>\n      <td>1</td>\n    </tr>\n    <tr>\n      <th>365</th>\n      <td>97305</td>\n      <td>img/97305.png</td>\n      <td>1</td>\n      <td>when your wife just died giving birth to your ...</td>\n      <td>0.434577</td>\n      <td>0</td>\n      <td>0.985598</td>\n      <td>1</td>\n    </tr>\n    <tr>\n      <th>366</th>\n      <td>97320</td>\n      <td>img/97320.png</td>\n      <td>0</td>\n      <td>\"when your dishwasher is broken so you take it...</td>\n      <td>0.666846</td>\n      <td>1</td>\n      <td>0.000416</td>\n      <td>0</td>\n    </tr>\n  </tbody>\n</table>\n<p>97 rows × 8 columns</p>\n</div>"
          },
          "metadata": {}
        }
      ],
      "execution_count": null
    },
    {
      "cell_type": "code",
      "metadata": {
        "tags": [],
        "cell_id": "00007-44479a44-0991-4480-b734-5454f1c376cb",
        "deepnote_to_be_reexecuted": false,
        "source_hash": "cd778285",
        "execution_millis": 41,
        "execution_start": 1618666838666,
        "deepnote_cell_type": "code"
      },
      "source": "vbens = pd.read_csv('visualbert_ensemble_devseen.csv', names=['id', 'proba', 'label']).sort_values(by='id')\nvbens",
      "outputs": [
        {
          "output_type": "execute_result",
          "execution_count": 436,
          "data": {
            "application/vnd.deepnote.dataframe.v2+json": {
              "row_count": 500,
              "column_count": 3,
              "columns": [
                {
                  "name": "id",
                  "dtype": "int64",
                  "stats": {
                    "unique_count": 500,
                    "nan_count": 0,
                    "min": "1268",
                    "max": "98720",
                    "histogram": [
                      {
                        "bin_start": 1268,
                        "bin_end": 11013.2,
                        "count": 64
                      },
                      {
                        "bin_start": 11013.2,
                        "bin_end": 20758.4,
                        "count": 47
                      },
                      {
                        "bin_start": 20758.4,
                        "bin_end": 30503.600000000002,
                        "count": 41
                      },
                      {
                        "bin_start": 30503.600000000002,
                        "bin_end": 40248.8,
                        "count": 43
                      },
                      {
                        "bin_start": 40248.8,
                        "bin_end": 49994,
                        "count": 52
                      },
                      {
                        "bin_start": 49994,
                        "bin_end": 59739.200000000004,
                        "count": 52
                      },
                      {
                        "bin_start": 59739.200000000004,
                        "bin_end": 69484.40000000001,
                        "count": 48
                      },
                      {
                        "bin_start": 69484.40000000001,
                        "bin_end": 79229.6,
                        "count": 44
                      },
                      {
                        "bin_start": 79229.6,
                        "bin_end": 88974.8,
                        "count": 46
                      },
                      {
                        "bin_start": 88974.8,
                        "bin_end": 98720,
                        "count": 63
                      }
                    ]
                  }
                },
                {
                  "name": "proba",
                  "dtype": "float64",
                  "stats": {
                    "unique_count": 498,
                    "nan_count": 0,
                    "min": "0.0001490238064434",
                    "max": "0.9998717308044434",
                    "histogram": [
                      {
                        "bin_start": 0.0001490238064434,
                        "bin_end": 0.1001212945062434,
                        "count": 339
                      },
                      {
                        "bin_start": 0.1001212945062434,
                        "bin_end": 0.2000935652060434,
                        "count": 0
                      },
                      {
                        "bin_start": 0.2000935652060434,
                        "bin_end": 0.3000658359058434,
                        "count": 0
                      },
                      {
                        "bin_start": 0.3000658359058434,
                        "bin_end": 0.4000381066056434,
                        "count": 0
                      },
                      {
                        "bin_start": 0.4000381066056434,
                        "bin_end": 0.5000103773054434,
                        "count": 0
                      },
                      {
                        "bin_start": 0.5000103773054434,
                        "bin_end": 0.5999826480052435,
                        "count": 0
                      },
                      {
                        "bin_start": 0.5999826480052435,
                        "bin_end": 0.6999549187050434,
                        "count": 0
                      },
                      {
                        "bin_start": 0.6999549187050434,
                        "bin_end": 0.7999271894048434,
                        "count": 0
                      },
                      {
                        "bin_start": 0.7999271894048434,
                        "bin_end": 0.8998994601046434,
                        "count": 0
                      },
                      {
                        "bin_start": 0.8998994601046434,
                        "bin_end": 0.9998717308044434,
                        "count": 161
                      }
                    ]
                  }
                },
                {
                  "name": "label",
                  "dtype": "int64",
                  "stats": {
                    "unique_count": 2,
                    "nan_count": 0,
                    "min": "0",
                    "max": "1",
                    "histogram": [
                      {
                        "bin_start": 0,
                        "bin_end": 0.1,
                        "count": 339
                      },
                      {
                        "bin_start": 0.1,
                        "bin_end": 0.2,
                        "count": 0
                      },
                      {
                        "bin_start": 0.2,
                        "bin_end": 0.30000000000000004,
                        "count": 0
                      },
                      {
                        "bin_start": 0.30000000000000004,
                        "bin_end": 0.4,
                        "count": 0
                      },
                      {
                        "bin_start": 0.4,
                        "bin_end": 0.5,
                        "count": 0
                      },
                      {
                        "bin_start": 0.5,
                        "bin_end": 0.6000000000000001,
                        "count": 0
                      },
                      {
                        "bin_start": 0.6000000000000001,
                        "bin_end": 0.7000000000000001,
                        "count": 0
                      },
                      {
                        "bin_start": 0.7000000000000001,
                        "bin_end": 0.8,
                        "count": 0
                      },
                      {
                        "bin_start": 0.8,
                        "bin_end": 0.9,
                        "count": 0
                      },
                      {
                        "bin_start": 0.9,
                        "bin_end": 1,
                        "count": 161
                      }
                    ]
                  }
                },
                {
                  "name": "_deepnote_index_column",
                  "dtype": "int64"
                }
              ],
              "rows_top": [
                {
                  "id": 1268,
                  "proba": 0.0002301432832609,
                  "label": 0,
                  "_deepnote_index_column": 494
                },
                {
                  "id": 1456,
                  "proba": 0.9642950296401978,
                  "label": 1,
                  "_deepnote_index_column": 159
                },
                {
                  "id": 1726,
                  "proba": 0.9958972930908204,
                  "label": 1,
                  "_deepnote_index_column": 332
                },
                {
                  "id": 1742,
                  "proba": 0.0002477078523952,
                  "label": 0,
                  "_deepnote_index_column": 220
                },
                {
                  "id": 1765,
                  "proba": 0.999624252319336,
                  "label": 1,
                  "_deepnote_index_column": 217
                },
                {
                  "id": 1796,
                  "proba": 0.0672107711434364,
                  "label": 0,
                  "_deepnote_index_column": 6
                },
                {
                  "id": 1925,
                  "proba": 0.0025557978078722,
                  "label": 0,
                  "_deepnote_index_column": 66
                },
                {
                  "id": 1967,
                  "proba": 0.0020293379202485,
                  "label": 0,
                  "_deepnote_index_column": 206
                },
                {
                  "id": 2143,
                  "proba": 0.9995728135108948,
                  "label": 1,
                  "_deepnote_index_column": 49
                },
                {
                  "id": 2145,
                  "proba": 0.0002010846801567,
                  "label": 0,
                  "_deepnote_index_column": 290
                },
                {
                  "id": 2157,
                  "proba": 0.9996134638786316,
                  "label": 1,
                  "_deepnote_index_column": 211
                },
                {
                  "id": 2364,
                  "proba": 0.0007366696372628,
                  "label": 0,
                  "_deepnote_index_column": 365
                },
                {
                  "id": 2478,
                  "proba": 0.9996271133422852,
                  "label": 1,
                  "_deepnote_index_column": 44
                },
                {
                  "id": 2518,
                  "proba": 0.0001921611547004,
                  "label": 0,
                  "_deepnote_index_column": 410
                },
                {
                  "id": 2568,
                  "proba": 0.0010224942816421,
                  "label": 0,
                  "_deepnote_index_column": 24
                },
                {
                  "id": 2634,
                  "proba": 0.9989750385284424,
                  "label": 1,
                  "_deepnote_index_column": 357
                },
                {
                  "id": 2783,
                  "proba": 0.9460479617118835,
                  "label": 1,
                  "_deepnote_index_column": 388
                },
                {
                  "id": 3197,
                  "proba": 0.9996551275253296,
                  "label": 1,
                  "_deepnote_index_column": 268
                },
                {
                  "id": 3214,
                  "proba": 0.0002161269658245,
                  "label": 0,
                  "_deepnote_index_column": 110
                },
                {
                  "id": 3217,
                  "proba": 0.0023674229159951,
                  "label": 0,
                  "_deepnote_index_column": 427
                },
                {
                  "id": 3519,
                  "proba": 0.0246713142842054,
                  "label": 0,
                  "_deepnote_index_column": 272
                },
                {
                  "id": 3524,
                  "proba": 0.0009255946497432,
                  "label": 0,
                  "_deepnote_index_column": 201
                },
                {
                  "id": 3567,
                  "proba": 0.9989563226699828,
                  "label": 1,
                  "_deepnote_index_column": 75
                },
                {
                  "id": 3568,
                  "proba": 0.0002298255421919,
                  "label": 0,
                  "_deepnote_index_column": 424
                },
                {
                  "id": 3745,
                  "proba": 0.0005504174623638,
                  "label": 0,
                  "_deepnote_index_column": 2
                },
                {
                  "id": 3798,
                  "proba": 0.0004384364001452,
                  "label": 0,
                  "_deepnote_index_column": 430
                },
                {
                  "id": 4538,
                  "proba": 0.0002353091986151,
                  "label": 0,
                  "_deepnote_index_column": 87
                },
                {
                  "id": 4569,
                  "proba": 0.0002265298098791,
                  "label": 0,
                  "_deepnote_index_column": 63
                },
                {
                  "id": 4621,
                  "proba": 0.019469641149044,
                  "label": 0,
                  "_deepnote_index_column": 411
                },
                {
                  "id": 4769,
                  "proba": 0.9998717308044434,
                  "label": 1,
                  "_deepnote_index_column": 260
                },
                {
                  "id": 4857,
                  "proba": 0.999809205532074,
                  "label": 1,
                  "_deepnote_index_column": 146
                },
                {
                  "id": 5126,
                  "proba": 0.9996676445007324,
                  "label": 1,
                  "_deepnote_index_column": 113
                },
                {
                  "id": 5213,
                  "proba": 0.0003713887708727,
                  "label": 0,
                  "_deepnote_index_column": 125
                },
                {
                  "id": 5279,
                  "proba": 0.9917248487472534,
                  "label": 1,
                  "_deepnote_index_column": 5
                },
                {
                  "id": 5316,
                  "proba": 0.0002395070623606,
                  "label": 0,
                  "_deepnote_index_column": 469
                },
                {
                  "id": 5349,
                  "proba": 0.0018905091565102,
                  "label": 0,
                  "_deepnote_index_column": 52
                },
                {
                  "id": 5439,
                  "proba": 0.005538523197174,
                  "label": 0,
                  "_deepnote_index_column": 488
                },
                {
                  "id": 5938,
                  "proba": 0.9990668892860411,
                  "label": 1,
                  "_deepnote_index_column": 318
                },
                {
                  "id": 6123,
                  "proba": 0.0002311661082785,
                  "label": 0,
                  "_deepnote_index_column": 94
                },
                {
                  "id": 6273,
                  "proba": 0.0107316644862294,
                  "label": 0,
                  "_deepnote_index_column": 485
                },
                {
                  "id": 6352,
                  "proba": 0.0009447634802199,
                  "label": 0,
                  "_deepnote_index_column": 385
                },
                {
                  "id": 6491,
                  "proba": 0.999525547027588,
                  "label": 1,
                  "_deepnote_index_column": 53
                },
                {
                  "id": 6582,
                  "proba": 0.000733544526156,
                  "label": 0,
                  "_deepnote_index_column": 327
                },
                {
                  "id": 6723,
                  "proba": 0.0003812286886386,
                  "label": 0,
                  "_deepnote_index_column": 210
                },
                {
                  "id": 7135,
                  "proba": 0.0020130963530391,
                  "label": 0,
                  "_deepnote_index_column": 192
                },
                {
                  "id": 7198,
                  "proba": 0.9992563128471376,
                  "label": 1,
                  "_deepnote_index_column": 359
                },
                {
                  "id": 7351,
                  "proba": 0.946218967437744,
                  "label": 1,
                  "_deepnote_index_column": 312
                },
                {
                  "id": 7382,
                  "proba": 0.9961291551589966,
                  "label": 1,
                  "_deepnote_index_column": 294
                },
                {
                  "id": 7429,
                  "proba": 0.999424695968628,
                  "label": 1,
                  "_deepnote_index_column": 248
                },
                {
                  "id": 7528,
                  "proba": 0.9968497157096864,
                  "label": 1,
                  "_deepnote_index_column": 493
                },
                {
                  "id": 7653,
                  "proba": 0.0010499665513634,
                  "label": 0,
                  "_deepnote_index_column": 425
                },
                {
                  "id": 8291,
                  "proba": 0.042985763400793,
                  "label": 0,
                  "_deepnote_index_column": 0
                },
                {
                  "id": 8451,
                  "proba": 0.9935205578804016,
                  "label": 1,
                  "_deepnote_index_column": 362
                },
                {
                  "id": 8795,
                  "proba": 0.0002537994587328,
                  "label": 0,
                  "_deepnote_index_column": 265
                },
                {
                  "id": 9152,
                  "proba": 0.0002040240942733,
                  "label": 0,
                  "_deepnote_index_column": 247
                },
                {
                  "id": 9467,
                  "proba": 0.9992584586143494,
                  "label": 1,
                  "_deepnote_index_column": 380
                },
                {
                  "id": 9563,
                  "proba": 0.0009967021178454,
                  "label": 0,
                  "_deepnote_index_column": 19
                },
                {
                  "id": 9715,
                  "proba": 0.9996613264083862,
                  "label": 1,
                  "_deepnote_index_column": 65
                },
                {
                  "id": 9863,
                  "proba": 0.0002026856382144,
                  "label": 0,
                  "_deepnote_index_column": 498
                },
                {
                  "id": 10285,
                  "proba": 0.0002023141569225,
                  "label": 0,
                  "_deepnote_index_column": 337
                },
                {
                  "id": 10362,
                  "proba": 0.97890704870224,
                  "label": 1,
                  "_deepnote_index_column": 378
                },
                {
                  "id": 10386,
                  "proba": 0.0002203715266659,
                  "label": 0,
                  "_deepnote_index_column": 80
                },
                {
                  "id": 10749,
                  "proba": 0.9996258020401,
                  "label": 1,
                  "_deepnote_index_column": 15
                },
                {
                  "id": 10785,
                  "proba": 0.0003313825291115,
                  "label": 0,
                  "_deepnote_index_column": 283
                },
                {
                  "id": 12045,
                  "proba": 0.0002119954588124,
                  "label": 0,
                  "_deepnote_index_column": 321
                },
                {
                  "id": 12067,
                  "proba": 0.0014947960153222,
                  "label": 0,
                  "_deepnote_index_column": 317
                },
                {
                  "id": 12468,
                  "proba": 0.0006205372628755,
                  "label": 0,
                  "_deepnote_index_column": 431
                },
                {
                  "id": 12650,
                  "proba": 0.9991254210472108,
                  "label": 1,
                  "_deepnote_index_column": 23
                },
                {
                  "id": 12834,
                  "proba": 0.9995806813240052,
                  "label": 1,
                  "_deepnote_index_column": 277
                },
                {
                  "id": 12973,
                  "proba": 0.9951659440994264,
                  "label": 1,
                  "_deepnote_index_column": 42
                },
                {
                  "id": 13026,
                  "proba": 0.0002093685907311,
                  "label": 0,
                  "_deepnote_index_column": 56
                },
                {
                  "id": 13647,
                  "proba": 0.999751627445221,
                  "label": 1,
                  "_deepnote_index_column": 37
                },
                {
                  "id": 13750,
                  "proba": 0.0002458373783156,
                  "label": 0,
                  "_deepnote_index_column": 326
                },
                {
                  "id": 13809,
                  "proba": 0.000221849171794,
                  "label": 0,
                  "_deepnote_index_column": 445
                },
                {
                  "id": 14026,
                  "proba": 0.999846339225769,
                  "label": 1,
                  "_deepnote_index_column": 59
                },
                {
                  "id": 14389,
                  "proba": 0.9996992349624634,
                  "label": 1,
                  "_deepnote_index_column": 442
                },
                {
                  "id": 14865,
                  "proba": 0.0003980102192144,
                  "label": 0,
                  "_deepnote_index_column": 302
                },
                {
                  "id": 14873,
                  "proba": 0.9996814727783204,
                  "label": 1,
                  "_deepnote_index_column": 149
                },
                {
                  "id": 14975,
                  "proba": 0.0002257910527987,
                  "label": 0,
                  "_deepnote_index_column": 348
                },
                {
                  "id": 15243,
                  "proba": 0.0002424204576527,
                  "label": 0,
                  "_deepnote_index_column": 165
                },
                {
                  "id": 16354,
                  "proba": 0.0461308024823665,
                  "label": 0,
                  "_deepnote_index_column": 157
                },
                {
                  "id": 16420,
                  "proba": 0.0003608149127103,
                  "label": 0,
                  "_deepnote_index_column": 133
                },
                {
                  "id": 16704,
                  "proba": 0.9626069068908693,
                  "label": 1,
                  "_deepnote_index_column": 491
                },
                {
                  "id": 16749,
                  "proba": 0.0002461082185618,
                  "label": 0,
                  "_deepnote_index_column": 452
                },
                {
                  "id": 16842,
                  "proba": 0.0002922687272075,
                  "label": 0,
                  "_deepnote_index_column": 432
                },
                {
                  "id": 16850,
                  "proba": 0.0005652775871567,
                  "label": 0,
                  "_deepnote_index_column": 313
                },
                {
                  "id": 16923,
                  "proba": 0.9996727705001832,
                  "label": 1,
                  "_deepnote_index_column": 259
                },
                {
                  "id": 17028,
                  "proba": 0.98556649684906,
                  "label": 1,
                  "_deepnote_index_column": 95
                },
                {
                  "id": 17045,
                  "proba": 0.000224755553063,
                  "label": 0,
                  "_deepnote_index_column": 393
                },
                {
                  "id": 17265,
                  "proba": 0.0002435031929053,
                  "label": 0,
                  "_deepnote_index_column": 57
                },
                {
                  "id": 17682,
                  "proba": 0.0005163793102838,
                  "label": 0,
                  "_deepnote_index_column": 72
                },
                {
                  "id": 17908,
                  "proba": 0.0002791811130009,
                  "label": 0,
                  "_deepnote_index_column": 341
                },
                {
                  "id": 17950,
                  "proba": 0.0001965066912816,
                  "label": 0,
                  "_deepnote_index_column": 160
                },
                {
                  "id": 17963,
                  "proba": 0.9992596507072448,
                  "label": 1,
                  "_deepnote_index_column": 13
                },
                {
                  "id": 18059,
                  "proba": 0.998622179031372,
                  "label": 1,
                  "_deepnote_index_column": 450
                },
                {
                  "id": 18306,
                  "proba": 0.000674084527418,
                  "label": 0,
                  "_deepnote_index_column": 407
                },
                {
                  "id": 18356,
                  "proba": 0.0005982184666208,
                  "label": 0,
                  "_deepnote_index_column": 239
                },
                {
                  "id": 18367,
                  "proba": 0.0002405848063062,
                  "label": 0,
                  "_deepnote_index_column": 414
                },
                {
                  "id": 18547,
                  "proba": 0.0081114117056131,
                  "label": 0,
                  "_deepnote_index_column": 409
                },
                {
                  "id": 18726,
                  "proba": 0.0002121386496583,
                  "label": 0,
                  "_deepnote_index_column": 383
                },
                {
                  "id": 18742,
                  "proba": 0.0010431866394355,
                  "label": 0,
                  "_deepnote_index_column": 473
                },
                {
                  "id": 18945,
                  "proba": 0.0006391453789547,
                  "label": 0,
                  "_deepnote_index_column": 60
                },
                {
                  "id": 19075,
                  "proba": 0.0002333566953893,
                  "label": 0,
                  "_deepnote_index_column": 354
                },
                {
                  "id": 19243,
                  "proba": 0.000220015659579,
                  "label": 0,
                  "_deepnote_index_column": 474
                },
                {
                  "id": 19385,
                  "proba": 0.0002290196716785,
                  "label": 0,
                  "_deepnote_index_column": 181
                },
                {
                  "id": 19508,
                  "proba": 0.0019477765308693,
                  "label": 0,
                  "_deepnote_index_column": 387
                },
                {
                  "id": 19523,
                  "proba": 0.0003017695562448,
                  "label": 0,
                  "_deepnote_index_column": 118
                },
                {
                  "id": 19530,
                  "proba": 0.0003292895271442,
                  "label": 0,
                  "_deepnote_index_column": 81
                },
                {
                  "id": 19536,
                  "proba": 0.9945029020309448,
                  "label": 1,
                  "_deepnote_index_column": 350
                },
                {
                  "id": 19730,
                  "proba": 0.002219300949946,
                  "label": 0,
                  "_deepnote_index_column": 105
                },
                {
                  "id": 20437,
                  "proba": 0.0001865789236035,
                  "label": 0,
                  "_deepnote_index_column": 487
                },
                {
                  "id": 20861,
                  "proba": 0.0018585984362289,
                  "label": 0,
                  "_deepnote_index_column": 439
                },
                {
                  "id": 20984,
                  "proba": 0.9995536208152772,
                  "label": 1,
                  "_deepnote_index_column": 236
                },
                {
                  "id": 21075,
                  "proba": 0.0002188720100093,
                  "label": 0,
                  "_deepnote_index_column": 213
                },
                {
                  "id": 21567,
                  "proba": 0.0003574381698854,
                  "label": 0,
                  "_deepnote_index_column": 216
                },
                {
                  "id": 21643,
                  "proba": 0.9995912909507751,
                  "label": 1,
                  "_deepnote_index_column": 117
                },
                {
                  "id": 23645,
                  "proba": 0.0003452191303949,
                  "label": 0,
                  "_deepnote_index_column": 257
                },
                {
                  "id": 23785,
                  "proba": 0.0002181640447815,
                  "label": 0,
                  "_deepnote_index_column": 333
                },
                {
                  "id": 23810,
                  "proba": 0.0002539585111662,
                  "label": 0,
                  "_deepnote_index_column": 111
                },
                {
                  "id": 24098,
                  "proba": 0.000254835555097,
                  "label": 0,
                  "_deepnote_index_column": 308
                },
                {
                  "id": 24135,
                  "proba": 0.0003014730755239,
                  "label": 0,
                  "_deepnote_index_column": 98
                },
                {
                  "id": 24316,
                  "proba": 0.997117519378662,
                  "label": 1,
                  "_deepnote_index_column": 26
                },
                {
                  "id": 24396,
                  "proba": 0.9998437166213988,
                  "label": 1,
                  "_deepnote_index_column": 231
                },
                {
                  "id": 25061,
                  "proba": 0.0031992092262953,
                  "label": 0,
                  "_deepnote_index_column": 486
                },
                {
                  "id": 25149,
                  "proba": 0.0002039350220002,
                  "label": 0,
                  "_deepnote_index_column": 16
                },
                {
                  "id": 26187,
                  "proba": 0.9990599751472472,
                  "label": 1,
                  "_deepnote_index_column": 395
                },
                {
                  "id": 26397,
                  "proba": 0.0002952691284008,
                  "label": 0,
                  "_deepnote_index_column": 426
                },
                {
                  "id": 26439,
                  "proba": 0.9788700342178344,
                  "label": 1,
                  "_deepnote_index_column": 279
                },
                {
                  "id": 26453,
                  "proba": 0.0006603341316804,
                  "label": 0,
                  "_deepnote_index_column": 22
                },
                {
                  "id": 26547,
                  "proba": 0.999806582927704,
                  "label": 1,
                  "_deepnote_index_column": 48
                },
                {
                  "id": 26943,
                  "proba": 0.9996713399887084,
                  "label": 1,
                  "_deepnote_index_column": 246
                },
                {
                  "id": 26985,
                  "proba": 0.0003722882829606,
                  "label": 0,
                  "_deepnote_index_column": 148
                },
                {
                  "id": 27195,
                  "proba": 0.000239319197135,
                  "label": 0,
                  "_deepnote_index_column": 123
                },
                {
                  "id": 27384,
                  "proba": 0.0003133755235467,
                  "label": 0,
                  "_deepnote_index_column": 244
                },
                {
                  "id": 27485,
                  "proba": 0.987753927707672,
                  "label": 1,
                  "_deepnote_index_column": 55
                },
                {
                  "id": 27498,
                  "proba": 0.9903683662414552,
                  "label": 1,
                  "_deepnote_index_column": 471
                },
                {
                  "id": 27614,
                  "proba": 0.0002190922823501,
                  "label": 0,
                  "_deepnote_index_column": 145
                },
                {
                  "id": 27635,
                  "proba": 0.000288491428364,
                  "label": 0,
                  "_deepnote_index_column": 10
                },
                {
                  "id": 28017,
                  "proba": 0.000311686162604,
                  "label": 0,
                  "_deepnote_index_column": 364
                },
                {
                  "id": 28190,
                  "proba": 0.0003913211403414,
                  "label": 0,
                  "_deepnote_index_column": 397
                },
                {
                  "id": 28406,
                  "proba": 0.0002153693494619,
                  "label": 0,
                  "_deepnote_index_column": 281
                },
                {
                  "id": 28690,
                  "proba": 0.0001654559164308,
                  "label": 0,
                  "_deepnote_index_column": 74
                },
                {
                  "id": 28905,
                  "proba": 0.9955700039863586,
                  "label": 1,
                  "_deepnote_index_column": 325
                },
                {
                  "id": 28951,
                  "proba": 0.0002448357408866,
                  "label": 0,
                  "_deepnote_index_column": 144
                },
                {
                  "id": 29054,
                  "proba": 0.9995527863502502,
                  "label": 1,
                  "_deepnote_index_column": 484
                },
                {
                  "id": 29174,
                  "proba": 0.0002812151506077,
                  "label": 0,
                  "_deepnote_index_column": 460
                },
                {
                  "id": 29437,
                  "proba": 0.0002886136062443,
                  "label": 0,
                  "_deepnote_index_column": 68
                },
                {
                  "id": 29750,
                  "proba": 0.0003895427798852,
                  "label": 0,
                  "_deepnote_index_column": 47
                },
                {
                  "id": 29843,
                  "proba": 0.0003180659550707,
                  "label": 0,
                  "_deepnote_index_column": 180
                },
                {
                  "id": 29873,
                  "proba": 0.9997510313987732,
                  "label": 1,
                  "_deepnote_index_column": 77
                },
                {
                  "id": 30145,
                  "proba": 0.000215737032704,
                  "label": 0,
                  "_deepnote_index_column": 187
                },
                {
                  "id": 30148,
                  "proba": 0.0039435122162103,
                  "label": 0,
                  "_deepnote_index_column": 320
                },
                {
                  "id": 30579,
                  "proba": 0.999492049217224,
                  "label": 1,
                  "_deepnote_index_column": 102
                },
                {
                  "id": 30586,
                  "proba": 0.006971304770559,
                  "label": 0,
                  "_deepnote_index_column": 420
                },
                {
                  "id": 30642,
                  "proba": 0.0002156732662115,
                  "label": 0,
                  "_deepnote_index_column": 352
                },
                {
                  "id": 30927,
                  "proba": 0.0001943589304573,
                  "label": 0,
                  "_deepnote_index_column": 400
                },
                {
                  "id": 31208,
                  "proba": 0.0004653088399209,
                  "label": 0,
                  "_deepnote_index_column": 169
                },
                {
                  "id": 31570,
                  "proba": 0.0004077555786352,
                  "label": 0,
                  "_deepnote_index_column": 331
                },
                {
                  "id": 31752,
                  "proba": 0.0002777329063974,
                  "label": 0,
                  "_deepnote_index_column": 9
                },
                {
                  "id": 32049,
                  "proba": 0.9992548823356628,
                  "label": 1,
                  "_deepnote_index_column": 401
                },
                {
                  "id": 32415,
                  "proba": 0.0002195339038735,
                  "label": 0,
                  "_deepnote_index_column": 468
                },
                {
                  "id": 32568,
                  "proba": 0.9996306896209716,
                  "label": 1,
                  "_deepnote_index_column": 219
                },
                {
                  "id": 32579,
                  "proba": 0.0002592123928479,
                  "label": 0,
                  "_deepnote_index_column": 215
                },
                {
                  "id": 32691,
                  "proba": 0.9996511936187744,
                  "label": 1,
                  "_deepnote_index_column": 119
                },
                {
                  "id": 32875,
                  "proba": 0.0028109108097851,
                  "label": 0,
                  "_deepnote_index_column": 99
                },
                {
                  "id": 32981,
                  "proba": 0.0003669779980555,
                  "label": 0,
                  "_deepnote_index_column": 292
                }
              ],
              "rows_bottom": [
                {
                  "id": 67082,
                  "proba": 0.0005760844214819,
                  "label": 0,
                  "_deepnote_index_column": 478
                },
                {
                  "id": 67103,
                  "proba": 0.0012795127695426,
                  "label": 0,
                  "_deepnote_index_column": 449
                },
                {
                  "id": 67208,
                  "proba": 0.9870089888572692,
                  "label": 1,
                  "_deepnote_index_column": 429
                },
                {
                  "id": 67435,
                  "proba": 0.9705668091773988,
                  "label": 1,
                  "_deepnote_index_column": 309
                },
                {
                  "id": 68043,
                  "proba": 0.9963249564170836,
                  "label": 1,
                  "_deepnote_index_column": 433
                },
                {
                  "id": 68127,
                  "proba": 0.0001490238064434,
                  "label": 0,
                  "_deepnote_index_column": 89
                },
                {
                  "id": 68192,
                  "proba": 0.0003685469564516,
                  "label": 0,
                  "_deepnote_index_column": 50
                },
                {
                  "id": 68253,
                  "proba": 0.9997881054878236,
                  "label": 1,
                  "_deepnote_index_column": 171
                },
                {
                  "id": 68257,
                  "proba": 0.0002519034023862,
                  "label": 0,
                  "_deepnote_index_column": 276
                },
                {
                  "id": 68401,
                  "proba": 0.0004965844564139,
                  "label": 0,
                  "_deepnote_index_column": 339
                },
                {
                  "id": 68409,
                  "proba": 0.999716579914093,
                  "label": 1,
                  "_deepnote_index_column": 156
                },
                {
                  "id": 68459,
                  "proba": 0.0003258828946854,
                  "label": 0,
                  "_deepnote_index_column": 128
                },
                {
                  "id": 68530,
                  "proba": 0.9939488172531128,
                  "label": 1,
                  "_deepnote_index_column": 270
                },
                {
                  "id": 69150,
                  "proba": 0.999595820903778,
                  "label": 1,
                  "_deepnote_index_column": 179
                },
                {
                  "id": 69512,
                  "proba": 0.0002967711479868,
                  "label": 0,
                  "_deepnote_index_column": 254
                },
                {
                  "id": 69548,
                  "proba": 0.9994338154792786,
                  "label": 1,
                  "_deepnote_index_column": 158
                },
                {
                  "id": 69815,
                  "proba": 0.0001988565636565,
                  "label": 0,
                  "_deepnote_index_column": 261
                },
                {
                  "id": 70953,
                  "proba": 0.9995182752609252,
                  "label": 1,
                  "_deepnote_index_column": 78
                },
                {
                  "id": 71620,
                  "proba": 0.9913934469223022,
                  "label": 1,
                  "_deepnote_index_column": 185
                },
                {
                  "id": 71680,
                  "proba": 0.999599277973175,
                  "label": 1,
                  "_deepnote_index_column": 97
                },
                {
                  "id": 72048,
                  "proba": 0.99952495098114,
                  "label": 1,
                  "_deepnote_index_column": 20
                },
                {
                  "id": 72061,
                  "proba": 0.0015989397652447,
                  "label": 0,
                  "_deepnote_index_column": 200
                },
                {
                  "id": 72168,
                  "proba": 0.9994582533836364,
                  "label": 1,
                  "_deepnote_index_column": 232
                },
                {
                  "id": 72864,
                  "proba": 0.0009314034832641,
                  "label": 0,
                  "_deepnote_index_column": 419
                },
                {
                  "id": 72904,
                  "proba": 0.0008376580663025,
                  "label": 0,
                  "_deepnote_index_column": 368
                },
                {
                  "id": 73021,
                  "proba": 0.9994521737098694,
                  "label": 1,
                  "_deepnote_index_column": 323
                },
                {
                  "id": 73069,
                  "proba": 0.9992876648902892,
                  "label": 1,
                  "_deepnote_index_column": 134
                },
                {
                  "id": 73482,
                  "proba": 0.0001935675827553,
                  "label": 0,
                  "_deepnote_index_column": 363
                },
                {
                  "id": 73526,
                  "proba": 0.0002239546738564,
                  "label": 0,
                  "_deepnote_index_column": 289
                },
                {
                  "id": 73601,
                  "proba": 0.0004896745667792,
                  "label": 0,
                  "_deepnote_index_column": 214
                },
                {
                  "id": 73605,
                  "proba": 0.0002682929916772,
                  "label": 0,
                  "_deepnote_index_column": 293
                },
                {
                  "id": 73914,
                  "proba": 0.0049246810376644,
                  "label": 0,
                  "_deepnote_index_column": 267
                },
                {
                  "id": 73945,
                  "proba": 0.0002691720437724,
                  "label": 0,
                  "_deepnote_index_column": 126
                },
                {
                  "id": 73962,
                  "proba": 0.9971300959587096,
                  "label": 1,
                  "_deepnote_index_column": 305
                },
                {
                  "id": 74013,
                  "proba": 0.9998146891593932,
                  "label": 1,
                  "_deepnote_index_column": 54
                },
                {
                  "id": 74058,
                  "proba": 0.0007578145014122,
                  "label": 0,
                  "_deepnote_index_column": 84
                },
                {
                  "id": 74250,
                  "proba": 0.0002185789926443,
                  "label": 0,
                  "_deepnote_index_column": 372
                },
                {
                  "id": 74350,
                  "proba": 0.9789657592773438,
                  "label": 1,
                  "_deepnote_index_column": 43
                },
                {
                  "id": 74906,
                  "proba": 0.012128404341638,
                  "label": 0,
                  "_deepnote_index_column": 396
                },
                {
                  "id": 74908,
                  "proba": 0.000883215048816,
                  "label": 0,
                  "_deepnote_index_column": 152
                },
                {
                  "id": 74965,
                  "proba": 0.0004963940009474,
                  "label": 0,
                  "_deepnote_index_column": 346
                },
                {
                  "id": 75142,
                  "proba": 0.0003818573895841,
                  "label": 0,
                  "_deepnote_index_column": 328
                },
                {
                  "id": 75286,
                  "proba": 0.0058169774711132,
                  "label": 0,
                  "_deepnote_index_column": 447
                },
                {
                  "id": 75639,
                  "proba": 0.0004979667137376,
                  "label": 0,
                  "_deepnote_index_column": 249
                },
                {
                  "id": 75918,
                  "proba": 0.0005355285247787,
                  "label": 0,
                  "_deepnote_index_column": 347
                },
                {
                  "id": 76015,
                  "proba": 0.0002122754231095,
                  "label": 0,
                  "_deepnote_index_column": 285
                },
                {
                  "id": 76092,
                  "proba": 0.0005603753379546,
                  "label": 0,
                  "_deepnote_index_column": 114
                },
                {
                  "id": 76295,
                  "proba": 0.9865587949752808,
                  "label": 1,
                  "_deepnote_index_column": 161
                },
                {
                  "id": 76921,
                  "proba": 0.0002223209448857,
                  "label": 0,
                  "_deepnote_index_column": 155
                },
                {
                  "id": 78134,
                  "proba": 0.0030154811684042,
                  "label": 0,
                  "_deepnote_index_column": 375
                },
                {
                  "id": 78156,
                  "proba": 0.0009025898762047,
                  "label": 0,
                  "_deepnote_index_column": 371
                },
                {
                  "id": 78251,
                  "proba": 0.0030791435856372,
                  "label": 0,
                  "_deepnote_index_column": 465
                },
                {
                  "id": 78462,
                  "proba": 0.0002163450990337,
                  "label": 0,
                  "_deepnote_index_column": 306
                },
                {
                  "id": 78612,
                  "proba": 0.0002571360964793,
                  "label": 0,
                  "_deepnote_index_column": 222
                },
                {
                  "id": 78659,
                  "proba": 0.0002417586802039,
                  "label": 0,
                  "_deepnote_index_column": 477
                },
                {
                  "id": 78914,
                  "proba": 0.0002852085744962,
                  "label": 0,
                  "_deepnote_index_column": 435
                },
                {
                  "id": 79042,
                  "proba": 0.0002827612916007,
                  "label": 0,
                  "_deepnote_index_column": 355
                },
                {
                  "id": 79085,
                  "proba": 0.0002951371425297,
                  "label": 0,
                  "_deepnote_index_column": 100
                },
                {
                  "id": 79603,
                  "proba": 0.9997817873954772,
                  "label": 1,
                  "_deepnote_index_column": 147
                },
                {
                  "id": 79615,
                  "proba": 0.000328292400809,
                  "label": 0,
                  "_deepnote_index_column": 140
                },
                {
                  "id": 80243,
                  "proba": 0.9996088147163392,
                  "label": 1,
                  "_deepnote_index_column": 4
                },
                {
                  "id": 80426,
                  "proba": 0.9987597465515136,
                  "label": 1,
                  "_deepnote_index_column": 226
                },
                {
                  "id": 80512,
                  "proba": 0.9997794032096864,
                  "label": 1,
                  "_deepnote_index_column": 241
                },
                {
                  "id": 80597,
                  "proba": 0.9981344938278198,
                  "label": 1,
                  "_deepnote_index_column": 11
                },
                {
                  "id": 80912,
                  "proba": 0.0002216510474681,
                  "label": 0,
                  "_deepnote_index_column": 296
                },
                {
                  "id": 80947,
                  "proba": 0.9993620514869692,
                  "label": 1,
                  "_deepnote_index_column": 464
                },
                {
                  "id": 82301,
                  "proba": 0.0002239512541564,
                  "label": 0,
                  "_deepnote_index_column": 8
                },
                {
                  "id": 82437,
                  "proba": 0.9995860457420348,
                  "label": 1,
                  "_deepnote_index_column": 245
                },
                {
                  "id": 82509,
                  "proba": 0.0003876549599226,
                  "label": 0,
                  "_deepnote_index_column": 107
                },
                {
                  "id": 82590,
                  "proba": 0.0003757957310881,
                  "label": 0,
                  "_deepnote_index_column": 197
                },
                {
                  "id": 82945,
                  "proba": 0.0014192056842148,
                  "label": 0,
                  "_deepnote_index_column": 130
                },
                {
                  "id": 83045,
                  "proba": 0.9984616041183472,
                  "label": 1,
                  "_deepnote_index_column": 227
                },
                {
                  "id": 83264,
                  "proba": 0.9994468092918396,
                  "label": 1,
                  "_deepnote_index_column": 421
                },
                {
                  "id": 83497,
                  "proba": 0.0007599305245094,
                  "label": 0,
                  "_deepnote_index_column": 62
                },
                {
                  "id": 83675,
                  "proba": 0.0003811901260633,
                  "label": 0,
                  "_deepnote_index_column": 495
                },
                {
                  "id": 83745,
                  "proba": 0.0006754049682058,
                  "label": 0,
                  "_deepnote_index_column": 3
                },
                {
                  "id": 83920,
                  "proba": 0.9995823502540588,
                  "label": 1,
                  "_deepnote_index_column": 61
                },
                {
                  "id": 83946,
                  "proba": 0.9997465014457704,
                  "label": 1,
                  "_deepnote_index_column": 88
                },
                {
                  "id": 83954,
                  "proba": 0.9996886253356934,
                  "label": 1,
                  "_deepnote_index_column": 25
                },
                {
                  "id": 84015,
                  "proba": 0.9974148273468018,
                  "label": 1,
                  "_deepnote_index_column": 195
                },
                {
                  "id": 84036,
                  "proba": 0.0002858957450371,
                  "label": 0,
                  "_deepnote_index_column": 415
                },
                {
                  "id": 84102,
                  "proba": 0.9191829562187196,
                  "label": 1,
                  "_deepnote_index_column": 291
                },
                {
                  "id": 84107,
                  "proba": 0.9995276927947998,
                  "label": 1,
                  "_deepnote_index_column": 358
                },
                {
                  "id": 84150,
                  "proba": 0.0007846166263334,
                  "label": 0,
                  "_deepnote_index_column": 444
                },
                {
                  "id": 84162,
                  "proba": 0.0002289587719133,
                  "label": 0,
                  "_deepnote_index_column": 316
                },
                {
                  "id": 84273,
                  "proba": 0.0002634992415551,
                  "label": 0,
                  "_deepnote_index_column": 176
                },
                {
                  "id": 84302,
                  "proba": 0.0003104609786532,
                  "label": 0,
                  "_deepnote_index_column": 284
                },
                {
                  "id": 84362,
                  "proba": 0.0002410509187029,
                  "label": 0,
                  "_deepnote_index_column": 194
                },
                {
                  "id": 84510,
                  "proba": 0.0002459402894601,
                  "label": 0,
                  "_deepnote_index_column": 73
                },
                {
                  "id": 84756,
                  "proba": 0.9996891021728516,
                  "label": 1,
                  "_deepnote_index_column": 274
                },
                {
                  "id": 84762,
                  "proba": 0.9989247918128968,
                  "label": 1,
                  "_deepnote_index_column": 297
                },
                {
                  "id": 85237,
                  "proba": 0.0003412795485928,
                  "label": 0,
                  "_deepnote_index_column": 456
                },
                {
                  "id": 85621,
                  "proba": 0.0029294977430254,
                  "label": 0,
                  "_deepnote_index_column": 413
                },
                {
                  "id": 85679,
                  "proba": 0.999334752559662,
                  "label": 1,
                  "_deepnote_index_column": 299
                },
                {
                  "id": 85761,
                  "proba": 0.0002760252391453,
                  "label": 0,
                  "_deepnote_index_column": 233
                },
                {
                  "id": 86170,
                  "proba": 0.0006093418342061,
                  "label": 0,
                  "_deepnote_index_column": 202
                },
                {
                  "id": 86195,
                  "proba": 0.0004802109324373,
                  "label": 0,
                  "_deepnote_index_column": 315
                },
                {
                  "id": 86357,
                  "proba": 0.0003725346759893,
                  "label": 0,
                  "_deepnote_index_column": 345
                },
                {
                  "id": 86417,
                  "proba": 0.001413075486198,
                  "label": 0,
                  "_deepnote_index_column": 416
                },
                {
                  "id": 87034,
                  "proba": 0.0002811818849295,
                  "label": 0,
                  "_deepnote_index_column": 93
                },
                {
                  "id": 87130,
                  "proba": 0.0011293697170913,
                  "label": 0,
                  "_deepnote_index_column": 33
                },
                {
                  "id": 87169,
                  "proba": 0.0008306832169182,
                  "label": 0,
                  "_deepnote_index_column": 120
                },
                {
                  "id": 87251,
                  "proba": 0.0004379931488074,
                  "label": 0,
                  "_deepnote_index_column": 196
                },
                {
                  "id": 87520,
                  "proba": 0.000770425365772,
                  "label": 0,
                  "_deepnote_index_column": 17
                },
                {
                  "id": 89071,
                  "proba": 0.0007383859483525,
                  "label": 0,
                  "_deepnote_index_column": 18
                },
                {
                  "id": 89362,
                  "proba": 0.9997381567955016,
                  "label": 1,
                  "_deepnote_index_column": 225
                },
                {
                  "id": 89425,
                  "proba": 0.000792411447037,
                  "label": 0,
                  "_deepnote_index_column": 258
                },
                {
                  "id": 89430,
                  "proba": 0.0002277671155752,
                  "label": 0,
                  "_deepnote_index_column": 154
                },
                {
                  "id": 89536,
                  "proba": 0.0002725271915551,
                  "label": 0,
                  "_deepnote_index_column": 394
                },
                {
                  "id": 89642,
                  "proba": 0.0009434808162041,
                  "label": 0,
                  "_deepnote_index_column": 398
                },
                {
                  "id": 90236,
                  "proba": 0.0002568124327808,
                  "label": 0,
                  "_deepnote_index_column": 351
                },
                {
                  "id": 90243,
                  "proba": 0.0022569056600332,
                  "label": 0,
                  "_deepnote_index_column": 369
                },
                {
                  "id": 90256,
                  "proba": 0.9997240900993348,
                  "label": 1,
                  "_deepnote_index_column": 235
                },
                {
                  "id": 90267,
                  "proba": 0.000192156760022,
                  "label": 0,
                  "_deepnote_index_column": 458
                },
                {
                  "id": 90643,
                  "proba": 0.0002118821139447,
                  "label": 0,
                  "_deepnote_index_column": 451
                },
                {
                  "id": 90843,
                  "proba": 0.000898110854905,
                  "label": 0,
                  "_deepnote_index_column": 455
                },
                {
                  "id": 91058,
                  "proba": 0.0011401789961382,
                  "label": 0,
                  "_deepnote_index_column": 116
                },
                {
                  "id": 91405,
                  "proba": 0.001746333669871,
                  "label": 0,
                  "_deepnote_index_column": 58
                },
                {
                  "id": 91468,
                  "proba": 0.0002847836003638,
                  "label": 0,
                  "_deepnote_index_column": 262
                },
                {
                  "id": 91586,
                  "proba": 0.0002705000515561,
                  "label": 0,
                  "_deepnote_index_column": 32
                },
                {
                  "id": 91602,
                  "proba": 0.0003698795044329,
                  "label": 0,
                  "_deepnote_index_column": 186
                },
                {
                  "id": 91756,
                  "proba": 0.0022907678503543,
                  "label": 0,
                  "_deepnote_index_column": 188
                },
                {
                  "id": 91763,
                  "proba": 0.0009370493935421,
                  "label": 0,
                  "_deepnote_index_column": 462
                },
                {
                  "id": 91836,
                  "proba": 0.999612033367157,
                  "label": 1,
                  "_deepnote_index_column": 112
                },
                {
                  "id": 92046,
                  "proba": 0.0572910048067569,
                  "label": 0,
                  "_deepnote_index_column": 454
                },
                {
                  "id": 92058,
                  "proba": 0.0006447363994084,
                  "label": 0,
                  "_deepnote_index_column": 29
                },
                {
                  "id": 92068,
                  "proba": 0.000258483341895,
                  "label": 0,
                  "_deepnote_index_column": 322
                },
                {
                  "id": 92317,
                  "proba": 0.0004107911663595,
                  "label": 0,
                  "_deepnote_index_column": 349
                },
                {
                  "id": 92567,
                  "proba": 0.0002120017306879,
                  "label": 0,
                  "_deepnote_index_column": 417
                },
                {
                  "id": 92738,
                  "proba": 0.0002040795516222,
                  "label": 0,
                  "_deepnote_index_column": 121
                },
                {
                  "id": 93041,
                  "proba": 0.0001973864855244,
                  "label": 0,
                  "_deepnote_index_column": 422
                },
                {
                  "id": 93051,
                  "proba": 0.0002449078892823,
                  "label": 0,
                  "_deepnote_index_column": 275
                },
                {
                  "id": 93148,
                  "proba": 0.993337869644165,
                  "label": 1,
                  "_deepnote_index_column": 311
                },
                {
                  "id": 93172,
                  "proba": 0.0002624762419145,
                  "label": 0,
                  "_deepnote_index_column": 138
                },
                {
                  "id": 93528,
                  "proba": 0.9987220168113708,
                  "label": 1,
                  "_deepnote_index_column": 476
                },
                {
                  "id": 93541,
                  "proba": 0.0185429546982049,
                  "label": 0,
                  "_deepnote_index_column": 490
                },
                {
                  "id": 93620,
                  "proba": 0.9973255395889282,
                  "label": 1,
                  "_deepnote_index_column": 376
                },
                {
                  "id": 94170,
                  "proba": 0.0002324613305972,
                  "label": 0,
                  "_deepnote_index_column": 86
                },
                {
                  "id": 94185,
                  "proba": 0.0008827248821035,
                  "label": 0,
                  "_deepnote_index_column": 82
                },
                {
                  "id": 94387,
                  "proba": 0.9986936450004578,
                  "label": 1,
                  "_deepnote_index_column": 463
                },
                {
                  "id": 94560,
                  "proba": 0.0022510546259582,
                  "label": 0,
                  "_deepnote_index_column": 142
                },
                {
                  "id": 94738,
                  "proba": 0.0002198631991632,
                  "label": 0,
                  "_deepnote_index_column": 466
                },
                {
                  "id": 94813,
                  "proba": 0.0014600160066038,
                  "label": 0,
                  "_deepnote_index_column": 67
                },
                {
                  "id": 95038,
                  "proba": 0.0002828583819791,
                  "label": 0,
                  "_deepnote_index_column": 69
                },
                {
                  "id": 95086,
                  "proba": 0.9998470544815063,
                  "label": 1,
                  "_deepnote_index_column": 237
                },
                {
                  "id": 95173,
                  "proba": 0.0167881809175014,
                  "label": 0,
                  "_deepnote_index_column": 402
                },
                {
                  "id": 95176,
                  "proba": 0.0006630315328948,
                  "label": 0,
                  "_deepnote_index_column": 243
                },
                {
                  "id": 95487,
                  "proba": 0.0002943935687653,
                  "label": 0,
                  "_deepnote_index_column": 437
                },
                {
                  "id": 95604,
                  "proba": 0.0003641891526058,
                  "label": 0,
                  "_deepnote_index_column": 338
                },
                {
                  "id": 95613,
                  "proba": 0.9965936541557312,
                  "label": 1,
                  "_deepnote_index_column": 405
                },
                {
                  "id": 95640,
                  "proba": 0.9997172951698304,
                  "label": 1,
                  "_deepnote_index_column": 34
                },
                {
                  "id": 95830,
                  "proba": 0.0002807511773426,
                  "label": 0,
                  "_deepnote_index_column": 76
                },
                {
                  "id": 96180,
                  "proba": 0.0013726941542699,
                  "label": 0,
                  "_deepnote_index_column": 163
                },
                {
                  "id": 96250,
                  "proba": 0.0003279592492617,
                  "label": 0,
                  "_deepnote_index_column": 143
                },
                {
                  "id": 96284,
                  "proba": 0.0010789518710225,
                  "label": 0,
                  "_deepnote_index_column": 108
                },
                {
                  "id": 96312,
                  "proba": 0.0001947995915543,
                  "label": 0,
                  "_deepnote_index_column": 314
                },
                {
                  "id": 96472,
                  "proba": 0.9992548823356628,
                  "label": 1,
                  "_deepnote_index_column": 153
                },
                {
                  "id": 97068,
                  "proba": 0.9997459053993224,
                  "label": 1,
                  "_deepnote_index_column": 109
                },
                {
                  "id": 97132,
                  "proba": 0.999723732471466,
                  "label": 1,
                  "_deepnote_index_column": 373
                },
                {
                  "id": 97305,
                  "proba": 0.0120700001716613,
                  "label": 0,
                  "_deepnote_index_column": 423
                },
                {
                  "id": 97320,
                  "proba": 0.0002688273380044,
                  "label": 0,
                  "_deepnote_index_column": 499
                },
                {
                  "id": 97453,
                  "proba": 0.0003700304951053,
                  "label": 0,
                  "_deepnote_index_column": 90
                },
                {
                  "id": 98235,
                  "proba": 0.0002369592402828,
                  "label": 0,
                  "_deepnote_index_column": 457
                },
                {
                  "id": 98543,
                  "proba": 0.9996408224105836,
                  "label": 1,
                  "_deepnote_index_column": 412
                },
                {
                  "id": 98547,
                  "proba": 0.000966893392615,
                  "label": 0,
                  "_deepnote_index_column": 271
                },
                {
                  "id": 98701,
                  "proba": 0.0002573161036707,
                  "label": 0,
                  "_deepnote_index_column": 164
                },
                {
                  "id": 98720,
                  "proba": 0.9989627599716188,
                  "label": 1,
                  "_deepnote_index_column": 356
                }
              ]
            },
            "text/plain": "        id     proba  label\n494   1268  0.000230      0\n159   1456  0.964295      1\n332   1726  0.995897      1\n220   1742  0.000248      0\n217   1765  0.999624      1\n..     ...       ...    ...\n457  98235  0.000237      0\n412  98543  0.999641      1\n271  98547  0.000967      0\n164  98701  0.000257      0\n356  98720  0.998963      1\n\n[500 rows x 3 columns]",
            "text/html": "<div>\n<style scoped>\n    .dataframe tbody tr th:only-of-type {\n        vertical-align: middle;\n    }\n\n    .dataframe tbody tr th {\n        vertical-align: top;\n    }\n\n    .dataframe thead th {\n        text-align: right;\n    }\n</style>\n<table border=\"1\" class=\"dataframe\">\n  <thead>\n    <tr style=\"text-align: right;\">\n      <th></th>\n      <th>id</th>\n      <th>proba</th>\n      <th>label</th>\n    </tr>\n  </thead>\n  <tbody>\n    <tr>\n      <th>494</th>\n      <td>1268</td>\n      <td>0.000230</td>\n      <td>0</td>\n    </tr>\n    <tr>\n      <th>159</th>\n      <td>1456</td>\n      <td>0.964295</td>\n      <td>1</td>\n    </tr>\n    <tr>\n      <th>332</th>\n      <td>1726</td>\n      <td>0.995897</td>\n      <td>1</td>\n    </tr>\n    <tr>\n      <th>220</th>\n      <td>1742</td>\n      <td>0.000248</td>\n      <td>0</td>\n    </tr>\n    <tr>\n      <th>217</th>\n      <td>1765</td>\n      <td>0.999624</td>\n      <td>1</td>\n    </tr>\n    <tr>\n      <th>...</th>\n      <td>...</td>\n      <td>...</td>\n      <td>...</td>\n    </tr>\n    <tr>\n      <th>457</th>\n      <td>98235</td>\n      <td>0.000237</td>\n      <td>0</td>\n    </tr>\n    <tr>\n      <th>412</th>\n      <td>98543</td>\n      <td>0.999641</td>\n      <td>1</td>\n    </tr>\n    <tr>\n      <th>271</th>\n      <td>98547</td>\n      <td>0.000967</td>\n      <td>0</td>\n    </tr>\n    <tr>\n      <th>164</th>\n      <td>98701</td>\n      <td>0.000257</td>\n      <td>0</td>\n    </tr>\n    <tr>\n      <th>356</th>\n      <td>98720</td>\n      <td>0.998963</td>\n      <td>1</td>\n    </tr>\n  </tbody>\n</table>\n<p>500 rows × 3 columns</p>\n</div>"
          },
          "metadata": {}
        }
      ],
      "execution_count": null
    },
    {
      "cell_type": "code",
      "source": "rename_columns_1 = {'label_x': 'truth', 'label_y': 'vilio_label', 'label': 'vb_label', 'proba_x': 'vilio_proba', 'proba_y': 'vb_proba'}\nrename_columns_2 = {'proba': 'base_proba', 'label': 'base_label'}\ndev_vil_vb = pd.merge(left=dev_vil, right=vbens, how='inner', left_on='id', right_on='id').rename(columns=rename_columns_1)\ndev_vil_vb_base = pd.merge(left=dev_vil_vb, right=baseline, how='inner', left_on='id', right_on='id').rename(columns=rename_columns_2)\ndev_vil_vb_base",
      "metadata": {
        "tags": [],
        "cell_id": "00009-ad9fe222-b9ca-4a4b-b28a-c601fae9e6d4",
        "deepnote_to_be_reexecuted": false,
        "source_hash": "59caadfb",
        "execution_millis": 44,
        "execution_start": 1618667645613,
        "deepnote_cell_type": "code"
      },
      "outputs": [
        {
          "output_type": "execute_result",
          "execution_count": 445,
          "data": {
            "application/vnd.deepnote.dataframe.v2+json": {
              "row_count": 372,
              "column_count": 10,
              "columns": [
                {
                  "name": "id",
                  "dtype": "int64",
                  "stats": {
                    "unique_count": 372,
                    "nan_count": 0,
                    "min": "1268",
                    "max": "98720",
                    "histogram": [
                      {
                        "bin_start": 1268,
                        "bin_end": 11013.2,
                        "count": 51
                      },
                      {
                        "bin_start": 11013.2,
                        "bin_end": 20758.4,
                        "count": 38
                      },
                      {
                        "bin_start": 20758.4,
                        "bin_end": 30503.600000000002,
                        "count": 29
                      },
                      {
                        "bin_start": 30503.600000000002,
                        "bin_end": 40248.8,
                        "count": 29
                      },
                      {
                        "bin_start": 40248.8,
                        "bin_end": 49994,
                        "count": 40
                      },
                      {
                        "bin_start": 49994,
                        "bin_end": 59739.200000000004,
                        "count": 35
                      },
                      {
                        "bin_start": 59739.200000000004,
                        "bin_end": 69484.40000000001,
                        "count": 32
                      },
                      {
                        "bin_start": 69484.40000000001,
                        "bin_end": 79229.6,
                        "count": 37
                      },
                      {
                        "bin_start": 79229.6,
                        "bin_end": 88974.8,
                        "count": 34
                      },
                      {
                        "bin_start": 88974.8,
                        "bin_end": 98720,
                        "count": 47
                      }
                    ]
                  }
                },
                {
                  "name": "img",
                  "dtype": "object",
                  "stats": {
                    "unique_count": 372,
                    "nan_count": 0,
                    "categories": [
                      {
                        "name": "img/01268.png",
                        "count": 1
                      },
                      {
                        "name": "img/01456.png",
                        "count": 1
                      },
                      {
                        "name": "370 others",
                        "count": 370
                      }
                    ]
                  }
                },
                {
                  "name": "truth",
                  "dtype": "int64",
                  "stats": {
                    "unique_count": 2,
                    "nan_count": 0,
                    "min": "0",
                    "max": "1",
                    "histogram": [
                      {
                        "bin_start": 0,
                        "bin_end": 0.1,
                        "count": 185
                      },
                      {
                        "bin_start": 0.1,
                        "bin_end": 0.2,
                        "count": 0
                      },
                      {
                        "bin_start": 0.2,
                        "bin_end": 0.30000000000000004,
                        "count": 0
                      },
                      {
                        "bin_start": 0.30000000000000004,
                        "bin_end": 0.4,
                        "count": 0
                      },
                      {
                        "bin_start": 0.4,
                        "bin_end": 0.5,
                        "count": 0
                      },
                      {
                        "bin_start": 0.5,
                        "bin_end": 0.6000000000000001,
                        "count": 0
                      },
                      {
                        "bin_start": 0.6000000000000001,
                        "bin_end": 0.7000000000000001,
                        "count": 0
                      },
                      {
                        "bin_start": 0.7000000000000001,
                        "bin_end": 0.8,
                        "count": 0
                      },
                      {
                        "bin_start": 0.8,
                        "bin_end": 0.9,
                        "count": 0
                      },
                      {
                        "bin_start": 0.9,
                        "bin_end": 1,
                        "count": 187
                      }
                    ]
                  }
                },
                {
                  "name": "text",
                  "dtype": "object",
                  "stats": {
                    "unique_count": 302,
                    "nan_count": 0,
                    "categories": [
                      {
                        "name": "upper downer",
                        "count": 4
                      },
                      {
                        "name": "a real man loads the dishwasher every night",
                        "count": 2
                      },
                      {
                        "name": "300 others",
                        "count": 366
                      }
                    ]
                  }
                },
                {
                  "name": "vilio_proba",
                  "dtype": "float64",
                  "stats": {
                    "unique_count": 372,
                    "nan_count": 0,
                    "min": "0.0",
                    "max": "1.0",
                    "histogram": [
                      {
                        "bin_start": 0,
                        "bin_end": 0.1,
                        "count": 43
                      },
                      {
                        "bin_start": 0.1,
                        "bin_end": 0.2,
                        "count": 94
                      },
                      {
                        "bin_start": 0.2,
                        "bin_end": 0.30000000000000004,
                        "count": 64
                      },
                      {
                        "bin_start": 0.30000000000000004,
                        "bin_end": 0.4,
                        "count": 31
                      },
                      {
                        "bin_start": 0.4,
                        "bin_end": 0.5,
                        "count": 28
                      },
                      {
                        "bin_start": 0.5,
                        "bin_end": 0.6000000000000001,
                        "count": 26
                      },
                      {
                        "bin_start": 0.6000000000000001,
                        "bin_end": 0.7000000000000001,
                        "count": 27
                      },
                      {
                        "bin_start": 0.7000000000000001,
                        "bin_end": 0.8,
                        "count": 24
                      },
                      {
                        "bin_start": 0.8,
                        "bin_end": 0.9,
                        "count": 21
                      },
                      {
                        "bin_start": 0.9,
                        "bin_end": 1,
                        "count": 14
                      }
                    ]
                  }
                },
                {
                  "name": "vilio_label",
                  "dtype": "int64",
                  "stats": {
                    "unique_count": 2,
                    "nan_count": 0,
                    "min": "0",
                    "max": "1",
                    "histogram": [
                      {
                        "bin_start": 0,
                        "bin_end": 0.1,
                        "count": 260
                      },
                      {
                        "bin_start": 0.1,
                        "bin_end": 0.2,
                        "count": 0
                      },
                      {
                        "bin_start": 0.2,
                        "bin_end": 0.30000000000000004,
                        "count": 0
                      },
                      {
                        "bin_start": 0.30000000000000004,
                        "bin_end": 0.4,
                        "count": 0
                      },
                      {
                        "bin_start": 0.4,
                        "bin_end": 0.5,
                        "count": 0
                      },
                      {
                        "bin_start": 0.5,
                        "bin_end": 0.6000000000000001,
                        "count": 0
                      },
                      {
                        "bin_start": 0.6000000000000001,
                        "bin_end": 0.7000000000000001,
                        "count": 0
                      },
                      {
                        "bin_start": 0.7000000000000001,
                        "bin_end": 0.8,
                        "count": 0
                      },
                      {
                        "bin_start": 0.8,
                        "bin_end": 0.9,
                        "count": 0
                      },
                      {
                        "bin_start": 0.9,
                        "bin_end": 1,
                        "count": 112
                      }
                    ]
                  }
                },
                {
                  "name": "vb_proba",
                  "dtype": "float64",
                  "stats": {
                    "unique_count": 371,
                    "nan_count": 0,
                    "min": "0.0001865789236035",
                    "max": "0.999806582927704",
                    "histogram": [
                      {
                        "bin_start": 0.0001865789236035,
                        "bin_end": 0.10014857932401355,
                        "count": 264
                      },
                      {
                        "bin_start": 0.10014857932401355,
                        "bin_end": 0.2001105797244236,
                        "count": 0
                      },
                      {
                        "bin_start": 0.2001105797244236,
                        "bin_end": 0.3000725801248337,
                        "count": 0
                      },
                      {
                        "bin_start": 0.3000725801248337,
                        "bin_end": 0.4000345805252437,
                        "count": 0
                      },
                      {
                        "bin_start": 0.4000345805252437,
                        "bin_end": 0.49999658092565374,
                        "count": 0
                      },
                      {
                        "bin_start": 0.49999658092565374,
                        "bin_end": 0.5999585813260638,
                        "count": 0
                      },
                      {
                        "bin_start": 0.5999585813260638,
                        "bin_end": 0.6999205817264739,
                        "count": 0
                      },
                      {
                        "bin_start": 0.6999205817264739,
                        "bin_end": 0.7998825821268839,
                        "count": 0
                      },
                      {
                        "bin_start": 0.7998825821268839,
                        "bin_end": 0.8998445825272939,
                        "count": 0
                      },
                      {
                        "bin_start": 0.8998445825272939,
                        "bin_end": 0.999806582927704,
                        "count": 108
                      }
                    ]
                  }
                },
                {
                  "name": "vb_label",
                  "dtype": "int64",
                  "stats": {
                    "unique_count": 2,
                    "nan_count": 0,
                    "min": "0",
                    "max": "1",
                    "histogram": [
                      {
                        "bin_start": 0,
                        "bin_end": 0.1,
                        "count": 264
                      },
                      {
                        "bin_start": 0.1,
                        "bin_end": 0.2,
                        "count": 0
                      },
                      {
                        "bin_start": 0.2,
                        "bin_end": 0.30000000000000004,
                        "count": 0
                      },
                      {
                        "bin_start": 0.30000000000000004,
                        "bin_end": 0.4,
                        "count": 0
                      },
                      {
                        "bin_start": 0.4,
                        "bin_end": 0.5,
                        "count": 0
                      },
                      {
                        "bin_start": 0.5,
                        "bin_end": 0.6000000000000001,
                        "count": 0
                      },
                      {
                        "bin_start": 0.6000000000000001,
                        "bin_end": 0.7000000000000001,
                        "count": 0
                      },
                      {
                        "bin_start": 0.7000000000000001,
                        "bin_end": 0.8,
                        "count": 0
                      },
                      {
                        "bin_start": 0.8,
                        "bin_end": 0.9,
                        "count": 0
                      },
                      {
                        "bin_start": 0.9,
                        "bin_end": 1,
                        "count": 108
                      }
                    ]
                  }
                },
                {
                  "name": "base_proba",
                  "dtype": "float64",
                  "stats": {
                    "unique_count": 372,
                    "nan_count": 0,
                    "min": "0.0001271477522095",
                    "max": "0.999524712562561",
                    "histogram": [
                      {
                        "bin_start": 0.0001271477522095,
                        "bin_end": 0.10006690423324466,
                        "count": 248
                      },
                      {
                        "bin_start": 0.10006690423324466,
                        "bin_end": 0.20000666071427983,
                        "count": 15
                      },
                      {
                        "bin_start": 0.20000666071427983,
                        "bin_end": 0.299946417195315,
                        "count": 8
                      },
                      {
                        "bin_start": 0.299946417195315,
                        "bin_end": 0.39988617367635015,
                        "count": 9
                      },
                      {
                        "bin_start": 0.39988617367635015,
                        "bin_end": 0.4998259301573853,
                        "count": 7
                      },
                      {
                        "bin_start": 0.4998259301573853,
                        "bin_end": 0.5997656866384204,
                        "count": 4
                      },
                      {
                        "bin_start": 0.5997656866384204,
                        "bin_end": 0.6997054431194556,
                        "count": 6
                      },
                      {
                        "bin_start": 0.6997054431194556,
                        "bin_end": 0.7996451996004907,
                        "count": 7
                      },
                      {
                        "bin_start": 0.7996451996004907,
                        "bin_end": 0.8995849560815259,
                        "count": 11
                      },
                      {
                        "bin_start": 0.8995849560815259,
                        "bin_end": 0.999524712562561,
                        "count": 57
                      }
                    ]
                  }
                },
                {
                  "name": "base_label",
                  "dtype": "int64",
                  "stats": {
                    "unique_count": 2,
                    "nan_count": 0,
                    "min": "0",
                    "max": "1",
                    "histogram": [
                      {
                        "bin_start": 0,
                        "bin_end": 0.1,
                        "count": 287
                      },
                      {
                        "bin_start": 0.1,
                        "bin_end": 0.2,
                        "count": 0
                      },
                      {
                        "bin_start": 0.2,
                        "bin_end": 0.30000000000000004,
                        "count": 0
                      },
                      {
                        "bin_start": 0.30000000000000004,
                        "bin_end": 0.4,
                        "count": 0
                      },
                      {
                        "bin_start": 0.4,
                        "bin_end": 0.5,
                        "count": 0
                      },
                      {
                        "bin_start": 0.5,
                        "bin_end": 0.6000000000000001,
                        "count": 0
                      },
                      {
                        "bin_start": 0.6000000000000001,
                        "bin_end": 0.7000000000000001,
                        "count": 0
                      },
                      {
                        "bin_start": 0.7000000000000001,
                        "bin_end": 0.8,
                        "count": 0
                      },
                      {
                        "bin_start": 0.8,
                        "bin_end": 0.9,
                        "count": 0
                      },
                      {
                        "bin_start": 0.9,
                        "bin_end": 1,
                        "count": 85
                      }
                    ]
                  }
                },
                {
                  "name": "_deepnote_index_column",
                  "dtype": "int64"
                }
              ],
              "rows_top": [
                {
                  "id": 1268,
                  "img": "img/01268.png",
                  "truth": 0,
                  "text": "father and daughter bonding time is the best like and share if you agree",
                  "vilio_proba": 0.6599672490812551,
                  "vilio_label": 1,
                  "vb_proba": 0.0002301432832609,
                  "vb_label": 0,
                  "base_proba": 0.000416669412516,
                  "base_label": 0,
                  "_deepnote_index_column": 0
                },
                {
                  "id": 1456,
                  "img": "img/01456.png",
                  "truth": 1,
                  "text": "they see them rollin..... they hating..",
                  "vilio_proba": 0.7682838849687912,
                  "vilio_label": 1,
                  "vb_proba": 0.9642950296401978,
                  "vb_label": 1,
                  "base_proba": 0.1000730991363525,
                  "base_label": 0,
                  "_deepnote_index_column": 1
                },
                {
                  "id": 1726,
                  "img": "img/01726.png",
                  "truth": 1,
                  "text": "a real man loads the dishwasher every night",
                  "vilio_proba": 0.9095509534106987,
                  "vilio_label": 1,
                  "vb_proba": 0.9958972930908204,
                  "vb_label": 1,
                  "base_proba": 0.8370235562324524,
                  "base_label": 1,
                  "_deepnote_index_column": 2
                },
                {
                  "id": 1796,
                  "img": "img/01796.png",
                  "truth": 1,
                  "text": "life hack #23 how to get stoned with no weed",
                  "vilio_proba": 0.1605654440676509,
                  "vilio_label": 0,
                  "vb_proba": 0.0672107711434364,
                  "vb_label": 0,
                  "base_proba": 0.2697727978229522,
                  "base_label": 0,
                  "_deepnote_index_column": 3
                },
                {
                  "id": 1925,
                  "img": "img/01925.png",
                  "truth": 1,
                  "text": "i am not racist i just don't like brown sugar",
                  "vilio_proba": 0.18313193727017144,
                  "vilio_label": 0,
                  "vb_proba": 0.0025557978078722,
                  "vb_label": 0,
                  "base_proba": 0.0009571990813128,
                  "base_label": 0,
                  "_deepnote_index_column": 4
                },
                {
                  "id": 1967,
                  "img": "img/01967.png",
                  "truth": 0,
                  "text": "when you decide to stop racism by burning its symbol",
                  "vilio_proba": 0.21507743949606947,
                  "vilio_label": 0,
                  "vb_proba": 0.0020293379202485,
                  "vb_label": 0,
                  "base_proba": 0.0008174629765562,
                  "base_label": 0,
                  "_deepnote_index_column": 5
                },
                {
                  "id": 2143,
                  "img": "img/02143.png",
                  "truth": 1,
                  "text": "doesnt have food, water, electricity proud of nuclear weapons",
                  "vilio_proba": 0.5711268450819705,
                  "vilio_label": 1,
                  "vb_proba": 0.9995728135108948,
                  "vb_label": 1,
                  "base_proba": 0.3490279018878937,
                  "base_label": 0,
                  "_deepnote_index_column": 6
                },
                {
                  "id": 2145,
                  "img": "img/02145.png",
                  "truth": 0,
                  "text": "and then i asked mom, what's for dinner?",
                  "vilio_proba": 0.9511135121707234,
                  "vilio_label": 1,
                  "vb_proba": 0.0002010846801567,
                  "vb_label": 0,
                  "base_proba": 0.0029210129287093,
                  "base_label": 0,
                  "_deepnote_index_column": 7
                },
                {
                  "id": 2364,
                  "img": "img/02364.png",
                  "truth": 0,
                  "text": "a jewish shop owner, wears a kippah or yarmulke whilst in his shop in tehran",
                  "vilio_proba": 0.4388557656363141,
                  "vilio_label": 0,
                  "vb_proba": 0.0007366696372628,
                  "vb_label": 0,
                  "base_proba": 0.9982069730758668,
                  "base_label": 1,
                  "_deepnote_index_column": 8
                },
                {
                  "id": 2478,
                  "img": "img/02478.png",
                  "truth": 1,
                  "text": "must..resist...urge to.. kill whitey.",
                  "vilio_proba": 0.09132358445516046,
                  "vilio_label": 0,
                  "vb_proba": 0.9996271133422852,
                  "vb_label": 1,
                  "base_proba": 0.950066328048706,
                  "base_label": 1,
                  "_deepnote_index_column": 9
                },
                {
                  "id": 2518,
                  "img": "img/02518.png",
                  "truth": 0,
                  "text": "when the dog bites you and you bite back to assert dominance",
                  "vilio_proba": 0.17288206610733003,
                  "vilio_label": 0,
                  "vb_proba": 0.0001921611547004,
                  "vb_label": 0,
                  "base_proba": 0.0003744499117601,
                  "base_label": 0,
                  "_deepnote_index_column": 10
                },
                {
                  "id": 2568,
                  "img": "img/02568.png",
                  "truth": 1,
                  "text": "whatsthe difference between heroin and i? cops think twice before shooting heroin",
                  "vilio_proba": 0.26764642776987324,
                  "vilio_label": 0,
                  "vb_proba": 0.0010224942816421,
                  "vb_label": 0,
                  "base_proba": 0.0126390205696225,
                  "base_label": 0,
                  "_deepnote_index_column": 11
                },
                {
                  "id": 2634,
                  "img": "img/02634.png",
                  "truth": 1,
                  "text": "and just like that... this sandwich maker doubles as an ironing board",
                  "vilio_proba": 0.7145649265887659,
                  "vilio_label": 1,
                  "vb_proba": 0.9989750385284424,
                  "vb_label": 1,
                  "base_proba": 0.977145791053772,
                  "base_label": 1,
                  "_deepnote_index_column": 12
                },
                {
                  "id": 2783,
                  "img": "img/02783.png",
                  "truth": 1,
                  "text": "a picture of my great great great grand grandfather's tractors they don't make them like they used to",
                  "vilio_proba": 0.6358050041299834,
                  "vilio_label": 1,
                  "vb_proba": 0.9460479617118835,
                  "vb_label": 1,
                  "base_proba": 0.0005619285511784,
                  "base_label": 0,
                  "_deepnote_index_column": 13
                },
                {
                  "id": 3214,
                  "img": "img/03214.png",
                  "truth": 0,
                  "text": "bartender: how about a nice 12 yr old? him: boy or girl?",
                  "vilio_proba": 0.21918268041752645,
                  "vilio_label": 0,
                  "vb_proba": 0.0002161269658245,
                  "vb_label": 0,
                  "base_proba": 0.0165732763707637,
                  "base_label": 0,
                  "_deepnote_index_column": 14
                },
                {
                  "id": 3217,
                  "img": "img/03217.png",
                  "truth": 0,
                  "text": "they are like sperm you get millions, but only one works",
                  "vilio_proba": 0.047789612743157885,
                  "vilio_label": 0,
                  "vb_proba": 0.0023674229159951,
                  "vb_label": 0,
                  "base_proba": 0.0538823753595352,
                  "base_label": 0,
                  "_deepnote_index_column": 15
                },
                {
                  "id": 3519,
                  "img": "img/03519.png",
                  "truth": 1,
                  "text": "i'm going home i'm russian",
                  "vilio_proba": 0.920746424845017,
                  "vilio_label": 1,
                  "vb_proba": 0.0246713142842054,
                  "vb_label": 0,
                  "base_proba": 0.156326338648796,
                  "base_label": 0,
                  "_deepnote_index_column": 16
                },
                {
                  "id": 3524,
                  "img": "img/03524.png",
                  "truth": 1,
                  "text": "terrorist can come to this country way to easy",
                  "vilio_proba": 0.5789851771025912,
                  "vilio_label": 1,
                  "vb_proba": 0.0009255946497432,
                  "vb_label": 0,
                  "base_proba": 0.0354405790567398,
                  "base_label": 0,
                  "_deepnote_index_column": 17
                },
                {
                  "id": 3567,
                  "img": "img/03567.png",
                  "truth": 1,
                  "text": "potato is my favorite color of the alphabet",
                  "vilio_proba": 0.7157181682389013,
                  "vilio_label": 1,
                  "vb_proba": 0.9989563226699828,
                  "vb_label": 1,
                  "base_proba": 0.0224823802709579,
                  "base_label": 0,
                  "_deepnote_index_column": 18
                },
                {
                  "id": 3568,
                  "img": "img/03568.png",
                  "truth": 0,
                  "text": "time to play rich vs the constitution",
                  "vilio_proba": 0.4394158674988008,
                  "vilio_label": 0,
                  "vb_proba": 0.0002298255421919,
                  "vb_label": 0,
                  "base_proba": 0.0002117130934493,
                  "base_label": 0,
                  "_deepnote_index_column": 19
                },
                {
                  "id": 3745,
                  "img": "img/03745.png",
                  "truth": 1,
                  "text": "your order comes to $37.50 and your white privilege discount brings the total to $37.50",
                  "vilio_proba": 0.7668708249301052,
                  "vilio_label": 1,
                  "vb_proba": 0.0005504174623638,
                  "vb_label": 0,
                  "base_proba": 0.0013869398972019,
                  "base_label": 0,
                  "_deepnote_index_column": 20
                },
                {
                  "id": 3798,
                  "img": "img/03798.png",
                  "truth": 0,
                  "text": "hey, i just met you and this is crazy but here's your number... so camping, maybe?",
                  "vilio_proba": 0.23001710510089005,
                  "vilio_label": 0,
                  "vb_proba": 0.0004384364001452,
                  "vb_label": 0,
                  "base_proba": 0.0009316474897786,
                  "base_label": 0,
                  "_deepnote_index_column": 21
                },
                {
                  "id": 4538,
                  "img": "img/04538.png",
                  "truth": 0,
                  "text": "bows here, bows there, bows everywhere",
                  "vilio_proba": 0.2751550522623428,
                  "vilio_label": 0,
                  "vb_proba": 0.0002353091986151,
                  "vb_label": 0,
                  "base_proba": 0.9788638949394226,
                  "base_label": 1,
                  "_deepnote_index_column": 22
                },
                {
                  "id": 4569,
                  "img": "img/04569.png",
                  "truth": 0,
                  "text": "when is the time to eat i am hungry",
                  "vilio_proba": 0.1338598224981898,
                  "vilio_label": 0,
                  "vb_proba": 0.0002265298098791,
                  "vb_label": 0,
                  "base_proba": 0.0002008769661188,
                  "base_label": 0,
                  "_deepnote_index_column": 23
                },
                {
                  "id": 4621,
                  "img": "img/04621.png",
                  "truth": 0,
                  "text": "you are what you eat meanwhile in africa",
                  "vilio_proba": 0.7071681694261414,
                  "vilio_label": 1,
                  "vb_proba": 0.019469641149044,
                  "vb_label": 0,
                  "base_proba": 0.0096497796475887,
                  "base_label": 0,
                  "_deepnote_index_column": 24
                },
                {
                  "id": 5126,
                  "img": "img/05126.png",
                  "truth": 1,
                  "text": "can you smell what the reich is cooking",
                  "vilio_proba": 0.7422840876349783,
                  "vilio_label": 1,
                  "vb_proba": 0.9996676445007324,
                  "vb_label": 1,
                  "base_proba": 0.0534704066812992,
                  "base_label": 0,
                  "_deepnote_index_column": 25
                },
                {
                  "id": 5279,
                  "img": "img/05279.png",
                  "truth": 1,
                  "text": "knowing white people , that's probably the baby father",
                  "vilio_proba": 0.4128863728989441,
                  "vilio_label": 0,
                  "vb_proba": 0.9917248487472534,
                  "vb_label": 1,
                  "base_proba": 0.9673579335212708,
                  "base_label": 1,
                  "_deepnote_index_column": 26
                },
                {
                  "id": 5316,
                  "img": "img/05316.png",
                  "truth": 0,
                  "text": "doing o's with the smoke",
                  "vilio_proba": 0.18246074864757855,
                  "vilio_label": 0,
                  "vb_proba": 0.0002395070623606,
                  "vb_label": 0,
                  "base_proba": 0.0002738553157541,
                  "base_label": 0,
                  "_deepnote_index_column": 27
                },
                {
                  "id": 5349,
                  "img": "img/05349.png",
                  "truth": 0,
                  "text": "normal day in a islamic country",
                  "vilio_proba": 0.47127260114724345,
                  "vilio_label": 0,
                  "vb_proba": 0.0018905091565102,
                  "vb_label": 0,
                  "base_proba": 0.78266441822052,
                  "base_label": 1,
                  "_deepnote_index_column": 28
                },
                {
                  "id": 5938,
                  "img": "img/05938.png",
                  "truth": 1,
                  "text": "in the muslim world all gay men are well hung",
                  "vilio_proba": 0.10087602093300642,
                  "vilio_label": 0,
                  "vb_proba": 0.9990668892860411,
                  "vb_label": 1,
                  "base_proba": 0.8566374182701111,
                  "base_label": 1,
                  "_deepnote_index_column": 29
                },
                {
                  "id": 6123,
                  "img": "img/06123.png",
                  "truth": 1,
                  "text": "a group of men",
                  "vilio_proba": 0.16910492307923347,
                  "vilio_label": 0,
                  "vb_proba": 0.0002311661082785,
                  "vb_label": 0,
                  "base_proba": 0.0201219692826271,
                  "base_label": 0,
                  "_deepnote_index_column": 30
                },
                {
                  "id": 6273,
                  "img": "img/06273.png",
                  "truth": 1,
                  "text": "the jihad squad",
                  "vilio_proba": 0.22296404217705376,
                  "vilio_label": 0,
                  "vb_proba": 0.0107316644862294,
                  "vb_label": 0,
                  "base_proba": 0.0031512880232185,
                  "base_label": 0,
                  "_deepnote_index_column": 31
                },
                {
                  "id": 6352,
                  "img": "img/06352.png",
                  "truth": 0,
                  "text": "and then i asked mom, can we go play?",
                  "vilio_proba": 0.2377458628520045,
                  "vilio_label": 0,
                  "vb_proba": 0.0009447634802199,
                  "vb_label": 0,
                  "base_proba": 0.0003974216233473,
                  "base_label": 0,
                  "_deepnote_index_column": 32
                },
                {
                  "id": 6491,
                  "img": "img/06491.png",
                  "truth": 1,
                  "text": "tranny for sale",
                  "vilio_proba": 0.27832749898583375,
                  "vilio_label": 0,
                  "vb_proba": 0.999525547027588,
                  "vb_label": 1,
                  "base_proba": 0.9991409778594972,
                  "base_label": 1,
                  "_deepnote_index_column": 33
                },
                {
                  "id": 6582,
                  "img": "img/06582.png",
                  "truth": 1,
                  "text": "they are terrorists anyone who doesn't agree is an idiot",
                  "vilio_proba": 0.09144372861911552,
                  "vilio_label": 0,
                  "vb_proba": 0.000733544526156,
                  "vb_label": 0,
                  "base_proba": 0.6759946346282959,
                  "base_label": 1,
                  "_deepnote_index_column": 34
                },
                {
                  "id": 6723,
                  "img": "img/06723.png",
                  "truth": 1,
                  "text": "the hardest part to eat in a vegetable",
                  "vilio_proba": 0.23118522195628147,
                  "vilio_label": 0,
                  "vb_proba": 0.0003812286886386,
                  "vb_label": 0,
                  "base_proba": 0.0004875293816439,
                  "base_label": 0,
                  "_deepnote_index_column": 35
                },
                {
                  "id": 7135,
                  "img": "img/07135.png",
                  "truth": 1,
                  "text": "this is the greatest news manufacturing in 20th century",
                  "vilio_proba": 0.8890128370911378,
                  "vilio_label": 1,
                  "vb_proba": 0.0020130963530391,
                  "vb_label": 0,
                  "base_proba": 0.0007085333927534,
                  "base_label": 0,
                  "_deepnote_index_column": 36
                },
                {
                  "id": 7198,
                  "img": "img/07198.png",
                  "truth": 1,
                  "text": "islam is a religion of peace stop criticizing my religion",
                  "vilio_proba": 0.2020173329959267,
                  "vilio_label": 0,
                  "vb_proba": 0.9992563128471376,
                  "vb_label": 1,
                  "base_proba": 0.9868454933166504,
                  "base_label": 1,
                  "_deepnote_index_column": 37
                },
                {
                  "id": 7351,
                  "img": "img/07351.png",
                  "truth": 0,
                  "text": "\"plays uno steals all the green cards\"",
                  "vilio_proba": 0.7457673617432521,
                  "vilio_label": 1,
                  "vb_proba": 0.946218967437744,
                  "vb_label": 1,
                  "base_proba": 0.0046547856181859,
                  "base_label": 0,
                  "_deepnote_index_column": 38
                },
                {
                  "id": 7382,
                  "img": "img/07382.png",
                  "truth": 1,
                  "text": "wouldn't be the last time those people used the oven this way",
                  "vilio_proba": 0.14738369461137352,
                  "vilio_label": 0,
                  "vb_proba": 0.9961291551589966,
                  "vb_label": 1,
                  "base_proba": 0.0049210181459784,
                  "base_label": 0,
                  "_deepnote_index_column": 39
                },
                {
                  "id": 7528,
                  "img": "img/07528.png",
                  "truth": 1,
                  "text": "the latest and greatest. a truck that comes with a dishwasher!",
                  "vilio_proba": 0.3204350271820951,
                  "vilio_label": 0,
                  "vb_proba": 0.9968497157096864,
                  "vb_label": 1,
                  "base_proba": 0.92363703250885,
                  "base_label": 1,
                  "_deepnote_index_column": 40
                },
                {
                  "id": 7653,
                  "img": "img/07653.png",
                  "truth": 1,
                  "text": "in the last days there will be god hating scoffers, ridiculers, deniers and mockers following after their own lusts",
                  "vilio_proba": 0.7436318900164481,
                  "vilio_label": 1,
                  "vb_proba": 0.0010499665513634,
                  "vb_label": 0,
                  "base_proba": 0.10770895332098,
                  "base_label": 0,
                  "_deepnote_index_column": 41
                },
                {
                  "id": 8291,
                  "img": "img/08291.png",
                  "truth": 1,
                  "text": "white people is this a shooting range",
                  "vilio_proba": 0.12020414021241159,
                  "vilio_label": 0,
                  "vb_proba": 0.042985763400793,
                  "vb_label": 0,
                  "base_proba": 0.9748093485832214,
                  "base_label": 1,
                  "_deepnote_index_column": 42
                },
                {
                  "id": 8451,
                  "img": "img/08451.png",
                  "truth": 0,
                  "text": "when you ask a jewish girl for her number and she starts rolling her sleeve",
                  "vilio_proba": 0.8592617140387865,
                  "vilio_label": 1,
                  "vb_proba": 0.9935205578804016,
                  "vb_label": 1,
                  "base_proba": 0.9984585046768188,
                  "base_label": 1,
                  "_deepnote_index_column": 43
                },
                {
                  "id": 8795,
                  "img": "img/08795.png",
                  "truth": 0,
                  "text": "when you are white and working in oil field",
                  "vilio_proba": 0.05360422368874752,
                  "vilio_label": 0,
                  "vb_proba": 0.0002537994587328,
                  "vb_label": 0,
                  "base_proba": 0.93359637260437,
                  "base_label": 1,
                  "_deepnote_index_column": 44
                },
                {
                  "id": 9467,
                  "img": "img/09467.png",
                  "truth": 1,
                  "text": "when mom asks where all the jews went",
                  "vilio_proba": 0.10965366539308327,
                  "vilio_label": 0,
                  "vb_proba": 0.9992584586143494,
                  "vb_label": 1,
                  "base_proba": 0.9984909296035768,
                  "base_label": 1,
                  "_deepnote_index_column": 45
                },
                {
                  "id": 9863,
                  "img": "img/09863.png",
                  "truth": 0,
                  "text": "diverse group of women",
                  "vilio_proba": 0.44953221578113967,
                  "vilio_label": 0,
                  "vb_proba": 0.0002026856382144,
                  "vb_label": 0,
                  "base_proba": 0.0004674224765039,
                  "base_label": 0,
                  "_deepnote_index_column": 46
                },
                {
                  "id": 10285,
                  "img": "img/10285.png",
                  "truth": 1,
                  "text": "you are what you eat meanwhile in africa",
                  "vilio_proba": 0.21499206731068812,
                  "vilio_label": 0,
                  "vb_proba": 0.0002023141569225,
                  "vb_label": 0,
                  "base_proba": 0.0260483492165803,
                  "base_label": 0,
                  "_deepnote_index_column": 47
                },
                {
                  "id": 10362,
                  "img": "img/10362.png",
                  "truth": 1,
                  "text": "german british danish austrian diversity. apparently we don't have it and these guys do: iraqi pakistani syrian egyptian",
                  "vilio_proba": 0.12496841725462245,
                  "vilio_label": 0,
                  "vb_proba": 0.97890704870224,
                  "vb_label": 1,
                  "base_proba": 0.9942575693130492,
                  "base_label": 1,
                  "_deepnote_index_column": 48
                },
                {
                  "id": 10749,
                  "img": "img/10749.png",
                  "truth": 1,
                  "text": "my sense of humor is so dark it picks cotton",
                  "vilio_proba": 0.21348712762582012,
                  "vilio_label": 0,
                  "vb_proba": 0.9996258020401,
                  "vb_label": 1,
                  "base_proba": 0.0338916145265102,
                  "base_label": 0,
                  "_deepnote_index_column": 49
                }
              ],
              "rows_bottom": [
                {
                  "id": 87169,
                  "img": "img/87169.png",
                  "truth": 1,
                  "text": "albanians talking photo with a porn star",
                  "vilio_proba": 0.2751230174222749,
                  "vilio_label": 0,
                  "vb_proba": 0.0008306832169182,
                  "vb_label": 0,
                  "base_proba": 0.0010644870344549,
                  "base_label": 0,
                  "_deepnote_index_column": 322
                },
                {
                  "id": 87251,
                  "img": "img/87251.png",
                  "truth": 0,
                  "text": "i love apes they are both ugly and cute",
                  "vilio_proba": 0.8188836212540958,
                  "vilio_label": 1,
                  "vb_proba": 0.0004379931488074,
                  "vb_label": 0,
                  "base_proba": 0.0013778420398011,
                  "base_label": 0,
                  "_deepnote_index_column": 323
                },
                {
                  "id": 87520,
                  "img": "img/87520.png",
                  "truth": 1,
                  "text": "yes, we know trump said \"mexico will pay for the wall\" but now mexicans are the wall. that boy good!!!!",
                  "vilio_proba": 0.11857072701032659,
                  "vilio_label": 0,
                  "vb_proba": 0.000770425365772,
                  "vb_label": 0,
                  "base_proba": 0.0029111981857568,
                  "base_label": 0,
                  "_deepnote_index_column": 324
                },
                {
                  "id": 89071,
                  "img": "img/89071.png",
                  "truth": 1,
                  "text": "they don't wash their ass with water and they eat their daughters' ass",
                  "vilio_proba": 0.4943500596312898,
                  "vilio_label": 0,
                  "vb_proba": 0.0007383859483525,
                  "vb_label": 0,
                  "base_proba": 0.2307606488466262,
                  "base_label": 0,
                  "_deepnote_index_column": 325
                },
                {
                  "id": 89536,
                  "img": "img/89536.png",
                  "truth": 0,
                  "text": "so many lives lost because of this man",
                  "vilio_proba": 0.13212985268121055,
                  "vilio_label": 0,
                  "vb_proba": 0.0002725271915551,
                  "vb_label": 0,
                  "base_proba": 0.0006301854737102,
                  "base_label": 0,
                  "_deepnote_index_column": 326
                },
                {
                  "id": 89642,
                  "img": "img/89642.png",
                  "truth": 1,
                  "text": "i treat them like java treats its generic parameters at run time as objects",
                  "vilio_proba": 0.10391379257950663,
                  "vilio_label": 0,
                  "vb_proba": 0.0009434808162041,
                  "vb_label": 0,
                  "base_proba": 0.0822950974106788,
                  "base_label": 0,
                  "_deepnote_index_column": 327
                },
                {
                  "id": 90243,
                  "img": "img/90243.png",
                  "truth": 1,
                  "text": "best gamer ever 6 million kills, 1 death",
                  "vilio_proba": 0.31330225062761563,
                  "vilio_label": 0,
                  "vb_proba": 0.0022569056600332,
                  "vb_label": 0,
                  "base_proba": 0.4559054672718048,
                  "base_label": 0,
                  "_deepnote_index_column": 328
                },
                {
                  "id": 90267,
                  "img": "img/90267.png",
                  "truth": 0,
                  "text": "i've been driving this baby for years the mileage isn't great but still gets the job done",
                  "vilio_proba": 0.3658475542994226,
                  "vilio_label": 0,
                  "vb_proba": 0.000192156760022,
                  "vb_label": 0,
                  "base_proba": 0.0006206254474818,
                  "base_label": 0,
                  "_deepnote_index_column": 329
                },
                {
                  "id": 90643,
                  "img": "img/90643.png",
                  "truth": 0,
                  "text": "she represents the new wave of democrats",
                  "vilio_proba": 0.11782524743633822,
                  "vilio_label": 0,
                  "vb_proba": 0.0002118821139447,
                  "vb_label": 0,
                  "base_proba": 0.0001482317165937,
                  "base_label": 0,
                  "_deepnote_index_column": 330
                },
                {
                  "id": 90843,
                  "img": "img/90843.png",
                  "truth": 0,
                  "text": "time to put the \"panic\" back in hispanic",
                  "vilio_proba": 0.880397167839053,
                  "vilio_label": 1,
                  "vb_proba": 0.000898110854905,
                  "vb_label": 0,
                  "base_proba": 0.0077020144090056,
                  "base_label": 0,
                  "_deepnote_index_column": 331
                },
                {
                  "id": 91586,
                  "img": "img/91586.png",
                  "truth": 1,
                  "text": "left the kitchen too many times",
                  "vilio_proba": 0.302562369862455,
                  "vilio_label": 0,
                  "vb_proba": 0.0002705000515561,
                  "vb_label": 0,
                  "base_proba": 0.0001518144272267,
                  "base_label": 0,
                  "_deepnote_index_column": 332
                },
                {
                  "id": 91602,
                  "img": "img/91602.png",
                  "truth": 0,
                  "text": "upper downer",
                  "vilio_proba": 0.17607788170364536,
                  "vilio_label": 0,
                  "vb_proba": 0.0003698795044329,
                  "vb_label": 0,
                  "base_proba": 0.0009958256268873,
                  "base_label": 0,
                  "_deepnote_index_column": 333
                },
                {
                  "id": 91756,
                  "img": "img/91756.png",
                  "truth": 1,
                  "text": "abnormal vs normal",
                  "vilio_proba": 0.2914941462681216,
                  "vilio_label": 0,
                  "vb_proba": 0.0022907678503543,
                  "vb_label": 0,
                  "base_proba": 0.0022523270454257,
                  "base_label": 0,
                  "_deepnote_index_column": 334
                },
                {
                  "id": 91763,
                  "img": "img/91763.png",
                  "truth": 1,
                  "text": "imagine being so disgusting there have to be laws to try to stop normal people from hating you",
                  "vilio_proba": 0.5373736557504932,
                  "vilio_label": 1,
                  "vb_proba": 0.0009370493935421,
                  "vb_label": 0,
                  "base_proba": 0.012340516783297,
                  "base_label": 0,
                  "_deepnote_index_column": 335
                },
                {
                  "id": 92046,
                  "img": "img/92046.png",
                  "truth": 0,
                  "text": "they are terrorists anyone who doesn't agree is an idiot",
                  "vilio_proba": 0.28410057127471333,
                  "vilio_label": 0,
                  "vb_proba": 0.0572910048067569,
                  "vb_label": 0,
                  "base_proba": 0.9549845457077026,
                  "base_label": 1,
                  "_deepnote_index_column": 336
                },
                {
                  "id": 92058,
                  "img": "img/92058.png",
                  "truth": 1,
                  "text": "how black people became christians",
                  "vilio_proba": 0.2259671671538348,
                  "vilio_label": 0,
                  "vb_proba": 0.0006447363994084,
                  "vb_label": 0,
                  "base_proba": 0.9863152503967284,
                  "base_label": 1,
                  "_deepnote_index_column": 337
                },
                {
                  "id": 92068,
                  "img": "img/92068.png",
                  "truth": 0,
                  "text": "still better than mexican",
                  "vilio_proba": 0.010795574024431947,
                  "vilio_label": 0,
                  "vb_proba": 0.000258483341895,
                  "vb_label": 0,
                  "base_proba": 0.0006159689510241,
                  "base_label": 0,
                  "_deepnote_index_column": 338
                },
                {
                  "id": 92317,
                  "img": "img/92317.png",
                  "truth": 0,
                  "text": "you either die a hero, or live long enough to become the villain",
                  "vilio_proba": 0.5053475811597441,
                  "vilio_label": 1,
                  "vb_proba": 0.0004107911663595,
                  "vb_label": 0,
                  "base_proba": 0.0012036320986226,
                  "base_label": 0,
                  "_deepnote_index_column": 339
                },
                {
                  "id": 92567,
                  "img": "img/92567.png",
                  "truth": 0,
                  "text": "pray for peace pray for wellbeing",
                  "vilio_proba": 0.25199522900542065,
                  "vilio_label": 0,
                  "vb_proba": 0.0002120017306879,
                  "vb_label": 0,
                  "base_proba": 0.9596760272979736,
                  "base_label": 1,
                  "_deepnote_index_column": 340
                },
                {
                  "id": 92738,
                  "img": "img/92738.png",
                  "truth": 1,
                  "text": "they are the best in basketball because they can steal, shoot and run",
                  "vilio_proba": 0.7325516167318908,
                  "vilio_label": 1,
                  "vb_proba": 0.0002040795516222,
                  "vb_label": 0,
                  "base_proba": 0.0357218496501445,
                  "base_label": 0,
                  "_deepnote_index_column": 341
                },
                {
                  "id": 93041,
                  "img": "img/93041.png",
                  "truth": 0,
                  "text": "\"who's gonna make the sandwiches? what do we do with all these sandwiches?\"",
                  "vilio_proba": 0.11943848345583083,
                  "vilio_label": 0,
                  "vb_proba": 0.0001973864855244,
                  "vb_label": 0,
                  "base_proba": 0.0005771635333076,
                  "base_label": 0,
                  "_deepnote_index_column": 342
                },
                {
                  "id": 93051,
                  "img": "img/93051.png",
                  "truth": 0,
                  "text": "and for my next class project!",
                  "vilio_proba": 0.06211154992251693,
                  "vilio_label": 0,
                  "vb_proba": 0.0002449078892823,
                  "vb_label": 0,
                  "base_proba": 0.0012019168352708,
                  "base_label": 0,
                  "_deepnote_index_column": 343
                },
                {
                  "id": 93148,
                  "img": "img/93148.png",
                  "truth": 0,
                  "text": "the proper way to pop a blackhead",
                  "vilio_proba": 0.9186464204380766,
                  "vilio_label": 1,
                  "vb_proba": 0.993337869644165,
                  "vb_label": 1,
                  "base_proba": 0.7273094654083252,
                  "base_label": 1,
                  "_deepnote_index_column": 344
                },
                {
                  "id": 93528,
                  "img": "img/93528.png",
                  "truth": 1,
                  "text": "portable dishwasher slash sandwich maker",
                  "vilio_proba": 0.7129871305546074,
                  "vilio_label": 1,
                  "vb_proba": 0.9987220168113708,
                  "vb_label": 1,
                  "base_proba": 0.3334592878818512,
                  "base_label": 0,
                  "_deepnote_index_column": 345
                },
                {
                  "id": 93541,
                  "img": "img/93541.png",
                  "truth": 0,
                  "text": "the jihad squad",
                  "vilio_proba": 0.2960352623686327,
                  "vilio_label": 0,
                  "vb_proba": 0.0185429546982049,
                  "vb_label": 0,
                  "base_proba": 0.0385879948735237,
                  "base_label": 0,
                  "_deepnote_index_column": 346
                },
                {
                  "id": 93620,
                  "img": "img/93620.png",
                  "truth": 1,
                  "text": "in other countries in pakistan",
                  "vilio_proba": 0.15677993237371074,
                  "vilio_label": 0,
                  "vb_proba": 0.9973255395889282,
                  "vb_label": 1,
                  "base_proba": 0.0708740800619125,
                  "base_label": 0,
                  "_deepnote_index_column": 347
                },
                {
                  "id": 94185,
                  "img": "img/94185.png",
                  "truth": 1,
                  "text": "how a black woman can fight crime",
                  "vilio_proba": 0.17489265650407607,
                  "vilio_label": 0,
                  "vb_proba": 0.0008827248821035,
                  "vb_label": 0,
                  "base_proba": 0.9264307618141174,
                  "base_label": 1,
                  "_deepnote_index_column": 348
                },
                {
                  "id": 94387,
                  "img": "img/94387.png",
                  "truth": 0,
                  "text": "i'm a fan of the color black on you although the rose gold looks pretty good as well",
                  "vilio_proba": 0.727078178798654,
                  "vilio_label": 1,
                  "vb_proba": 0.9986936450004578,
                  "vb_label": 1,
                  "base_proba": 0.4079592823982239,
                  "base_label": 0,
                  "_deepnote_index_column": 349
                },
                {
                  "id": 94560,
                  "img": "img/94560.png",
                  "truth": 1,
                  "text": "and for my next class project!",
                  "vilio_proba": 0.12190554943873637,
                  "vilio_label": 0,
                  "vb_proba": 0.0022510546259582,
                  "vb_label": 0,
                  "base_proba": 0.000986595172435,
                  "base_label": 0,
                  "_deepnote_index_column": 350
                },
                {
                  "id": 94738,
                  "img": "img/94738.png",
                  "truth": 0,
                  "text": "shopping is boring. why not have some fun at the walmart parking lot?",
                  "vilio_proba": 0.08904613779633883,
                  "vilio_label": 0,
                  "vb_proba": 0.0002198631991632,
                  "vb_label": 0,
                  "base_proba": 0.0098933679983019,
                  "base_label": 0,
                  "_deepnote_index_column": 351
                },
                {
                  "id": 94813,
                  "img": "img/94813.png",
                  "truth": 0,
                  "text": "thats the way allah allah i like it!!!",
                  "vilio_proba": 0.2516946499192973,
                  "vilio_label": 0,
                  "vb_proba": 0.0014600160066038,
                  "vb_label": 0,
                  "base_proba": 0.0023648659698665,
                  "base_label": 0,
                  "_deepnote_index_column": 352
                },
                {
                  "id": 95173,
                  "img": "img/95173.png",
                  "truth": 0,
                  "text": "take the third reich and then the first left?",
                  "vilio_proba": 0.5696617327279878,
                  "vilio_label": 1,
                  "vb_proba": 0.0167881809175014,
                  "vb_label": 0,
                  "base_proba": 0.0011891757603734,
                  "base_label": 0,
                  "_deepnote_index_column": 353
                },
                {
                  "id": 95487,
                  "img": "img/95487.png",
                  "truth": 0,
                  "text": "watching vegetables grow",
                  "vilio_proba": 0.5593262719320472,
                  "vilio_label": 1,
                  "vb_proba": 0.0002943935687653,
                  "vb_label": 0,
                  "base_proba": 0.0003033733810298,
                  "base_label": 0,
                  "_deepnote_index_column": 354
                },
                {
                  "id": 95604,
                  "img": "img/95604.png",
                  "truth": 1,
                  "text": "they want to be accepted for who they are, yet theren't able to accept themselves for who they are",
                  "vilio_proba": 0.5053051555129076,
                  "vilio_label": 1,
                  "vb_proba": 0.0003641891526058,
                  "vb_label": 0,
                  "base_proba": 0.0007337745628319,
                  "base_label": 0,
                  "_deepnote_index_column": 355
                },
                {
                  "id": 95613,
                  "img": "img/95613.png",
                  "truth": 1,
                  "text": "what a weird way to spell fat and single",
                  "vilio_proba": 0.21921641061268318,
                  "vilio_label": 0,
                  "vb_proba": 0.9965936541557312,
                  "vb_label": 1,
                  "base_proba": 0.990125060081482,
                  "base_label": 1,
                  "_deepnote_index_column": 356
                },
                {
                  "id": 95640,
                  "img": "img/95640.png",
                  "truth": 1,
                  "text": "syrian rape survivor speaks out",
                  "vilio_proba": 0.2219997758003463,
                  "vilio_label": 0,
                  "vb_proba": 0.9997172951698304,
                  "vb_label": 1,
                  "base_proba": 0.053609125316143,
                  "base_label": 0,
                  "_deepnote_index_column": 357
                },
                {
                  "id": 95830,
                  "img": "img/95830.png",
                  "truth": 1,
                  "text": "face of terrorism in us",
                  "vilio_proba": 0.09283626871863684,
                  "vilio_label": 0,
                  "vb_proba": 0.0002807511773426,
                  "vb_label": 0,
                  "base_proba": 0.0874660387635231,
                  "base_label": 0,
                  "_deepnote_index_column": 358
                },
                {
                  "id": 96180,
                  "img": "img/96180.png",
                  "truth": 1,
                  "text": "putting bows on your pet",
                  "vilio_proba": 0.7360915599267828,
                  "vilio_label": 1,
                  "vb_proba": 0.0013726941542699,
                  "vb_label": 0,
                  "base_proba": 0.9949733018875122,
                  "base_label": 1,
                  "_deepnote_index_column": 359
                },
                {
                  "id": 96250,
                  "img": "img/96250.png",
                  "truth": 0,
                  "text": "i'm going home i'm russian",
                  "vilio_proba": 0.07263918413183822,
                  "vilio_label": 0,
                  "vb_proba": 0.0003279592492617,
                  "vb_label": 0,
                  "base_proba": 0.0083354702219367,
                  "base_label": 0,
                  "_deepnote_index_column": 360
                },
                {
                  "id": 96284,
                  "img": "img/96284.png",
                  "truth": 1,
                  "text": "welcome to melbourne",
                  "vilio_proba": 0.569864747814309,
                  "vilio_label": 1,
                  "vb_proba": 0.0010789518710225,
                  "vb_label": 0,
                  "base_proba": 0.0880183726549148,
                  "base_label": 0,
                  "_deepnote_index_column": 361
                },
                {
                  "id": 96312,
                  "img": "img/96312.png",
                  "truth": 0,
                  "text": "when you support your little one every step of the way",
                  "vilio_proba": 0.701752562757721,
                  "vilio_label": 1,
                  "vb_proba": 0.0001947995915543,
                  "vb_label": 0,
                  "base_proba": 0.000296286860248,
                  "base_label": 0,
                  "_deepnote_index_column": 362
                },
                {
                  "id": 96472,
                  "img": "img/96472.png",
                  "truth": 1,
                  "text": "white power!",
                  "vilio_proba": 0.10551314634356242,
                  "vilio_label": 0,
                  "vb_proba": 0.9992548823356628,
                  "vb_label": 1,
                  "base_proba": 0.9768988490104676,
                  "base_label": 1,
                  "_deepnote_index_column": 363
                },
                {
                  "id": 97132,
                  "img": "img/97132.png",
                  "truth": 0,
                  "text": "in the muslim world all gay men are well hung",
                  "vilio_proba": 0.16645581527237993,
                  "vilio_label": 0,
                  "vb_proba": 0.999723732471466,
                  "vb_label": 1,
                  "base_proba": 0.9966657757759094,
                  "base_label": 1,
                  "_deepnote_index_column": 364
                },
                {
                  "id": 97305,
                  "img": "img/97305.png",
                  "truth": 1,
                  "text": "when your wife just died giving birth to your daughter and you're alone in the room with your naked just born daughter",
                  "vilio_proba": 0.4345765127928646,
                  "vilio_label": 0,
                  "vb_proba": 0.0120700001716613,
                  "vb_label": 0,
                  "base_proba": 0.9855976700782776,
                  "base_label": 1,
                  "_deepnote_index_column": 365
                },
                {
                  "id": 97320,
                  "img": "img/97320.png",
                  "truth": 0,
                  "text": "\"when your dishwasher is broken so you take it back to walmart to get a new one\"",
                  "vilio_proba": 0.6668458353960973,
                  "vilio_label": 1,
                  "vb_proba": 0.0002688273380044,
                  "vb_label": 0,
                  "base_proba": 0.0004163712146691,
                  "base_label": 0,
                  "_deepnote_index_column": 366
                },
                {
                  "id": 97453,
                  "img": "img/97453.png",
                  "truth": 0,
                  "text": "potato is my favorite color of the alphabet",
                  "vilio_proba": 0.13849775381667195,
                  "vilio_label": 0,
                  "vb_proba": 0.0003700304951053,
                  "vb_label": 0,
                  "base_proba": 0.0021824112627655,
                  "base_label": 0,
                  "_deepnote_index_column": 367
                },
                {
                  "id": 98235,
                  "img": "img/98235.png",
                  "truth": 0,
                  "text": "fashion forward !",
                  "vilio_proba": 0.013069472722748993,
                  "vilio_label": 0,
                  "vb_proba": 0.0002369592402828,
                  "vb_label": 0,
                  "base_proba": 0.0170901380479335,
                  "base_label": 0,
                  "_deepnote_index_column": 368
                },
                {
                  "id": 98543,
                  "img": "img/98543.png",
                  "truth": 1,
                  "text": "upper downer",
                  "vilio_proba": 0.7161285363092382,
                  "vilio_label": 1,
                  "vb_proba": 0.9996408224105836,
                  "vb_label": 1,
                  "base_proba": 0.957241714000702,
                  "base_label": 1,
                  "_deepnote_index_column": 369
                },
                {
                  "id": 98701,
                  "img": "img/98701.png",
                  "truth": 1,
                  "text": "oh no i can't steal anymore",
                  "vilio_proba": 0.09302833033686302,
                  "vilio_label": 0,
                  "vb_proba": 0.0002573161036707,
                  "vb_label": 0,
                  "base_proba": 0.0008203330216929,
                  "base_label": 0,
                  "_deepnote_index_column": 370
                },
                {
                  "id": 98720,
                  "img": "img/98720.png",
                  "truth": 0,
                  "text": "when your wife just died giving birth to your daughter and you're alone in the room with your naked just born daughter",
                  "vilio_proba": 0.32313256071857754,
                  "vilio_label": 0,
                  "vb_proba": 0.9989627599716188,
                  "vb_label": 1,
                  "base_proba": 0.4984774589538574,
                  "base_label": 0,
                  "_deepnote_index_column": 371
                }
              ]
            },
            "text/plain": "        id            img  truth  \\\n0     1268  img/01268.png      0   \n1     1456  img/01456.png      1   \n2     1726  img/01726.png      1   \n3     1796  img/01796.png      1   \n4     1925  img/01925.png      1   \n..     ...            ...    ...   \n367  97453  img/97453.png      0   \n368  98235  img/98235.png      0   \n369  98543  img/98543.png      1   \n370  98701  img/98701.png      1   \n371  98720  img/98720.png      0   \n\n                                                  text  vilio_proba  \\\n0    father and daughter bonding time is the best l...     0.659967   \n1              they see them rollin..... they hating..     0.768284   \n2          a real man loads the dishwasher every night     0.909551   \n3         life hack #23 how to get stoned with no weed     0.160565   \n4        i am not racist i just don't like brown sugar     0.183132   \n..                                                 ...          ...   \n367        potato is my favorite color of the alphabet     0.138498   \n368                                  fashion forward !     0.013069   \n369                                       upper downer     0.716129   \n370                        oh no i can't steal anymore     0.093028   \n371  when your wife just died giving birth to your ...     0.323133   \n\n     vilio_label  vb_proba  vb_label  base_proba  base_label  \n0              1  0.000230         0    0.000417           0  \n1              1  0.964295         1    0.100073           0  \n2              1  0.995897         1    0.837024           1  \n3              0  0.067211         0    0.269773           0  \n4              0  0.002556         0    0.000957           0  \n..           ...       ...       ...         ...         ...  \n367            0  0.000370         0    0.002182           0  \n368            0  0.000237         0    0.017090           0  \n369            1  0.999641         1    0.957242           1  \n370            0  0.000257         0    0.000820           0  \n371            0  0.998963         1    0.498477           0  \n\n[372 rows x 10 columns]",
            "text/html": "<div>\n<style scoped>\n    .dataframe tbody tr th:only-of-type {\n        vertical-align: middle;\n    }\n\n    .dataframe tbody tr th {\n        vertical-align: top;\n    }\n\n    .dataframe thead th {\n        text-align: right;\n    }\n</style>\n<table border=\"1\" class=\"dataframe\">\n  <thead>\n    <tr style=\"text-align: right;\">\n      <th></th>\n      <th>id</th>\n      <th>img</th>\n      <th>truth</th>\n      <th>text</th>\n      <th>vilio_proba</th>\n      <th>vilio_label</th>\n      <th>vb_proba</th>\n      <th>vb_label</th>\n      <th>base_proba</th>\n      <th>base_label</th>\n    </tr>\n  </thead>\n  <tbody>\n    <tr>\n      <th>0</th>\n      <td>1268</td>\n      <td>img/01268.png</td>\n      <td>0</td>\n      <td>father and daughter bonding time is the best l...</td>\n      <td>0.659967</td>\n      <td>1</td>\n      <td>0.000230</td>\n      <td>0</td>\n      <td>0.000417</td>\n      <td>0</td>\n    </tr>\n    <tr>\n      <th>1</th>\n      <td>1456</td>\n      <td>img/01456.png</td>\n      <td>1</td>\n      <td>they see them rollin..... they hating..</td>\n      <td>0.768284</td>\n      <td>1</td>\n      <td>0.964295</td>\n      <td>1</td>\n      <td>0.100073</td>\n      <td>0</td>\n    </tr>\n    <tr>\n      <th>2</th>\n      <td>1726</td>\n      <td>img/01726.png</td>\n      <td>1</td>\n      <td>a real man loads the dishwasher every night</td>\n      <td>0.909551</td>\n      <td>1</td>\n      <td>0.995897</td>\n      <td>1</td>\n      <td>0.837024</td>\n      <td>1</td>\n    </tr>\n    <tr>\n      <th>3</th>\n      <td>1796</td>\n      <td>img/01796.png</td>\n      <td>1</td>\n      <td>life hack #23 how to get stoned with no weed</td>\n      <td>0.160565</td>\n      <td>0</td>\n      <td>0.067211</td>\n      <td>0</td>\n      <td>0.269773</td>\n      <td>0</td>\n    </tr>\n    <tr>\n      <th>4</th>\n      <td>1925</td>\n      <td>img/01925.png</td>\n      <td>1</td>\n      <td>i am not racist i just don't like brown sugar</td>\n      <td>0.183132</td>\n      <td>0</td>\n      <td>0.002556</td>\n      <td>0</td>\n      <td>0.000957</td>\n      <td>0</td>\n    </tr>\n    <tr>\n      <th>...</th>\n      <td>...</td>\n      <td>...</td>\n      <td>...</td>\n      <td>...</td>\n      <td>...</td>\n      <td>...</td>\n      <td>...</td>\n      <td>...</td>\n      <td>...</td>\n      <td>...</td>\n    </tr>\n    <tr>\n      <th>367</th>\n      <td>97453</td>\n      <td>img/97453.png</td>\n      <td>0</td>\n      <td>potato is my favorite color of the alphabet</td>\n      <td>0.138498</td>\n      <td>0</td>\n      <td>0.000370</td>\n      <td>0</td>\n      <td>0.002182</td>\n      <td>0</td>\n    </tr>\n    <tr>\n      <th>368</th>\n      <td>98235</td>\n      <td>img/98235.png</td>\n      <td>0</td>\n      <td>fashion forward !</td>\n      <td>0.013069</td>\n      <td>0</td>\n      <td>0.000237</td>\n      <td>0</td>\n      <td>0.017090</td>\n      <td>0</td>\n    </tr>\n    <tr>\n      <th>369</th>\n      <td>98543</td>\n      <td>img/98543.png</td>\n      <td>1</td>\n      <td>upper downer</td>\n      <td>0.716129</td>\n      <td>1</td>\n      <td>0.999641</td>\n      <td>1</td>\n      <td>0.957242</td>\n      <td>1</td>\n    </tr>\n    <tr>\n      <th>370</th>\n      <td>98701</td>\n      <td>img/98701.png</td>\n      <td>1</td>\n      <td>oh no i can't steal anymore</td>\n      <td>0.093028</td>\n      <td>0</td>\n      <td>0.000257</td>\n      <td>0</td>\n      <td>0.000820</td>\n      <td>0</td>\n    </tr>\n    <tr>\n      <th>371</th>\n      <td>98720</td>\n      <td>img/98720.png</td>\n      <td>0</td>\n      <td>when your wife just died giving birth to your ...</td>\n      <td>0.323133</td>\n      <td>0</td>\n      <td>0.998963</td>\n      <td>1</td>\n      <td>0.498477</td>\n      <td>0</td>\n    </tr>\n  </tbody>\n</table>\n<p>372 rows × 10 columns</p>\n</div>"
          },
          "metadata": {}
        }
      ],
      "execution_count": null
    },
    {
      "cell_type": "code",
      "source": "vil_true = dev_vil_vb_base[dev_vil_vb['truth'] == dev_vil_vb['vilio_label']]\nvil_true_base_false = vil_true[vil_true['vilio_label'] != vil_true['base_label']]\nvil_true_base_false[vil_true_base_false['vilio_label'] != vil_true_base_false['vb_label']]",
      "metadata": {
        "tags": [],
        "cell_id": "00009-19af31ad-d6eb-4a50-9fe2-9c33968c2dbe",
        "deepnote_to_be_reexecuted": false,
        "source_hash": "183f94a3",
        "execution_millis": 7,
        "execution_start": 1618668418173,
        "deepnote_cell_type": "code"
      },
      "outputs": [
        {
          "output_type": "execute_result",
          "execution_count": 447,
          "data": {
            "application/vnd.deepnote.dataframe.v2+json": {
              "row_count": 35,
              "column_count": 10,
              "columns": [
                {
                  "name": "id",
                  "dtype": "int64",
                  "stats": {
                    "unique_count": 35,
                    "nan_count": 0,
                    "min": "3519",
                    "max": "97132",
                    "histogram": [
                      {
                        "bin_start": 3519,
                        "bin_end": 12880.3,
                        "count": 6
                      },
                      {
                        "bin_start": 12880.3,
                        "bin_end": 22241.6,
                        "count": 3
                      },
                      {
                        "bin_start": 22241.6,
                        "bin_end": 31602.899999999998,
                        "count": 6
                      },
                      {
                        "bin_start": 31602.899999999998,
                        "bin_end": 40964.2,
                        "count": 1
                      },
                      {
                        "bin_start": 40964.2,
                        "bin_end": 50325.5,
                        "count": 4
                      },
                      {
                        "bin_start": 50325.5,
                        "bin_end": 59686.799999999996,
                        "count": 2
                      },
                      {
                        "bin_start": 59686.799999999996,
                        "bin_end": 69048.09999999999,
                        "count": 1
                      },
                      {
                        "bin_start": 69048.09999999999,
                        "bin_end": 78409.4,
                        "count": 4
                      },
                      {
                        "bin_start": 78409.4,
                        "bin_end": 87770.7,
                        "count": 3
                      },
                      {
                        "bin_start": 87770.7,
                        "bin_end": 97132,
                        "count": 5
                      }
                    ]
                  }
                },
                {
                  "name": "img",
                  "dtype": "object",
                  "stats": {
                    "unique_count": 35,
                    "nan_count": 0,
                    "categories": [
                      {
                        "name": "img/03519.png",
                        "count": 1
                      },
                      {
                        "name": "img/03524.png",
                        "count": 1
                      },
                      {
                        "name": "33 others",
                        "count": 33
                      }
                    ]
                  }
                },
                {
                  "name": "truth",
                  "dtype": "int64",
                  "stats": {
                    "unique_count": 2,
                    "nan_count": 0,
                    "min": "0",
                    "max": "1",
                    "histogram": [
                      {
                        "bin_start": 0,
                        "bin_end": 0.1,
                        "count": 8
                      },
                      {
                        "bin_start": 0.1,
                        "bin_end": 0.2,
                        "count": 0
                      },
                      {
                        "bin_start": 0.2,
                        "bin_end": 0.30000000000000004,
                        "count": 0
                      },
                      {
                        "bin_start": 0.30000000000000004,
                        "bin_end": 0.4,
                        "count": 0
                      },
                      {
                        "bin_start": 0.4,
                        "bin_end": 0.5,
                        "count": 0
                      },
                      {
                        "bin_start": 0.5,
                        "bin_end": 0.6000000000000001,
                        "count": 0
                      },
                      {
                        "bin_start": 0.6000000000000001,
                        "bin_end": 0.7000000000000001,
                        "count": 0
                      },
                      {
                        "bin_start": 0.7000000000000001,
                        "bin_end": 0.8,
                        "count": 0
                      },
                      {
                        "bin_start": 0.8,
                        "bin_end": 0.9,
                        "count": 0
                      },
                      {
                        "bin_start": 0.9,
                        "bin_end": 1,
                        "count": 27
                      }
                    ]
                  }
                },
                {
                  "name": "text",
                  "dtype": "object",
                  "stats": {
                    "unique_count": 35,
                    "nan_count": 0,
                    "categories": [
                      {
                        "name": "i'm going home i'm russian",
                        "count": 1
                      },
                      {
                        "name": "terrorist can come to this country way to easy",
                        "count": 1
                      },
                      {
                        "name": "33 others",
                        "count": 33
                      }
                    ]
                  }
                },
                {
                  "name": "vilio_proba",
                  "dtype": "float64",
                  "stats": {
                    "unique_count": 35,
                    "nan_count": 0,
                    "min": "0.0952780370551748",
                    "max": "0.9695563121087194",
                    "histogram": [
                      {
                        "bin_start": 0.0952780370551748,
                        "bin_end": 0.18270586456052929,
                        "count": 4
                      },
                      {
                        "bin_start": 0.18270586456052929,
                        "bin_end": 0.2701336920658837,
                        "count": 2
                      },
                      {
                        "bin_start": 0.2701336920658837,
                        "bin_end": 0.35756151957123816,
                        "count": 1
                      },
                      {
                        "bin_start": 0.35756151957123816,
                        "bin_end": 0.44498934707659266,
                        "count": 0
                      },
                      {
                        "bin_start": 0.44498934707659266,
                        "bin_end": 0.5324171745819472,
                        "count": 5
                      },
                      {
                        "bin_start": 0.5324171745819472,
                        "bin_end": 0.6198450020873015,
                        "count": 9
                      },
                      {
                        "bin_start": 0.6198450020873015,
                        "bin_end": 0.707272829592656,
                        "count": 1
                      },
                      {
                        "bin_start": 0.707272829592656,
                        "bin_end": 0.7947006570980105,
                        "count": 5
                      },
                      {
                        "bin_start": 0.7947006570980105,
                        "bin_end": 0.882128484603365,
                        "count": 1
                      },
                      {
                        "bin_start": 0.882128484603365,
                        "bin_end": 0.9695563121087194,
                        "count": 7
                      }
                    ]
                  }
                },
                {
                  "name": "vilio_label",
                  "dtype": "int64",
                  "stats": {
                    "unique_count": 2,
                    "nan_count": 0,
                    "min": "0",
                    "max": "1",
                    "histogram": [
                      {
                        "bin_start": 0,
                        "bin_end": 0.1,
                        "count": 8
                      },
                      {
                        "bin_start": 0.1,
                        "bin_end": 0.2,
                        "count": 0
                      },
                      {
                        "bin_start": 0.2,
                        "bin_end": 0.30000000000000004,
                        "count": 0
                      },
                      {
                        "bin_start": 0.30000000000000004,
                        "bin_end": 0.4,
                        "count": 0
                      },
                      {
                        "bin_start": 0.4,
                        "bin_end": 0.5,
                        "count": 0
                      },
                      {
                        "bin_start": 0.5,
                        "bin_end": 0.6000000000000001,
                        "count": 0
                      },
                      {
                        "bin_start": 0.6000000000000001,
                        "bin_end": 0.7000000000000001,
                        "count": 0
                      },
                      {
                        "bin_start": 0.7000000000000001,
                        "bin_end": 0.8,
                        "count": 0
                      },
                      {
                        "bin_start": 0.8,
                        "bin_end": 0.9,
                        "count": 0
                      },
                      {
                        "bin_start": 0.9,
                        "bin_end": 1,
                        "count": 27
                      }
                    ]
                  }
                },
                {
                  "name": "vb_proba",
                  "dtype": "float64",
                  "stats": {
                    "unique_count": 35,
                    "nan_count": 0,
                    "min": "0.0002039350220002",
                    "max": "0.999723732471466",
                    "histogram": [
                      {
                        "bin_start": 0.0002039350220002,
                        "bin_end": 0.10015591476694677,
                        "count": 27
                      },
                      {
                        "bin_start": 0.10015591476694677,
                        "bin_end": 0.20010789451189334,
                        "count": 0
                      },
                      {
                        "bin_start": 0.20010789451189334,
                        "bin_end": 0.30005987425683994,
                        "count": 0
                      },
                      {
                        "bin_start": 0.30005987425683994,
                        "bin_end": 0.4000118540017865,
                        "count": 0
                      },
                      {
                        "bin_start": 0.4000118540017865,
                        "bin_end": 0.4999638337467331,
                        "count": 0
                      },
                      {
                        "bin_start": 0.4999638337467331,
                        "bin_end": 0.5999158134916797,
                        "count": 0
                      },
                      {
                        "bin_start": 0.5999158134916797,
                        "bin_end": 0.6998677932366262,
                        "count": 0
                      },
                      {
                        "bin_start": 0.6998677932366262,
                        "bin_end": 0.7998197729815728,
                        "count": 0
                      },
                      {
                        "bin_start": 0.7998197729815728,
                        "bin_end": 0.8997717527265194,
                        "count": 0
                      },
                      {
                        "bin_start": 0.8997717527265194,
                        "bin_end": 0.999723732471466,
                        "count": 8
                      }
                    ]
                  }
                },
                {
                  "name": "vb_label",
                  "dtype": "int64",
                  "stats": {
                    "unique_count": 2,
                    "nan_count": 0,
                    "min": "0",
                    "max": "1",
                    "histogram": [
                      {
                        "bin_start": 0,
                        "bin_end": 0.1,
                        "count": 27
                      },
                      {
                        "bin_start": 0.1,
                        "bin_end": 0.2,
                        "count": 0
                      },
                      {
                        "bin_start": 0.2,
                        "bin_end": 0.30000000000000004,
                        "count": 0
                      },
                      {
                        "bin_start": 0.30000000000000004,
                        "bin_end": 0.4,
                        "count": 0
                      },
                      {
                        "bin_start": 0.4,
                        "bin_end": 0.5,
                        "count": 0
                      },
                      {
                        "bin_start": 0.5,
                        "bin_end": 0.6000000000000001,
                        "count": 0
                      },
                      {
                        "bin_start": 0.6000000000000001,
                        "bin_end": 0.7000000000000001,
                        "count": 0
                      },
                      {
                        "bin_start": 0.7000000000000001,
                        "bin_end": 0.8,
                        "count": 0
                      },
                      {
                        "bin_start": 0.8,
                        "bin_end": 0.9,
                        "count": 0
                      },
                      {
                        "bin_start": 0.9,
                        "bin_end": 1,
                        "count": 8
                      }
                    ]
                  }
                },
                {
                  "name": "base_proba",
                  "dtype": "float64",
                  "stats": {
                    "unique_count": 35,
                    "nan_count": 0,
                    "min": "0.0002228657540399",
                    "max": "0.999524712562561",
                    "histogram": [
                      {
                        "bin_start": 0.0002228657540399,
                        "bin_end": 0.10015305043489202,
                        "count": 24
                      },
                      {
                        "bin_start": 0.10015305043489202,
                        "bin_end": 0.20008323511574413,
                        "count": 3
                      },
                      {
                        "bin_start": 0.20008323511574413,
                        "bin_end": 0.30001341979659624,
                        "count": 0
                      },
                      {
                        "bin_start": 0.30001341979659624,
                        "bin_end": 0.39994360447744837,
                        "count": 0
                      },
                      {
                        "bin_start": 0.39994360447744837,
                        "bin_end": 0.4998737891583005,
                        "count": 0
                      },
                      {
                        "bin_start": 0.4998737891583005,
                        "bin_end": 0.5998039738391525,
                        "count": 0
                      },
                      {
                        "bin_start": 0.5998039738391525,
                        "bin_end": 0.6997341585200046,
                        "count": 0
                      },
                      {
                        "bin_start": 0.6997341585200046,
                        "bin_end": 0.7996643432008568,
                        "count": 2
                      },
                      {
                        "bin_start": 0.7996643432008568,
                        "bin_end": 0.8995945278817089,
                        "count": 0
                      },
                      {
                        "bin_start": 0.8995945278817089,
                        "bin_end": 0.999524712562561,
                        "count": 6
                      }
                    ]
                  }
                },
                {
                  "name": "base_label",
                  "dtype": "int64",
                  "stats": {
                    "unique_count": 2,
                    "nan_count": 0,
                    "min": "0",
                    "max": "1",
                    "histogram": [
                      {
                        "bin_start": 0,
                        "bin_end": 0.1,
                        "count": 27
                      },
                      {
                        "bin_start": 0.1,
                        "bin_end": 0.2,
                        "count": 0
                      },
                      {
                        "bin_start": 0.2,
                        "bin_end": 0.30000000000000004,
                        "count": 0
                      },
                      {
                        "bin_start": 0.30000000000000004,
                        "bin_end": 0.4,
                        "count": 0
                      },
                      {
                        "bin_start": 0.4,
                        "bin_end": 0.5,
                        "count": 0
                      },
                      {
                        "bin_start": 0.5,
                        "bin_end": 0.6000000000000001,
                        "count": 0
                      },
                      {
                        "bin_start": 0.6000000000000001,
                        "bin_end": 0.7000000000000001,
                        "count": 0
                      },
                      {
                        "bin_start": 0.7000000000000001,
                        "bin_end": 0.8,
                        "count": 0
                      },
                      {
                        "bin_start": 0.8,
                        "bin_end": 0.9,
                        "count": 0
                      },
                      {
                        "bin_start": 0.9,
                        "bin_end": 1,
                        "count": 8
                      }
                    ]
                  }
                },
                {
                  "name": "_deepnote_index_column",
                  "dtype": "int64"
                }
              ],
              "rows_top": [
                {
                  "id": 3519,
                  "img": "img/03519.png",
                  "truth": 1,
                  "text": "i'm going home i'm russian",
                  "vilio_proba": 0.920746424845017,
                  "vilio_label": 1,
                  "vb_proba": 0.0246713142842054,
                  "vb_label": 0,
                  "base_proba": 0.156326338648796,
                  "base_label": 0,
                  "_deepnote_index_column": 16
                },
                {
                  "id": 3524,
                  "img": "img/03524.png",
                  "truth": 1,
                  "text": "terrorist can come to this country way to easy",
                  "vilio_proba": 0.5789851771025912,
                  "vilio_label": 1,
                  "vb_proba": 0.0009255946497432,
                  "vb_label": 0,
                  "base_proba": 0.0354405790567398,
                  "base_label": 0,
                  "_deepnote_index_column": 17
                },
                {
                  "id": 3745,
                  "img": "img/03745.png",
                  "truth": 1,
                  "text": "your order comes to $37.50 and your white privilege discount brings the total to $37.50",
                  "vilio_proba": 0.7668708249301052,
                  "vilio_label": 1,
                  "vb_proba": 0.0005504174623638,
                  "vb_label": 0,
                  "base_proba": 0.0013869398972019,
                  "base_label": 0,
                  "_deepnote_index_column": 20
                },
                {
                  "id": 7135,
                  "img": "img/07135.png",
                  "truth": 1,
                  "text": "this is the greatest news manufacturing in 20th century",
                  "vilio_proba": 0.8890128370911378,
                  "vilio_label": 1,
                  "vb_proba": 0.0020130963530391,
                  "vb_label": 0,
                  "base_proba": 0.0007085333927534,
                  "base_label": 0,
                  "_deepnote_index_column": 36
                },
                {
                  "id": 7653,
                  "img": "img/07653.png",
                  "truth": 1,
                  "text": "in the last days there will be god hating scoffers, ridiculers, deniers and mockers following after their own lusts",
                  "vilio_proba": 0.7436318900164481,
                  "vilio_label": 1,
                  "vb_proba": 0.0010499665513634,
                  "vb_label": 0,
                  "base_proba": 0.10770895332098,
                  "base_label": 0,
                  "_deepnote_index_column": 41
                },
                {
                  "id": 10785,
                  "img": "img/10785.png",
                  "truth": 1,
                  "text": "time to put the \"panic\" back in hispanic",
                  "vilio_proba": 0.6647879667057028,
                  "vilio_label": 1,
                  "vb_proba": 0.0003313825291115,
                  "vb_label": 0,
                  "base_proba": 0.0010900512570515,
                  "base_label": 0,
                  "_deepnote_index_column": 50
                },
                {
                  "id": 13809,
                  "img": "img/13809.png",
                  "truth": 1,
                  "text": "doing o's with the smoke",
                  "vilio_proba": 0.949761616366677,
                  "vilio_label": 1,
                  "vb_proba": 0.000221849171794,
                  "vb_label": 0,
                  "base_proba": 0.0015609657857567,
                  "base_label": 0,
                  "_deepnote_index_column": 59
                },
                {
                  "id": 17682,
                  "img": "img/17682.png",
                  "truth": 1,
                  "text": "give them what they deserve kill them all",
                  "vilio_proba": 0.8857494972215637,
                  "vilio_label": 1,
                  "vb_proba": 0.0005163793102838,
                  "vb_label": 0,
                  "base_proba": 0.1415639072656631,
                  "base_label": 0,
                  "_deepnote_index_column": 71
                },
                {
                  "id": 19530,
                  "img": "img/19530.png",
                  "truth": 1,
                  "text": "they shot the wrong gorilla",
                  "vilio_proba": 0.5045786049470403,
                  "vilio_label": 1,
                  "vb_proba": 0.0003292895271442,
                  "vb_label": 0,
                  "base_proba": 0.0007020041230134,
                  "base_label": 0,
                  "_deepnote_index_column": 86
                },
                {
                  "id": 23810,
                  "img": "img/23810.png",
                  "truth": 1,
                  "text": "these aren't people",
                  "vilio_proba": 0.6098309843324522,
                  "vilio_label": 1,
                  "vb_proba": 0.0002539585111662,
                  "vb_label": 0,
                  "base_proba": 0.0007510565337724,
                  "base_label": 0,
                  "_deepnote_index_column": 95
                },
                {
                  "id": 25149,
                  "img": "img/25149.png",
                  "truth": 1,
                  "text": "if this offends you you might be lack toes intolerant",
                  "vilio_proba": 0.584978025151325,
                  "vilio_label": 1,
                  "vb_proba": 0.0002039350220002,
                  "vb_label": 0,
                  "base_proba": 0.0002228657540399,
                  "base_label": 0,
                  "_deepnote_index_column": 99
                },
                {
                  "id": 26453,
                  "img": "img/26453.png",
                  "truth": 1,
                  "text": "a ww2 jewish prisoner trying to escape the auchschwitz showers (1943, colorized) wwii jew escaping hitler's rath",
                  "vilio_proba": 0.6001335487715231,
                  "vilio_label": 1,
                  "vb_proba": 0.0006603341316804,
                  "vb_label": 0,
                  "base_proba": 0.0059919343329966,
                  "base_label": 0,
                  "_deepnote_index_column": 102
                },
                {
                  "id": 29437,
                  "img": "img/29437.png",
                  "truth": 1,
                  "text": "what can happen if you eat wheaties for 38 years",
                  "vilio_proba": 0.6051321913787145,
                  "vilio_label": 1,
                  "vb_proba": 0.0002886136062443,
                  "vb_label": 0,
                  "base_proba": 0.0007890475681051,
                  "base_label": 0,
                  "_deepnote_index_column": 115
                },
                {
                  "id": 30579,
                  "img": "img/30579.png",
                  "truth": 0,
                  "text": "white power!",
                  "vilio_proba": 0.19170716124672627,
                  "vilio_label": 0,
                  "vb_proba": 0.999492049217224,
                  "vb_label": 1,
                  "base_proba": 0.9972171783447266,
                  "base_label": 1,
                  "_deepnote_index_column": 118
                },
                {
                  "id": 31570,
                  "img": "img/31570.png",
                  "truth": 1,
                  "text": "busy, like a hive of bees, controlling what your family sees and edits all the news your hear so you'll know what to think and fear till all the truth there is, is gone that is unless you stand, en masse. \"",
                  "vilio_proba": 0.7745553093430401,
                  "vilio_label": 1,
                  "vb_proba": 0.0004077555786352,
                  "vb_label": 0,
                  "base_proba": 0.0046617691405117,
                  "base_label": 0,
                  "_deepnote_index_column": 123
                },
                {
                  "id": 32049,
                  "img": "img/32049.png",
                  "truth": 0,
                  "text": "german british danish austrian diversity. apparently we don't have it and these guys do: iraqi, pakistani, syrian, egyptian",
                  "vilio_proba": 0.0952780370551748,
                  "vilio_label": 0,
                  "vb_proba": 0.9992548823356628,
                  "vb_label": 1,
                  "base_proba": 0.999524712562561,
                  "base_label": 1,
                  "_deepnote_index_column": 125
                },
                {
                  "id": 43092,
                  "img": "img/43092.png",
                  "truth": 0,
                  "text": "pretty much sums up islam",
                  "vilio_proba": 0.10659104819490599,
                  "vilio_label": 0,
                  "vb_proba": 0.9876400828361512,
                  "vb_label": 1,
                  "base_proba": 0.9952322840690612,
                  "base_label": 1,
                  "_deepnote_index_column": 159
                },
                {
                  "id": 45368,
                  "img": "img/45368.png",
                  "truth": 1,
                  "text": "enough is enough children are more important than freaks",
                  "vilio_proba": 0.8343105724525183,
                  "vilio_label": 1,
                  "vb_proba": 0.0005067603196948,
                  "vb_label": 0,
                  "base_proba": 0.0052010342478752,
                  "base_label": 0,
                  "_deepnote_index_column": 164
                },
                {
                  "id": 45702,
                  "img": "img/45702.png",
                  "truth": 1,
                  "text": "if she's still making noises, you didn't hit her hard enough",
                  "vilio_proba": 0.5646076298192853,
                  "vilio_label": 1,
                  "vb_proba": 0.0005474169156514,
                  "vb_label": 0,
                  "base_proba": 0.0002564793976489,
                  "base_label": 0,
                  "_deepnote_index_column": 165
                },
                {
                  "id": 47950,
                  "img": "img/47950.png",
                  "truth": 0,
                  "text": "democrats ilhan omar alexandria ocasio-cortez ayanna pressley rashida tlais we're new, bold, and we hate you! we hate whites, jews, christians, conservatives, republicans,",
                  "vilio_proba": 0.2952091373329614,
                  "vilio_label": 0,
                  "vb_proba": 0.9996429681777954,
                  "vb_label": 1,
                  "base_proba": 0.7957355976104736,
                  "base_label": 1,
                  "_deepnote_index_column": 178
                },
                {
                  "id": 52104,
                  "img": "img/52104.png",
                  "truth": 0,
                  "text": "lebanon: before islam after islam but don't worry! after islam takes over, there'll be a golden age... apparently",
                  "vilio_proba": 0.25135449534851567,
                  "vilio_label": 0,
                  "vb_proba": 0.999168872833252,
                  "vb_label": 1,
                  "base_proba": 0.787651538848877,
                  "base_label": 1,
                  "_deepnote_index_column": 196
                },
                {
                  "id": 54780,
                  "img": "img/54780.png",
                  "truth": 1,
                  "text": "travel size coffee maker",
                  "vilio_proba": 0.5272572274609078,
                  "vilio_label": 1,
                  "vb_proba": 0.0041597643867135,
                  "vb_label": 0,
                  "base_proba": 0.0220361687242984,
                  "base_label": 0,
                  "_deepnote_index_column": 207
                },
                {
                  "id": 65403,
                  "img": "img/65403.png",
                  "truth": 1,
                  "text": "money is evil give it to us",
                  "vilio_proba": 0.9191505993851747,
                  "vilio_label": 1,
                  "vb_proba": 0.0004914636374451,
                  "vb_label": 0,
                  "base_proba": 0.0013258289545774,
                  "base_label": 0,
                  "_deepnote_index_column": 241
                },
                {
                  "id": 73021,
                  "img": "img/73021.png",
                  "truth": 0,
                  "text": "when mom asks where all the jews went",
                  "vilio_proba": 0.11771431224466246,
                  "vilio_label": 0,
                  "vb_proba": 0.9994521737098694,
                  "vb_label": 1,
                  "base_proba": 0.9987006187438964,
                  "base_label": 1,
                  "_deepnote_index_column": 262
                },
                {
                  "id": 73914,
                  "img": "img/73914.png",
                  "truth": 1,
                  "text": "be careful who you call ugly in highschool",
                  "vilio_proba": 0.9695563121087194,
                  "vilio_label": 1,
                  "vb_proba": 0.0049246810376644,
                  "vb_label": 0,
                  "base_proba": 0.0011174307437613,
                  "base_label": 0,
                  "_deepnote_index_column": 267
                },
                {
                  "id": 75639,
                  "img": "img/75639.png",
                  "truth": 1,
                  "text": "changing every single country it touches",
                  "vilio_proba": 0.9027582678511848,
                  "vilio_label": 1,
                  "vb_proba": 0.0004979667137376,
                  "vb_label": 0,
                  "base_proba": 0.0003694032493513,
                  "base_label": 0,
                  "_deepnote_index_column": 278
                },
                {
                  "id": 78251,
                  "img": "img/78251.png",
                  "truth": 1,
                  "text": "watching vegetables grow",
                  "vilio_proba": 0.6181724051750062,
                  "vilio_label": 1,
                  "vb_proba": 0.0030791435856372,
                  "vb_label": 0,
                  "base_proba": 0.0803931728005409,
                  "base_label": 0,
                  "_deepnote_index_column": 285
                },
                {
                  "id": 79085,
                  "img": "img/79085.png",
                  "truth": 1,
                  "text": "today we are making vegetable soup",
                  "vilio_proba": 0.5162553471499499,
                  "vilio_label": 1,
                  "vb_proba": 0.0002951371425297,
                  "vb_label": 0,
                  "base_proba": 0.0071023982018232,
                  "base_label": 0,
                  "_deepnote_index_column": 290
                },
                {
                  "id": 84107,
                  "img": "img/84107.png",
                  "truth": 0,
                  "text": "i ordered a dishwasher and they sent me a sandwich maker",
                  "vilio_proba": 0.44611830688061793,
                  "vilio_label": 0,
                  "vb_proba": 0.9995276927947998,
                  "vb_label": 1,
                  "base_proba": 0.9783817529678344,
                  "base_label": 1,
                  "_deepnote_index_column": 308
                },
                {
                  "id": 84510,
                  "img": "img/84510.png",
                  "truth": 1,
                  "text": "bartender: how about a nice 12 yr old? him: boy or girl?",
                  "vilio_proba": 0.7858149315396942,
                  "vilio_label": 1,
                  "vb_proba": 0.0002459402894601,
                  "vb_label": 0,
                  "base_proba": 0.0456704944372177,
                  "base_label": 0,
                  "_deepnote_index_column": 312
                },
                {
                  "id": 91763,
                  "img": "img/91763.png",
                  "truth": 1,
                  "text": "imagine being so disgusting there have to be laws to try to stop normal people from hating you",
                  "vilio_proba": 0.5373736557504932,
                  "vilio_label": 1,
                  "vb_proba": 0.0009370493935421,
                  "vb_label": 0,
                  "base_proba": 0.012340516783297,
                  "base_label": 0,
                  "_deepnote_index_column": 335
                },
                {
                  "id": 92738,
                  "img": "img/92738.png",
                  "truth": 1,
                  "text": "they are the best in basketball because they can steal, shoot and run",
                  "vilio_proba": 0.7325516167318908,
                  "vilio_label": 1,
                  "vb_proba": 0.0002040795516222,
                  "vb_label": 0,
                  "base_proba": 0.0357218496501445,
                  "base_label": 0,
                  "_deepnote_index_column": 341
                },
                {
                  "id": 95604,
                  "img": "img/95604.png",
                  "truth": 1,
                  "text": "they want to be accepted for who they are, yet theren't able to accept themselves for who they are",
                  "vilio_proba": 0.5053051555129076,
                  "vilio_label": 1,
                  "vb_proba": 0.0003641891526058,
                  "vb_label": 0,
                  "base_proba": 0.0007337745628319,
                  "base_label": 0,
                  "_deepnote_index_column": 355
                },
                {
                  "id": 96284,
                  "img": "img/96284.png",
                  "truth": 1,
                  "text": "welcome to melbourne",
                  "vilio_proba": 0.569864747814309,
                  "vilio_label": 1,
                  "vb_proba": 0.0010789518710225,
                  "vb_label": 0,
                  "base_proba": 0.0880183726549148,
                  "base_label": 0,
                  "_deepnote_index_column": 361
                },
                {
                  "id": 97132,
                  "img": "img/97132.png",
                  "truth": 0,
                  "text": "in the muslim world all gay men are well hung",
                  "vilio_proba": 0.16645581527237993,
                  "vilio_label": 0,
                  "vb_proba": 0.999723732471466,
                  "vb_label": 1,
                  "base_proba": 0.9966657757759094,
                  "base_label": 1,
                  "_deepnote_index_column": 364
                }
              ],
              "rows_bottom": null
            },
            "text/plain": "        id            img  truth  \\\n16    3519  img/03519.png      1   \n17    3524  img/03524.png      1   \n20    3745  img/03745.png      1   \n36    7135  img/07135.png      1   \n41    7653  img/07653.png      1   \n50   10785  img/10785.png      1   \n59   13809  img/13809.png      1   \n71   17682  img/17682.png      1   \n86   19530  img/19530.png      1   \n95   23810  img/23810.png      1   \n99   25149  img/25149.png      1   \n102  26453  img/26453.png      1   \n115  29437  img/29437.png      1   \n118  30579  img/30579.png      0   \n123  31570  img/31570.png      1   \n125  32049  img/32049.png      0   \n159  43092  img/43092.png      0   \n164  45368  img/45368.png      1   \n165  45702  img/45702.png      1   \n178  47950  img/47950.png      0   \n196  52104  img/52104.png      0   \n207  54780  img/54780.png      1   \n241  65403  img/65403.png      1   \n262  73021  img/73021.png      0   \n267  73914  img/73914.png      1   \n278  75639  img/75639.png      1   \n285  78251  img/78251.png      1   \n290  79085  img/79085.png      1   \n308  84107  img/84107.png      0   \n312  84510  img/84510.png      1   \n335  91763  img/91763.png      1   \n341  92738  img/92738.png      1   \n355  95604  img/95604.png      1   \n361  96284  img/96284.png      1   \n364  97132  img/97132.png      0   \n\n                                                  text  vilio_proba  \\\n16                          i'm going home i'm russian     0.920746   \n17      terrorist can come to this country way to easy     0.578985   \n20   your order comes to $37.50 and your white priv...     0.766871   \n36   this is the greatest news manufacturing in 20t...     0.889013   \n41   in the last days there will be god hating scof...     0.743632   \n50            time to put the \"panic\" back in hispanic     0.664788   \n59                            doing o's with the smoke     0.949762   \n71           give them what they deserve kill them all     0.885749   \n86                         they shot the wrong gorilla     0.504579   \n95                                 these aren't people     0.609831   \n99   if this offends you you might be lack toes int...     0.584978   \n102  a ww2 jewish prisoner trying to escape the auc...     0.600134   \n115   what can happen if you eat wheaties for 38 years     0.605132   \n118                                       white power!     0.191707   \n123  busy, like a hive of bees, controlling what yo...     0.774555   \n125  german british danish austrian diversity. appa...     0.095278   \n159                          pretty much sums up islam     0.106591   \n164  enough is enough children are more important t...     0.834311   \n165  if she's still making noises, you didn't hit h...     0.564608   \n178  democrats ilhan omar alexandria ocasio-cortez ...     0.295209   \n196  lebanon: before islam after islam but don't wo...     0.251354   \n207                           travel size coffee maker     0.527257   \n241                        money is evil give it to us     0.919151   \n262              when mom asks where all the jews went     0.117714   \n267         be careful who you call ugly in highschool     0.969556   \n278           changing every single country it touches     0.902758   \n285                           watching vegetables grow     0.618172   \n290                 today we are making vegetable soup     0.516255   \n308  i ordered a dishwasher and they sent me a sand...     0.446118   \n312  bartender: how about a nice 12 yr old? him: bo...     0.785815   \n335  imagine being so disgusting there have to be l...     0.537374   \n341  they are the best in basketball because they c...     0.732552   \n355  they want to be accepted for who they are, yet...     0.505305   \n361                               welcome to melbourne     0.569865   \n364      in the muslim world all gay men are well hung     0.166456   \n\n     vilio_label  vb_proba  vb_label  base_proba  base_label  \n16             1  0.024671         0    0.156326           0  \n17             1  0.000926         0    0.035441           0  \n20             1  0.000550         0    0.001387           0  \n36             1  0.002013         0    0.000709           0  \n41             1  0.001050         0    0.107709           0  \n50             1  0.000331         0    0.001090           0  \n59             1  0.000222         0    0.001561           0  \n71             1  0.000516         0    0.141564           0  \n86             1  0.000329         0    0.000702           0  \n95             1  0.000254         0    0.000751           0  \n99             1  0.000204         0    0.000223           0  \n102            1  0.000660         0    0.005992           0  \n115            1  0.000289         0    0.000789           0  \n118            0  0.999492         1    0.997217           1  \n123            1  0.000408         0    0.004662           0  \n125            0  0.999255         1    0.999525           1  \n159            0  0.987640         1    0.995232           1  \n164            1  0.000507         0    0.005201           0  \n165            1  0.000547         0    0.000256           0  \n178            0  0.999643         1    0.795736           1  \n196            0  0.999169         1    0.787652           1  \n207            1  0.004160         0    0.022036           0  \n241            1  0.000491         0    0.001326           0  \n262            0  0.999452         1    0.998701           1  \n267            1  0.004925         0    0.001117           0  \n278            1  0.000498         0    0.000369           0  \n285            1  0.003079         0    0.080393           0  \n290            1  0.000295         0    0.007102           0  \n308            0  0.999528         1    0.978382           1  \n312            1  0.000246         0    0.045670           0  \n335            1  0.000937         0    0.012341           0  \n341            1  0.000204         0    0.035722           0  \n355            1  0.000364         0    0.000734           0  \n361            1  0.001079         0    0.088018           0  \n364            0  0.999724         1    0.996666           1  ",
            "text/html": "<div>\n<style scoped>\n    .dataframe tbody tr th:only-of-type {\n        vertical-align: middle;\n    }\n\n    .dataframe tbody tr th {\n        vertical-align: top;\n    }\n\n    .dataframe thead th {\n        text-align: right;\n    }\n</style>\n<table border=\"1\" class=\"dataframe\">\n  <thead>\n    <tr style=\"text-align: right;\">\n      <th></th>\n      <th>id</th>\n      <th>img</th>\n      <th>truth</th>\n      <th>text</th>\n      <th>vilio_proba</th>\n      <th>vilio_label</th>\n      <th>vb_proba</th>\n      <th>vb_label</th>\n      <th>base_proba</th>\n      <th>base_label</th>\n    </tr>\n  </thead>\n  <tbody>\n    <tr>\n      <th>16</th>\n      <td>3519</td>\n      <td>img/03519.png</td>\n      <td>1</td>\n      <td>i'm going home i'm russian</td>\n      <td>0.920746</td>\n      <td>1</td>\n      <td>0.024671</td>\n      <td>0</td>\n      <td>0.156326</td>\n      <td>0</td>\n    </tr>\n    <tr>\n      <th>17</th>\n      <td>3524</td>\n      <td>img/03524.png</td>\n      <td>1</td>\n      <td>terrorist can come to this country way to easy</td>\n      <td>0.578985</td>\n      <td>1</td>\n      <td>0.000926</td>\n      <td>0</td>\n      <td>0.035441</td>\n      <td>0</td>\n    </tr>\n    <tr>\n      <th>20</th>\n      <td>3745</td>\n      <td>img/03745.png</td>\n      <td>1</td>\n      <td>your order comes to $37.50 and your white priv...</td>\n      <td>0.766871</td>\n      <td>1</td>\n      <td>0.000550</td>\n      <td>0</td>\n      <td>0.001387</td>\n      <td>0</td>\n    </tr>\n    <tr>\n      <th>36</th>\n      <td>7135</td>\n      <td>img/07135.png</td>\n      <td>1</td>\n      <td>this is the greatest news manufacturing in 20t...</td>\n      <td>0.889013</td>\n      <td>1</td>\n      <td>0.002013</td>\n      <td>0</td>\n      <td>0.000709</td>\n      <td>0</td>\n    </tr>\n    <tr>\n      <th>41</th>\n      <td>7653</td>\n      <td>img/07653.png</td>\n      <td>1</td>\n      <td>in the last days there will be god hating scof...</td>\n      <td>0.743632</td>\n      <td>1</td>\n      <td>0.001050</td>\n      <td>0</td>\n      <td>0.107709</td>\n      <td>0</td>\n    </tr>\n    <tr>\n      <th>50</th>\n      <td>10785</td>\n      <td>img/10785.png</td>\n      <td>1</td>\n      <td>time to put the \"panic\" back in hispanic</td>\n      <td>0.664788</td>\n      <td>1</td>\n      <td>0.000331</td>\n      <td>0</td>\n      <td>0.001090</td>\n      <td>0</td>\n    </tr>\n    <tr>\n      <th>59</th>\n      <td>13809</td>\n      <td>img/13809.png</td>\n      <td>1</td>\n      <td>doing o's with the smoke</td>\n      <td>0.949762</td>\n      <td>1</td>\n      <td>0.000222</td>\n      <td>0</td>\n      <td>0.001561</td>\n      <td>0</td>\n    </tr>\n    <tr>\n      <th>71</th>\n      <td>17682</td>\n      <td>img/17682.png</td>\n      <td>1</td>\n      <td>give them what they deserve kill them all</td>\n      <td>0.885749</td>\n      <td>1</td>\n      <td>0.000516</td>\n      <td>0</td>\n      <td>0.141564</td>\n      <td>0</td>\n    </tr>\n    <tr>\n      <th>86</th>\n      <td>19530</td>\n      <td>img/19530.png</td>\n      <td>1</td>\n      <td>they shot the wrong gorilla</td>\n      <td>0.504579</td>\n      <td>1</td>\n      <td>0.000329</td>\n      <td>0</td>\n      <td>0.000702</td>\n      <td>0</td>\n    </tr>\n    <tr>\n      <th>95</th>\n      <td>23810</td>\n      <td>img/23810.png</td>\n      <td>1</td>\n      <td>these aren't people</td>\n      <td>0.609831</td>\n      <td>1</td>\n      <td>0.000254</td>\n      <td>0</td>\n      <td>0.000751</td>\n      <td>0</td>\n    </tr>\n    <tr>\n      <th>99</th>\n      <td>25149</td>\n      <td>img/25149.png</td>\n      <td>1</td>\n      <td>if this offends you you might be lack toes int...</td>\n      <td>0.584978</td>\n      <td>1</td>\n      <td>0.000204</td>\n      <td>0</td>\n      <td>0.000223</td>\n      <td>0</td>\n    </tr>\n    <tr>\n      <th>102</th>\n      <td>26453</td>\n      <td>img/26453.png</td>\n      <td>1</td>\n      <td>a ww2 jewish prisoner trying to escape the auc...</td>\n      <td>0.600134</td>\n      <td>1</td>\n      <td>0.000660</td>\n      <td>0</td>\n      <td>0.005992</td>\n      <td>0</td>\n    </tr>\n    <tr>\n      <th>115</th>\n      <td>29437</td>\n      <td>img/29437.png</td>\n      <td>1</td>\n      <td>what can happen if you eat wheaties for 38 years</td>\n      <td>0.605132</td>\n      <td>1</td>\n      <td>0.000289</td>\n      <td>0</td>\n      <td>0.000789</td>\n      <td>0</td>\n    </tr>\n    <tr>\n      <th>118</th>\n      <td>30579</td>\n      <td>img/30579.png</td>\n      <td>0</td>\n      <td>white power!</td>\n      <td>0.191707</td>\n      <td>0</td>\n      <td>0.999492</td>\n      <td>1</td>\n      <td>0.997217</td>\n      <td>1</td>\n    </tr>\n    <tr>\n      <th>123</th>\n      <td>31570</td>\n      <td>img/31570.png</td>\n      <td>1</td>\n      <td>busy, like a hive of bees, controlling what yo...</td>\n      <td>0.774555</td>\n      <td>1</td>\n      <td>0.000408</td>\n      <td>0</td>\n      <td>0.004662</td>\n      <td>0</td>\n    </tr>\n    <tr>\n      <th>125</th>\n      <td>32049</td>\n      <td>img/32049.png</td>\n      <td>0</td>\n      <td>german british danish austrian diversity. appa...</td>\n      <td>0.095278</td>\n      <td>0</td>\n      <td>0.999255</td>\n      <td>1</td>\n      <td>0.999525</td>\n      <td>1</td>\n    </tr>\n    <tr>\n      <th>159</th>\n      <td>43092</td>\n      <td>img/43092.png</td>\n      <td>0</td>\n      <td>pretty much sums up islam</td>\n      <td>0.106591</td>\n      <td>0</td>\n      <td>0.987640</td>\n      <td>1</td>\n      <td>0.995232</td>\n      <td>1</td>\n    </tr>\n    <tr>\n      <th>164</th>\n      <td>45368</td>\n      <td>img/45368.png</td>\n      <td>1</td>\n      <td>enough is enough children are more important t...</td>\n      <td>0.834311</td>\n      <td>1</td>\n      <td>0.000507</td>\n      <td>0</td>\n      <td>0.005201</td>\n      <td>0</td>\n    </tr>\n    <tr>\n      <th>165</th>\n      <td>45702</td>\n      <td>img/45702.png</td>\n      <td>1</td>\n      <td>if she's still making noises, you didn't hit h...</td>\n      <td>0.564608</td>\n      <td>1</td>\n      <td>0.000547</td>\n      <td>0</td>\n      <td>0.000256</td>\n      <td>0</td>\n    </tr>\n    <tr>\n      <th>178</th>\n      <td>47950</td>\n      <td>img/47950.png</td>\n      <td>0</td>\n      <td>democrats ilhan omar alexandria ocasio-cortez ...</td>\n      <td>0.295209</td>\n      <td>0</td>\n      <td>0.999643</td>\n      <td>1</td>\n      <td>0.795736</td>\n      <td>1</td>\n    </tr>\n    <tr>\n      <th>196</th>\n      <td>52104</td>\n      <td>img/52104.png</td>\n      <td>0</td>\n      <td>lebanon: before islam after islam but don't wo...</td>\n      <td>0.251354</td>\n      <td>0</td>\n      <td>0.999169</td>\n      <td>1</td>\n      <td>0.787652</td>\n      <td>1</td>\n    </tr>\n    <tr>\n      <th>207</th>\n      <td>54780</td>\n      <td>img/54780.png</td>\n      <td>1</td>\n      <td>travel size coffee maker</td>\n      <td>0.527257</td>\n      <td>1</td>\n      <td>0.004160</td>\n      <td>0</td>\n      <td>0.022036</td>\n      <td>0</td>\n    </tr>\n    <tr>\n      <th>241</th>\n      <td>65403</td>\n      <td>img/65403.png</td>\n      <td>1</td>\n      <td>money is evil give it to us</td>\n      <td>0.919151</td>\n      <td>1</td>\n      <td>0.000491</td>\n      <td>0</td>\n      <td>0.001326</td>\n      <td>0</td>\n    </tr>\n    <tr>\n      <th>262</th>\n      <td>73021</td>\n      <td>img/73021.png</td>\n      <td>0</td>\n      <td>when mom asks where all the jews went</td>\n      <td>0.117714</td>\n      <td>0</td>\n      <td>0.999452</td>\n      <td>1</td>\n      <td>0.998701</td>\n      <td>1</td>\n    </tr>\n    <tr>\n      <th>267</th>\n      <td>73914</td>\n      <td>img/73914.png</td>\n      <td>1</td>\n      <td>be careful who you call ugly in highschool</td>\n      <td>0.969556</td>\n      <td>1</td>\n      <td>0.004925</td>\n      <td>0</td>\n      <td>0.001117</td>\n      <td>0</td>\n    </tr>\n    <tr>\n      <th>278</th>\n      <td>75639</td>\n      <td>img/75639.png</td>\n      <td>1</td>\n      <td>changing every single country it touches</td>\n      <td>0.902758</td>\n      <td>1</td>\n      <td>0.000498</td>\n      <td>0</td>\n      <td>0.000369</td>\n      <td>0</td>\n    </tr>\n    <tr>\n      <th>285</th>\n      <td>78251</td>\n      <td>img/78251.png</td>\n      <td>1</td>\n      <td>watching vegetables grow</td>\n      <td>0.618172</td>\n      <td>1</td>\n      <td>0.003079</td>\n      <td>0</td>\n      <td>0.080393</td>\n      <td>0</td>\n    </tr>\n    <tr>\n      <th>290</th>\n      <td>79085</td>\n      <td>img/79085.png</td>\n      <td>1</td>\n      <td>today we are making vegetable soup</td>\n      <td>0.516255</td>\n      <td>1</td>\n      <td>0.000295</td>\n      <td>0</td>\n      <td>0.007102</td>\n      <td>0</td>\n    </tr>\n    <tr>\n      <th>308</th>\n      <td>84107</td>\n      <td>img/84107.png</td>\n      <td>0</td>\n      <td>i ordered a dishwasher and they sent me a sand...</td>\n      <td>0.446118</td>\n      <td>0</td>\n      <td>0.999528</td>\n      <td>1</td>\n      <td>0.978382</td>\n      <td>1</td>\n    </tr>\n    <tr>\n      <th>312</th>\n      <td>84510</td>\n      <td>img/84510.png</td>\n      <td>1</td>\n      <td>bartender: how about a nice 12 yr old? him: bo...</td>\n      <td>0.785815</td>\n      <td>1</td>\n      <td>0.000246</td>\n      <td>0</td>\n      <td>0.045670</td>\n      <td>0</td>\n    </tr>\n    <tr>\n      <th>335</th>\n      <td>91763</td>\n      <td>img/91763.png</td>\n      <td>1</td>\n      <td>imagine being so disgusting there have to be l...</td>\n      <td>0.537374</td>\n      <td>1</td>\n      <td>0.000937</td>\n      <td>0</td>\n      <td>0.012341</td>\n      <td>0</td>\n    </tr>\n    <tr>\n      <th>341</th>\n      <td>92738</td>\n      <td>img/92738.png</td>\n      <td>1</td>\n      <td>they are the best in basketball because they c...</td>\n      <td>0.732552</td>\n      <td>1</td>\n      <td>0.000204</td>\n      <td>0</td>\n      <td>0.035722</td>\n      <td>0</td>\n    </tr>\n    <tr>\n      <th>355</th>\n      <td>95604</td>\n      <td>img/95604.png</td>\n      <td>1</td>\n      <td>they want to be accepted for who they are, yet...</td>\n      <td>0.505305</td>\n      <td>1</td>\n      <td>0.000364</td>\n      <td>0</td>\n      <td>0.000734</td>\n      <td>0</td>\n    </tr>\n    <tr>\n      <th>361</th>\n      <td>96284</td>\n      <td>img/96284.png</td>\n      <td>1</td>\n      <td>welcome to melbourne</td>\n      <td>0.569865</td>\n      <td>1</td>\n      <td>0.001079</td>\n      <td>0</td>\n      <td>0.088018</td>\n      <td>0</td>\n    </tr>\n    <tr>\n      <th>364</th>\n      <td>97132</td>\n      <td>img/97132.png</td>\n      <td>0</td>\n      <td>in the muslim world all gay men are well hung</td>\n      <td>0.166456</td>\n      <td>0</td>\n      <td>0.999724</td>\n      <td>1</td>\n      <td>0.996666</td>\n      <td>1</td>\n    </tr>\n  </tbody>\n</table>\n</div>"
          },
          "metadata": {}
        }
      ],
      "execution_count": null
    },
    {
      "cell_type": "code",
      "source": "vil_false_base_vb_false = dev_vil_vb_base[dev_vil_vb_base['truth'] != dev_vil_vb_base['base_label']]\nvil_false_base_vb_false = vil_false_base_vb_false[vil_false_base_vb_false['truth'] != vil_false_base_vb_false['vb_label']]\nvil_false_base_vb_false = vil_false_base_vb_false[vil_false_base_vb_false['truth'] != vil_false_base_vb_false['vilio_label']]\nvil_false_base_vb_false",
      "metadata": {
        "tags": [],
        "cell_id": "00010-583b41d4-906c-432a-b047-c78e90f6e49c",
        "deepnote_to_be_reexecuted": false,
        "source_hash": "9c2735e6",
        "execution_millis": 84,
        "execution_start": 1618669475093,
        "deepnote_cell_type": "code"
      },
      "outputs": [
        {
          "output_type": "execute_result",
          "execution_count": 453,
          "data": {
            "application/vnd.deepnote.dataframe.v2+json": {
              "row_count": 65,
              "column_count": 10,
              "columns": [
                {
                  "name": "id",
                  "dtype": "int64",
                  "stats": {
                    "unique_count": 65,
                    "nan_count": 0,
                    "min": "1796",
                    "max": "98701",
                    "histogram": [
                      {
                        "bin_start": 1796,
                        "bin_end": 11486.5,
                        "count": 8
                      },
                      {
                        "bin_start": 11486.5,
                        "bin_end": 21177,
                        "count": 6
                      },
                      {
                        "bin_start": 21177,
                        "bin_end": 30867.5,
                        "count": 8
                      },
                      {
                        "bin_start": 30867.5,
                        "bin_end": 40558,
                        "count": 4
                      },
                      {
                        "bin_start": 40558,
                        "bin_end": 50248.5,
                        "count": 10
                      },
                      {
                        "bin_start": 50248.5,
                        "bin_end": 59939,
                        "count": 4
                      },
                      {
                        "bin_start": 59939,
                        "bin_end": 69629.5,
                        "count": 6
                      },
                      {
                        "bin_start": 69629.5,
                        "bin_end": 79320,
                        "count": 4
                      },
                      {
                        "bin_start": 79320,
                        "bin_end": 89010.5,
                        "count": 6
                      },
                      {
                        "bin_start": 89010.5,
                        "bin_end": 98701,
                        "count": 9
                      }
                    ]
                  }
                },
                {
                  "name": "img",
                  "dtype": "object",
                  "stats": {
                    "unique_count": 65,
                    "nan_count": 0,
                    "categories": [
                      {
                        "name": "img/01796.png",
                        "count": 1
                      },
                      {
                        "name": "img/01925.png",
                        "count": 1
                      },
                      {
                        "name": "63 others",
                        "count": 63
                      }
                    ]
                  }
                },
                {
                  "name": "truth",
                  "dtype": "int64",
                  "stats": {
                    "unique_count": 2,
                    "nan_count": 0,
                    "min": "0",
                    "max": "1",
                    "histogram": [
                      {
                        "bin_start": 0,
                        "bin_end": 0.1,
                        "count": 3
                      },
                      {
                        "bin_start": 0.1,
                        "bin_end": 0.2,
                        "count": 0
                      },
                      {
                        "bin_start": 0.2,
                        "bin_end": 0.30000000000000004,
                        "count": 0
                      },
                      {
                        "bin_start": 0.30000000000000004,
                        "bin_end": 0.4,
                        "count": 0
                      },
                      {
                        "bin_start": 0.4,
                        "bin_end": 0.5,
                        "count": 0
                      },
                      {
                        "bin_start": 0.5,
                        "bin_end": 0.6000000000000001,
                        "count": 0
                      },
                      {
                        "bin_start": 0.6000000000000001,
                        "bin_end": 0.7000000000000001,
                        "count": 0
                      },
                      {
                        "bin_start": 0.7000000000000001,
                        "bin_end": 0.8,
                        "count": 0
                      },
                      {
                        "bin_start": 0.8,
                        "bin_end": 0.9,
                        "count": 0
                      },
                      {
                        "bin_start": 0.9,
                        "bin_end": 1,
                        "count": 62
                      }
                    ]
                  }
                },
                {
                  "name": "text",
                  "dtype": "object",
                  "stats": {
                    "unique_count": 65,
                    "nan_count": 0,
                    "categories": [
                      {
                        "name": "life hack #23 how to get stoned with no weed",
                        "count": 1
                      },
                      {
                        "name": "i am not racist i just don't like brown sugar",
                        "count": 1
                      },
                      {
                        "name": "63 others",
                        "count": 63
                      }
                    ]
                  }
                },
                {
                  "name": "vilio_proba",
                  "dtype": "float64",
                  "stats": {
                    "unique_count": 65,
                    "nan_count": 0,
                    "min": "0.0",
                    "max": "0.9186464204380766",
                    "histogram": [
                      {
                        "bin_start": 0,
                        "bin_end": 0.09186464204380766,
                        "count": 6
                      },
                      {
                        "bin_start": 0.09186464204380766,
                        "bin_end": 0.18372928408761532,
                        "count": 22
                      },
                      {
                        "bin_start": 0.18372928408761532,
                        "bin_end": 0.275593926131423,
                        "count": 17
                      },
                      {
                        "bin_start": 0.275593926131423,
                        "bin_end": 0.36745856817523065,
                        "count": 10
                      },
                      {
                        "bin_start": 0.36745856817523065,
                        "bin_end": 0.4593232102190383,
                        "count": 4
                      },
                      {
                        "bin_start": 0.4593232102190383,
                        "bin_end": 0.551187852262846,
                        "count": 3
                      },
                      {
                        "bin_start": 0.551187852262846,
                        "bin_end": 0.6430524943066537,
                        "count": 1
                      },
                      {
                        "bin_start": 0.6430524943066537,
                        "bin_end": 0.7349171363504613,
                        "count": 0
                      },
                      {
                        "bin_start": 0.7349171363504613,
                        "bin_end": 0.8267817783942689,
                        "count": 0
                      },
                      {
                        "bin_start": 0.8267817783942689,
                        "bin_end": 0.9186464204380766,
                        "count": 2
                      }
                    ]
                  }
                },
                {
                  "name": "vilio_label",
                  "dtype": "int64",
                  "stats": {
                    "unique_count": 2,
                    "nan_count": 0,
                    "min": "0",
                    "max": "1",
                    "histogram": [
                      {
                        "bin_start": 0,
                        "bin_end": 0.1,
                        "count": 62
                      },
                      {
                        "bin_start": 0.1,
                        "bin_end": 0.2,
                        "count": 0
                      },
                      {
                        "bin_start": 0.2,
                        "bin_end": 0.30000000000000004,
                        "count": 0
                      },
                      {
                        "bin_start": 0.30000000000000004,
                        "bin_end": 0.4,
                        "count": 0
                      },
                      {
                        "bin_start": 0.4,
                        "bin_end": 0.5,
                        "count": 0
                      },
                      {
                        "bin_start": 0.5,
                        "bin_end": 0.6000000000000001,
                        "count": 0
                      },
                      {
                        "bin_start": 0.6000000000000001,
                        "bin_end": 0.7000000000000001,
                        "count": 0
                      },
                      {
                        "bin_start": 0.7000000000000001,
                        "bin_end": 0.8,
                        "count": 0
                      },
                      {
                        "bin_start": 0.8,
                        "bin_end": 0.9,
                        "count": 0
                      },
                      {
                        "bin_start": 0.9,
                        "bin_end": 1,
                        "count": 3
                      }
                    ]
                  }
                },
                {
                  "name": "vb_proba",
                  "dtype": "float64",
                  "stats": {
                    "unique_count": 65,
                    "nan_count": 0,
                    "min": "0.0001998876250581",
                    "max": "0.9935205578804016",
                    "histogram": [
                      {
                        "bin_start": 0.0001998876250581,
                        "bin_end": 0.09953195465059245,
                        "count": 62
                      },
                      {
                        "bin_start": 0.09953195465059245,
                        "bin_end": 0.1988640216761268,
                        "count": 0
                      },
                      {
                        "bin_start": 0.1988640216761268,
                        "bin_end": 0.2981960887016612,
                        "count": 0
                      },
                      {
                        "bin_start": 0.2981960887016612,
                        "bin_end": 0.3975281557271955,
                        "count": 0
                      },
                      {
                        "bin_start": 0.3975281557271955,
                        "bin_end": 0.49686022275272984,
                        "count": 0
                      },
                      {
                        "bin_start": 0.49686022275272984,
                        "bin_end": 0.5961922897782642,
                        "count": 0
                      },
                      {
                        "bin_start": 0.5961922897782642,
                        "bin_end": 0.6955243568037985,
                        "count": 0
                      },
                      {
                        "bin_start": 0.6955243568037985,
                        "bin_end": 0.7948564238293329,
                        "count": 0
                      },
                      {
                        "bin_start": 0.7948564238293329,
                        "bin_end": 0.8941884908548672,
                        "count": 0
                      },
                      {
                        "bin_start": 0.8941884908548672,
                        "bin_end": 0.9935205578804016,
                        "count": 3
                      }
                    ]
                  }
                },
                {
                  "name": "vb_label",
                  "dtype": "int64",
                  "stats": {
                    "unique_count": 2,
                    "nan_count": 0,
                    "min": "0",
                    "max": "1",
                    "histogram": [
                      {
                        "bin_start": 0,
                        "bin_end": 0.1,
                        "count": 62
                      },
                      {
                        "bin_start": 0.1,
                        "bin_end": 0.2,
                        "count": 0
                      },
                      {
                        "bin_start": 0.2,
                        "bin_end": 0.30000000000000004,
                        "count": 0
                      },
                      {
                        "bin_start": 0.30000000000000004,
                        "bin_end": 0.4,
                        "count": 0
                      },
                      {
                        "bin_start": 0.4,
                        "bin_end": 0.5,
                        "count": 0
                      },
                      {
                        "bin_start": 0.5,
                        "bin_end": 0.6000000000000001,
                        "count": 0
                      },
                      {
                        "bin_start": 0.6000000000000001,
                        "bin_end": 0.7000000000000001,
                        "count": 0
                      },
                      {
                        "bin_start": 0.7000000000000001,
                        "bin_end": 0.8,
                        "count": 0
                      },
                      {
                        "bin_start": 0.8,
                        "bin_end": 0.9,
                        "count": 0
                      },
                      {
                        "bin_start": 0.9,
                        "bin_end": 1,
                        "count": 3
                      }
                    ]
                  }
                },
                {
                  "name": "base_proba",
                  "dtype": "float64",
                  "stats": {
                    "unique_count": 65,
                    "nan_count": 0,
                    "min": "0.0001518144272267",
                    "max": "0.998688280582428",
                    "histogram": [
                      {
                        "bin_start": 0.0001518144272267,
                        "bin_end": 0.10000546104274682,
                        "count": 54
                      },
                      {
                        "bin_start": 0.10000546104274682,
                        "bin_end": 0.19985910765826695,
                        "count": 3
                      },
                      {
                        "bin_start": 0.19985910765826695,
                        "bin_end": 0.29971275427378713,
                        "count": 2
                      },
                      {
                        "bin_start": 0.29971275427378713,
                        "bin_end": 0.3995664008893072,
                        "count": 1
                      },
                      {
                        "bin_start": 0.3995664008893072,
                        "bin_end": 0.4994200475048273,
                        "count": 2
                      },
                      {
                        "bin_start": 0.4994200475048273,
                        "bin_end": 0.5992736941203475,
                        "count": 0
                      },
                      {
                        "bin_start": 0.5992736941203475,
                        "bin_end": 0.6991273407358676,
                        "count": 0
                      },
                      {
                        "bin_start": 0.6991273407358676,
                        "bin_end": 0.7989809873513877,
                        "count": 1
                      },
                      {
                        "bin_start": 0.7989809873513877,
                        "bin_end": 0.8988346339669078,
                        "count": 0
                      },
                      {
                        "bin_start": 0.8988346339669078,
                        "bin_end": 0.998688280582428,
                        "count": 2
                      }
                    ]
                  }
                },
                {
                  "name": "base_label",
                  "dtype": "int64",
                  "stats": {
                    "unique_count": 2,
                    "nan_count": 0,
                    "min": "0",
                    "max": "1",
                    "histogram": [
                      {
                        "bin_start": 0,
                        "bin_end": 0.1,
                        "count": 62
                      },
                      {
                        "bin_start": 0.1,
                        "bin_end": 0.2,
                        "count": 0
                      },
                      {
                        "bin_start": 0.2,
                        "bin_end": 0.30000000000000004,
                        "count": 0
                      },
                      {
                        "bin_start": 0.30000000000000004,
                        "bin_end": 0.4,
                        "count": 0
                      },
                      {
                        "bin_start": 0.4,
                        "bin_end": 0.5,
                        "count": 0
                      },
                      {
                        "bin_start": 0.5,
                        "bin_end": 0.6000000000000001,
                        "count": 0
                      },
                      {
                        "bin_start": 0.6000000000000001,
                        "bin_end": 0.7000000000000001,
                        "count": 0
                      },
                      {
                        "bin_start": 0.7000000000000001,
                        "bin_end": 0.8,
                        "count": 0
                      },
                      {
                        "bin_start": 0.8,
                        "bin_end": 0.9,
                        "count": 0
                      },
                      {
                        "bin_start": 0.9,
                        "bin_end": 1,
                        "count": 3
                      }
                    ]
                  }
                },
                {
                  "name": "_deepnote_index_column",
                  "dtype": "int64"
                }
              ],
              "rows_top": [
                {
                  "id": 1796,
                  "img": "img/01796.png",
                  "truth": 1,
                  "text": "life hack #23 how to get stoned with no weed",
                  "vilio_proba": 0.1605654440676509,
                  "vilio_label": 0,
                  "vb_proba": 0.0672107711434364,
                  "vb_label": 0,
                  "base_proba": 0.2697727978229522,
                  "base_label": 0,
                  "_deepnote_index_column": 3
                },
                {
                  "id": 1925,
                  "img": "img/01925.png",
                  "truth": 1,
                  "text": "i am not racist i just don't like brown sugar",
                  "vilio_proba": 0.18313193727017144,
                  "vilio_label": 0,
                  "vb_proba": 0.0025557978078722,
                  "vb_label": 0,
                  "base_proba": 0.0009571990813128,
                  "base_label": 0,
                  "_deepnote_index_column": 4
                },
                {
                  "id": 2568,
                  "img": "img/02568.png",
                  "truth": 1,
                  "text": "whatsthe difference between heroin and i? cops think twice before shooting heroin",
                  "vilio_proba": 0.26764642776987324,
                  "vilio_label": 0,
                  "vb_proba": 0.0010224942816421,
                  "vb_label": 0,
                  "base_proba": 0.0126390205696225,
                  "base_label": 0,
                  "_deepnote_index_column": 11
                },
                {
                  "id": 6123,
                  "img": "img/06123.png",
                  "truth": 1,
                  "text": "a group of men",
                  "vilio_proba": 0.16910492307923347,
                  "vilio_label": 0,
                  "vb_proba": 0.0002311661082785,
                  "vb_label": 0,
                  "base_proba": 0.0201219692826271,
                  "base_label": 0,
                  "_deepnote_index_column": 30
                },
                {
                  "id": 6273,
                  "img": "img/06273.png",
                  "truth": 1,
                  "text": "the jihad squad",
                  "vilio_proba": 0.22296404217705376,
                  "vilio_label": 0,
                  "vb_proba": 0.0107316644862294,
                  "vb_label": 0,
                  "base_proba": 0.0031512880232185,
                  "base_label": 0,
                  "_deepnote_index_column": 31
                },
                {
                  "id": 6723,
                  "img": "img/06723.png",
                  "truth": 1,
                  "text": "the hardest part to eat in a vegetable",
                  "vilio_proba": 0.23118522195628147,
                  "vilio_label": 0,
                  "vb_proba": 0.0003812286886386,
                  "vb_label": 0,
                  "base_proba": 0.0004875293816439,
                  "base_label": 0,
                  "_deepnote_index_column": 35
                },
                {
                  "id": 8451,
                  "img": "img/08451.png",
                  "truth": 0,
                  "text": "when you ask a jewish girl for her number and she starts rolling her sleeve",
                  "vilio_proba": 0.8592617140387865,
                  "vilio_label": 1,
                  "vb_proba": 0.9935205578804016,
                  "vb_label": 1,
                  "base_proba": 0.9984585046768188,
                  "base_label": 1,
                  "_deepnote_index_column": 43
                },
                {
                  "id": 10285,
                  "img": "img/10285.png",
                  "truth": 1,
                  "text": "you are what you eat meanwhile in africa",
                  "vilio_proba": 0.21499206731068812,
                  "vilio_label": 0,
                  "vb_proba": 0.0002023141569225,
                  "vb_label": 0,
                  "base_proba": 0.0260483492165803,
                  "base_label": 0,
                  "_deepnote_index_column": 47
                },
                {
                  "id": 13026,
                  "img": "img/13026.png",
                  "truth": 1,
                  "text": "under the name of multiculturalism we let terrorist into this country",
                  "vilio_proba": 0.3760375824989272,
                  "vilio_label": 0,
                  "vb_proba": 0.0002093685907311,
                  "vb_label": 0,
                  "base_proba": 0.0005812811432406,
                  "base_label": 0,
                  "_deepnote_index_column": 56
                },
                {
                  "id": 18306,
                  "img": "img/18306.png",
                  "truth": 1,
                  "text": "white kids kids dreaming about their first day of school",
                  "vilio_proba": 0.26941344478109563,
                  "vilio_label": 0,
                  "vb_proba": 0.000674084527418,
                  "vb_label": 0,
                  "base_proba": 0.0949172973632812,
                  "base_label": 0,
                  "_deepnote_index_column": 75
                },
                {
                  "id": 18547,
                  "img": "img/18547.png",
                  "truth": 1,
                  "text": "1st day of 4th grade sandy hook elementary school",
                  "vilio_proba": 0.15462477732862284,
                  "vilio_label": 0,
                  "vb_proba": 0.0081114117056131,
                  "vb_label": 0,
                  "base_proba": 0.0269408151507377,
                  "base_label": 0,
                  "_deepnote_index_column": 78
                },
                {
                  "id": 18945,
                  "img": "img/18945.png",
                  "truth": 1,
                  "text": "when you decide to go full gas",
                  "vilio_proba": 0.2893624424065764,
                  "vilio_label": 0,
                  "vb_proba": 0.0006391453789547,
                  "vb_label": 0,
                  "base_proba": 0.003779714461416,
                  "base_label": 0,
                  "_deepnote_index_column": 81
                },
                {
                  "id": 19508,
                  "img": "img/19508.png",
                  "truth": 1,
                  "text": "the definition of utter disgust in plain black and white",
                  "vilio_proba": 0.08842044857306937,
                  "vilio_label": 0,
                  "vb_proba": 0.0019477765308693,
                  "vb_label": 0,
                  "base_proba": 0.1187381669878959,
                  "base_label": 0,
                  "_deepnote_index_column": 84
                },
                {
                  "id": 20861,
                  "img": "img/20861.png",
                  "truth": 1,
                  "text": "pretty much sums up islam",
                  "vilio_proba": 0.39464493691883484,
                  "vilio_label": 0,
                  "vb_proba": 0.0018585984362289,
                  "vb_label": 0,
                  "base_proba": 0.0265525095164775,
                  "base_label": 0,
                  "_deepnote_index_column": 89
                },
                {
                  "id": 21567,
                  "img": "img/21567.png",
                  "truth": 1,
                  "text": "our dad is a potato farmer",
                  "vilio_proba": 0.19801295833114016,
                  "vilio_label": 0,
                  "vb_proba": 0.0003574381698854,
                  "vb_label": 0,
                  "base_proba": 0.0757671296596527,
                  "base_label": 0,
                  "_deepnote_index_column": 91
                },
                {
                  "id": 23645,
                  "img": "img/23645.png",
                  "truth": 1,
                  "text": "what do they have in common? you enjoy pushing them down the stairs",
                  "vilio_proba": 0.3548123467472712,
                  "vilio_label": 0,
                  "vb_proba": 0.0003452191303949,
                  "vb_label": 0,
                  "base_proba": 0.0773679539561271,
                  "base_label": 0,
                  "_deepnote_index_column": 93
                },
                {
                  "id": 24098,
                  "img": "img/24098.png",
                  "truth": 1,
                  "text": "thanksgiving in china",
                  "vilio_proba": 0.11452480386068438,
                  "vilio_label": 0,
                  "vb_proba": 0.000254835555097,
                  "vb_label": 0,
                  "base_proba": 0.000310247647576,
                  "base_label": 0,
                  "_deepnote_index_column": 96
                },
                {
                  "id": 26985,
                  "img": "img/26985.png",
                  "truth": 1,
                  "text": "i just heard my girlfriend is pregnant",
                  "vilio_proba": 0.17163495798998551,
                  "vilio_label": 0,
                  "vb_proba": 0.0003722882829606,
                  "vb_label": 0,
                  "base_proba": 0.001934579689987,
                  "base_label": 0,
                  "_deepnote_index_column": 104
                },
                {
                  "id": 27635,
                  "img": "img/27635.png",
                  "truth": 1,
                  "text": "dat ass ahmarbkrich*d",
                  "vilio_proba": 0.12565619087264862,
                  "vilio_label": 0,
                  "vb_proba": 0.000288491428364,
                  "vb_label": 0,
                  "base_proba": 0.196829006075859,
                  "base_label": 0,
                  "_deepnote_index_column": 108
                },
                {
                  "id": 28017,
                  "img": "img/28017.png",
                  "truth": 1,
                  "text": "say it! say it ! islam is the religion of peace",
                  "vilio_proba": 0.11340943711891625,
                  "vilio_label": 0,
                  "vb_proba": 0.000311686162604,
                  "vb_label": 0,
                  "base_proba": 0.0680784210562706,
                  "base_label": 0,
                  "_deepnote_index_column": 109
                },
                {
                  "id": 28190,
                  "img": "img/28190.png",
                  "truth": 1,
                  "text": "when finishing a race is your passion",
                  "vilio_proba": 0.050192328943782484,
                  "vilio_label": 0,
                  "vb_proba": 0.0003913211403414,
                  "vb_label": 0,
                  "base_proba": 0.0247057639062404,
                  "base_label": 0,
                  "_deepnote_index_column": 110
                },
                {
                  "id": 29750,
                  "img": "img/29750.png",
                  "truth": 1,
                  "text": "this cat is getting raped tonight",
                  "vilio_proba": 0.2637883794484988,
                  "vilio_label": 0,
                  "vb_proba": 0.0003895427798852,
                  "vb_label": 0,
                  "base_proba": 0.0007868138491176,
                  "base_label": 0,
                  "_deepnote_index_column": 116
                },
                {
                  "id": 31208,
                  "img": "img/31208.png",
                  "truth": 1,
                  "text": "maybe if we weren't consistent sources of crime we'd be treated better",
                  "vilio_proba": 0.047191491467852946,
                  "vilio_label": 0,
                  "vb_proba": 0.0004653088399209,
                  "vb_label": 0,
                  "base_proba": 0.0156927146017551,
                  "base_label": 0,
                  "_deepnote_index_column": 122
                },
                {
                  "id": 31752,
                  "img": "img/31752.png",
                  "truth": 1,
                  "text": "when you get to choose your own mental illness",
                  "vilio_proba": 0.19263482760980813,
                  "vilio_label": 0,
                  "vb_proba": 0.0002777329063974,
                  "vb_label": 0,
                  "base_proba": 0.0002052797644864,
                  "base_label": 0,
                  "_deepnote_index_column": 124
                },
                {
                  "id": 34687,
                  "img": "img/34687.png",
                  "truth": 1,
                  "text": "everyone is afraid of dark",
                  "vilio_proba": 0.2694160762670378,
                  "vilio_label": 0,
                  "vb_proba": 0.0002054271899396,
                  "vb_label": 0,
                  "base_proba": 0.0014459049561992,
                  "base_label": 0,
                  "_deepnote_index_column": 133
                },
                {
                  "id": 39578,
                  "img": "img/39578.png",
                  "truth": 1,
                  "text": "one of the bullets they dug out of a victim from the orland gay night club shooting!",
                  "vilio_proba": 0,
                  "vilio_label": 0,
                  "vb_proba": 0.0002011375909205,
                  "vb_label": 0,
                  "base_proba": 0.0006863277521915,
                  "base_label": 0,
                  "_deepnote_index_column": 144
                },
                {
                  "id": 41796,
                  "img": "img/41796.png",
                  "truth": 0,
                  "text": "nein danke i'm very happy with my gas supplier",
                  "vilio_proba": 0.5873132563912725,
                  "vilio_label": 1,
                  "vb_proba": 0.9779548048973083,
                  "vb_label": 1,
                  "base_proba": 0.998688280582428,
                  "base_label": 1,
                  "_deepnote_index_column": 153
                },
                {
                  "id": 41890,
                  "img": "img/41890.png",
                  "truth": 1,
                  "text": "house of pedophile",
                  "vilio_proba": 0.18959443921958402,
                  "vilio_label": 0,
                  "vb_proba": 0.0002441753167659,
                  "vb_label": 0,
                  "base_proba": 0.0006466246559284,
                  "base_label": 0,
                  "_deepnote_index_column": 154
                },
                {
                  "id": 43175,
                  "img": "img/43175.png",
                  "truth": 1,
                  "text": "when was the last time you saw so many mentally ill people on the streat",
                  "vilio_proba": 0.11544244305837902,
                  "vilio_label": 0,
                  "vb_proba": 0.0007475682650692,
                  "vb_label": 0,
                  "base_proba": 0.0135200982913374,
                  "base_label": 0,
                  "_deepnote_index_column": 160
                },
                {
                  "id": 43805,
                  "img": "img/43805.png",
                  "truth": 1,
                  "text": "the original scarecrow",
                  "vilio_proba": 0.16415612752042308,
                  "vilio_label": 0,
                  "vb_proba": 0.0001998876250581,
                  "vb_label": 0,
                  "base_proba": 0.0003690595331136,
                  "base_label": 0,
                  "_deepnote_index_column": 162
                },
                {
                  "id": 46971,
                  "img": "img/46971.png",
                  "truth": 1,
                  "text": "bravery at its finest",
                  "vilio_proba": 0.26568504444031843,
                  "vilio_label": 0,
                  "vb_proba": 0.000472794054076,
                  "vb_label": 0,
                  "base_proba": 0.015428471378982,
                  "base_label": 0,
                  "_deepnote_index_column": 170
                },
                {
                  "id": 47016,
                  "img": "img/47016.png",
                  "truth": 1,
                  "text": "last summer camp was so \"lit\"",
                  "vilio_proba": 0.2850808477003457,
                  "vilio_label": 0,
                  "vb_proba": 0.0028187448624521,
                  "vb_label": 0,
                  "base_proba": 0.0005426169373095,
                  "base_label": 0,
                  "_deepnote_index_column": 171
                },
                {
                  "id": 47056,
                  "img": "img/47056.png",
                  "truth": 1,
                  "text": "illegal aliens are not welcome",
                  "vilio_proba": 0.32657736378003693,
                  "vilio_label": 0,
                  "vb_proba": 0.0021843702998012,
                  "vb_label": 0,
                  "base_proba": 0.0201375447213649,
                  "base_label": 0,
                  "_deepnote_index_column": 172
                },
                {
                  "id": 47819,
                  "img": "img/47819.png",
                  "truth": 1,
                  "text": "oh, addiction isn't a disease because it started with a choice?? tell me more about how the chlamydia in your crotch isn't a disease, yet it started with a choice",
                  "vilio_proba": 0.18299078053126175,
                  "vilio_label": 0,
                  "vb_proba": 0.0002355713804718,
                  "vb_label": 0,
                  "base_proba": 0.0002763158699963,
                  "base_label": 0,
                  "_deepnote_index_column": 177
                },
                {
                  "id": 49650,
                  "img": "img/49650.png",
                  "truth": 1,
                  "text": "and then i asked mom, what's for dinner?",
                  "vilio_proba": 0.1070991878846172,
                  "vilio_label": 0,
                  "vb_proba": 0.0008772366563789,
                  "vb_label": 0,
                  "base_proba": 0.0002536613610573,
                  "base_label": 0,
                  "_deepnote_index_column": 184
                },
                {
                  "id": 50241,
                  "img": "img/50241.png",
                  "truth": 1,
                  "text": "bitches be like no weave, no makeup, no lashes, no eyebrows",
                  "vilio_proba": 0.12657687188135747,
                  "vilio_label": 0,
                  "vb_proba": 0.0018686826806515,
                  "vb_label": 0,
                  "base_proba": 0.1011371165513992,
                  "base_label": 0,
                  "_deepnote_index_column": 188
                },
                {
                  "id": 52091,
                  "img": "img/52091.png",
                  "truth": 1,
                  "text": "women ask for equal rights, so i give them equal lefts aswell",
                  "vilio_proba": 0.25505096035919755,
                  "vilio_label": 0,
                  "vb_proba": 0.0002859102096408,
                  "vb_label": 0,
                  "base_proba": 0.0002724427904468,
                  "base_label": 0,
                  "_deepnote_index_column": 195
                },
                {
                  "id": 53046,
                  "img": "img/53046.png",
                  "truth": 1,
                  "text": "you've heard of elf on a shelf, now get ready for",
                  "vilio_proba": 0.2651493589159698,
                  "vilio_label": 0,
                  "vb_proba": 0.0002397830830886,
                  "vb_label": 0,
                  "base_proba": 0.0005603533936664,
                  "base_label": 0,
                  "_deepnote_index_column": 199
                },
                {
                  "id": 53968,
                  "img": "img/53968.png",
                  "truth": 1,
                  "text": "when you have an 80 point iq but it's the highest in your village",
                  "vilio_proba": 0.36741112071462895,
                  "vilio_label": 0,
                  "vb_proba": 0.0008941588457673,
                  "vb_label": 0,
                  "base_proba": 0.0015993369743227,
                  "base_label": 0,
                  "_deepnote_index_column": 202
                },
                {
                  "id": 59140,
                  "img": "img/59140.png",
                  "truth": 1,
                  "text": "wanna go masturbate? fuck yeah! masturbating!",
                  "vilio_proba": 0.09320824928139562,
                  "vilio_label": 0,
                  "vb_proba": 0.0002340358187211,
                  "vb_label": 0,
                  "base_proba": 0.3249910473823547,
                  "base_label": 0,
                  "_deepnote_index_column": 219
                },
                {
                  "id": 62035,
                  "img": "img/62035.png",
                  "truth": 1,
                  "text": "thank god my ass needed a break",
                  "vilio_proba": 0.08121999049500415,
                  "vilio_label": 0,
                  "vb_proba": 0.000218131172005,
                  "vb_label": 0,
                  "base_proba": 0.00027720752405,
                  "base_label": 0,
                  "_deepnote_index_column": 228
                },
                {
                  "id": 65342,
                  "img": "img/65342.png",
                  "truth": 1,
                  "text": "barn army enlist, and bomb ant hills \"grab your pitchfork and meet at the barn\"",
                  "vilio_proba": 0.05587282993074431,
                  "vilio_label": 0,
                  "vb_proba": 0.0146227860823273,
                  "vb_label": 0,
                  "base_proba": 0.4704846441745758,
                  "base_label": 0,
                  "_deepnote_index_column": 240
                },
                {
                  "id": 65832,
                  "img": "img/65832.png",
                  "truth": 1,
                  "text": "why love one but eat the other ? i don't get it",
                  "vilio_proba": 0.389384369244761,
                  "vilio_label": 0,
                  "vb_proba": 0.000205419739359,
                  "vb_label": 0,
                  "base_proba": 0.0081900479272007,
                  "base_label": 0,
                  "_deepnote_index_column": 243
                },
                {
                  "id": 67103,
                  "img": "img/67103.png",
                  "truth": 1,
                  "text": "still better than mexican",
                  "vilio_proba": 0.4941855929884281,
                  "vilio_label": 0,
                  "vb_proba": 0.0012795127695426,
                  "vb_label": 0,
                  "base_proba": 0.0149820754304528,
                  "base_label": 0,
                  "_deepnote_index_column": 245
                },
                {
                  "id": 68192,
                  "img": "img/68192.png",
                  "truth": 1,
                  "text": "scientist are working hard to cure them all",
                  "vilio_proba": 0.15548433710082848,
                  "vilio_label": 0,
                  "vb_proba": 0.0003685469564516,
                  "vb_label": 0,
                  "base_proba": 0.0003468884679023,
                  "base_label": 0,
                  "_deepnote_index_column": 249
                },
                {
                  "id": 68459,
                  "img": "img/68459.png",
                  "truth": 1,
                  "text": "family trip in mexico",
                  "vilio_proba": 0.33158459012053604,
                  "vilio_label": 0,
                  "vb_proba": 0.0003258828946854,
                  "vb_label": 0,
                  "base_proba": 0.0007771918899379,
                  "base_label": 0,
                  "_deepnote_index_column": 252
                },
                {
                  "id": 72864,
                  "img": "img/72864.png",
                  "truth": 1,
                  "text": "traveling through chimney",
                  "vilio_proba": 0.23556773451694626,
                  "vilio_label": 0,
                  "vb_proba": 0.0009314034832641,
                  "vb_label": 0,
                  "base_proba": 0.0752841234207153,
                  "base_label": 0,
                  "_deepnote_index_column": 260
                },
                {
                  "id": 72904,
                  "img": "img/72904.png",
                  "truth": 1,
                  "text": "terrorist trojan horse enemy of the state",
                  "vilio_proba": 0.3422245348476357,
                  "vilio_label": 0,
                  "vb_proba": 0.0008376580663025,
                  "vb_label": 0,
                  "base_proba": 0.0004286624025553,
                  "base_label": 0,
                  "_deepnote_index_column": 261
                },
                {
                  "id": 75286,
                  "img": "img/75286.png",
                  "truth": 1,
                  "text": "look at this sandwich maker club i found on wish on clearance",
                  "vilio_proba": 0.49546708732963757,
                  "vilio_label": 0,
                  "vb_proba": 0.0058169774711132,
                  "vb_label": 0,
                  "base_proba": 0.0008305461960844,
                  "base_label": 0,
                  "_deepnote_index_column": 277
                },
                {
                  "id": 76921,
                  "img": "img/76921.png",
                  "truth": 1,
                  "text": "she probably asked a wrong question",
                  "vilio_proba": 0.25446449649290503,
                  "vilio_label": 0,
                  "vb_proba": 0.0002223209448857,
                  "vb_label": 0,
                  "base_proba": 0.0010210196487605,
                  "base_label": 0,
                  "_deepnote_index_column": 283
                },
                {
                  "id": 82301,
                  "img": "img/82301.png",
                  "truth": 1,
                  "text": "cooooooooooooon!!!!",
                  "vilio_proba": 0.44428994749961964,
                  "vilio_label": 0,
                  "vb_proba": 0.0002239512541564,
                  "vb_label": 0,
                  "base_proba": 0.0014634770341217,
                  "base_label": 0,
                  "_deepnote_index_column": 295
                },
                {
                  "id": 83745,
                  "img": "img/83745.png",
                  "truth": 1,
                  "text": "it is time.. to send these parasites back to the desert",
                  "vilio_proba": 0.21514191950127756,
                  "vilio_label": 0,
                  "vb_proba": 0.0006754049682058,
                  "vb_label": 0,
                  "base_proba": 0.0093965977430343,
                  "base_label": 0,
                  "_deepnote_index_column": 303
                },
                {
                  "id": 85761,
                  "img": "img/85761.png",
                  "truth": 1,
                  "text": "no wonder why the pipes are not working",
                  "vilio_proba": 0.134933640755102,
                  "vilio_label": 0,
                  "vb_proba": 0.0002760252391453,
                  "vb_label": 0,
                  "base_proba": 0.0004295940743759,
                  "base_label": 0,
                  "_deepnote_index_column": 316
                },
                {
                  "id": 86417,
                  "img": "img/86417.png",
                  "truth": 1,
                  "text": "i could have killed all of them. but i let some of them survive so you know why i killed them",
                  "vilio_proba": 0.13966044799281568,
                  "vilio_label": 0,
                  "vb_proba": 0.001413075486198,
                  "vb_label": 0,
                  "base_proba": 0.0527688227593898,
                  "base_label": 0,
                  "_deepnote_index_column": 320
                },
                {
                  "id": 87169,
                  "img": "img/87169.png",
                  "truth": 1,
                  "text": "albanians talking photo with a porn star",
                  "vilio_proba": 0.2751230174222749,
                  "vilio_label": 0,
                  "vb_proba": 0.0008306832169182,
                  "vb_label": 0,
                  "base_proba": 0.0010644870344549,
                  "base_label": 0,
                  "_deepnote_index_column": 322
                },
                {
                  "id": 87520,
                  "img": "img/87520.png",
                  "truth": 1,
                  "text": "yes, we know trump said \"mexico will pay for the wall\" but now mexicans are the wall. that boy good!!!!",
                  "vilio_proba": 0.11857072701032659,
                  "vilio_label": 0,
                  "vb_proba": 0.000770425365772,
                  "vb_label": 0,
                  "base_proba": 0.0029111981857568,
                  "base_label": 0,
                  "_deepnote_index_column": 324
                },
                {
                  "id": 89071,
                  "img": "img/89071.png",
                  "truth": 1,
                  "text": "they don't wash their ass with water and they eat their daughters' ass",
                  "vilio_proba": 0.4943500596312898,
                  "vilio_label": 0,
                  "vb_proba": 0.0007383859483525,
                  "vb_label": 0,
                  "base_proba": 0.2307606488466262,
                  "base_label": 0,
                  "_deepnote_index_column": 325
                },
                {
                  "id": 89642,
                  "img": "img/89642.png",
                  "truth": 1,
                  "text": "i treat them like java treats its generic parameters at run time as objects",
                  "vilio_proba": 0.10391379257950663,
                  "vilio_label": 0,
                  "vb_proba": 0.0009434808162041,
                  "vb_label": 0,
                  "base_proba": 0.0822950974106788,
                  "base_label": 0,
                  "_deepnote_index_column": 327
                },
                {
                  "id": 90243,
                  "img": "img/90243.png",
                  "truth": 1,
                  "text": "best gamer ever 6 million kills, 1 death",
                  "vilio_proba": 0.31330225062761563,
                  "vilio_label": 0,
                  "vb_proba": 0.0022569056600332,
                  "vb_label": 0,
                  "base_proba": 0.4559054672718048,
                  "base_label": 0,
                  "_deepnote_index_column": 328
                },
                {
                  "id": 91586,
                  "img": "img/91586.png",
                  "truth": 1,
                  "text": "left the kitchen too many times",
                  "vilio_proba": 0.302562369862455,
                  "vilio_label": 0,
                  "vb_proba": 0.0002705000515561,
                  "vb_label": 0,
                  "base_proba": 0.0001518144272267,
                  "base_label": 0,
                  "_deepnote_index_column": 332
                },
                {
                  "id": 91756,
                  "img": "img/91756.png",
                  "truth": 1,
                  "text": "abnormal vs normal",
                  "vilio_proba": 0.2914941462681216,
                  "vilio_label": 0,
                  "vb_proba": 0.0022907678503543,
                  "vb_label": 0,
                  "base_proba": 0.0022523270454257,
                  "base_label": 0,
                  "_deepnote_index_column": 334
                },
                {
                  "id": 93148,
                  "img": "img/93148.png",
                  "truth": 0,
                  "text": "the proper way to pop a blackhead",
                  "vilio_proba": 0.9186464204380766,
                  "vilio_label": 1,
                  "vb_proba": 0.993337869644165,
                  "vb_label": 1,
                  "base_proba": 0.7273094654083252,
                  "base_label": 1,
                  "_deepnote_index_column": 344
                },
                {
                  "id": 94560,
                  "img": "img/94560.png",
                  "truth": 1,
                  "text": "and for my next class project!",
                  "vilio_proba": 0.12190554943873637,
                  "vilio_label": 0,
                  "vb_proba": 0.0022510546259582,
                  "vb_label": 0,
                  "base_proba": 0.000986595172435,
                  "base_label": 0,
                  "_deepnote_index_column": 350
                },
                {
                  "id": 95830,
                  "img": "img/95830.png",
                  "truth": 1,
                  "text": "face of terrorism in us",
                  "vilio_proba": 0.09283626871863684,
                  "vilio_label": 0,
                  "vb_proba": 0.0002807511773426,
                  "vb_label": 0,
                  "base_proba": 0.0874660387635231,
                  "base_label": 0,
                  "_deepnote_index_column": 358
                },
                {
                  "id": 98701,
                  "img": "img/98701.png",
                  "truth": 1,
                  "text": "oh no i can't steal anymore",
                  "vilio_proba": 0.09302833033686302,
                  "vilio_label": 0,
                  "vb_proba": 0.0002573161036707,
                  "vb_label": 0,
                  "base_proba": 0.0008203330216929,
                  "base_label": 0,
                  "_deepnote_index_column": 370
                }
              ],
              "rows_bottom": null
            },
            "text/plain": "        id            img  truth  \\\n3     1796  img/01796.png      1   \n4     1925  img/01925.png      1   \n11    2568  img/02568.png      1   \n30    6123  img/06123.png      1   \n31    6273  img/06273.png      1   \n..     ...            ...    ...   \n334  91756  img/91756.png      1   \n344  93148  img/93148.png      0   \n350  94560  img/94560.png      1   \n358  95830  img/95830.png      1   \n370  98701  img/98701.png      1   \n\n                                                  text  vilio_proba  \\\n3         life hack #23 how to get stoned with no weed     0.160565   \n4        i am not racist i just don't like brown sugar     0.183132   \n11   whatsthe difference between heroin and i? cops...     0.267646   \n30                                      a group of men     0.169105   \n31                                     the jihad squad     0.222964   \n..                                                 ...          ...   \n334                                 abnormal vs normal     0.291494   \n344                  the proper way to pop a blackhead     0.918646   \n350                     and for my next class project!     0.121906   \n358                            face of terrorism in us     0.092836   \n370                        oh no i can't steal anymore     0.093028   \n\n     vilio_label  vb_proba  vb_label  base_proba  base_label  \n3              0  0.067211         0    0.269773           0  \n4              0  0.002556         0    0.000957           0  \n11             0  0.001022         0    0.012639           0  \n30             0  0.000231         0    0.020122           0  \n31             0  0.010732         0    0.003151           0  \n..           ...       ...       ...         ...         ...  \n334            0  0.002291         0    0.002252           0  \n344            1  0.993338         1    0.727309           1  \n350            0  0.002251         0    0.000987           0  \n358            0  0.000281         0    0.087466           0  \n370            0  0.000257         0    0.000820           0  \n\n[65 rows x 10 columns]",
            "text/html": "<div>\n<style scoped>\n    .dataframe tbody tr th:only-of-type {\n        vertical-align: middle;\n    }\n\n    .dataframe tbody tr th {\n        vertical-align: top;\n    }\n\n    .dataframe thead th {\n        text-align: right;\n    }\n</style>\n<table border=\"1\" class=\"dataframe\">\n  <thead>\n    <tr style=\"text-align: right;\">\n      <th></th>\n      <th>id</th>\n      <th>img</th>\n      <th>truth</th>\n      <th>text</th>\n      <th>vilio_proba</th>\n      <th>vilio_label</th>\n      <th>vb_proba</th>\n      <th>vb_label</th>\n      <th>base_proba</th>\n      <th>base_label</th>\n    </tr>\n  </thead>\n  <tbody>\n    <tr>\n      <th>3</th>\n      <td>1796</td>\n      <td>img/01796.png</td>\n      <td>1</td>\n      <td>life hack #23 how to get stoned with no weed</td>\n      <td>0.160565</td>\n      <td>0</td>\n      <td>0.067211</td>\n      <td>0</td>\n      <td>0.269773</td>\n      <td>0</td>\n    </tr>\n    <tr>\n      <th>4</th>\n      <td>1925</td>\n      <td>img/01925.png</td>\n      <td>1</td>\n      <td>i am not racist i just don't like brown sugar</td>\n      <td>0.183132</td>\n      <td>0</td>\n      <td>0.002556</td>\n      <td>0</td>\n      <td>0.000957</td>\n      <td>0</td>\n    </tr>\n    <tr>\n      <th>11</th>\n      <td>2568</td>\n      <td>img/02568.png</td>\n      <td>1</td>\n      <td>whatsthe difference between heroin and i? cops...</td>\n      <td>0.267646</td>\n      <td>0</td>\n      <td>0.001022</td>\n      <td>0</td>\n      <td>0.012639</td>\n      <td>0</td>\n    </tr>\n    <tr>\n      <th>30</th>\n      <td>6123</td>\n      <td>img/06123.png</td>\n      <td>1</td>\n      <td>a group of men</td>\n      <td>0.169105</td>\n      <td>0</td>\n      <td>0.000231</td>\n      <td>0</td>\n      <td>0.020122</td>\n      <td>0</td>\n    </tr>\n    <tr>\n      <th>31</th>\n      <td>6273</td>\n      <td>img/06273.png</td>\n      <td>1</td>\n      <td>the jihad squad</td>\n      <td>0.222964</td>\n      <td>0</td>\n      <td>0.010732</td>\n      <td>0</td>\n      <td>0.003151</td>\n      <td>0</td>\n    </tr>\n    <tr>\n      <th>...</th>\n      <td>...</td>\n      <td>...</td>\n      <td>...</td>\n      <td>...</td>\n      <td>...</td>\n      <td>...</td>\n      <td>...</td>\n      <td>...</td>\n      <td>...</td>\n      <td>...</td>\n    </tr>\n    <tr>\n      <th>334</th>\n      <td>91756</td>\n      <td>img/91756.png</td>\n      <td>1</td>\n      <td>abnormal vs normal</td>\n      <td>0.291494</td>\n      <td>0</td>\n      <td>0.002291</td>\n      <td>0</td>\n      <td>0.002252</td>\n      <td>0</td>\n    </tr>\n    <tr>\n      <th>344</th>\n      <td>93148</td>\n      <td>img/93148.png</td>\n      <td>0</td>\n      <td>the proper way to pop a blackhead</td>\n      <td>0.918646</td>\n      <td>1</td>\n      <td>0.993338</td>\n      <td>1</td>\n      <td>0.727309</td>\n      <td>1</td>\n    </tr>\n    <tr>\n      <th>350</th>\n      <td>94560</td>\n      <td>img/94560.png</td>\n      <td>1</td>\n      <td>and for my next class project!</td>\n      <td>0.121906</td>\n      <td>0</td>\n      <td>0.002251</td>\n      <td>0</td>\n      <td>0.000987</td>\n      <td>0</td>\n    </tr>\n    <tr>\n      <th>358</th>\n      <td>95830</td>\n      <td>img/95830.png</td>\n      <td>1</td>\n      <td>face of terrorism in us</td>\n      <td>0.092836</td>\n      <td>0</td>\n      <td>0.000281</td>\n      <td>0</td>\n      <td>0.087466</td>\n      <td>0</td>\n    </tr>\n    <tr>\n      <th>370</th>\n      <td>98701</td>\n      <td>img/98701.png</td>\n      <td>1</td>\n      <td>oh no i can't steal anymore</td>\n      <td>0.093028</td>\n      <td>0</td>\n      <td>0.000257</td>\n      <td>0</td>\n      <td>0.000820</td>\n      <td>0</td>\n    </tr>\n  </tbody>\n</table>\n<p>65 rows × 10 columns</p>\n</div>"
          },
          "metadata": {}
        }
      ],
      "execution_count": null
    },
    {
      "cell_type": "code",
      "source": "devseen[devseen['label'] == 0]",
      "metadata": {
        "tags": [],
        "cell_id": "00011-56050bdb-678a-4cfa-a9df-d0ed03dea0bf",
        "deepnote_to_be_reexecuted": false,
        "source_hash": "992b6198",
        "execution_millis": 44,
        "execution_start": 1618670619815,
        "deepnote_cell_type": "code"
      },
      "outputs": [
        {
          "output_type": "execute_result",
          "execution_count": 456,
          "data": {
            "application/vnd.deepnote.dataframe.v2+json": {
              "row_count": 253,
              "column_count": 4,
              "columns": [
                {
                  "name": "id",
                  "dtype": "int64",
                  "stats": {
                    "unique_count": 253,
                    "nan_count": 0,
                    "min": "1268",
                    "max": "98720",
                    "histogram": [
                      {
                        "bin_start": 1268,
                        "bin_end": 11013.2,
                        "count": 23
                      },
                      {
                        "bin_start": 11013.2,
                        "bin_end": 20758.4,
                        "count": 25
                      },
                      {
                        "bin_start": 20758.4,
                        "bin_end": 30503.600000000002,
                        "count": 16
                      },
                      {
                        "bin_start": 30503.600000000002,
                        "bin_end": 40248.8,
                        "count": 28
                      },
                      {
                        "bin_start": 40248.8,
                        "bin_end": 49994,
                        "count": 29
                      },
                      {
                        "bin_start": 49994,
                        "bin_end": 59739.200000000004,
                        "count": 32
                      },
                      {
                        "bin_start": 59739.200000000004,
                        "bin_end": 69484.40000000001,
                        "count": 22
                      },
                      {
                        "bin_start": 69484.40000000001,
                        "bin_end": 79229.6,
                        "count": 23
                      },
                      {
                        "bin_start": 79229.6,
                        "bin_end": 88974.8,
                        "count": 20
                      },
                      {
                        "bin_start": 88974.8,
                        "bin_end": 98720,
                        "count": 35
                      }
                    ]
                  }
                },
                {
                  "name": "img",
                  "dtype": "object",
                  "stats": {
                    "unique_count": 253,
                    "nan_count": 0,
                    "categories": [
                      {
                        "name": "img/01268.png",
                        "count": 1
                      },
                      {
                        "name": "img/01742.png",
                        "count": 1
                      },
                      {
                        "name": "251 others",
                        "count": 251
                      }
                    ]
                  }
                },
                {
                  "name": "label",
                  "dtype": "int64",
                  "stats": {
                    "unique_count": 1,
                    "nan_count": 0,
                    "min": "0",
                    "max": "0",
                    "histogram": [
                      {
                        "bin_start": -0.5,
                        "bin_end": -0.4,
                        "count": 0
                      },
                      {
                        "bin_start": -0.4,
                        "bin_end": -0.3,
                        "count": 0
                      },
                      {
                        "bin_start": -0.3,
                        "bin_end": -0.19999999999999996,
                        "count": 0
                      },
                      {
                        "bin_start": -0.19999999999999996,
                        "bin_end": -0.09999999999999998,
                        "count": 0
                      },
                      {
                        "bin_start": -0.09999999999999998,
                        "bin_end": 0,
                        "count": 0
                      },
                      {
                        "bin_start": 0,
                        "bin_end": 0.10000000000000009,
                        "count": 253
                      },
                      {
                        "bin_start": 0.10000000000000009,
                        "bin_end": 0.20000000000000007,
                        "count": 0
                      },
                      {
                        "bin_start": 0.20000000000000007,
                        "bin_end": 0.30000000000000004,
                        "count": 0
                      },
                      {
                        "bin_start": 0.30000000000000004,
                        "bin_end": 0.4,
                        "count": 0
                      },
                      {
                        "bin_start": 0.4,
                        "bin_end": 0.5,
                        "count": 0
                      }
                    ]
                  }
                },
                {
                  "name": "text",
                  "dtype": "object",
                  "stats": {
                    "unique_count": 251,
                    "nan_count": 0,
                    "categories": [
                      {
                        "name": "old people at weddings always poke me and say \"you're next.\" so, i started doing the same thing to them at funerals",
                        "count": 2
                      },
                      {
                        "name": "upper downer",
                        "count": 2
                      },
                      {
                        "name": "249 others",
                        "count": 249
                      }
                    ]
                  }
                },
                {
                  "name": "_deepnote_index_column",
                  "dtype": "int64"
                }
              ],
              "rows_top": [
                {
                  "id": 1268,
                  "img": "img/01268.png",
                  "label": 0,
                  "text": "father and daughter bonding time is the best like and share if you agree",
                  "_deepnote_index_column": 494
                },
                {
                  "id": 1742,
                  "img": "img/01742.png",
                  "label": 0,
                  "text": "in just one hour from now i'll only have 4 hours left until i have to work a mere 3 hours",
                  "_deepnote_index_column": 220
                },
                {
                  "id": 1967,
                  "img": "img/01967.png",
                  "label": 0,
                  "text": "when you decide to stop racism by burning its symbol",
                  "_deepnote_index_column": 206
                },
                {
                  "id": 2145,
                  "img": "img/02145.png",
                  "label": 0,
                  "text": "and then i asked mom, what's for dinner?",
                  "_deepnote_index_column": 290
                },
                {
                  "id": 2364,
                  "img": "img/02364.png",
                  "label": 0,
                  "text": "a jewish shop owner, wears a kippah or yarmulke whilst in his shop in tehran",
                  "_deepnote_index_column": 365
                },
                {
                  "id": 2518,
                  "img": "img/02518.png",
                  "label": 0,
                  "text": "when the dog bites you and you bite back to assert dominance",
                  "_deepnote_index_column": 410
                },
                {
                  "id": 3214,
                  "img": "img/03214.png",
                  "label": 0,
                  "text": "bartender: how about a nice 12 yr old? him: boy or girl?",
                  "_deepnote_index_column": 110
                },
                {
                  "id": 3217,
                  "img": "img/03217.png",
                  "label": 0,
                  "text": "they are like sperm you get millions, but only one works",
                  "_deepnote_index_column": 427
                },
                {
                  "id": 3568,
                  "img": "img/03568.png",
                  "label": 0,
                  "text": "time to play rich vs the constitution",
                  "_deepnote_index_column": 424
                },
                {
                  "id": 3798,
                  "img": "img/03798.png",
                  "label": 0,
                  "text": "hey, i just met you and this is crazy but here's your number... so camping, maybe?",
                  "_deepnote_index_column": 430
                },
                {
                  "id": 4538,
                  "img": "img/04538.png",
                  "label": 0,
                  "text": "bows here, bows there, bows everywhere",
                  "_deepnote_index_column": 87
                },
                {
                  "id": 4569,
                  "img": "img/04569.png",
                  "label": 0,
                  "text": "when is the time to eat i am hungry",
                  "_deepnote_index_column": 63
                },
                {
                  "id": 4621,
                  "img": "img/04621.png",
                  "label": 0,
                  "text": "you are what you eat meanwhile in africa",
                  "_deepnote_index_column": 411
                },
                {
                  "id": 5213,
                  "img": "img/05213.png",
                  "label": 0,
                  "text": "the families of the hillsborough tragedy were denied legal aid.... but shamima begum gets it to fight for her uk citizenship our system is a sick joke! - martin costello",
                  "_deepnote_index_column": 125
                },
                {
                  "id": 5316,
                  "img": "img/05316.png",
                  "label": 0,
                  "text": "doing o's with the smoke",
                  "_deepnote_index_column": 469
                },
                {
                  "id": 5349,
                  "img": "img/05349.png",
                  "label": 0,
                  "text": "normal day in a islamic country",
                  "_deepnote_index_column": 52
                },
                {
                  "id": 5439,
                  "img": "img/05439.png",
                  "label": 0,
                  "text": "portable dishwasher slash sandwich maker",
                  "_deepnote_index_column": 488
                },
                {
                  "id": 6352,
                  "img": "img/06352.png",
                  "label": 0,
                  "text": "and then i asked mom, can we go play?",
                  "_deepnote_index_column": 385
                },
                {
                  "id": 7351,
                  "img": "img/07351.png",
                  "label": 0,
                  "text": "\"plays uno steals all the green cards\"",
                  "_deepnote_index_column": 312
                },
                {
                  "id": 8451,
                  "img": "img/08451.png",
                  "label": 0,
                  "text": "when you ask a jewish girl for her number and she starts rolling her sleeve",
                  "_deepnote_index_column": 362
                },
                {
                  "id": 8795,
                  "img": "img/08795.png",
                  "label": 0,
                  "text": "when you are white and working in oil field",
                  "_deepnote_index_column": 265
                },
                {
                  "id": 9152,
                  "img": "img/09152.png",
                  "label": 0,
                  "text": "i don't have ex's. i have y's. like, \"y the hell did i date you?!?\"",
                  "_deepnote_index_column": 247
                },
                {
                  "id": 9863,
                  "img": "img/09863.png",
                  "label": 0,
                  "text": "diverse group of women",
                  "_deepnote_index_column": 498
                },
                {
                  "id": 12045,
                  "img": "img/12045.png",
                  "label": 0,
                  "text": "learn to hunt. it's a valuable skill",
                  "_deepnote_index_column": 321
                },
                {
                  "id": 12067,
                  "img": "img/12067.png",
                  "label": 0,
                  "text": "pre-heat to 350 degrees",
                  "_deepnote_index_column": 317
                },
                {
                  "id": 12468,
                  "img": "img/12468.png",
                  "label": 0,
                  "text": "say it! say it ! islam is the religion of peace",
                  "_deepnote_index_column": 431
                },
                {
                  "id": 13750,
                  "img": "img/13750.png",
                  "label": 0,
                  "text": "wouldn't be the last time those people used the oven this way",
                  "_deepnote_index_column": 326
                },
                {
                  "id": 14865,
                  "img": "img/14865.png",
                  "label": 0,
                  "text": "terrible as hitler was, he did enjoy watching sports",
                  "_deepnote_index_column": 302
                },
                {
                  "id": 14975,
                  "img": "img/14975.png",
                  "label": 0,
                  "text": "hitting is a crime. it's about time people understood that",
                  "_deepnote_index_column": 348
                },
                {
                  "id": 15243,
                  "img": "img/15243.png",
                  "label": 0,
                  "text": "4 am. everyone is asleep perfect time to run from one end of the house to the other at full speed as loudly as possible",
                  "_deepnote_index_column": 165
                },
                {
                  "id": 16420,
                  "img": "img/16420.png",
                  "label": 0,
                  "text": "abnormal vs normal",
                  "_deepnote_index_column": 133
                },
                {
                  "id": 16704,
                  "img": "img/16704.png",
                  "label": 0,
                  "text": "last summer camp was so \"lit\"",
                  "_deepnote_index_column": 491
                },
                {
                  "id": 16749,
                  "img": "img/16749.png",
                  "label": 0,
                  "text": "broken dishwasher",
                  "_deepnote_index_column": 452
                },
                {
                  "id": 16842,
                  "img": "img/16842.png",
                  "label": 0,
                  "text": "every kitchen needs a sandwich maker just like this one",
                  "_deepnote_index_column": 432
                },
                {
                  "id": 16850,
                  "img": "img/16850.png",
                  "label": 0,
                  "text": "okay okay okay here's my serious face do i look fuhrerious yet?",
                  "_deepnote_index_column": 313
                },
                {
                  "id": 17045,
                  "img": "img/17045.png",
                  "label": 0,
                  "text": "celebrating the presidential election",
                  "_deepnote_index_column": 393
                },
                {
                  "id": 17265,
                  "img": "img/17265.png",
                  "label": 0,
                  "text": "meanwhile in baltimore",
                  "_deepnote_index_column": 57
                },
                {
                  "id": 17908,
                  "img": "img/17908.png",
                  "label": 0,
                  "text": "making a quick 3pm snack",
                  "_deepnote_index_column": 341
                },
                {
                  "id": 17950,
                  "img": "img/17950.png",
                  "label": 0,
                  "text": "i was excoriated for a harmless \"tweet\" and \"my show\" was cancelled",
                  "_deepnote_index_column": 160
                },
                {
                  "id": 18356,
                  "img": "img/18356.png",
                  "label": 0,
                  "text": "i took a shower this morning",
                  "_deepnote_index_column": 239
                },
                {
                  "id": 18367,
                  "img": "img/18367.png",
                  "label": 0,
                  "text": "i love my slow cooker",
                  "_deepnote_index_column": 414
                },
                {
                  "id": 18726,
                  "img": "img/18726.png",
                  "label": 0,
                  "text": "when your bed is short and your feed stick out",
                  "_deepnote_index_column": 383
                },
                {
                  "id": 18742,
                  "img": "img/18742.png",
                  "label": 0,
                  "text": "i'm proud of it! come at me!",
                  "_deepnote_index_column": 473
                },
                {
                  "id": 19075,
                  "img": "img/19075.png",
                  "label": 0,
                  "text": "when you smell cake",
                  "_deepnote_index_column": 354
                },
                {
                  "id": 19243,
                  "img": "img/19243.png",
                  "label": 0,
                  "text": "surprise!! wait, where is everyone?",
                  "_deepnote_index_column": 474
                },
                {
                  "id": 19385,
                  "img": "img/19385.png",
                  "label": 0,
                  "text": "rose's are red violet's are blue little stupid ass bitch i ain't fuckin witchu",
                  "_deepnote_index_column": 181
                },
                {
                  "id": 19523,
                  "img": "img/19523.png",
                  "label": 0,
                  "text": "they see them rollin.... they hating..",
                  "_deepnote_index_column": 118
                },
                {
                  "id": 20437,
                  "img": "img/20437.png",
                  "label": 0,
                  "text": "thanksgiving in china",
                  "_deepnote_index_column": 487
                },
                {
                  "id": 20984,
                  "img": "img/20984.png",
                  "label": 0,
                  "text": "when you are white and stole your first bike",
                  "_deepnote_index_column": 236
                },
                {
                  "id": 21075,
                  "img": "img/21075.png",
                  "label": 0,
                  "text": "size of a shuttle bus legroom of a pinto",
                  "_deepnote_index_column": 213
                },
                {
                  "id": 21643,
                  "img": "img/21643.png",
                  "label": 0,
                  "text": "haha pig man is peeing standing up",
                  "_deepnote_index_column": 117
                },
                {
                  "id": 23785,
                  "img": "img/23785.png",
                  "label": 0,
                  "text": "hansel and gretel was a scary childrens story",
                  "_deepnote_index_column": 333
                },
                {
                  "id": 24135,
                  "img": "img/24135.png",
                  "label": 0,
                  "text": "good night keep your butthole tight",
                  "_deepnote_index_column": 98
                },
                {
                  "id": 26397,
                  "img": "img/26397.png",
                  "label": 0,
                  "text": "there are still parts of the world where people celebrate capital punishment",
                  "_deepnote_index_column": 426
                },
                {
                  "id": 26439,
                  "img": "img/26439.png",
                  "label": 0,
                  "text": "parental opioid use has negative effect on children's intelligence",
                  "_deepnote_index_column": 279
                },
                {
                  "id": 27195,
                  "img": "img/27195.png",
                  "label": 0,
                  "text": "there's a reason we keep the beer in the bottom of the cooler",
                  "_deepnote_index_column": 123
                },
                {
                  "id": 27384,
                  "img": "img/27384.png",
                  "label": 0,
                  "text": "that face you make when you're a bully and just got beat up by a girl",
                  "_deepnote_index_column": 244
                },
                {
                  "id": 27614,
                  "img": "img/27614.png",
                  "label": 0,
                  "text": "maybe if you think before you act you'd be treated better",
                  "_deepnote_index_column": 145
                },
                {
                  "id": 28406,
                  "img": "img/28406.png",
                  "label": 0,
                  "text": "when she gives you that look",
                  "_deepnote_index_column": 281
                },
                {
                  "id": 28690,
                  "img": "img/28690.png",
                  "label": 0,
                  "text": "if you're gonna talk shit about someone... you better make sure they aren't crazier than you are",
                  "_deepnote_index_column": 74
                },
                {
                  "id": 28951,
                  "img": "img/28951.png",
                  "label": 0,
                  "text": "if the brim of your hat is flat and has a sticker on it i automatically assume you're a complete tool",
                  "_deepnote_index_column": 144
                },
                {
                  "id": 29174,
                  "img": "img/29174.png",
                  "label": 0,
                  "text": "the crimes against humanity should not be swiftly forgotten",
                  "_deepnote_index_column": 460
                },
                {
                  "id": 29843,
                  "img": "img/29843.png",
                  "label": 0,
                  "text": "the world's most wanted terrorist obama bin lying",
                  "_deepnote_index_column": 180
                },
                {
                  "id": 30145,
                  "img": "img/30145.png",
                  "label": 0,
                  "text": "before my presidency, there was no isis. there was no caliphate there was no blm. there was no antifa. there was no war on police i built that",
                  "_deepnote_index_column": 187
                },
                {
                  "id": 30579,
                  "img": "img/30579.png",
                  "label": 0,
                  "text": "white power!",
                  "_deepnote_index_column": 102
                },
                {
                  "id": 30586,
                  "img": "img/30586.png",
                  "label": 0,
                  "text": "just can't get rid of the stain. this is why i hate beets",
                  "_deepnote_index_column": 420
                },
                {
                  "id": 30642,
                  "img": "img/30642.png",
                  "label": 0,
                  "text": "rabbi sitting in synagogue chillin and doing his thing",
                  "_deepnote_index_column": 352
                },
                {
                  "id": 30927,
                  "img": "img/30927.png",
                  "label": 0,
                  "text": "doesnt let anything stop her have a great day",
                  "_deepnote_index_column": 400
                },
                {
                  "id": 32049,
                  "img": "img/32049.png",
                  "label": 0,
                  "text": "german british danish austrian diversity. apparently we don't have it and these guys do: iraqi, pakistani, syrian, egyptian",
                  "_deepnote_index_column": 401
                },
                {
                  "id": 32415,
                  "img": "img/32415.png",
                  "label": 0,
                  "text": "when finishing a race is your passion",
                  "_deepnote_index_column": 468
                },
                {
                  "id": 32579,
                  "img": "img/32579.png",
                  "label": 0,
                  "text": "come to the dark side we have weed",
                  "_deepnote_index_column": 215
                },
                {
                  "id": 32875,
                  "img": "img/32875.png",
                  "label": 0,
                  "text": "if he wears number one he's most likely the fastes on the team",
                  "_deepnote_index_column": 99
                },
                {
                  "id": 32981,
                  "img": "img/32981.png",
                  "label": 0,
                  "text": "the latest and greatest. a truck that comes with a dishwasher!",
                  "_deepnote_index_column": 292
                },
                {
                  "id": 34189,
                  "img": "img/34189.png",
                  "label": 0,
                  "text": "fight for what you believe in fight for the future",
                  "_deepnote_index_column": 286
                },
                {
                  "id": 34209,
                  "img": "img/34209.png",
                  "label": 0,
                  "text": "how about a nice 12 yr old? bartender: him: boy i would love that",
                  "_deepnote_index_column": 173
                },
                {
                  "id": 34975,
                  "img": "img/34975.png",
                  "label": 0,
                  "text": "what if the only reason mary got pregnant... is because god is gay and needed a surrogate",
                  "_deepnote_index_column": 131
                },
                {
                  "id": 35470,
                  "img": "img/35470.png",
                  "label": 0,
                  "text": "can you smell what the reigh is cooking",
                  "_deepnote_index_column": 199
                },
                {
                  "id": 35487,
                  "img": "img/35487.png",
                  "label": 0,
                  "text": "randomly deciding to bake something",
                  "_deepnote_index_column": 443
                },
                {
                  "id": 35497,
                  "img": "img/35497.png",
                  "label": 0,
                  "text": "old people at weddings always poke me and say \"you're next.\" so, i started doing the same thing to them at funerals",
                  "_deepnote_index_column": 193
                },
                {
                  "id": 35719,
                  "img": "img/35719.png",
                  "label": 0,
                  "text": "jamal is practicing for class sport",
                  "_deepnote_index_column": 234
                },
                {
                  "id": 36058,
                  "img": "img/36058.png",
                  "label": 0,
                  "text": "love is love",
                  "_deepnote_index_column": 379
                },
                {
                  "id": 36201,
                  "img": "img/36201.png",
                  "label": 0,
                  "text": "look at me bling up my prosthetic",
                  "_deepnote_index_column": 483
                },
                {
                  "id": 37160,
                  "img": "img/37160.png",
                  "label": 0,
                  "text": "best gamer ever 6 million kills, 1 death\"",
                  "_deepnote_index_column": 472
                },
                {
                  "id": 37198,
                  "img": "img/37198.png",
                  "label": 0,
                  "text": "when you're so relaxed you can feel yourself go to the next level",
                  "_deepnote_index_column": 496
                },
                {
                  "id": 37420,
                  "img": "img/37420.png",
                  "label": 0,
                  "text": "like lebanon terrorism can destroy a beautiful country",
                  "_deepnote_index_column": 106
                },
                {
                  "id": 37692,
                  "img": "img/37692.png",
                  "label": 0,
                  "text": "\"islam is a religion of peace stop criticizing my religion\"",
                  "_deepnote_index_column": 482
                },
                {
                  "id": 37814,
                  "img": "img/37814.png",
                  "label": 0,
                  "text": "this is el paso shooter's father every. single. time",
                  "_deepnote_index_column": 453
                },
                {
                  "id": 38047,
                  "img": "img/38047.png",
                  "label": 0,
                  "text": "\"stupid bitch\" is not a race",
                  "_deepnote_index_column": 141
                },
                {
                  "id": 38095,
                  "img": "img/38095.png",
                  "label": 0,
                  "text": "haters will say it's photoshop",
                  "_deepnote_index_column": 300
                },
                {
                  "id": 38914,
                  "img": "img/38914.png",
                  "label": 0,
                  "text": "cotton candy is what makes the theme park wonderful",
                  "_deepnote_index_column": 440
                },
                {
                  "id": 39018,
                  "img": "img/39018.png",
                  "label": 0,
                  "text": "she said \"i want a ring\" i said \"bitch take your phone off silent!\"",
                  "_deepnote_index_column": 177
                },
                {
                  "id": 39076,
                  "img": "img/39076.png",
                  "label": 0,
                  "text": "playing with the monkeys in thailand",
                  "_deepnote_index_column": 298
                },
                {
                  "id": 40618,
                  "img": "img/40618.png",
                  "label": 0,
                  "text": "when your company valuation hits 1 billion",
                  "_deepnote_index_column": 428
                },
                {
                  "id": 41035,
                  "img": "img/41035.png",
                  "label": 0,
                  "text": "my new muslim girlfriend not much to look at",
                  "_deepnote_index_column": 336
                },
                {
                  "id": 41058,
                  "img": "img/41058.png",
                  "label": 0,
                  "text": "john wilkes booth be like: yall sure abraham lincoln dead? he aint up here",
                  "_deepnote_index_column": 166
                },
                {
                  "id": 41296,
                  "img": "img/41296.png",
                  "label": 0,
                  "text": "94% of them test positive for rh blood type which means they have monkey blood as a result they are born with a tail and other animal traits",
                  "_deepnote_index_column": 480
                },
                {
                  "id": 41382,
                  "img": "img/41382.png",
                  "label": 0,
                  "text": "they want to be accepted for who they are, yet theren't able to accept themselves for who they are",
                  "_deepnote_index_column": 370
                },
                {
                  "id": 41728,
                  "img": "img/41728.png",
                  "label": 0,
                  "text": "i believe they are like racism. just shouldn't exist",
                  "_deepnote_index_column": 389
                },
                {
                  "id": 41796,
                  "img": "img/41796.png",
                  "label": 0,
                  "text": "nein danke i'm very happy with my gas supplier",
                  "_deepnote_index_column": 330
                },
                {
                  "id": 42058,
                  "img": "img/42058.png",
                  "label": 0,
                  "text": "for lunch vlad the impaler loved turkey",
                  "_deepnote_index_column": 205
                },
                {
                  "id": 42538,
                  "img": "img/42538.png",
                  "label": 0,
                  "text": "and at that moment everything else in the world just melted away",
                  "_deepnote_index_column": 366
                },
                {
                  "id": 42903,
                  "img": "img/42903.png",
                  "label": 0,
                  "text": "those stupid basterds thought it was a real shower",
                  "_deepnote_index_column": 96
                },
                {
                  "id": 43092,
                  "img": "img/43092.png",
                  "label": 0,
                  "text": "pretty much sums up islam",
                  "_deepnote_index_column": 319
                },
                {
                  "id": 43698,
                  "img": "img/43698.png",
                  "label": 0,
                  "text": "don't be late for work get the protestor plow",
                  "_deepnote_index_column": 273
                },
                {
                  "id": 43910,
                  "img": "img/43910.png",
                  "label": 0,
                  "text": "i just started a company selling landmines that look like prayer mats prophets are going through the roof",
                  "_deepnote_index_column": 124
                },
                {
                  "id": 45062,
                  "img": "img/45062.png",
                  "label": 0,
                  "text": "me and my kids are going to rob this country blind at the expense of the very people that voted for me. and they're going to love it. believe me! bigly!",
                  "_deepnote_index_column": 85
                },
                {
                  "id": 46082,
                  "img": "img/46082.png",
                  "label": 0,
                  "text": "the future of the democratic party",
                  "_deepnote_index_column": 304
                },
                {
                  "id": 46085,
                  "img": "img/46085.png",
                  "label": 0,
                  "text": "city workers repair statue cover it up with black sheet",
                  "_deepnote_index_column": 361
                },
                {
                  "id": 46087,
                  "img": "img/46087.png",
                  "label": 0,
                  "text": "give that man a suicide",
                  "_deepnote_index_column": 204
                },
                {
                  "id": 46812,
                  "img": "img/46812.png",
                  "label": 0,
                  "text": "goat meat is very popular in islamic countries",
                  "_deepnote_index_column": 250
                },
                {
                  "id": 47103,
                  "img": "img/47103.png",
                  "label": 0,
                  "text": "maybe we weren't consistent sources of crime we'd be treated better",
                  "_deepnote_index_column": 183
                },
                {
                  "id": 47183,
                  "img": "img/47183.png",
                  "label": 0,
                  "text": "taking the liberals to a whole new level",
                  "_deepnote_index_column": 367
                },
                {
                  "id": 47950,
                  "img": "img/47950.png",
                  "label": 0,
                  "text": "democrats ilhan omar alexandria ocasio-cortez ayanna pressley rashida tlais we're new, bold, and we hate you! we hate whites, jews, christians, conservatives, republicans,",
                  "_deepnote_index_column": 436
                },
                {
                  "id": 48236,
                  "img": "img/48236.png",
                  "label": 0,
                  "text": "that blood you donated could be in someone's boner right now",
                  "_deepnote_index_column": 151
                },
                {
                  "id": 48670,
                  "img": "img/48670.png",
                  "label": 0,
                  "text": "look at this sandwich maker club i found on wish on clearance",
                  "_deepnote_index_column": 497
                },
                {
                  "id": 48792,
                  "img": "img/48792.png",
                  "label": 0,
                  "text": "leaving a trail of death and destruction",
                  "_deepnote_index_column": 492
                },
                {
                  "id": 49028,
                  "img": "img/49028.png",
                  "label": 0,
                  "text": "i finally found my girlfriends g-spot turns out it was in her sister the whole time",
                  "_deepnote_index_column": 238
                },
                {
                  "id": 49260,
                  "img": "img/49260.png",
                  "label": 0,
                  "text": "it's the goat humper looks like a bunch of pigs just walked over your grave",
                  "_deepnote_index_column": 438
                },
                {
                  "id": 49360,
                  "img": "img/49360.png",
                  "label": 0,
                  "text": "who wants ice cream me me me",
                  "_deepnote_index_column": 92
                },
                {
                  "id": 49621,
                  "img": "img/49621.png",
                  "label": 0,
                  "text": "wait, mohammad come back i didn't mean to laugh, really size dosen't matter to me lol",
                  "_deepnote_index_column": 269
                },
                {
                  "id": 49805,
                  "img": "img/49805.png",
                  "label": 0,
                  "text": "imagine being so disgusting there have to be laws to try to stop normal people from hating you",
                  "_deepnote_index_column": 307
                },
                {
                  "id": 50198,
                  "img": "img/50198.png",
                  "label": 0,
                  "text": "you don't need cocaine to be happy",
                  "_deepnote_index_column": 403
                },
                {
                  "id": 50379,
                  "img": "img/50379.png",
                  "label": 0,
                  "text": "do you know how to turn your dishwasher into a snowblower? throw em a shovel",
                  "_deepnote_index_column": 384
                },
                {
                  "id": 50841,
                  "img": "img/50841.png",
                  "label": 0,
                  "text": "give them what they deserve kill them all",
                  "_deepnote_index_column": 203
                },
                {
                  "id": 50984,
                  "img": "img/50984.png",
                  "label": 0,
                  "text": "a cat in a pot",
                  "_deepnote_index_column": 340
                }
              ],
              "rows_bottom": [
                {
                  "id": 52079,
                  "img": "img/52079.png",
                  "label": 0,
                  "text": "just bought a house! now we're house-poor",
                  "_deepnote_index_column": 287
                },
                {
                  "id": 52104,
                  "img": "img/52104.png",
                  "label": 0,
                  "text": "lebanon: before islam after islam but don't worry! after islam takes over, there'll be a golden age... apparently",
                  "_deepnote_index_column": 263
                },
                {
                  "id": 52394,
                  "img": "img/52394.png",
                  "label": 0,
                  "text": "i forgot what are we fighting over again?",
                  "_deepnote_index_column": 301
                },
                {
                  "id": 52634,
                  "img": "img/52634.png",
                  "label": 0,
                  "text": "the secret to a successful marriage is to keep his stomach full and his balls empty",
                  "_deepnote_index_column": 240
                },
                {
                  "id": 53027,
                  "img": "img/53027.png",
                  "label": 0,
                  "text": "putting bows on your pet",
                  "_deepnote_index_column": 122
                },
                {
                  "id": 53172,
                  "img": "img/53172.png",
                  "label": 0,
                  "text": "straight outta the oven step one :turn on the gas",
                  "_deepnote_index_column": 218
                },
                {
                  "id": 53418,
                  "img": "img/53418.png",
                  "label": 0,
                  "text": "a real man loads the dishwasher every night",
                  "_deepnote_index_column": 282
                },
                {
                  "id": 53491,
                  "img": "img/53491.png",
                  "label": 0,
                  "text": "and in 3 days he came back to life bringing salvation",
                  "_deepnote_index_column": 481
                },
                {
                  "id": 53609,
                  "img": "img/53609.png",
                  "label": 0,
                  "text": "when your friend insists on paying for dinner but you still want to contribute - just the tip, come on... let me",
                  "_deepnote_index_column": 224
                },
                {
                  "id": 53769,
                  "img": "img/53769.png",
                  "label": 0,
                  "text": "in 1979 jimmy carter created the department of education since then the u.s. has gone from 1st to 17th in education",
                  "_deepnote_index_column": 280
                },
                {
                  "id": 54129,
                  "img": "img/54129.png",
                  "label": 0,
                  "text": "dump pipe to the ocean",
                  "_deepnote_index_column": 256
                },
                {
                  "id": 54206,
                  "img": "img/54206.png",
                  "label": 0,
                  "text": "you can smell disgust and hate from this photo",
                  "_deepnote_index_column": 137
                },
                {
                  "id": 54819,
                  "img": "img/54819.png",
                  "label": 0,
                  "text": "beauty shot of girlfriends focusing on different thoughts and ideas",
                  "_deepnote_index_column": 303
                },
                {
                  "id": 54893,
                  "img": "img/54893.png",
                  "label": 0,
                  "text": "old people at weddings always poke me and say \"you're next.\" so, i started doing the same thing to them at funerals",
                  "_deepnote_index_column": 150
                },
                {
                  "id": 56124,
                  "img": "img/56124.png",
                  "label": 0,
                  "text": "how to cook turkey in usa how to cook turkey in romania",
                  "_deepnote_index_column": 79
                },
                {
                  "id": 56149,
                  "img": "img/56149.png",
                  "label": 0,
                  "text": "the original scarecrow",
                  "_deepnote_index_column": 329
                },
                {
                  "id": 56428,
                  "img": "img/56428.png",
                  "label": 0,
                  "text": "if the shocker don't rock her spock her",
                  "_deepnote_index_column": 136
                },
                {
                  "id": 56473,
                  "img": "img/56473.png",
                  "label": 0,
                  "text": "knows about you. your family your children everything",
                  "_deepnote_index_column": 334
                },
                {
                  "id": 56980,
                  "img": "img/56980.png",
                  "label": 0,
                  "text": "coffee isn't helping get the jumper cables",
                  "_deepnote_index_column": 139
                },
                {
                  "id": 57208,
                  "img": "img/57208.png",
                  "label": 0,
                  "text": "i had potato for lunch",
                  "_deepnote_index_column": 278
                },
                {
                  "id": 57369,
                  "img": "img/57369.png",
                  "label": 0,
                  "text": "lose 15 lbs with this 1 simple trick photoshop",
                  "_deepnote_index_column": 377
                },
                {
                  "id": 57823,
                  "img": "img/57823.png",
                  "label": 0,
                  "text": "bitches be like no weave, no makeup, no lashes, no eyebrows & no filter. all natural",
                  "_deepnote_index_column": 467
                },
                {
                  "id": 58093,
                  "img": "img/58093.png",
                  "label": 0,
                  "text": "i treat them like java treats its generic parameters at run time as objects",
                  "_deepnote_index_column": 386
                },
                {
                  "id": 59170,
                  "img": "img/59170.png",
                  "label": 0,
                  "text": "and just like that... this sandwich maker doubles as an ironing board",
                  "_deepnote_index_column": 399
                },
                {
                  "id": 59206,
                  "img": "img/59206.png",
                  "label": 0,
                  "text": "traveling through chimney",
                  "_deepnote_index_column": 353
                },
                {
                  "id": 59806,
                  "img": "img/59806.png",
                  "label": 0,
                  "text": "on tuesday, november 3, 2020, we make america great again  by voting this nightmare out of office!",
                  "_deepnote_index_column": 191
                },
                {
                  "id": 60893,
                  "img": "img/60893.png",
                  "label": 0,
                  "text": "busy, like a hive of bees, controlling what your family sees and edits all the news your hear so you'll know what to think and fear till all the truth there is, is gone. that is unless you stand, en masse. \"",
                  "_deepnote_index_column": 310
                },
                {
                  "id": 61038,
                  "img": "img/61038.png",
                  "label": 0,
                  "text": "no wonder why the pipes are not working",
                  "_deepnote_index_column": 184
                },
                {
                  "id": 61085,
                  "img": "img/61085.png",
                  "label": 0,
                  "text": "upper downer",
                  "_deepnote_index_column": 470
                },
                {
                  "id": 61503,
                  "img": "img/61503.png",
                  "label": 0,
                  "text": "someone else used kids to push an agenda",
                  "_deepnote_index_column": 228
                },
                {
                  "id": 62504,
                  "img": "img/62504.png",
                  "label": 0,
                  "text": "we've taken this country! now fuck off! we're taking it back!",
                  "_deepnote_index_column": 103
                },
                {
                  "id": 62703,
                  "img": "img/62703.png",
                  "label": 0,
                  "text": "they shot the wrong gorilla",
                  "_deepnote_index_column": 242
                },
                {
                  "id": 62970,
                  "img": "img/62970.png",
                  "label": 0,
                  "text": "if you want to know how they were treated illustration of man with four slaves chained together",
                  "_deepnote_index_column": 335
                },
                {
                  "id": 63175,
                  "img": "img/63175.png",
                  "label": 0,
                  "text": "if i was uncircumcised i'd hide candy in my dick skin so when a girl about to suck me up, she has a pleasant surprise.. oh my god, skittles",
                  "_deepnote_index_column": 129
                },
                {
                  "id": 63507,
                  "img": "img/63507.png",
                  "label": 0,
                  "text": "evolution from peeling bananas to busting caps",
                  "_deepnote_index_column": 168
                },
                {
                  "id": 63921,
                  "img": "img/63921.png",
                  "label": 0,
                  "text": "taking a photo with family",
                  "_deepnote_index_column": 418
                },
                {
                  "id": 63987,
                  "img": "img/63987.png",
                  "label": 0,
                  "text": "the migrant caravan arrives!",
                  "_deepnote_index_column": 288
                },
                {
                  "id": 64071,
                  "img": "img/64071.png",
                  "label": 0,
                  "text": "when you have someone to help and take care of you what could happen if you didn't",
                  "_deepnote_index_column": 295
                },
                {
                  "id": 64125,
                  "img": "img/64125.png",
                  "label": 0,
                  "text": "ooof. that's gotta hurt",
                  "_deepnote_index_column": 479
                },
                {
                  "id": 64510,
                  "img": "img/64510.png",
                  "label": 0,
                  "text": "mohammad won the contest in putting underwear on goats",
                  "_deepnote_index_column": 182
                },
                {
                  "id": 65093,
                  "img": "img/65093.png",
                  "label": 0,
                  "text": "cookie kunty seen in paris",
                  "_deepnote_index_column": 344
                },
                {
                  "id": 65801,
                  "img": "img/65801.png",
                  "label": 0,
                  "text": "first friday prayers of the islamic holy day",
                  "_deepnote_index_column": 461
                },
                {
                  "id": 67082,
                  "img": "img/67082.png",
                  "label": 0,
                  "text": "\"1st day of 4th grade sandy hook elementary school\"",
                  "_deepnote_index_column": 478
                },
                {
                  "id": 67208,
                  "img": "img/67208.png",
                  "label": 0,
                  "text": "does nike also sell stones in case they take it off?",
                  "_deepnote_index_column": 429
                },
                {
                  "id": 68127,
                  "img": "img/68127.png",
                  "label": 0,
                  "text": "all you guys think about is dope",
                  "_deepnote_index_column": 89
                },
                {
                  "id": 68257,
                  "img": "img/68257.png",
                  "label": 0,
                  "text": "everyone is afraid of dark",
                  "_deepnote_index_column": 276
                },
                {
                  "id": 68401,
                  "img": "img/68401.png",
                  "label": 0,
                  "text": "when you date an asian boy and you trynna get his family to accept you",
                  "_deepnote_index_column": 339
                },
                {
                  "id": 69512,
                  "img": "img/69512.png",
                  "label": 0,
                  "text": "happy birthday you sexy beast",
                  "_deepnote_index_column": 254
                },
                {
                  "id": 69815,
                  "img": "img/69815.png",
                  "label": 0,
                  "text": "thank you for allowing me into your country now we need to talk about the things that need to change around here to accommodate my beliefs",
                  "_deepnote_index_column": 261
                },
                {
                  "id": 73021,
                  "img": "img/73021.png",
                  "label": 0,
                  "text": "when mom asks where all the jews went",
                  "_deepnote_index_column": 323
                },
                {
                  "id": 73482,
                  "img": "img/73482.png",
                  "label": 0,
                  "text": "it's time we took guns away and put them out of the reach of our children",
                  "_deepnote_index_column": 363
                },
                {
                  "id": 73526,
                  "img": "img/73526.png",
                  "label": 0,
                  "text": "if she's still making noises, you didn't hit her hard enough",
                  "_deepnote_index_column": 289
                },
                {
                  "id": 73605,
                  "img": "img/73605.png",
                  "label": 0,
                  "text": "no matter what smile",
                  "_deepnote_index_column": 293
                },
                {
                  "id": 73945,
                  "img": "img/73945.png",
                  "label": 0,
                  "text": "jamal is holding a gun",
                  "_deepnote_index_column": 126
                },
                {
                  "id": 74058,
                  "img": "img/74058.png",
                  "label": 0,
                  "text": "he made millions of children homeless",
                  "_deepnote_index_column": 84
                },
                {
                  "id": 74250,
                  "img": "img/74250.png",
                  "label": 0,
                  "text": "white kids kids dreaming about their first day of school",
                  "_deepnote_index_column": 372
                },
                {
                  "id": 74908,
                  "img": "img/74908.png",
                  "label": 0,
                  "text": "she is condemning shooting the gorilla",
                  "_deepnote_index_column": 152
                },
                {
                  "id": 74965,
                  "img": "img/74965.png",
                  "label": 0,
                  "text": "some people some other people",
                  "_deepnote_index_column": 346
                },
                {
                  "id": 75142,
                  "img": "img/75142.png",
                  "label": 0,
                  "text": "you should treat that the way you treat your vacuum cleaner, when it stops sucking change the bag",
                  "_deepnote_index_column": 328
                },
                {
                  "id": 75918,
                  "img": "img/75918.png",
                  "label": 0,
                  "text": "a picture of my great great great grand grandfather's tractors they don't make them like they used to",
                  "_deepnote_index_column": 347
                },
                {
                  "id": 76015,
                  "img": "img/76015.png",
                  "label": 0,
                  "text": "everyone celebrates christmas !",
                  "_deepnote_index_column": 285
                },
                {
                  "id": 76092,
                  "img": "img/76092.png",
                  "label": 0,
                  "text": "everybody is afraid of gangs",
                  "_deepnote_index_column": 114
                },
                {
                  "id": 76295,
                  "img": "img/76295.png",
                  "label": 0,
                  "text": "islamic extremist planning new project",
                  "_deepnote_index_column": 161
                },
                {
                  "id": 78134,
                  "img": "img/78134.png",
                  "label": 0,
                  "text": "in other countries in pakistan",
                  "_deepnote_index_column": 375
                },
                {
                  "id": 78156,
                  "img": "img/78156.png",
                  "label": 0,
                  "text": "you mean i don't have to pick it?!?",
                  "_deepnote_index_column": 371
                },
                {
                  "id": 78462,
                  "img": "img/78462.png",
                  "label": 0,
                  "text": "in the last days there will be scoffers, ridiculers, deniers and mockers following after their own lusts",
                  "_deepnote_index_column": 306
                },
                {
                  "id": 78612,
                  "img": "img/78612.png",
                  "label": 0,
                  "text": "go see fifty shades darker in theaters alone and throw mayonnaise at couples in the dark",
                  "_deepnote_index_column": 222
                },
                {
                  "id": 78659,
                  "img": "img/78659.png",
                  "label": 0,
                  "text": "what a weird way to spell fat and single",
                  "_deepnote_index_column": 477
                },
                {
                  "id": 78914,
                  "img": "img/78914.png",
                  "label": 0,
                  "text": "terrorist trojan horse enemy of the state",
                  "_deepnote_index_column": 435
                },
                {
                  "id": 79042,
                  "img": "img/79042.png",
                  "label": 0,
                  "text": "the door to the crematorium and gas chambers are closed",
                  "_deepnote_index_column": 355
                },
                {
                  "id": 79615,
                  "img": "img/79615.png",
                  "label": 0,
                  "text": "what women think men want what men really want",
                  "_deepnote_index_column": 140
                },
                {
                  "id": 80912,
                  "img": "img/80912.png",
                  "label": 0,
                  "text": "mr obama it is an honor",
                  "_deepnote_index_column": 296
                },
                {
                  "id": 82509,
                  "img": "img/82509.png",
                  "label": 0,
                  "text": "72 virgins are ready to get fucked up",
                  "_deepnote_index_column": 107
                },
                {
                  "id": 82945,
                  "img": "img/82945.png",
                  "label": 0,
                  "text": "be careful who you call ugly in highschool",
                  "_deepnote_index_column": 130
                },
                {
                  "id": 83497,
                  "img": "img/83497.png",
                  "label": 0,
                  "text": "different types of radicalization",
                  "_deepnote_index_column": 62
                },
                {
                  "id": 83675,
                  "img": "img/83675.png",
                  "label": 0,
                  "text": "i'm gonna be like phelps one day",
                  "_deepnote_index_column": 495
                },
                {
                  "id": 84036,
                  "img": "img/84036.png",
                  "label": 0,
                  "text": "militant dressed as martyr",
                  "_deepnote_index_column": 415
                },
                {
                  "id": 84102,
                  "img": "img/84102.png",
                  "label": 0,
                  "text": "the definition of utter disgust in plain black and white",
                  "_deepnote_index_column": 291
                },
                {
                  "id": 84107,
                  "img": "img/84107.png",
                  "label": 0,
                  "text": "i ordered a dishwasher and they sent me a sandwich maker",
                  "_deepnote_index_column": 358
                },
                {
                  "id": 84150,
                  "img": "img/84150.png",
                  "label": 0,
                  "text": "when your jewish friend smells a stash of coins in public",
                  "_deepnote_index_column": 444
                },
                {
                  "id": 84162,
                  "img": "img/84162.png",
                  "label": 0,
                  "text": "i could have killed all of them. but i let some of them survive so you know why i killed them",
                  "_deepnote_index_column": 316
                },
                {
                  "id": 84273,
                  "img": "img/84273.png",
                  "label": 0,
                  "text": "when you're the reason for the company safety video",
                  "_deepnote_index_column": 176
                },
                {
                  "id": 84302,
                  "img": "img/84302.png",
                  "label": 0,
                  "text": "why do we share more when these people are hurt but not these people",
                  "_deepnote_index_column": 284
                },
                {
                  "id": 84362,
                  "img": "img/84362.png",
                  "label": 0,
                  "text": "unleash the inner beast on the field",
                  "_deepnote_index_column": 194
                },
                {
                  "id": 85237,
                  "img": "img/85237.png",
                  "label": 0,
                  "text": "these are all the weapons that were seized from isis",
                  "_deepnote_index_column": 456
                },
                {
                  "id": 85621,
                  "img": "img/85621.png",
                  "label": 0,
                  "text": "no, that's not his daughter... that's his wife! yet the world is silent..",
                  "_deepnote_index_column": 413
                },
                {
                  "id": 86195,
                  "img": "img/86195.png",
                  "label": 0,
                  "text": "dolled up and rolling with the gang like",
                  "_deepnote_index_column": 315
                },
                {
                  "id": 86357,
                  "img": "img/86357.png",
                  "label": 0,
                  "text": "apparently not erdogan",
                  "_deepnote_index_column": 345
                },
                {
                  "id": 87034,
                  "img": "img/87034.png",
                  "label": 0,
                  "text": "you don't need a parachute to go skydiving twice you need a parachute to go skydiving twice",
                  "_deepnote_index_column": 93
                },
                {
                  "id": 87251,
                  "img": "img/87251.png",
                  "label": 0,
                  "text": "i love apes they are both ugly and cute",
                  "_deepnote_index_column": 196
                },
                {
                  "id": 89430,
                  "img": "img/89430.png",
                  "label": 0,
                  "text": "when you know you don't have to jackoff tonight",
                  "_deepnote_index_column": 154
                },
                {
                  "id": 89536,
                  "img": "img/89536.png",
                  "label": 0,
                  "text": "so many lives lost because of this man",
                  "_deepnote_index_column": 394
                },
                {
                  "id": 90236,
                  "img": "img/90236.png",
                  "label": 0,
                  "text": "voila! fresh batch of baked goods !",
                  "_deepnote_index_column": 351
                },
                {
                  "id": 90267,
                  "img": "img/90267.png",
                  "label": 0,
                  "text": "i've been driving this baby for years the mileage isn't great but still gets the job done",
                  "_deepnote_index_column": 458
                },
                {
                  "id": 90643,
                  "img": "img/90643.png",
                  "label": 0,
                  "text": "she represents the new wave of democrats",
                  "_deepnote_index_column": 451
                },
                {
                  "id": 90843,
                  "img": "img/90843.png",
                  "label": 0,
                  "text": "time to put the \"panic\" back in hispanic",
                  "_deepnote_index_column": 455
                },
                {
                  "id": 91058,
                  "img": "img/91058.png",
                  "label": 0,
                  "text": "get in loser we're invading poland",
                  "_deepnote_index_column": 116
                },
                {
                  "id": 91405,
                  "img": "img/91405.png",
                  "label": 0,
                  "text": "wears rag on her head so her brother husband doesnt want to molest her",
                  "_deepnote_index_column": 58
                },
                {
                  "id": 91468,
                  "img": "img/91468.png",
                  "label": 0,
                  "text": "you want a whore? buy one. you want a queen? earn her. you want a nickel bag? fifteen bucks, little man",
                  "_deepnote_index_column": 262
                },
                {
                  "id": 91602,
                  "img": "img/91602.png",
                  "label": 0,
                  "text": "upper downer",
                  "_deepnote_index_column": 186
                },
                {
                  "id": 92046,
                  "img": "img/92046.png",
                  "label": 0,
                  "text": "they are terrorists anyone who doesn't agree is an idiot",
                  "_deepnote_index_column": 454
                },
                {
                  "id": 92068,
                  "img": "img/92068.png",
                  "label": 0,
                  "text": "still better than mexican",
                  "_deepnote_index_column": 322
                },
                {
                  "id": 92317,
                  "img": "img/92317.png",
                  "label": 0,
                  "text": "you either die a hero, or live long enough to become the villain",
                  "_deepnote_index_column": 349
                },
                {
                  "id": 92567,
                  "img": "img/92567.png",
                  "label": 0,
                  "text": "pray for peace pray for wellbeing",
                  "_deepnote_index_column": 417
                },
                {
                  "id": 93041,
                  "img": "img/93041.png",
                  "label": 0,
                  "text": "\"who's gonna make the sandwiches? what do we do with all these sandwiches?\"",
                  "_deepnote_index_column": 422
                },
                {
                  "id": 93051,
                  "img": "img/93051.png",
                  "label": 0,
                  "text": "and for my next class project!",
                  "_deepnote_index_column": 275
                },
                {
                  "id": 93148,
                  "img": "img/93148.png",
                  "label": 0,
                  "text": "the proper way to pop a blackhead",
                  "_deepnote_index_column": 311
                },
                {
                  "id": 93172,
                  "img": "img/93172.png",
                  "label": 0,
                  "text": "this is a terrorist",
                  "_deepnote_index_column": 138
                },
                {
                  "id": 93541,
                  "img": "img/93541.png",
                  "label": 0,
                  "text": "the jihad squad",
                  "_deepnote_index_column": 490
                },
                {
                  "id": 94170,
                  "img": "img/94170.png",
                  "label": 0,
                  "text": "when you decide to go full gas",
                  "_deepnote_index_column": 86
                },
                {
                  "id": 94387,
                  "img": "img/94387.png",
                  "label": 0,
                  "text": "i'm a fan of the color black on you although the rose gold looks pretty good as well",
                  "_deepnote_index_column": 463
                },
                {
                  "id": 94738,
                  "img": "img/94738.png",
                  "label": 0,
                  "text": "shopping is boring. why not have some fun at the walmart parking lot?",
                  "_deepnote_index_column": 466
                },
                {
                  "id": 94813,
                  "img": "img/94813.png",
                  "label": 0,
                  "text": "thats the way allah allah i like it!!!",
                  "_deepnote_index_column": 67
                },
                {
                  "id": 95038,
                  "img": "img/95038.png",
                  "label": 0,
                  "text": "when you take these pics we think about cumming in your mouth",
                  "_deepnote_index_column": 69
                },
                {
                  "id": 95173,
                  "img": "img/95173.png",
                  "label": 0,
                  "text": "take the third reich and then the first left?",
                  "_deepnote_index_column": 402
                },
                {
                  "id": 95176,
                  "img": "img/95176.png",
                  "label": 0,
                  "text": "notice how the kenyan skidmark has been silent about the mueller report?",
                  "_deepnote_index_column": 243
                },
                {
                  "id": 95487,
                  "img": "img/95487.png",
                  "label": 0,
                  "text": "watching vegetables grow",
                  "_deepnote_index_column": 437
                },
                {
                  "id": 96250,
                  "img": "img/96250.png",
                  "label": 0,
                  "text": "i'm going home i'm russian",
                  "_deepnote_index_column": 143
                },
                {
                  "id": 96312,
                  "img": "img/96312.png",
                  "label": 0,
                  "text": "when you support your little one every step of the way",
                  "_deepnote_index_column": 314
                },
                {
                  "id": 97132,
                  "img": "img/97132.png",
                  "label": 0,
                  "text": "in the muslim world all gay men are well hung",
                  "_deepnote_index_column": 373
                },
                {
                  "id": 97320,
                  "img": "img/97320.png",
                  "label": 0,
                  "text": "\"when your dishwasher is broken so you take it back to walmart to get a new one\"",
                  "_deepnote_index_column": 499
                },
                {
                  "id": 97453,
                  "img": "img/97453.png",
                  "label": 0,
                  "text": "potato is my favorite color of the alphabet",
                  "_deepnote_index_column": 90
                },
                {
                  "id": 98235,
                  "img": "img/98235.png",
                  "label": 0,
                  "text": "fashion forward !",
                  "_deepnote_index_column": 457
                },
                {
                  "id": 98547,
                  "img": "img/98547.png",
                  "label": 0,
                  "text": "waves mexican flag doesn't want to live in mexico",
                  "_deepnote_index_column": 271
                },
                {
                  "id": 98720,
                  "img": "img/98720.png",
                  "label": 0,
                  "text": "when your wife just died giving birth to your daughter and you're alone in the room with your naked just born daughter",
                  "_deepnote_index_column": 356
                }
              ]
            },
            "text/plain": "        id            img  label  \\\n494   1268  img/01268.png      0   \n220   1742  img/01742.png      0   \n206   1967  img/01967.png      0   \n290   2145  img/02145.png      0   \n365   2364  img/02364.png      0   \n..     ...            ...    ...   \n499  97320  img/97320.png      0   \n90   97453  img/97453.png      0   \n457  98235  img/98235.png      0   \n271  98547  img/98547.png      0   \n356  98720  img/98720.png      0   \n\n                                                  text  \n494  father and daughter bonding time is the best l...  \n220  in just one hour from now i'll only have 4 hou...  \n206  when you decide to stop racism by burning its ...  \n290           and then i asked mom, what's for dinner?  \n365  a jewish shop owner, wears a kippah or yarmulk...  \n..                                                 ...  \n499  \"when your dishwasher is broken so you take it...  \n90         potato is my favorite color of the alphabet  \n457                                  fashion forward !  \n271  waves mexican flag doesn't want to live in mexico  \n356  when your wife just died giving birth to your ...  \n\n[253 rows x 4 columns]",
            "text/html": "<div>\n<style scoped>\n    .dataframe tbody tr th:only-of-type {\n        vertical-align: middle;\n    }\n\n    .dataframe tbody tr th {\n        vertical-align: top;\n    }\n\n    .dataframe thead th {\n        text-align: right;\n    }\n</style>\n<table border=\"1\" class=\"dataframe\">\n  <thead>\n    <tr style=\"text-align: right;\">\n      <th></th>\n      <th>id</th>\n      <th>img</th>\n      <th>label</th>\n      <th>text</th>\n    </tr>\n  </thead>\n  <tbody>\n    <tr>\n      <th>494</th>\n      <td>1268</td>\n      <td>img/01268.png</td>\n      <td>0</td>\n      <td>father and daughter bonding time is the best l...</td>\n    </tr>\n    <tr>\n      <th>220</th>\n      <td>1742</td>\n      <td>img/01742.png</td>\n      <td>0</td>\n      <td>in just one hour from now i'll only have 4 hou...</td>\n    </tr>\n    <tr>\n      <th>206</th>\n      <td>1967</td>\n      <td>img/01967.png</td>\n      <td>0</td>\n      <td>when you decide to stop racism by burning its ...</td>\n    </tr>\n    <tr>\n      <th>290</th>\n      <td>2145</td>\n      <td>img/02145.png</td>\n      <td>0</td>\n      <td>and then i asked mom, what's for dinner?</td>\n    </tr>\n    <tr>\n      <th>365</th>\n      <td>2364</td>\n      <td>img/02364.png</td>\n      <td>0</td>\n      <td>a jewish shop owner, wears a kippah or yarmulk...</td>\n    </tr>\n    <tr>\n      <th>...</th>\n      <td>...</td>\n      <td>...</td>\n      <td>...</td>\n      <td>...</td>\n    </tr>\n    <tr>\n      <th>499</th>\n      <td>97320</td>\n      <td>img/97320.png</td>\n      <td>0</td>\n      <td>\"when your dishwasher is broken so you take it...</td>\n    </tr>\n    <tr>\n      <th>90</th>\n      <td>97453</td>\n      <td>img/97453.png</td>\n      <td>0</td>\n      <td>potato is my favorite color of the alphabet</td>\n    </tr>\n    <tr>\n      <th>457</th>\n      <td>98235</td>\n      <td>img/98235.png</td>\n      <td>0</td>\n      <td>fashion forward !</td>\n    </tr>\n    <tr>\n      <th>271</th>\n      <td>98547</td>\n      <td>img/98547.png</td>\n      <td>0</td>\n      <td>waves mexican flag doesn't want to live in mexico</td>\n    </tr>\n    <tr>\n      <th>356</th>\n      <td>98720</td>\n      <td>img/98720.png</td>\n      <td>0</td>\n      <td>when your wife just died giving birth to your ...</td>\n    </tr>\n  </tbody>\n</table>\n<p>253 rows × 4 columns</p>\n</div>"
          },
          "metadata": {}
        }
      ],
      "execution_count": null
    },
    {
      "cell_type": "code",
      "source": "",
      "metadata": {
        "tags": [],
        "cell_id": "00012-65e64c9b-02ce-4976-9e58-0c5a47672f09",
        "deepnote_cell_type": "code"
      },
      "outputs": [],
      "execution_count": null
    },
    {
      "cell_type": "markdown",
      "source": "<a style='text-decoration:none;line-height:16px;display:flex;color:#5B5B62;padding:10px;justify-content:end;' href='https://deepnote.com?utm_source=created-in-deepnote-cell&projectId=58e10117-68e0-4aa0-b850-9c3a00ef4474' target=\"_blank\">\n<img alt='Created in deepnote.com' style='display:inline;max-height:16px;margin:0px;margin-right:7.5px;' src='data:image/svg+xml;base64,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' > </img>\nCreated in <span style='font-weight:600;margin-left:4px;'>Deepnote</span></a>",
      "metadata": {
        "tags": [],
        "created_in_deepnote_cell": true,
        "deepnote_cell_type": "markdown"
      }
    }
  ],
  "nbformat": 4,
  "nbformat_minor": 2,
  "metadata": {
    "orig_nbformat": 2,
    "deepnote": {
      "is_reactive": false
    },
    "deepnote_notebook_id": "02d5ff84-8310-45a5-ab34-394f6c9f7c39",
    "deepnote_execution_queue": []
  }
}